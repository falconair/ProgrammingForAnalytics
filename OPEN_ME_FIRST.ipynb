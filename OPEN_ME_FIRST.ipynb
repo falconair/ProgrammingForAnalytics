{
 "cells": [
  {
   "cell_type": "markdown",
   "metadata": {},
   "source": [
    "# Let's set up your envrionment"
   ]
  },
  {
   "cell_type": "markdown",
   "metadata": {},
   "source": [
    "### Import necessary libraries \n",
    "*(click the *play* button in the toolbar above to execute a cell)*"
   ]
  },
  {
   "cell_type": "code",
   "execution_count": null,
   "metadata": {
    "tags": []
   },
   "outputs": [],
   "source": [
    "import json\n",
    "import os\n",
    "import shutil\n",
    "import datetime\n",
    "import pandas as pd\n",
    "\n",
    "import ipywidgets as widgets"
   ]
  },
  {
   "cell_type": "markdown",
   "metadata": {
    "tags": []
   },
   "source": [
    "### 1. Which section are you in?"
   ]
  },
  {
   "cell_type": "code",
   "execution_count": null,
   "metadata": {
    "tags": []
   },
   "outputs": [],
   "source": [
    "student_section = widgets.Dropdown(\n",
    "    options=['Monday', 'Tuesday', 'Wednesday', 'Thursday', 'Friday', 'Saturday'],\n",
    "    value='Monday',\n",
    "    description='Section:',\n",
    "    disabled=False,\n",
    ")\n",
    "student_section"
   ]
  },
  {
   "cell_type": "code",
   "execution_count": null,
   "metadata": {},
   "outputs": [],
   "source": [
    "student_section.value = \"Monday\""
   ]
  },
  {
   "cell_type": "code",
   "execution_count": null,
   "metadata": {},
   "outputs": [],
   "source": [
    "student_section.value"
   ]
  },
  {
   "cell_type": "markdown",
   "metadata": {},
   "source": [
    "### 2. What is your name?"
   ]
  },
  {
   "cell_type": "code",
   "execution_count": null,
   "metadata": {
    "tags": []
   },
   "outputs": [],
   "source": [
    "student_name = \"Your Name\""
   ]
  },
  {
   "cell_type": "markdown",
   "metadata": {},
   "source": [
    "### 3. Set up postcell"
   ]
  },
  {
   "cell_type": "code",
   "execution_count": null,
   "metadata": {},
   "outputs": [],
   "source": [
    "# class_name     = \"pythonfordatascience\"\n",
    "class_name     = \"pythonformlengineering\"\n",
    "class_time_period  = \"2025_june\""
   ]
  },
  {
   "cell_type": "code",
   "execution_count": null,
   "metadata": {
    "tags": []
   },
   "outputs": [],
   "source": [
    "#Set up template\n",
    "if not os.path.isfile('postcell.conf'):\n",
    "    shutil.copyfile('postcell.conf.bak', 'postcell.conf')\n",
    "\n",
    "#Open config file\n",
    "with open('postcell.conf', 'rt') as conf:\n",
    "    parsedj = json.load(conf)\n",
    "    #print(parsedj['student_id'])\n",
    "    #print(parsedj['class_id'])\n",
    "    \n",
    "#Set student name\n",
    "parsedj['student_id'] = student_name.strip().replace(' ', '_')\n",
    "\n",
    "#Set class name\n",
    "class_id = f\"{class_time_period}_{student_section.value.lower()}_{class_name}\"\n",
    "parsedj['class_id'] = class_id\n",
    "\n",
    "#Write config file\n",
    "#TODO: change should_send_to_server to true, set default to be false in .bak file\n",
    "with open('postcell.conf', 'wt') as conf:\n",
    "    json.dump(parsedj, conf, indent=4, sort_keys=True)\n",
    "    \n",
    "# Confirm your config\n",
    "with open('postcell.conf', 'rt') as conf:\n",
    "    parsedj = json.load(conf)\n",
    "    print(parsedj['student_id'])\n",
    "    print(parsedj['class_id'])"
   ]
  },
  {
   "cell_type": "markdown",
   "metadata": {},
   "source": [
    "### 4. Install the postcell magic command"
   ]
  },
  {
   "cell_type": "code",
   "execution_count": null,
   "metadata": {},
   "outputs": [],
   "source": [
    "!pip install postcell -U --quiet"
   ]
  },
  {
   "cell_type": "code",
   "execution_count": null,
   "metadata": {
    "tags": []
   },
   "outputs": [],
   "source": [
    "%reload_ext postcell\n",
    "%postcell register"
   ]
  },
  {
   "cell_type": "code",
   "execution_count": null,
   "metadata": {
    "tags": []
   },
   "outputs": [],
   "source": [
    "%%postcell OPEN_ME_FIRST_HELLO \n",
    "\"Hello\""
   ]
  },
  {
   "cell_type": "code",
   "execution_count": null,
   "metadata": {},
   "outputs": [],
   "source": [
    "%%postcell OPEN_ME_FIRST_EXPERIENCE \n",
    "\"How much programming experience do you have?\""
   ]
  },
  {
   "cell_type": "markdown",
   "metadata": {},
   "source": [
    "### Fun test, how fast is your machine?"
   ]
  },
  {
   "cell_type": "code",
   "execution_count": null,
   "metadata": {
    "tags": []
   },
   "outputs": [],
   "source": [
    "%%timeit\n",
    "sum(range(1_000_000))"
   ]
  },
  {
   "cell_type": "markdown",
   "metadata": {},
   "source": [
    "### Paste the numeric value from the previous cell, along with a general description of you machine, on the next line"
   ]
  },
  {
   "cell_type": "code",
   "execution_count": null,
   "metadata": {},
   "outputs": [],
   "source": [
    "%%postcell OPEN_ME_FIRST_MACHINE_PERFORMANCE \n",
    "\"...\""
   ]
  },
  {
   "cell_type": "markdown",
   "metadata": {},
   "source": [
    "### 5. Install other packages\n",
    "Since this is a very introductory course, students will install some required packages here, rather than via a proper environments file."
   ]
  },
  {
   "cell_type": "code",
   "execution_count": null,
   "metadata": {},
   "outputs": [],
   "source": [
    "\n",
    "!pip install ipywidgets pylint black mypy networkx[default,extra]"
   ]
  },
  {
   "cell_type": "code",
   "execution_count": null,
   "metadata": {},
   "outputs": [],
   "source": [
    "# nb_conda: load conda environments in jupyter\n",
    "# tqdm:     Add progress bars to Jupyter \n",
    "# seaborn:  A very popular charting library\n",
    "\n",
    "!conda install bokeh tqdm seaborn altair-all -y"
   ]
  },
  {
   "cell_type": "code",
   "execution_count": null,
   "metadata": {},
   "outputs": [],
   "source": [
    "# Add kernel\n",
    "\n",
    "#conda activate py310\n",
    "#python -m ipykernel install --user --name=\"py310\""
   ]
  }
 ],
 "metadata": {
  "kernelspec": {
   "display_name": "Python 3 (ipykernel)",
   "language": "python",
   "name": "python3"
  },
  "language_info": {
   "codemirror_mode": {
    "name": "ipython",
    "version": 3
   },
   "file_extension": ".py",
   "mimetype": "text/x-python",
   "name": "python",
   "nbconvert_exporter": "python",
   "pygments_lexer": "ipython3",
   "version": "3.12.7"
  }
 },
 "nbformat": 4,
 "nbformat_minor": 4
}
