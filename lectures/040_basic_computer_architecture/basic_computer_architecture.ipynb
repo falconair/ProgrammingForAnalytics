{
 "cells": [
  {
   "cell_type": "markdown",
   "metadata": {},
   "source": [
    "# Computer Architecture\n",
    "\n",
    "Modern computers are very complex, according to some, they are among the most complicated things created by humans. For our purpose, we want to understand computers in terms of three major components: a CPU which performs computation , memory which _remembers_ short term data and disk which stores long term data. \n",
    "\n"
   ]
  },
  {
   "cell_type": "markdown",
   "metadata": {},
   "source": [
    "#### Laptop internals\n",
    "![](images/EBMotherboard.JPG)\n",
    "\n",
    "#### Motherboard\n",
    "![](images/Supermicro-X12SCA-F-Overview.jpg)\n",
    "\n",
    "#### Memory (RAM)\n",
    "![](images/RAM-Modules.jpg)\n",
    "\n",
    "#### CPU\n",
    "![](images/How_to_stress_test_your_CPU-Hero.jpg)\n",
    "\n",
    "#### Disk drive\n",
    "![](images/Laptop-hard-drive-exposed.jpg)\n"
   ]
  },
  {
   "cell_type": "markdown",
   "metadata": {},
   "source": [
    "## CPU (Central Processing Unit)\n",
    "![](images/How_to_stress_test_your_CPU-Hero.jpg)\n",
    "\n",
    "CPUs are often called the brains of a computer. The main purpose of a cpu is to perform computation. \n",
    "![](images/overview-fig1.png)\n",
    "\n",
    "\n",
    "### Instruction (or function) execution\n",
    "\n",
    "In general terms, _all_ computation, all functions, all fancy libraries written by anyone, must eventually be translated to the functions or instructions which come built-in to a CPU. You might be surprised to learn that modern cpus only have a few hundred instructions!\n",
    "\n",
    "At a high level, for our purpose, think of cpus containing three types of instructions: arithmetic, control flow and memory related.\n",
    "\n",
    "#### Arithmetic operations\n",
    "Cpus contain _many_ instructions of type \n",
    "\n",
    "`add_int   arg1 arg2 output`\n",
    "\n",
    "`add_float arg1 arg2 output`\n",
    "\n",
    "`mult_int   arg1 arg2 output`\n",
    "\n",
    "`mult_float arg1 arg2 output`\n",
    "\n",
    "\n",
    "The syntax shown above is not standard, but it demonstrates that there are instructions for basic math. Since the code to add two integer numbers must be different from the code to add to floating point numbers, there are separate instructions. Higher level languages, like Python, may provide a single interface and hide away type complexity, but low level code always differentiates. There are no optional arguments, no default values, no such niceties in low level programming.\n",
    "\n",
    "Notice also that these functions have three parameters. The last parameter is the output location of the result. We will understand this better after we study registers.\n",
    "\n",
    "#### Memory operations\n",
    "Memory load/store instructions are perhaps not as obvious ass arithmetic operations. Load/store operations can be thought of as these examples:\n",
    "\n",
    "`load src_memory_index dst_register`\n",
    "\n",
    "`store src_register dst_memory`\n",
    "\n",
    "(Note that the above examples are simplified to illustrate a point)\n",
    "\n",
    "#### Comparison operations\n",
    "Several instructions are provided for comparison\n",
    "\n",
    "`cmp arg1 arg2 out`\n",
    "`lt arg1 arg2 out`\n",
    "`lteq arg1 arg2 out`\n",
    "\n",
    "The instructions above are simplified examples of `compare`, `less than` and `less than or equal to`.\n",
    "\n",
    "\n",
    "#### Control flow operations\n",
    "The last major type of instructions consist of control flow:\n",
    "\n",
    "`jmp iftrue jmp_location`\n",
    "\n",
    "These instructions correspond to if/else statements or loop constructs in higher level languages.\n",
    "\n",
    "### Registers\n",
    "\n",
    "In an earlier example, we show the following (simplified) instruction:\n",
    "\n",
    "`add_int arg1 arg2 output`\n",
    "\n",
    "In this instruction, `arg1` and `arg2` can be integers or locations of a register. The `output` parameter refers to a register location.\n",
    "\n",
    "_Registers_ can be thought of as a tiny amount of memory attached to a cpu. Think of registers as a tiny array which can only hold a few tens of integers (32-128 are common numbers of registers). \n",
    "\n",
    "Since computers can't possibly run with such small amount of memory, many instructions, as we saw earlier, load data from main memory into these registers and copy contents of these registers back to main memory.\n",
    "\n",
    "#### Programs are just data, loaded from memory\n",
    "\n",
    "The cpu needs to load programs from main memory, into its local memory (different from data registers). These programs, themselves, are nothing more than the types of instructions we saw above. _All_ programs, C, Python, R, Java eventually get translated to the types of instructions we saw above.\n",
    "\n",
    "#### Registers only contain zeros and ones\n",
    "\n",
    "You may have heard the expression that everything is zeros and ones to a computer. This is where that expression becomes a reality.\n",
    "\n",
    "Modern cpu registers are made up of 64 _bits_.\n",
    "\n",
    "Register 1 `|_|_|_|_|_|_|_|_|_|..._|_|_|_|_|_|_|_|_|_|_|_|_|_|_|_|_|_|`\n",
    "\n",
    "Register 2 `|_|_|_|_|_|_|_|_|_|..._|_|_|_|_|_|_|_|_|_|_|_|_|_|_|_|_|_|`\n",
    "\n",
    "Register 3 `|_|_|_|_|_|_|_|_|_|..._|_|_|_|_|_|_|_|_|_|_|_|_|_|_|_|_|_|`\n",
    "\n",
    "...\n",
    "\n",
    "Each location in the set of register shown above can only contain a zero or a one (or True/False or On/Off, however you want to think of it)\n",
    "\n",
    "What does the number \"42\" mean? How can it be stored in a computer at the lowest level? You can probably tell from context, all numbers, strings, pictures, videos, video games, web pages, programs, must be converted to a set of zeros and ones. We will look at how to do so in a later section.\n",
    "\n",
    "#### There are cache layers between registers and memory\n",
    "Earlier we saw an example of a memory operation: `load src_memory_index dst_register`\n",
    "\n",
    "In reality, this operation is will not _necessarily_ pull a value from memory and put it in the target register. That will be an _extremely_ expensive operation. There are several layers of `caches` which try to reduce register to memory traffic. Later in this lecture we will see an important link about the cost of accessing data from cache vs memory.\n",
    "\n",
    "**Exercise** What kind of CPU do you have?"
   ]
  },
  {
   "cell_type": "code",
   "execution_count": null,
   "metadata": {},
   "outputs": [],
   "source": [
    "import platform\n",
    "\n",
    "platform.processor()"
   ]
  },
  {
   "cell_type": "markdown",
   "metadata": {},
   "source": [
    "If numbers are represented by finite digits, is there a limit to the arithmetic we can do?"
   ]
  },
  {
   "cell_type": "code",
   "execution_count": 1,
   "metadata": {},
   "outputs": [
    {
     "data": {
      "text/plain": [
       "False"
      ]
     },
     "execution_count": 1,
     "metadata": {},
     "output_type": "execute_result"
    }
   ],
   "source": [
    ".1 + .2 == .3"
   ]
  },
  {
   "cell_type": "code",
   "execution_count": 4,
   "metadata": {},
   "outputs": [
    {
     "data": {
      "text/plain": [
       "0.4"
      ]
     },
     "execution_count": 4,
     "metadata": {},
     "output_type": "execute_result"
    }
   ],
   "source": [
    ".1 + .3"
   ]
  },
  {
   "cell_type": "code",
   "execution_count": null,
   "metadata": {},
   "outputs": [],
   "source": [
    ".2 + .3 == .5"
   ]
  },
  {
   "cell_type": "code",
   "execution_count": null,
   "metadata": {},
   "outputs": [],
   "source": [
    ".3 - (.1 + .2)"
   ]
  },
  {
   "cell_type": "markdown",
   "metadata": {},
   "source": [
    "## Memory (RAM or Random Access Memory)\n",
    "![](images/RAM-Modules.jpg)\n",
    "\n",
    "Most modern consumer laptops come with 4-16 gigs of ram.\n",
    "\n",
    "As stated earlier, modern CPUs operate on 64 bits at a time. For example, integers are stored in 64 bits (we will see how, later).\n",
    "\n",
    "There are 8 bits in a byte, so an integer takes up 8 bytes.\n",
    "\n",
    "There are 1,000,000 bytes in a megabyte (approx) so a megabyte has 125,000 integers.\n",
    "\n",
    "There are (approx) 1,000 mb in a gigabyte so a gb has about 125,000,000 integers\n",
    "\n",
    "In other words, a machine with just 8 gigs can hold 1,000,000,000 integers. **A billion integers**.\n",
    "\n",
    "Keep in mind that technically, these numbers are counted in terms of power of two, so a gigabyte actually has 1024 megabytes, not 1000. We (and rest of the industry) have simplified the calculation.\n",
    "\n",
    "Further, your 8 gig laptop can't actually store 1 billion integers, since it also needs to store the operating system, the program processing all those integers, etc. In reality, it may be able to simulate holding more, since it will _swap_ to disk (pretend that the disk is part of the memory).\n",
    "\n",
    "You can think of ram is a giant array. You can access the array via its index (location 0, location 1, location 23423, etc.). Each location can only hold 64 bits of information."
   ]
  },
  {
   "cell_type": "markdown",
   "metadata": {},
   "source": [
    "## Disk\n",
    "\n",
    "The final main component of a modern computer is the disk drive. You can easily buy disk drives of a terabyte or more. a terrabyte can hold approximately 1 trillion integers.\n",
    "\n",
    "Older disk drives are often the only physically moving parts on a computer. These disk drives contain spinning disks. These disks spin quite fast (7200 RPM is a common number) and a physical arm makes small movements to reach the location containing requested data.\n",
    "\n",
    "Similar to RAM, you can think of your disk as an even more gigantic array, accessible by location, containing 64 bits of information at a time.\n",
    "\n",
    "![](images/Laptop-hard-drive-exposed.jpg)"
   ]
  },
  {
   "cell_type": "markdown",
   "metadata": {},
   "source": [
    "## Why registers, ram and disks? Answer: surprisingly important\n",
    "\n",
    "Notice that CPU registers can only contain a handful of integers, ram can hold about a billion and disk can hold around a trillion. Why this separation?\n",
    "\n",
    "There is a cost/speed tradeoff. According to the website pcpartpicker, current (2019, Q4) prices of ram and disk are as follows:\n",
    "\n",
    "Ram:  $6.25/Gig\n",
    "\n",
    "Disk: $0.39/Gig\n",
    "\n",
    "Far more important are the performance difference. Below is a very well known table of latency numbers (the amount of time it takes to get a value):\n",
    "\n",
    "https://gist.github.com/hellerbarde/2843375\n",
    "\n",
    "(\"Latency numbers every programmer should know\" and \"Latency numbers humanized)\n",
    "\n",
    "**Exercise** Read the link above\n",
    "\n",
    "**Exercise** R and Pandas operate on data which fits in memory, why not just extend to data which fits on disk? (Hint, algorithms for such slow data are completely different)"
   ]
  },
  {
   "cell_type": "markdown",
   "metadata": {},
   "source": [
    "## Integers (and floats) to zeros and ones\n",
    "\n",
    "Computers store numbers in \"binary\" format. Note that normal numbers (base 10) are made up of 10 digits:\n",
    "\n",
    "`0, 1, 2, 3, 4, 5, 6, 7, 8, 9`\n",
    "\n",
    "We can re-write these digits as such:\n",
    "\n",
    "`00, 01, 02, 03, 04, 05, 06, 07, 08, 09`\n",
    "\n",
    "\n",
    "When we need to go beyond the first 10 digits, we replace the initial zero with 1\n",
    "\n",
    "` 1 0, 1 1, 1 2, ...`\n",
    "\n",
    "Once we need to go beyond the first 20 numbers, we repeate the logic stated above:\n",
    "\n",
    "` 2 0, 2 1, 2 2, ...`\n",
    "\n",
    "Binary numbers (base 2) are made up of two digits:\n",
    "\n",
    "`0, 1`\n",
    "\n",
    "Similar to base 10, we can re-write these numbers as:\n",
    "\n",
    "`00, 01`\n",
    "\n",
    "When we need to go beyond 0 and 1, we continue to count up in the following manner:\n",
    "\n",
    "`00, 01, 10, 11`\n",
    "\n",
    "When we need to go beyond the first 4:\n",
    "\n",
    "`000, 001, 010, 011, 100, 101, 110, 111`\n",
    "\n",
    "The following is a good way of visualizing:\n",
    "\n",
    "`..|_|_|_|_|_|_|_|_|`<br>\n",
    "`...7.6.5.4.3.2.1.0 <= location`<br>\n",
    "`2^.7.6.5.4.3.2.1.0 <= value`\n",
    "\n",
    "Example: 00000011 = 0 + 0 + 0 + 0 + 0 + 0 + 2^1 + 2^0 = 2 + 1 = 3\n",
    "\n",
    "![](images/calc.png)"
   ]
  },
  {
   "cell_type": "markdown",
   "metadata": {},
   "source": [
    "### Limits of integers\n",
    "\n",
    "Not many years ago, cpus were 32 bit (unlike 64 bit, which is today's register size). If all bits of a 32 bit integer are set to 1, you get 2,147,483,647.\n",
    "\n",
    "We are ignoring the issue of negative numbers. In reality, the first bit is often the sign bit (an indicator that the number is positive or negative). This means that the actual max integer value is half of 2,147,483,647.\n",
    "\n",
    "This has had real world implications! YouTube had to change their counter from 32 bits to 64 bits because \"Gangham Style\" view count exceeded 2 billion. Recall that an 8 gig machine can hold 1 billion integers. This means that if the want to jump to a value at, say location 3 billion, on a 32 bit machine, you simply can't do it! This actually caused 32 bit machines to have very limited amount of ram!\n",
    "\n",
    "64 bits give use more numbers than there are atoms in the universe."
   ]
  },
  {
   "cell_type": "markdown",
   "metadata": {},
   "source": [
    "### Floating point numbers\n",
    "\n",
    "With integers, we can easily understand limits of numbers. On a 32 bit, we will eventually run out of numbers (both on the positive end as well as the negative end).\n",
    "\n",
    "What about numbers with decimals in them? How are they stored and what are their limits?\n",
    "\n",
    "Given a decimal number, it first needs to be written in two parts: matissa and exponent\n",
    "\n",
    "`number = significand * 10 ^ exponent`\n",
    "\n",
    "On 64 bit machines, 52 bits are allocated to the significand and 11 to the exponent (the remaining bit is for the sign).\n",
    "\n",
    "Example: `1.23 = 1.229999.. * 10 ^ 0`\n",
    "\n",
    "#### Accumulation of errors\n",
    "\n",
    "Notice that both significand and exponent are of limited size, so each of them have their limitations. Floating point numbers, by their definition are approximated. In a large calculating, such as one where you are multiplying numbers hundreds or thousands of times, these errors will accumulate.\n",
    "\n",
    "#### Comparison of floats\n",
    "\n",
    "Recall from an earlier lecture that you should never do direct comparison of floating point numbers. Since the number are not stored exactly, the comparison may not return the expected anser:"
   ]
  },
  {
   "cell_type": "code",
   "execution_count": null,
   "metadata": {},
   "outputs": [],
   "source": [
    ".1 + .2 "
   ]
  },
  {
   "cell_type": "code",
   "execution_count": null,
   "metadata": {},
   "outputs": [],
   "source": [
    ".3 == (.1 + .2)"
   ]
  },
  {
   "cell_type": "markdown",
   "metadata": {},
   "source": [
    "Instead of directly comparison, you should always check if the two numbers are close enough that the error doesn't matter:"
   ]
  },
  {
   "cell_type": "code",
   "execution_count": null,
   "metadata": {},
   "outputs": [],
   "source": [
    ".3 - (.1 + .2)"
   ]
  },
  {
   "cell_type": "markdown",
   "metadata": {},
   "source": [
    "Such a tiny number is close enough to zero that you can take it to _mean_ zero. You can also use data types built specifically for decimals (Python's `Decimal`), but they will often be _much_ slower than native floating point operations.\n",
    "\n",
    "In financial domains, decimals, such as cents are often represented as integers. So while you may think of representing \"1 dollar and 12 cents\" as `1.23`, a financial programmer is likely to represent it as `123` (the number is multiplied by a number, such as 100).\n",
    "\n",
    "You can also just round the numbers and be done with it:"
   ]
  },
  {
   "cell_type": "code",
   "execution_count": null,
   "metadata": {},
   "outputs": [],
   "source": [
    "round(.3) == round(.1 + .2)"
   ]
  },
  {
   "cell_type": "markdown",
   "metadata": {},
   "source": [
    "## Strings to zeros and ones\n",
    "\n",
    "We have seen how an integers and floating point numbers are translated to \"zeros and ones\" which computers undestand. But how are characters and strings encoded?\n",
    "\n",
    "Quite simply, there are a few standard ways characters are converted to integers, which are then converted to zeros and ones.\n",
    "\n",
    "#### ASCII\n",
    "\n",
    "The most common such mapping is called ASCII, or as _no_ one calls it, \"American Standard Code for Information Interchange.\"\n",
    "\n",
    "![](images/ascii.png)"
   ]
  },
  {
   "cell_type": "markdown",
   "metadata": {},
   "source": [
    "**Exercise** There are 128 items on the table above, is there a particular reason for such number?"
   ]
  },
  {
   "cell_type": "markdown",
   "metadata": {},
   "source": [
    "Notice that not all items on the table are printable characters. The table has space for a bell (007), delete (127), carriage return or new line (013), etc. \n",
    "\n",
    "#### Unicode\n",
    "\n",
    "Modern operating systems and programming enivornments now use a standard called Unicode. Unlike ASCII, unicode has _thousands_ of character mappings. It covers almost all spoken languages, current or historical.\n",
    "\n",
    "![](images/unicode_sample.png)\n",
    "\n",
    "The first version of Unicode (1991) provided around 7,000 characters, coverint English, Arabic, Armenian, Bengali, Bopomofo, Cyrillic, Devangari, georgian, Greek, Coptic, Gujarati, Gurmukhi, Hangul, Hebrew, Hiragana, Kannada, Katakana, Lao, Latin, Malayalam, Oriya, Tamil, Telugu, Thai and Tibetan. The version release in May, 2019 has almost 138,000 characters.\n",
    "\n",
    "Note that the first 127 characters of Unicode match the ASCII characters, thereby preserving some backward compatibility.\n",
    "\n",
    "By default, when you open a file to read as text (rather than binary), Python will attempt to read the file as Unicode.\n",
    "\n",
    "#### Other encodings\n",
    "\n",
    "There are some other encodings floating on the internet. As mentioned earlier, Python will attempt to open file as unicode (for text reading). If the file was encoded in a different format, you may have to explicitely override the encoding:\n",
    "\n",
    "`file = open(file_name, encoding=\"latin-1\")`\n",
    "\n",
    "### Space considerations\n",
    "\n",
    "Notice a subtle but important issue. The number 100 takes up 64 bits on modern computers (and shown above). The number 1,000 also takes up 64 bits. In fact, the largest number 64 (signed) bits can hold is 9,223,372,036,854,775,807!\n",
    "\n",
    "Also recall that the string \"100\" has three characters, hence takes up 64 * 3 bits. \"1000\" adds another digit so the size of this data goes up to 64 * 4. The string \"1000\" is 4 times as large as the integer 1000. \n",
    "\n"
   ]
  },
  {
   "cell_type": "code",
   "execution_count": 13,
   "metadata": {},
   "outputs": [],
   "source": [
    "import numpy as np"
   ]
  },
  {
   "cell_type": "code",
   "execution_count": null,
   "metadata": {},
   "outputs": [],
   "source": [
    "np.array([1]).nbytes, np.array([\"1\"]).nbytes"
   ]
  },
  {
   "cell_type": "code",
   "execution_count": null,
   "metadata": {},
   "outputs": [],
   "source": [
    "np.array([10]).nbytes, np.array([\"10\"]).nbytes"
   ]
  },
  {
   "cell_type": "code",
   "execution_count": null,
   "metadata": {},
   "outputs": [],
   "source": [
    "np.array([100]).nbytes, np.array([\"100\"]).nbytes"
   ]
  },
  {
   "cell_type": "code",
   "execution_count": null,
   "metadata": {},
   "outputs": [],
   "source": [
    "np.array([1000]).nbytes, np.array([\"1000\"]).nbytes"
   ]
  },
  {
   "cell_type": "code",
   "execution_count": null,
   "metadata": {},
   "outputs": [],
   "source": [
    "np.array([10000]).nbytes, np.array([\"10000\"]).nbytes"
   ]
  },
  {
   "cell_type": "markdown",
   "metadata": {},
   "source": [
    "**Exercise** If your database, Pandas or R dataframe wrong stores a numeric ID as a string instead of a number, how does this effect the storage and time performance of your work?\n",
    "\n",
    "**Exercise** Many databases store large number of records in \"row\" format:\n",
    "\n",
    "```\n",
    "name,  age, profession,   niceness\n",
    "homer, 38 , nuclear tech, 4\n",
    "burns, 103, ceo         , 0\n",
    "marge, 36 , home maker  , 8\n",
    "bart , 10 , student     , 3\n",
    "lisa , 8  , student     , 7\n",
    "```\n",
    "\n",
    "Some databases store data in column format:\n",
    "\n",
    "```\n",
    "profession: nuclear tech, ceo, home maker, student, student\n",
    "niceness  : 4, 0, 8, 3, 7\n",
    "name      : homer, burns, marge, bart, lisa\n",
    "age       : 38, 103, 36, 10, 8\n",
    "```\n",
    "What is the cost of finding the average `niceness` score of students?\n"
   ]
  },
  {
   "cell_type": "code",
   "execution_count": null,
   "metadata": {},
   "outputs": [],
   "source": []
  },
  {
   "cell_type": "markdown",
   "metadata": {},
   "source": [
    "## Further reading:\n",
    "\n",
    "What every programmer should know about floating-point arithmetic: https://floating-point-gui.de/\n",
    "\n",
    "Python's docs on floating points: https://docs.python.org/3/tutorial/floatingpoint.html"
   ]
  },
  {
   "cell_type": "markdown",
   "metadata": {},
   "source": [
    "## References:\n",
    "\n",
    "ASCII table comes from https://www.asc.ohio-state.edu/demarneffe.1/LING5050/material/characters.html (which credits Wikimedia Commons)\n",
    "\n",
    "Unicode sample: https://en.wikipedia.org/wiki/File:Unicode_sample.png\n",
    "\n",
    "- Disk drive imag: https://en.wikipedia.org/wiki/Hard_disk_drive#/media/File:Laptop-hard-drive-exposed.jpg\n",
    "- Motherboard image credit https://www.servethehome.com/supermicro-x12sca-f-review-intel-xeon-w-1200-motherboard/\n",
    "- Memory stick image credit https://www.premiumbeat.com/blog/ram-system-memory-for-video-editing/\n",
    "- CPU image credit https://www.avg.com/en/signal/cpu-stress-test\n",
    "- Laptop internals image credit https://en.wikipedia.org/wiki/Motherboard"
   ]
  },
  {
   "cell_type": "code",
   "execution_count": null,
   "metadata": {},
   "outputs": [],
   "source": []
  }
 ],
 "metadata": {
  "kernelspec": {
   "display_name": "mleng",
   "language": "python",
   "name": "mleng"
  },
  "language_info": {
   "codemirror_mode": {
    "name": "ipython",
    "version": 3
   },
   "file_extension": ".py",
   "mimetype": "text/x-python",
   "name": "python",
   "nbconvert_exporter": "python",
   "pygments_lexer": "ipython3",
   "version": "3.11.11"
  }
 },
 "nbformat": 4,
 "nbformat_minor": 4
}
