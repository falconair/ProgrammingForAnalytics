{
 "cells": [
  {
   "cell_type": "code",
   "execution_count": null,
   "metadata": {
    "tags": []
   },
   "outputs": [],
   "source": [
    "import numpy as np\n",
    "import pandas as pd\n",
    "import matplotlib.pyplot as plt\n",
    "\n",
    "import random"
   ]
  },
  {
   "cell_type": "code",
   "execution_count": null,
   "metadata": {},
   "outputs": [],
   "source": [
    "%reload_ext postcell\n",
    "%postcell register"
   ]
  },
  {
   "cell_type": "markdown",
   "metadata": {},
   "source": [
    "# Reshaping dataframes"
   ]
  },
  {
   "cell_type": "markdown",
   "metadata": {},
   "source": [
    "Creating synthetic data"
   ]
  },
  {
   "cell_type": "code",
   "execution_count": null,
   "metadata": {
    "tags": []
   },
   "outputs": [],
   "source": [
    "calories = {\n",
    "    'Donuts': 195 * 1,\n",
    "    'Bacon' : 43 * 3,\n",
    "    'Beer'  : 154 * 1,\n",
    "    'Salad' : 535 * 1,\n",
    "    'Pot Roast': 252 * 2,\n",
    "    'Waffles': 82 * 3,\n",
    "    'Tofu'  : 94\n",
    "}\n",
    "\n",
    "k = 9\n",
    "homer_food = random.choices(['Donuts', 'Bacon', 'Beer'], k=k*3)\n",
    "marge_food = random.choices(['Salad', 'Pot Roast', 'Waffles'], k=k)\n",
    "lisa_food  = random.choices(['Salad', 'Tofu', 'Waffles'], k=k)\n",
    "\n",
    "days = random.choices(list(range(1,1+int(k/3))), k= k * 3 + k + k)\n",
    "\n",
    "food_df = pd.DataFrame({\n",
    "    'day' : days,\n",
    "    'name': ['Homer'] * k * 3 + ['Marge'] * k + ['Lisa'] * k,\n",
    "    'food': homer_food + marge_food + lisa_food,\n",
    "    'calories': list(map(lambda x: calories[x],homer_food)) + list(map(lambda x: calories[x],marge_food)) + list(map(lambda x: calories[x],lisa_food))             \n",
    "}).sample(frac=1).reset_index().drop(['index'],axis='columns')\n",
    "\n",
    "#food_df.head()"
   ]
  },
  {
   "cell_type": "code",
   "execution_count": null,
   "metadata": {
    "tags": []
   },
   "outputs": [],
   "source": [
    "food_df.head()"
   ]
  },
  {
   "cell_type": "markdown",
   "metadata": {},
   "source": [
    "Same dataset can be shaped in many different ways. For example:"
   ]
  },
  {
   "cell_type": "code",
   "execution_count": null,
   "metadata": {
    "tags": []
   },
   "outputs": [],
   "source": [
    "food_df.loc[food_df['day'] == 1, ['name', 'food', 'calories']].groupby(['name', 'food']).sum()"
   ]
  },
  {
   "cell_type": "code",
   "execution_count": null,
   "metadata": {
    "tags": []
   },
   "outputs": [],
   "source": [
    "food_1day_df = food_df.loc[food_df['day'] == 1, ['name', 'food', 'calories']].groupby(['name', 'food']).sum().reset_index()"
   ]
  },
  {
   "cell_type": "code",
   "execution_count": null,
   "metadata": {
    "tags": []
   },
   "outputs": [],
   "source": [
    "food_1day_df"
   ]
  },
  {
   "cell_type": "markdown",
   "metadata": {},
   "source": [
    "Perhaps the food column is pivoted"
   ]
  },
  {
   "cell_type": "code",
   "execution_count": null,
   "metadata": {
    "tags": []
   },
   "outputs": [],
   "source": [
    "food_1day_df.pivot(index='name', columns='food', values='calories')"
   ]
  },
  {
   "cell_type": "markdown",
   "metadata": {},
   "source": [
    "### `pivot` to turn a column of values into one column per value\n",
    "#### long to wide"
   ]
  },
  {
   "cell_type": "code",
   "execution_count": null,
   "metadata": {
    "tags": []
   },
   "outputs": [],
   "source": [
    "pd.DataFrame({'colA': [1,2,3,4,5],\n",
    "             'colB': ['catA', 'catB', 'catC', 'catD', 'catE'],\n",
    "             'colC': ['valA', 'valB', 'valC', 'valD', 'valE']\n",
    "             })"
   ]
  },
  {
   "cell_type": "code",
   "execution_count": null,
   "metadata": {
    "tags": []
   },
   "outputs": [],
   "source": [
    "pd.DataFrame({'colA': [1,2,3,4,5],\n",
    "             'colB': ['catA', 'catB', 'catC', 'catD', 'catE'],\n",
    "             'colC': ['valA', 'valB', 'valC', 'valD', 'valE']\n",
    "             }).pivot(index='colA', columns='colB', values='colC')"
   ]
  },
  {
   "cell_type": "markdown",
   "metadata": {},
   "source": [
    "**Exercise** Given dataframe `food_1day_df`, change it so each row represents a food and each column represents a Simpson family member and the cells in the table represent calories."
   ]
  },
  {
   "cell_type": "code",
   "execution_count": null,
   "metadata": {},
   "outputs": [],
   "source": [
    "%%postcell exercise_030_170_a\n",
    "\n",
    "#type your answer here\n"
   ]
  },
  {
   "cell_type": "markdown",
   "metadata": {},
   "source": [
    "### `melt` to turn multiple columns of values into two columns: data name, data value\n",
    "#### wide to long"
   ]
  },
  {
   "cell_type": "code",
   "execution_count": null,
   "metadata": {
    "tags": []
   },
   "outputs": [],
   "source": [
    "food_homer_df = pd.DataFrame({'day':[1,2,3]\n",
    "                             , 'Bacon':[129,129,129]\n",
    "                             , 'Beer':[0, 154, 154]\n",
    "                             , 'Donuts':[195, 0, 195]\n",
    "                             })"
   ]
  },
  {
   "cell_type": "code",
   "execution_count": null,
   "metadata": {
    "tags": []
   },
   "outputs": [],
   "source": [
    "food_homer_df"
   ]
  },
  {
   "cell_type": "markdown",
   "metadata": {},
   "source": [
    "We need to 'unpivot' this using `melt`. Now that you have learned how to pivot a dataframe, how can we think about moving the rows, 'Bacon', 'Beer' and 'Donuts' into a single column containing column headings as entries?"
   ]
  },
  {
   "cell_type": "code",
   "execution_count": null,
   "metadata": {
    "tags": []
   },
   "outputs": [],
   "source": [
    "food_homer_df.melt(id_vars='day', var_name='food', value_name='calories')"
   ]
  },
  {
   "cell_type": "markdown",
   "metadata": {},
   "source": [
    "**Exercise** Given `food_homer_df`, change the dataframe so food items appear in rows and day value appear in columns. The final result should like like this (you must use melt/pivot, ignore index names)"
   ]
  },
  {
   "cell_type": "code",
   "execution_count": null,
   "metadata": {},
   "outputs": [],
   "source": [
    "food_homer_df"
   ]
  },
  {
   "cell_type": "code",
   "execution_count": null,
   "metadata": {},
   "outputs": [],
   "source": [
    "pd.DataFrame({'food':['Bacon', 'Beer', 'Donuts'],\n",
    "              '1':[129, 0, 195],\n",
    "             '2':[129, 154, 0],\n",
    "             '3':[129, 154, 195]})"
   ]
  },
  {
   "cell_type": "code",
   "execution_count": null,
   "metadata": {},
   "outputs": [],
   "source": [
    "%%postcell exercise_030_170_b\n",
    "\n",
    "#type your answer here\n"
   ]
  },
  {
   "cell_type": "code",
   "execution_count": null,
   "metadata": {},
   "outputs": [],
   "source": [
    "food_homer_df.T"
   ]
  },
  {
   "cell_type": "code",
   "execution_count": null,
   "metadata": {},
   "outputs": [],
   "source": []
  }
 ],
 "metadata": {
  "kernelspec": {
   "display_name": "Python 3 (ipykernel)",
   "language": "python",
   "name": "python3"
  },
  "language_info": {
   "codemirror_mode": {
    "name": "ipython",
    "version": 3
   },
   "file_extension": ".py",
   "mimetype": "text/x-python",
   "name": "python",
   "nbconvert_exporter": "python",
   "pygments_lexer": "ipython3",
   "version": "3.12.4"
  }
 },
 "nbformat": 4,
 "nbformat_minor": 4
}
