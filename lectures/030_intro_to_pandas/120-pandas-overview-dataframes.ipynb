{
 "cells": [
  {
   "cell_type": "code",
   "execution_count": null,
   "metadata": {},
   "outputs": [],
   "source": [
    "%reload_ext postcell\n",
    "%postcell register"
   ]
  },
  {
   "cell_type": "code",
   "execution_count": null,
   "metadata": {},
   "outputs": [],
   "source": [
    "import numpy as np\n",
    "import pandas as pd"
   ]
  },
  {
   "cell_type": "markdown",
   "metadata": {},
   "source": [
    "# Pandas - dataframes"
   ]
  },
  {
   "cell_type": "markdown",
   "metadata": {},
   "source": [
    "Pandas dataframes are the main tool used by data scientists to explore data.Generally, \"pandas\" is a synonym for pandas dataframes. Pandas is deigned to work with what we normally think of as \"business data.\"\n",
    "\n",
    "Given what we have learned so far, we can think of dataframes as: Numpy with labels and a set of series objects.\n",
    "\n",
    "#### Numpy with labels"
   ]
  },
  {
   "cell_type": "code",
   "execution_count": null,
   "metadata": {},
   "outputs": [],
   "source": [
    "rand_array = (np.random.rand(10,3) * 100).round()\n",
    "rand_array"
   ]
  },
  {
   "cell_type": "markdown",
   "metadata": {},
   "source": [
    "With pandas, we can annotate this numeric matrix with labels:"
   ]
  },
  {
   "cell_type": "code",
   "execution_count": null,
   "metadata": {},
   "outputs": [],
   "source": [
    "student_scores_pd = pd.DataFrame(rand_array\n",
    "             , columns=['Assignment 1', 'Assignment 2', 'Test']\n",
    "             , index=['Homer', 'Marge', 'Bart', 'Lisa', 'Maggie', 'Jon', 'Arya', 'Ned', 'Danny', 'That red lady']\n",
    "            )\n",
    "student_scores_pd"
   ]
  },
  {
   "cell_type": "markdown",
   "metadata": {},
   "source": [
    "A dataframe can be converted back to a numpy:"
   ]
  },
  {
   "cell_type": "code",
   "execution_count": null,
   "metadata": {},
   "outputs": [],
   "source": [
    "student_scores_pd.values"
   ]
  },
  {
   "cell_type": "code",
   "execution_count": null,
   "metadata": {},
   "outputs": [],
   "source": [
    "student_scores_pd.to_numpy()"
   ]
  },
  {
   "cell_type": "markdown",
   "metadata": {},
   "source": [
    "#### Set of series objects\n",
    "\n",
    "![](images/dataframes.jpg)"
   ]
  },
  {
   "cell_type": "code",
   "execution_count": null,
   "metadata": {},
   "outputs": [],
   "source": [
    "homers_grades = pd.Series(np.round(100 * np.random.rand(3)))\n",
    "marges_grades = pd.Series(np.round(100 * np.random.rand(3)))\n",
    "barts_grades = pd.Series(np.round(100 * np.random.rand(3)))\n",
    "lisas_grades = pd.Series(np.round(100 * np.random.rand(3)))\n",
    "maggies_grades = pd.Series(np.round(100 * np.random.rand(3)))\n",
    "jons_grades = pd.Series(np.round(100 * np.random.rand(3)))\n",
    "aryas_grades = pd.Series(np.round(100 * np.random.rand(3)))\n",
    "neds_grades = pd.Series(np.round(100 * np.random.rand(3)))\n",
    "dannys_grades = pd.Series(np.round(100 * np.random.rand(3)))\n",
    "thatredlady_grades = pd.Series(np.round(100 * np.random.rand(3)))"
   ]
  },
  {
   "cell_type": "code",
   "execution_count": null,
   "metadata": {},
   "outputs": [],
   "source": [
    "homers_grades"
   ]
  },
  {
   "cell_type": "code",
   "execution_count": null,
   "metadata": {},
   "outputs": [],
   "source": [
    "student_scores_pd = pd.DataFrame({\n",
    "    'homer': homers_grades\n",
    "    , 'marge': marges_grades\n",
    "    , 'bart': barts_grades\n",
    "    , 'lisa': lisas_grades\n",
    "    , 'maggie': maggies_grades\n",
    "    , 'jon': jons_grades\n",
    "    , 'arya': aryas_grades\n",
    "    , 'ned': neds_grades\n",
    "    , 'danny': dannys_grades\n",
    "    , 'That red lady': thatredlady_grades\n",
    "})\n",
    "student_scores_pd"
   ]
  },
  {
   "cell_type": "code",
   "execution_count": null,
   "metadata": {},
   "outputs": [],
   "source": [
    "student_scores_pd = student_scores_pd.set_index(pd.Index(['Assignment 1', 'Assignment 2', 'Test']))\n",
    "student_scores_pd"
   ]
  },
  {
   "cell_type": "code",
   "execution_count": null,
   "metadata": {},
   "outputs": [],
   "source": [
    "#student_scores_pd = student_scores_pd.set_index([['Assignment 1', 'Assignment 2', 'Test']])\n",
    "#student_scores_pd"
   ]
  },
  {
   "cell_type": "code",
   "execution_count": null,
   "metadata": {},
   "outputs": [],
   "source": [
    "student_scores_pd = student_scores_pd.T\n",
    "student_scores_pd"
   ]
  },
  {
   "cell_type": "markdown",
   "metadata": {},
   "source": [
    "Notice that while each series has its own index, in a dataframe, the index is shared among all columns."
   ]
  },
  {
   "cell_type": "code",
   "execution_count": null,
   "metadata": {
    "tags": []
   },
   "outputs": [],
   "source": [
    "student_scores_pd['Test']"
   ]
  },
  {
   "cell_type": "code",
   "execution_count": null,
   "metadata": {
    "tags": []
   },
   "outputs": [],
   "source": [
    "type(student_scores_pd['Test'])"
   ]
  },
  {
   "cell_type": "markdown",
   "metadata": {},
   "source": [
    "### Creating dataframes"
   ]
  },
  {
   "cell_type": "markdown",
   "metadata": {},
   "source": [
    "Above we saw two examples of creating dataframes from dictionaries and numpy arrays. You are more likely to create dataframes by reading them from a data file or loading them from an sql server. The pandas overview already showed such an example but let's take a closer look at some important functions."
   ]
  },
  {
   "cell_type": "markdown",
   "metadata": {},
   "source": [
    "#### `.read_csv()`\n",
    "\n",
    "Pandas provides a very useful way of ingesting csv (command delimited) files. These types of files are overwhelmingly the format used to distribute small and medium sized data."
   ]
  },
  {
   "cell_type": "code",
   "execution_count": null,
   "metadata": {},
   "outputs": [],
   "source": [
    "data_df = pd.read_csv('../../datasets/deaths-in-gameofthrones/game-of-thrones-deaths-data.csv')"
   ]
  },
  {
   "cell_type": "code",
   "execution_count": null,
   "metadata": {},
   "outputs": [],
   "source": [
    "data_df.head()"
   ]
  },
  {
   "cell_type": "markdown",
   "metadata": {},
   "source": [
    "Note that you can load a file directly from the web:"
   ]
  },
  {
   "cell_type": "code",
   "execution_count": null,
   "metadata": {},
   "outputs": [],
   "source": [
    "%%time\n",
    "pd.read_csv('https://raw.githubusercontent.com/washingtonpost/data-game-of-thrones-deaths/master/game-of-thrones-deaths-data.csv').head()"
   ]
  },
  {
   "cell_type": "code",
   "execution_count": null,
   "metadata": {},
   "outputs": [],
   "source": [
    "#pd.read_excel()"
   ]
  },
  {
   "cell_type": "markdown",
   "metadata": {},
   "source": [
    "The `.read_csv` function is very rich and lets you control:\n",
    "1. Column names, including working with datasets which do not include column names: `names`, `header`\n",
    "2. Which delimiter to use: comma, tabs, etc.: `delimiter`\n",
    "3. Custom data types (in case your integers are being brought in as strings or floats): `dtype`\n",
    "    a. `parse_dates` lets you control which columns are date or time values\n",
    "\n",
    "etc."
   ]
  },
  {
   "cell_type": "markdown",
   "metadata": {},
   "source": [
    "Similarly `.read_sql` lets you read resutls of sql queries, `.read_feather` lets you read a very important upcoming format called `feather` or `arrow`. Popular format 'parquet' from the Hadoop ecosystem can be read with `.read_parquet`"
   ]
  },
  {
   "cell_type": "markdown",
   "metadata": {},
   "source": [
    "An example of read_csv's richness:\n",
    "\n",
    "`.read_csv(header=int or list of int)`\n",
    "The option of `header` can be used to control the header.\n",
    "    - `header = 0` The first row contains the header, use that for column names\n",
    "    - `header = [0,1,2,3,10]` Only import columns 0, 1, 2, 3 and 10 (skip 4-9)\n",
    "    - `header = None` No column names provided"
   ]
  },
  {
   "cell_type": "markdown",
   "metadata": {},
   "source": [
    "#### `.read_html()`"
   ]
  },
  {
   "cell_type": "markdown",
   "metadata": {},
   "source": [
    "The `read_html` function parses a web page to extract tables. This functionality is built on top of the \"beautiful soup\" library. Using that library is not necessarily easy for new developers. Along with Python, they also have to know a bit about the html markup langauge. Pandas makes such tasks trivial."
   ]
  },
  {
   "cell_type": "code",
   "execution_count": null,
   "metadata": {},
   "outputs": [],
   "source": [
    "import ssl\n",
    "#In some instances, students get ssl errors, this will resolve it\n",
    "#https://stackoverflow.com/a/56230607\n",
    "ssl._create_default_https_context = ssl._create_unverified_context "
   ]
  },
  {
   "cell_type": "code",
   "execution_count": null,
   "metadata": {},
   "outputs": [],
   "source": [
    "%%time\n",
    "html_tables = pd.read_html('https://en.wikipedia.org/wiki/World_population')"
   ]
  },
  {
   "cell_type": "code",
   "execution_count": null,
   "metadata": {},
   "outputs": [],
   "source": [
    "len(html_tables)"
   ]
  },
  {
   "cell_type": "code",
   "execution_count": null,
   "metadata": {},
   "outputs": [],
   "source": [
    "html_tables[0]"
   ]
  },
  {
   "cell_type": "code",
   "execution_count": null,
   "metadata": {},
   "outputs": [],
   "source": [
    "html_tables[1]"
   ]
  },
  {
   "cell_type": "markdown",
   "metadata": {},
   "source": [
    "If you want a specific table, use the `match` keyword to search for a specific table header"
   ]
  },
  {
   "cell_type": "code",
   "execution_count": null,
   "metadata": {},
   "outputs": [],
   "source": [
    "pd.read_html('https://en.wikipedia.org/wiki/World_population'\n",
    "             , match='10 most densely populated countries')[0]"
   ]
  },
  {
   "cell_type": "code",
   "execution_count": null,
   "metadata": {},
   "outputs": [],
   "source": []
  },
  {
   "cell_type": "markdown",
   "metadata": {},
   "source": [
    "**Exercise** Download the following file to you computer and read it into a dataframe: https://raw.githubusercontent.com/codeforamerica/ohana-api/master/data/sample-csv/addresses.csv\n",
    "\n",
    "Note, you must download the file to you computer, you may not use Pandas to read directly from the web."
   ]
  },
  {
   "cell_type": "code",
   "execution_count": null,
   "metadata": {},
   "outputs": [],
   "source": [
    "%%postcell exercise_030_120_a\n",
    "\n",
    "#type your answer here"
   ]
  },
  {
   "cell_type": "markdown",
   "metadata": {},
   "source": [
    "### Getting rows and columns from Dataframes\n"
   ]
  },
  {
   "cell_type": "code",
   "execution_count": null,
   "metadata": {},
   "outputs": [],
   "source": [
    "student_scores_pd"
   ]
  },
  {
   "cell_type": "markdown",
   "metadata": {},
   "source": [
    "Similar to series, values in dataframes can be retrieved in several ways:\n",
    "1. Implicit index (similar to lists)\n",
    "2. Explicit index or label (similar to dictionaries)\n",
    "3. Slicing\n",
    "4. Boolean masking\n",
    "5. Fancy indexing"
   ]
  },
  {
   "cell_type": "markdown",
   "metadata": {},
   "source": [
    "#### Implicit index"
   ]
  },
  {
   "cell_type": "markdown",
   "metadata": {},
   "source": [
    "Perhaps surprisingly, implicit index is not commonly used to acces rows or columns (see `iloc` or `icol`)"
   ]
  },
  {
   "cell_type": "code",
   "execution_count": null,
   "metadata": {},
   "outputs": [],
   "source": [
    "student_scores_pd"
   ]
  },
  {
   "cell_type": "code",
   "execution_count": null,
   "metadata": {},
   "outputs": [],
   "source": [
    "student_scores_pd[0]"
   ]
  },
  {
   "cell_type": "code",
   "execution_count": null,
   "metadata": {},
   "outputs": [],
   "source": [
    "student_scores_pd.iloc[:, 0]"
   ]
  },
  {
   "cell_type": "markdown",
   "metadata": {},
   "source": [
    "#### Explicit index or labels"
   ]
  },
  {
   "cell_type": "code",
   "execution_count": null,
   "metadata": {},
   "outputs": [],
   "source": [
    "student_scores_pd"
   ]
  },
  {
   "cell_type": "markdown",
   "metadata": {},
   "source": [
    "In a dataframe, using an explicit key returns the column associated with that key. Note that this is not what you may have expected. According to the rule \"first rows, then column\" we learned in numpy, the syntax in the following line should result a row, but Pandas makes an exception here. "
   ]
  },
  {
   "cell_type": "code",
   "execution_count": null,
   "metadata": {
    "tags": []
   },
   "outputs": [],
   "source": [
    "student_scores_pd['homer']"
   ]
  },
  {
   "cell_type": "code",
   "execution_count": null,
   "metadata": {},
   "outputs": [],
   "source": [
    "student_scores_pd['Test']"
   ]
  },
  {
   "cell_type": "markdown",
   "metadata": {},
   "source": [
    "Notice, in the last example, although, in common vernacular, you are asking for a column of data. It is more precise to say that you are asking for a series, since a series contains a column of values, and the index associated with it. "
   ]
  },
  {
   "cell_type": "markdown",
   "metadata": {},
   "source": [
    "Using `.loc` brings back the \"rows then column\" scheme."
   ]
  },
  {
   "cell_type": "code",
   "execution_count": null,
   "metadata": {},
   "outputs": [],
   "source": [
    "student_scores_pd.loc['homer']"
   ]
  },
  {
   "cell_type": "code",
   "execution_count": null,
   "metadata": {},
   "outputs": [],
   "source": [
    "student_scores_pd.loc[:, 'Test']"
   ]
  },
  {
   "cell_type": "code",
   "execution_count": null,
   "metadata": {},
   "outputs": [],
   "source": [
    "student_scores_pd.loc['homer', \"Test\"]"
   ]
  },
  {
   "cell_type": "markdown",
   "metadata": {},
   "source": [
    "Once you have a series, you can operate on it using the same methods we learned in the previous lecture"
   ]
  },
  {
   "cell_type": "code",
   "execution_count": null,
   "metadata": {},
   "outputs": [],
   "source": [
    "tests_s = student_scores_pd['Test']"
   ]
  },
  {
   "cell_type": "code",
   "execution_count": null,
   "metadata": {},
   "outputs": [],
   "source": [
    "type(tests_s)"
   ]
  },
  {
   "cell_type": "code",
   "execution_count": null,
   "metadata": {},
   "outputs": [],
   "source": [
    "tests_s"
   ]
  },
  {
   "cell_type": "code",
   "execution_count": null,
   "metadata": {},
   "outputs": [],
   "source": [
    "tests_s['homer'] # <= this is a series, not a dataframe"
   ]
  },
  {
   "cell_type": "markdown",
   "metadata": {},
   "source": [
    "Dataframe and series operations are often combined"
   ]
  },
  {
   "cell_type": "code",
   "execution_count": null,
   "metadata": {},
   "outputs": [],
   "source": [
    "student_scores_pd['Test']['homer']"
   ]
  },
  {
   "cell_type": "markdown",
   "metadata": {},
   "source": [
    "In the pervious example, `student_scores_pd['Test']...` returns a series, the subsequent `...['homer']` then pulls out Homer's test results."
   ]
  },
  {
   "cell_type": "markdown",
   "metadata": {},
   "source": [
    "**Exercise** Find the average of all test scores in `student_scores_pd`"
   ]
  },
  {
   "cell_type": "code",
   "execution_count": null,
   "metadata": {},
   "outputs": [],
   "source": [
    "%%postcell exercise_030_120_b\n",
    "\n",
    "#type your answer here"
   ]
  },
  {
   "cell_type": "markdown",
   "metadata": {},
   "source": [
    "#### Fancy indexing"
   ]
  },
  {
   "cell_type": "markdown",
   "metadata": {},
   "source": [
    "Fnacy indexing operates on columns"
   ]
  },
  {
   "cell_type": "code",
   "execution_count": null,
   "metadata": {},
   "outputs": [],
   "source": [
    "student_scores_pd[['Test', 'Test', 'Assignment 1']]"
   ]
  },
  {
   "cell_type": "markdown",
   "metadata": {},
   "source": [
    "**Exercise** Get the `Test` series from `student_scores_pd`"
   ]
  },
  {
   "cell_type": "code",
   "execution_count": null,
   "metadata": {},
   "outputs": [],
   "source": [
    "%%postcell exercise_030_120_c\n",
    "\n",
    "#type your answer here"
   ]
  },
  {
   "cell_type": "markdown",
   "metadata": {},
   "source": [
    "#### Slicing"
   ]
  },
  {
   "cell_type": "markdown",
   "metadata": {},
   "source": [
    "However, if slicing syntax is used to operate on rows"
   ]
  },
  {
   "cell_type": "code",
   "execution_count": null,
   "metadata": {},
   "outputs": [],
   "source": [
    "student_scores_pd['bart': 'arya']"
   ]
  },
  {
   "cell_type": "markdown",
   "metadata": {},
   "source": [
    "**Note** Sclicing columns names will not work (unless the `.loc` notation is used)"
   ]
  },
  {
   "cell_type": "code",
   "execution_count": null,
   "metadata": {},
   "outputs": [],
   "source": [
    "student_scores_pd['Assignment 1': 'Assignment 2']"
   ]
  },
  {
   "cell_type": "code",
   "execution_count": null,
   "metadata": {},
   "outputs": [],
   "source": [
    "student_scores_pd.loc[:, 'Assignment 1': 'Assignment 2']"
   ]
  },
  {
   "cell_type": "markdown",
   "metadata": {},
   "source": [
    "**Exrercise** Use slicing to find test scores (not assignments) for Maggie, Jon and Arya (note that all three are next to each ohter in the dataframe"
   ]
  },
  {
   "cell_type": "code",
   "execution_count": null,
   "metadata": {},
   "outputs": [],
   "source": [
    "%%postcell exercise_030_120_d\n",
    "\n",
    "#type your answer here"
   ]
  },
  {
   "cell_type": "markdown",
   "metadata": {},
   "source": [
    "#### Masking"
   ]
  },
  {
   "cell_type": "markdown",
   "metadata": {},
   "source": [
    "Masking syntax also operates on rows"
   ]
  },
  {
   "cell_type": "code",
   "execution_count": null,
   "metadata": {},
   "outputs": [],
   "source": [
    "student_scores_pd"
   ]
  },
  {
   "cell_type": "code",
   "execution_count": null,
   "metadata": {},
   "outputs": [],
   "source": [
    "student_scores_pd[student_scores_pd.Test > 50]"
   ]
  },
  {
   "cell_type": "code",
   "execution_count": null,
   "metadata": {
    "tags": []
   },
   "outputs": [],
   "source": [
    "student_scores_pd.Test > 50"
   ]
  },
  {
   "cell_type": "code",
   "execution_count": null,
   "metadata": {},
   "outputs": [],
   "source": [
    "student_scores_pd[student_scores_pd.index == 'homer']"
   ]
  },
  {
   "cell_type": "markdown",
   "metadata": {},
   "source": [
    "**Exercise** Find all records where test scores are above 80 in dataframe `student_scores_pd`"
   ]
  },
  {
   "cell_type": "code",
   "execution_count": null,
   "metadata": {},
   "outputs": [],
   "source": [
    "%%postcell exercise_030_120_e\n",
    "\n",
    "#type your answer here"
   ]
  },
  {
   "cell_type": "markdown",
   "metadata": {},
   "source": [
    "**Exercise** Find all records where test scores are above 80 or assignment 1 scores are above 75 in dataframe `student_scores_pd`"
   ]
  },
  {
   "cell_type": "code",
   "execution_count": null,
   "metadata": {},
   "outputs": [],
   "source": [
    "%%postcell exercise_030_120_h\n",
    "\n",
    "#type your answer here"
   ]
  },
  {
   "cell_type": "markdown",
   "metadata": {},
   "source": [
    "### `.loc`, `.iloc` and `.at`"
   ]
  },
  {
   "cell_type": "markdown",
   "metadata": {},
   "source": [
    "Just like `Series`, `Dataframe` objects also use:\n",
    "\n",
    "- `df.loc[]` to operate only on explicit keys/labels (like dictonaries)\n",
    "- `df.iloc[]` to operate only on implicit index locations (like lists)\n",
    "- `df.at[]` to return a single item"
   ]
  },
  {
   "cell_type": "markdown",
   "metadata": {},
   "source": [
    "However, since Dataframes are a multidimensional data structure, these functions provide direct ability to access rows and columns\n",
    "\n",
    "`df.loc/iloc/at[rows, columns]`"
   ]
  },
  {
   "cell_type": "code",
   "execution_count": null,
   "metadata": {},
   "outputs": [],
   "source": [
    "student_scores_pd"
   ]
  },
  {
   "cell_type": "markdown",
   "metadata": {},
   "source": [
    "### `.loc` key based indexing"
   ]
  },
  {
   "cell_type": "markdown",
   "metadata": {},
   "source": [
    "Get the column 'Test' and all rows"
   ]
  },
  {
   "cell_type": "code",
   "execution_count": null,
   "metadata": {},
   "outputs": [],
   "source": [
    "student_scores_pd.loc[:,'Test']"
   ]
  },
  {
   "cell_type": "markdown",
   "metadata": {},
   "source": [
    "Get all columns for row containing 'homer'"
   ]
  },
  {
   "cell_type": "code",
   "execution_count": null,
   "metadata": {},
   "outputs": [],
   "source": [
    "student_scores_pd.loc['homer', :]"
   ]
  },
  {
   "cell_type": "markdown",
   "metadata": {},
   "source": [
    "Get the column 'Test' and row with index 'homer'"
   ]
  },
  {
   "cell_type": "code",
   "execution_count": null,
   "metadata": {},
   "outputs": [],
   "source": [
    "student_scores_pd.loc['homer', 'Test']"
   ]
  },
  {
   "cell_type": "markdown",
   "metadata": {},
   "source": [
    "Get columns 'Assignment 1' and 'Assignment 2' and rows containing Simpson children (**fancy indexing**)"
   ]
  },
  {
   "cell_type": "code",
   "execution_count": null,
   "metadata": {},
   "outputs": [],
   "source": [
    "student_scores_pd.loc[['bart', 'lisa', 'maggie'],['Assignment 1', 'Assignment 2']]"
   ]
  },
  {
   "cell_type": "markdown",
   "metadata": {},
   "source": [
    "Get 'Test' scores for everyone between 'bart' and 'maggie' (**slicing** and **fancy indexing**)"
   ]
  },
  {
   "cell_type": "code",
   "execution_count": null,
   "metadata": {},
   "outputs": [],
   "source": [
    "student_scores_pd.loc['bart':'maggie', ['Assignment 1', 'Assignment 2']]"
   ]
  },
  {
   "cell_type": "markdown",
   "metadata": {},
   "source": [
    "**Exercise** Find Maggie and Danny's 'Assignment 1' score"
   ]
  },
  {
   "cell_type": "code",
   "execution_count": null,
   "metadata": {},
   "outputs": [],
   "source": [
    "%%postcell exercise_030_120_f\n",
    "\n",
    "#type your answer here"
   ]
  },
  {
   "cell_type": "markdown",
   "metadata": {},
   "source": [
    "### .iloc location based indexing"
   ]
  },
  {
   "cell_type": "code",
   "execution_count": null,
   "metadata": {},
   "outputs": [],
   "source": [
    "student_scores_pd"
   ]
  },
  {
   "cell_type": "markdown",
   "metadata": {},
   "source": [
    "Get the first column and all rows"
   ]
  },
  {
   "cell_type": "code",
   "execution_count": null,
   "metadata": {},
   "outputs": [],
   "source": [
    "student_scores_pd.iloc[:, 0]"
   ]
  },
  {
   "cell_type": "markdown",
   "metadata": {},
   "source": [
    "Get the second column and 3-5 rows"
   ]
  },
  {
   "cell_type": "code",
   "execution_count": null,
   "metadata": {},
   "outputs": [],
   "source": [
    "student_scores_pd.iloc[3:6, 1]"
   ]
  },
  {
   "cell_type": "markdown",
   "metadata": {},
   "source": [
    "**Exercise** Get the first three rows of `student_scores_pd`, but only include 'Assignment 1' and 'Assignment 2'"
   ]
  },
  {
   "cell_type": "code",
   "execution_count": null,
   "metadata": {},
   "outputs": [],
   "source": [
    "%%postcell exercise_030_120_g\n",
    "\n",
    "#type your answer here"
   ]
  },
  {
   "cell_type": "markdown",
   "metadata": {},
   "source": [
    "### `.at` return a single value"
   ]
  },
  {
   "cell_type": "markdown",
   "metadata": {},
   "source": [
    "Get Homer's test results (think of it as `.loc` which returns a single value...or an error)"
   ]
  },
  {
   "cell_type": "code",
   "execution_count": null,
   "metadata": {},
   "outputs": [],
   "source": [
    "student_scores_pd.at['homer', 'Test']"
   ]
  },
  {
   "cell_type": "code",
   "execution_count": null,
   "metadata": {},
   "outputs": [],
   "source": [
    "student_scores_pd.at['homer',['Test', 'Assignment 1']]"
   ]
  },
  {
   "cell_type": "markdown",
   "metadata": {},
   "source": [
    "#### `.query()`\n",
    "\n",
    "Although I personally haven't developed a habit of using this function, `df.query(..)` can be very useful and intuitive"
   ]
  },
  {
   "cell_type": "code",
   "execution_count": null,
   "metadata": {},
   "outputs": [],
   "source": [
    "student_scores_pd"
   ]
  },
  {
   "cell_type": "code",
   "execution_count": null,
   "metadata": {},
   "outputs": [],
   "source": [
    "student_scores_pd.query('Test > 50')"
   ]
  },
  {
   "cell_type": "markdown",
   "metadata": {},
   "source": [
    "The above example is the same as:"
   ]
  },
  {
   "cell_type": "code",
   "execution_count": null,
   "metadata": {},
   "outputs": [],
   "source": [
    "student_scores_pd[student_scores_pd['Test'] > 50]"
   ]
  },
  {
   "cell_type": "markdown",
   "metadata": {},
   "source": [
    "As you can see, `.query()` is much simpler"
   ]
  }
 ],
 "metadata": {
  "kernelspec": {
   "display_name": "Python 3 (ipykernel)",
   "language": "python",
   "name": "python3"
  },
  "language_info": {
   "codemirror_mode": {
    "name": "ipython",
    "version": 3
   },
   "file_extension": ".py",
   "mimetype": "text/x-python",
   "name": "python",
   "nbconvert_exporter": "python",
   "pygments_lexer": "ipython3",
   "version": "3.11.5"
  },
  "vscode": {
   "interpreter": {
    "hash": "108a1df64039728e69f178110a6e255a10aba8514903b770571642a02940d2ba"
   }
  }
 },
 "nbformat": 4,
 "nbformat_minor": 4
}
