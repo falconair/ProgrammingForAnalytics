{
 "cells": [
  {
   "cell_type": "markdown",
   "id": "3372311b-1834-4898-af06-ec7721242ba8",
   "metadata": {},
   "source": [
    "# Load test\n",
    "Simulate a large number of clients accessing your web site or service"
   ]
  },
  {
   "cell_type": "markdown",
   "id": "515ab2bb-9962-46ee-9172-bfe05efaed3c",
   "metadata": {},
   "source": [
    "### A sample web service\n",
    "Ray serve is a component which makes it easy to spread the serving of an API across several machines. Let's jump into code."
   ]
  },
  {
   "cell_type": "code",
   "execution_count": 3,
   "id": "4d8d94d5-d873-49ac-98d3-a85abb296315",
   "metadata": {},
   "outputs": [
    {
     "name": "stdout",
     "output_type": "stream",
     "text": [
      "Overwriting simple_api.py\n"
     ]
    }
   ],
   "source": [
    "%%writefile simple_api.py\n",
    "\n",
    "from fastapi import FastAPI\n",
    "from typing import Dict\n",
    "\n",
    "app = FastAPI()\n",
    "\n",
    "@app.get(\"/status\")\n",
    "def status() -> Dict[str, str]:\n",
    "    \"\"\"Simple health check endpoint.\"\"\"\n",
    "    return {\"status\": \"ok\"}\n",
    "\n",
    "\n",
    "@app.get(\"/compute\")\n",
    "def fibonacci(n: int):\n",
    "    \"\"\"Compute Fibonacci sequence up to n (inclusive).\"\"\"\n",
    "    if n <= 0:\n",
    "        return []\n",
    "    fib = [0, 1]\n",
    "    while fib[-1] + fib[-2] <= n:\n",
    "        fib.append(fib[-1] + fib[-2])\n",
    "    return fib\n",
    "\n",
    "# fastapi run simple_api.py\n",
    "# http://localhost:8000/compute?n=10"
   ]
  },
  {
   "cell_type": "markdown",
   "id": "573491b0-7790-49b4-8553-1635f4ae341e",
   "metadata": {},
   "source": [
    "Normally you run the code above as:\n",
    "\n",
    "```python\n",
    "fastapi run simple_api.py\n",
    "```\n",
    "\n",
    "This will run the API on a single machine. \n",
    "\n",
    "However, is your startup grows, how do you make sure you can continue to serve clients?"
   ]
  },
  {
   "cell_type": "markdown",
   "id": "6254f39b-1ad4-4782-847c-1195a685e91f",
   "metadata": {},
   "source": [
    "### Is your current setup going to scale when you go viral? \n",
    "Test it with https://locust.io/"
   ]
  },
  {
   "cell_type": "code",
   "execution_count": null,
   "id": "9690dbd7-f1b4-4cc0-be49-1c6cefc71e81",
   "metadata": {},
   "outputs": [],
   "source": [
    "!pip install locust"
   ]
  },
  {
   "cell_type": "markdown",
   "id": "bb2f6289-db40-49c7-9fac-31361617c431",
   "metadata": {},
   "source": [
    "Create a virtual users who will hit your API"
   ]
  },
  {
   "cell_type": "code",
   "execution_count": 2,
   "id": "7a72fdd9-bc85-4507-970a-7a4f29bb1568",
   "metadata": {},
   "outputs": [
    {
     "name": "stdout",
     "output_type": "stream",
     "text": [
      "Writing locustfile.py\n"
     ]
    }
   ],
   "source": [
    "%%writefile locustfile.py\n",
    "\n",
    "from locust import HttpUser, TaskSet, task, between\n",
    "\n",
    "class APIUser(HttpUser):\n",
    "    wait_time = between(1, 3)\n",
    "    host = \"http://127.0.0.1:8000\"\n",
    "\n",
    "    @task\n",
    "    class UserTasks(TaskSet):\n",
    "        @task\n",
    "        def get_status(self):\n",
    "            self.client.get(\"/status/\") \n",
    "\n",
    "        @task\n",
    "        def do_compute(self):\n",
    "            self.client.get(\"/compute?n=100\") "
   ]
  },
  {
   "cell_type": "markdown",
   "id": "7aff6e5f-a280-43ab-a6bc-04d537b8ff3d",
   "metadata": {},
   "source": [
    "Run it as `locust` at the command line.\n",
    "This will refer you to a web page, which will let you control the test."
   ]
  },
  {
   "cell_type": "markdown",
   "id": "fc6841c8-8e34-48a2-a299-1a907d639454",
   "metadata": {},
   "source": [
    "#### Things to note\n",
    "1. Any filures on the locust dashboard?\n",
    "2. Monitor the logs of your application\n",
    "3. What is the median execution time?\n",
    "4. **What is the tail execution time**?\n",
    "5. What is the RPS (requests per second)?"
   ]
  }
 ],
 "metadata": {
  "kernelspec": {
   "display_name": "mleng",
   "language": "python",
   "name": "mleng"
  },
  "language_info": {
   "codemirror_mode": {
    "name": "ipython",
    "version": 3
   },
   "file_extension": ".py",
   "mimetype": "text/x-python",
   "name": "python",
   "nbconvert_exporter": "python",
   "pygments_lexer": "ipython3",
   "version": "3.11.11"
  }
 },
 "nbformat": 4,
 "nbformat_minor": 5
}
