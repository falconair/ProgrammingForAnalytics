{
 "cells": [
  {
   "cell_type": "markdown",
   "id": "9cd7391f-4f5f-4a08-8849-3d40b39d4abe",
   "metadata": {},
   "source": [
    "# Demo style themes"
   ]
  },
  {
   "cell_type": "markdown",
   "id": "36b7bed3-7553-4848-85d6-c9cdcc0584de",
   "metadata": {},
   "source": [
    "To serve jupyter to ipad, start jupyter as:\n",
    "`jupyter lab --ip 0.0.0.0 --port 8888`"
   ]
  },
  {
   "cell_type": "code",
   "execution_count": 1,
   "id": "dc628ae7-f64e-42f8-9309-446235968477",
   "metadata": {},
   "outputs": [],
   "source": [
    "import pandas as pd\n",
    "import matplotlib.pyplot as plt"
   ]
  },
  {
   "cell_type": "code",
   "execution_count": 2,
   "id": "f46ad279-d71a-4249-9a89-693084c0a55f",
   "metadata": {},
   "outputs": [],
   "source": [
    "data_df = pd.read_csv('../../datasets/diabetes/diabetes.csv')"
   ]
  },
  {
   "cell_type": "code",
   "execution_count": 3,
   "id": "dbb65ceb-b968-4d52-b83f-55bac1a23307",
   "metadata": {},
   "outputs": [
    {
     "data": {
      "text/html": [
       "<div>\n",
       "<style scoped>\n",
       "    .dataframe tbody tr th:only-of-type {\n",
       "        vertical-align: middle;\n",
       "    }\n",
       "\n",
       "    .dataframe tbody tr th {\n",
       "        vertical-align: top;\n",
       "    }\n",
       "\n",
       "    .dataframe thead th {\n",
       "        text-align: right;\n",
       "    }\n",
       "</style>\n",
       "<table border=\"1\" class=\"dataframe\">\n",
       "  <thead>\n",
       "    <tr style=\"text-align: right;\">\n",
       "      <th></th>\n",
       "      <th>Pregnancies</th>\n",
       "      <th>Glucose</th>\n",
       "      <th>BloodPressure</th>\n",
       "      <th>SkinThickness</th>\n",
       "      <th>Insulin</th>\n",
       "      <th>BMI</th>\n",
       "      <th>DiabetesPedigreeFunction</th>\n",
       "      <th>Age</th>\n",
       "      <th>Outcome</th>\n",
       "    </tr>\n",
       "  </thead>\n",
       "  <tbody>\n",
       "    <tr>\n",
       "      <th>0</th>\n",
       "      <td>6</td>\n",
       "      <td>148</td>\n",
       "      <td>72</td>\n",
       "      <td>35</td>\n",
       "      <td>0</td>\n",
       "      <td>33.6</td>\n",
       "      <td>0.627</td>\n",
       "      <td>50</td>\n",
       "      <td>1</td>\n",
       "    </tr>\n",
       "    <tr>\n",
       "      <th>1</th>\n",
       "      <td>1</td>\n",
       "      <td>85</td>\n",
       "      <td>66</td>\n",
       "      <td>29</td>\n",
       "      <td>0</td>\n",
       "      <td>26.6</td>\n",
       "      <td>0.351</td>\n",
       "      <td>31</td>\n",
       "      <td>0</td>\n",
       "    </tr>\n",
       "    <tr>\n",
       "      <th>2</th>\n",
       "      <td>8</td>\n",
       "      <td>183</td>\n",
       "      <td>64</td>\n",
       "      <td>0</td>\n",
       "      <td>0</td>\n",
       "      <td>23.3</td>\n",
       "      <td>0.672</td>\n",
       "      <td>32</td>\n",
       "      <td>1</td>\n",
       "    </tr>\n",
       "    <tr>\n",
       "      <th>3</th>\n",
       "      <td>1</td>\n",
       "      <td>89</td>\n",
       "      <td>66</td>\n",
       "      <td>23</td>\n",
       "      <td>94</td>\n",
       "      <td>28.1</td>\n",
       "      <td>0.167</td>\n",
       "      <td>21</td>\n",
       "      <td>0</td>\n",
       "    </tr>\n",
       "    <tr>\n",
       "      <th>4</th>\n",
       "      <td>0</td>\n",
       "      <td>137</td>\n",
       "      <td>40</td>\n",
       "      <td>35</td>\n",
       "      <td>168</td>\n",
       "      <td>43.1</td>\n",
       "      <td>2.288</td>\n",
       "      <td>33</td>\n",
       "      <td>1</td>\n",
       "    </tr>\n",
       "  </tbody>\n",
       "</table>\n",
       "</div>"
      ],
      "text/plain": [
       "   Pregnancies  Glucose  BloodPressure  SkinThickness  Insulin   BMI  \\\n",
       "0            6      148             72             35        0  33.6   \n",
       "1            1       85             66             29        0  26.6   \n",
       "2            8      183             64              0        0  23.3   \n",
       "3            1       89             66             23       94  28.1   \n",
       "4            0      137             40             35      168  43.1   \n",
       "\n",
       "   DiabetesPedigreeFunction  Age  Outcome  \n",
       "0                     0.627   50        1  \n",
       "1                     0.351   31        0  \n",
       "2                     0.672   32        1  \n",
       "3                     0.167   21        0  \n",
       "4                     2.288   33        1  "
      ]
     },
     "execution_count": 3,
     "metadata": {},
     "output_type": "execute_result"
    }
   ],
   "source": [
    "data_df.head()"
   ]
  },
  {
   "cell_type": "code",
   "execution_count": 5,
   "id": "efafc63e-68fc-41d8-a2d1-56eec22dd257",
   "metadata": {},
   "outputs": [
    {
     "data": {
      "text/plain": [
       "<AxesSubplot:ylabel='Frequency'>"
      ]
     },
     "execution_count": 5,
     "metadata": {},
     "output_type": "execute_result"
    },
    {
     "data": {
      "image/png": "[encoded data removed]",
      "text/plain": [
       "<Figure size 640x480 with 1 Axes>"
      ]
     },
     "metadata": {},
     "output_type": "display_data"
    }
   ],
   "source": [
    "data_df.Glucose.plot.hist()"
   ]
  },
  {
   "cell_type": "markdown",
   "id": "bff9b062-2feb-41c2-b6df-62e85ace3297",
   "metadata": {
    "tags": []
   },
   "source": [
    "### Light minimal\n",
    "#### Load light theme, then execute next cell"
   ]
  },
  {
   "cell_type": "code",
   "execution_count": 8,
   "id": "3c0d7c1e-1330-4f4f-9539-a742ab96e2a9",
   "metadata": {},
   "outputs": [
    {
     "data": {
      "text/html": [
       "\n",
       "<style>\n",
       ":root {\n",
       "    /*\n",
       "    --jp-layout-color0: white;\n",
       "    --jp-layout-color1: white;\n",
       "    --jp-cell-editor-active-background: gray;\n",
       "    */\n",
       "    --jp-cell-editor-border-color: var(--jp-layout-color0);\n",
       "    --jp-cell-editor-background: white;\n",
       "}\n",
       "</style>\n"
      ],
      "text/plain": [
       "<IPython.core.display.HTML object>"
      ]
     },
     "metadata": {},
     "output_type": "display_data"
    }
   ],
   "source": [
    "%%html\n",
    "\n",
    "<style>\n",
    ":root {\n",
    "    /*\n",
    "    --jp-layout-color0: white;\n",
    "    --jp-layout-color1: white;\n",
    "    --jp-cell-editor-active-background: gray;\n",
    "    */\n",
    "    --jp-cell-editor-border-color: var(--jp-layout-color0);\n",
    "    --jp-cell-editor-background: var(--jp-layout-color0);\n",
    "}\n",
    "</style>"
   ]
  },
  {
   "cell_type": "markdown",
   "id": "caf4fa49-5c74-49c6-bdb6-487ad913bdb7",
   "metadata": {},
   "source": [
    "### Edward Tufte"
   ]
  },
  {
   "cell_type": "code",
   "execution_count": 27,
   "id": "a95c3e6a-7617-42fd-a423-0177d1e627d2",
   "metadata": {},
   "outputs": [
    {
     "data": {
      "text/html": [
       "\n",
       "<style>\n",
       "\n",
       ":root {\n",
       "    --jp-layout-color0: rgb(255, 255, 243);\n",
       "    --jp-layout-color1: rgb(255, 255, 243);\n",
       "    --jp-cell-editor-border-color: var(--jp-layout-color0);\n",
       "    --jp-cell-editor-background: var(--jp-layout-color0);\n",
       "    \n",
       "    --jp-content-font-family: 'Georgia';\n",
       "    --jp-content-font-color0: rgb(55,71,91);\n",
       "    --jp-content-font-color1: rgb(55,71,91);\n",
       "    \n",
       "    /*Table headings (?)*/\n",
       "      --jp-ui-font-color0: rgba(55,71,91, 1);\n",
       "      --jp-ui-font-color1: rgba(55,71,91, 0.87);\n",
       "      --jp-ui-font-color2: rgba(55,71,91, 0.54);\n",
       "      --jp-ui-font-color3: rgba(55,71,91, 0.38);\n",
       "}\n",
       "</style>\n",
       "Other matching colors:\n",
       "    <div style=\"background-color: rgb(199,100,86);\">#C76456</div>\n",
       "    <div style=\"background-color: rgb(240,154,88);\">#F09A58</div>\n",
       "    <div style=\"background-color: rgb(163,179,131);\">#A3B383</div>\n",
       "    <div style=\"background-color: rgb(105,143,101);\">#698F65</div>\n",
       " <p>\n",
       "    <div style=\"background-color: rgb(90,118,130);\">#5A7682</div>\n",
       "    <div style=\"background-color: rgb(45,58,74);\">#2D3A4A</div>\n",
       "    <div style=\"background-color: rgb(255,113,86);\">#FF7156</div>\n",
       "    <div style=\"background-color: rgb(55,71,91);\">#37475b</div>\n"
      ],
      "text/plain": [
       "<IPython.core.display.HTML object>"
      ]
     },
     "metadata": {},
     "output_type": "display_data"
    }
   ],
   "source": [
    "%%html\n",
    "\n",
    "<style>\n",
    "\n",
    ":root {\n",
    "    --jp-layout-color0: rgb(255, 255, 243);\n",
    "    --jp-layout-color1: rgb(255, 255, 243);\n",
    "    --jp-cell-editor-border-color: var(--jp-layout-color0);\n",
    "    --jp-cell-editor-background: var(--jp-layout-color0);\n",
    "    \n",
    "    --jp-content-font-family: 'Georgia';\n",
    "    --jp-content-font-color0: rgb(55,71,91);\n",
    "    --jp-content-font-color1: rgb(55,71,91);\n",
    "    \n",
    "    /*Table headings (?)*/\n",
    "      --jp-ui-font-color0: rgba(55,71,91, 1);\n",
    "      --jp-ui-font-color1: rgba(55,71,91, 0.87);\n",
    "      --jp-ui-font-color2: rgba(55,71,91, 0.54);\n",
    "      --jp-ui-font-color3: rgba(55,71,91, 0.38);\n",
    "}\n",
    "</style>\n",
    "Other matching colors:\n",
    "    <div style=\"background-color: rgb(199,100,86);\">#C76456</div>\n",
    "    <div style=\"background-color: rgb(240,154,88);\">#F09A58</div>\n",
    "    <div style=\"background-color: rgb(163,179,131);\">#A3B383</div>\n",
    "    <div style=\"background-color: rgb(105,143,101);\">#698F65</div>\n",
    " <p>\n",
    "    <div style=\"background-color: rgb(90,118,130);\">#5A7682</div>\n",
    "    <div style=\"background-color: rgb(45,58,74);\">#2D3A4A</div>\n",
    "    <div style=\"background-color: rgb(255,113,86);\">#FF7156</div>\n",
    "    <div style=\"background-color: rgb(55,71,91);\">#37475b</div>"
   ]
  },
  {
   "cell_type": "code",
   "execution_count": null,
   "id": "d89938af-d371-47b0-9c74-338f53b8833e",
   "metadata": {},
   "outputs": [],
   "source": []
  }
 ],
 "metadata": {
  "kernelspec": {
   "display_name": "Python 3 (ipykernel)",
   "language": "python",
   "name": "python3"
  },
  "language_info": {
   "codemirror_mode": {
    "name": "ipython",
    "version": 3
   },
   "file_extension": ".py",
   "mimetype": "text/x-python",
   "name": "python",
   "nbconvert_exporter": "python",
   "pygments_lexer": "ipython3",
   "version": "3.12.7"
  }
 },
 "nbformat": 4,
 "nbformat_minor": 5
}
