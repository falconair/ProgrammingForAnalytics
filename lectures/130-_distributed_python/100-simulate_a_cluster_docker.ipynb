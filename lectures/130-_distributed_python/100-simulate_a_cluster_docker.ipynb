{
 "cells": [
  {
   "cell_type": "markdown",
   "id": "39d3eec6-222d-4b90-b02b-a808feeb4428",
   "metadata": {},
   "source": [
    "# Simulate a cluster\n",
    "By its nature, testing and experimenting with distributed software requires multiple machines. Luckily, we are living in the age of virtual machines and containers - we can simulate as many machines we like by using various vm/container technologies. Let's try docker"
   ]
  },
  {
   "cell_type": "markdown",
   "id": "e4f71c93-a7b7-4bc7-8ec8-dcd7adc30097",
   "metadata": {},
   "source": [
    "### Docker\n",
    "In this section, we will use Docker to simulatre a cluster. Please note that this is not a Docker tutorial, which is why we will avoid using `docker compose`, `docker swarm` or even `Dockerfile`. We are pretending that these are full-fledged machines and a specific vm/container technology. \n",
    "\n",
    "First, let's make sure we have docker installed. If not, please install Docker Desktop: https://www.docker.com/products/docker-desktop/"
   ]
  },
  {
   "cell_type": "code",
   "execution_count": 3,
   "id": "f2ef4765-6209-4eb4-a477-3d3b87408038",
   "metadata": {},
   "outputs": [
    {
     "name": "stdout",
     "output_type": "stream",
     "text": [
      "Docker version 27.5.1, build 9f9e405\n"
     ]
    }
   ],
   "source": [
    "!docker --version"
   ]
  },
  {
   "cell_type": "markdown",
   "id": "35893f39-f78e-41ce-9ab9-a2622c929937",
   "metadata": {},
   "source": [
    "#### Pull an image"
   ]
  },
  {
   "cell_type": "markdown",
   "id": "2784073c-0d4c-4dc8-8c15-97d7a8546dbb",
   "metadata": {},
   "source": [
    "We will set up a cluster of 5 machines. Le's use the official Python docker image: https://hub.docker.com/_/python\n",
    "(may take around 5 minutes)"
   ]
  },
  {
   "cell_type": "code",
   "execution_count": 6,
   "id": "b01fd60f-8a9c-40bf-99b3-dd08c407bd6a",
   "metadata": {},
   "outputs": [
    {
     "name": "stdout",
     "output_type": "stream",
     "text": [
      "Using default tag: latest\n",
      "latest: Pulling from continuumio/miniconda3\n",
      "Digest: sha256:0c1494093f919a36ba4cf543abf5e2e426deb3e8aa61c9d4074bcc267d264fe5\n",
      "Status: Image is up to date for continuumio/miniconda3:latest\n",
      "docker.io/continuumio/miniconda3:latest\n",
      "CPU times: total: 46.9 ms\n",
      "Wall time: 1.31 s\n"
     ]
    }
   ],
   "source": [
    "%%time\n",
    "!docker pull continuumio/miniconda3"
   ]
  },
  {
   "cell_type": "markdown",
   "id": "575b6d6e-62ed-45db-b3b2-e37910eee06c",
   "metadata": {},
   "source": [
    "#### Set up a network"
   ]
  },
  {
   "cell_type": "markdown",
   "id": "1f8084b1-0add-481a-93d7-9886dd3d2548",
   "metadata": {},
   "source": [
    "This will allow our \"machines\" to talk to each other"
   ]
  },
  {
   "cell_type": "code",
   "execution_count": 91,
   "id": "8e71ffc3-84fd-430e-8266-fa4d182df1e5",
   "metadata": {},
   "outputs": [
    {
     "name": "stderr",
     "output_type": "stream",
     "text": [
      "Error response from daemon: network with name simulated-cluster already exists\n"
     ]
    }
   ],
   "source": [
    "!docker network create simulated-cluster"
   ]
  },
  {
   "cell_type": "markdown",
   "id": "eb2235e5-e35b-4023-b759-ca30469fa642",
   "metadata": {},
   "source": [
    "#### Start a machine which belongs to our simulated cluster"
   ]
  },
  {
   "cell_type": "markdown",
   "id": "eb5851a3-2433-4ac9-ab24-3ae953821b36",
   "metadata": {
    "scrolled": true
   },
   "source": [
    "Note that you can get help for docker flags via `!docker run --help`\n",
    "\n",
    "Here are the flags we are using below:\n",
    "- `run` This will run an instance of the image we downloaded earlier. Think of the image download as the CD which contains the operating sysstem and `docker run` as us setting up a physical machine to run the operating system\n",
    "- `-d` This will run the image in the background, so it doesn't take over JupyterHUB (similar to `python ./app.py &`)\n",
    "- `-i` This will run the image in an interactive manner - so we can connect to it\n",
    "- `-t` This will run the image via the terminal\n",
    "- `--rm` remove the image once we are done with it"
   ]
  },
  {
   "cell_type": "code",
   "execution_count": 12,
   "id": "06cb51b5-95fc-44cf-8143-2522c0f43bcb",
   "metadata": {},
   "outputs": [
    {
     "name": "stdout",
     "output_type": "stream",
     "text": [
      "319d09007e3f522ffe4a6790f73cb55d76b8ad796122877eac4527800824f6c2\n"
     ]
    }
   ],
   "source": [
    "!docker run -dit --rm --network simulated-cluster --name node1 continuumio/miniconda3"
   ]
  },
  {
   "cell_type": "markdown",
   "id": "3d2c2bea-ead8-45b2-a536-54fa16964f0a",
   "metadata": {},
   "source": [
    "Once a container is running, you can \"ssh\" into it via the exec command. This will not work from Jupyter, you should do it from the command line (terminal)\n",
    "\n",
    "`docker exec -it node1 bash`"
   ]
  },
  {
   "cell_type": "markdown",
   "id": "2bba122d-e84f-43fc-84ad-b175b695c6f5",
   "metadata": {},
   "source": [
    "Check docker"
   ]
  },
  {
   "cell_type": "code",
   "execution_count": 15,
   "id": "31f4fa5b-30cc-4604-8de5-ed0f8516185e",
   "metadata": {},
   "outputs": [
    {
     "name": "stdout",
     "output_type": "stream",
     "text": [
      "CONTAINER ID   IMAGE                    COMMAND       CREATED        STATUS                  PORTS     NAMES\n",
      "319d09007e3f   continuumio/miniconda3   \"/bin/bash\"   1 second ago   Up Less than a second             node1\n"
     ]
    }
   ],
   "source": [
    "!docker ps"
   ]
  },
  {
   "cell_type": "markdown",
   "id": "2c94c670-9872-4d16-b3a5-45603386c6cb",
   "metadata": {},
   "source": [
    "Run a few more machines"
   ]
  },
  {
   "cell_type": "code",
   "execution_count": 17,
   "id": "40cdcefc-6df1-4847-b798-7b4754a38b5f",
   "metadata": {},
   "outputs": [
    {
     "name": "stdout",
     "output_type": "stream",
     "text": [
      "d6040cf9bf45fea9087f65c4884d4cebacde771505e20eb09b969edf0fde41d3\n",
      "f8b796d0bf269354d3b52c0ec95b3b46745614960f4566d4578045dce1002da7\n"
     ]
    }
   ],
   "source": [
    "!docker run -dit --rm --network simulated-cluster --name node2 continuumio/miniconda3\n",
    "!docker run -dit --rm --network simulated-cluster --name node3 continuumio/miniconda3"
   ]
  },
  {
   "cell_type": "code",
   "execution_count": 18,
   "id": "1f8a1129-6c63-4c62-9d60-8381b041be71",
   "metadata": {},
   "outputs": [
    {
     "name": "stdout",
     "output_type": "stream",
     "text": [
      "CONTAINER ID   IMAGE                    COMMAND       CREATED         STATUS                  PORTS     NAMES\n",
      "f8b796d0bf26   continuumio/miniconda3   \"/bin/bash\"   1 second ago    Up Less than a second             node3\n",
      "d6040cf9bf45   continuumio/miniconda3   \"/bin/bash\"   2 seconds ago   Up 1 second                       node2\n",
      "319d09007e3f   continuumio/miniconda3   \"/bin/bash\"   3 seconds ago   Up 3 seconds                      node1\n"
     ]
    }
   ],
   "source": [
    "!docker ps"
   ]
  },
  {
   "cell_type": "markdown",
   "id": "fa2449a7-6bde-4357-8f8f-368decbfd3e0",
   "metadata": {},
   "source": [
    "#### Install required software in those machines\n",
    "Notice that these machines don't even have the ping command installed. Let's install it to confirm these machines can talk to each other"
   ]
  },
  {
   "cell_type": "code",
   "execution_count": 20,
   "id": "418fdbf5-f2b7-40dc-8ca3-d38119a45625",
   "metadata": {},
   "outputs": [
    {
     "name": "stdout",
     "output_type": "stream",
     "text": [
      "OCI runtime exec failed: exec failed: unable to start container process: exec: \"ping\": executable file not found in $PATH: unknown\n"
     ]
    }
   ],
   "source": [
    "!docker exec node1 ping -c 3cnn.com"
   ]
  },
  {
   "cell_type": "markdown",
   "id": "f92c9793-6855-49c2-a175-e058cd88bfdf",
   "metadata": {},
   "source": [
    "Even `ping` is not installed??"
   ]
  },
  {
   "cell_type": "code",
   "execution_count": 47,
   "id": "1ad0986c-6c68-49d5-9e1a-fb6b16057c17",
   "metadata": {
    "scrolled": true
   },
   "outputs": [
    {
     "name": "stdout",
     "output_type": "stream",
     "text": [
      "Hit:1 http://deb.debian.org/debian bookworm InRelease\n",
      "Hit:2 http://deb.debian.org/debian bookworm-updates InRelease\n",
      "Hit:3 http://deb.debian.org/debian-security bookworm-security InRelease\n",
      "Reading package lists...\n",
      "Reading package lists...\n",
      "Building dependency tree...\n",
      "Reading state information...\n",
      "The following additional packages will be installed:\n",
      "  libatm1 libbpf1 libcap2-bin libelf1 libmnl0 libpam-cap libxtables12\n",
      "Suggested packages:\n",
      "  iproute2-doc\n",
      "The following NEW packages will be installed:\n",
      "  iproute2 iputils-ping libatm1 libbpf1 libcap2-bin libelf1 libmnl0 libpam-cap\n",
      "  libxtables12\n",
      "0 upgraded, 9 newly installed, 0 to remove and 3 not upgraded.\n",
      "Need to get 1573 kB of archives.\n",
      "After this operation, 5627 kB of additional disk space will be used.\n",
      "Get:1 http://deb.debian.org/debian bookworm/main amd64 libelf1 amd64 0.188-2.1 [174 kB]\n",
      "Get:2 http://deb.debian.org/debian bookworm/main amd64 libbpf1 amd64 1:1.1.0-1 [145 kB]\n",
      "Get:3 http://deb.debian.org/debian bookworm/main amd64 libmnl0 amd64 1.0.4-3 [12.5 kB]\n",
      "Get:4 http://deb.debian.org/debian bookworm/main amd64 libxtables12 amd64 1.8.9-2 [30.8 kB]\n",
      "Get:5 http://deb.debian.org/debian bookworm/main amd64 libcap2-bin amd64 1:2.66-4 [34.7 kB]\n",
      "Get:6 http://deb.debian.org/debian bookworm/main amd64 iproute2 amd64 6.1.0-3 [1046 kB]\n",
      "Get:7 http://deb.debian.org/debian bookworm/main amd64 iputils-ping amd64 3:20221126-1+deb12u1 [47.2 kB]\n",
      "Get:8 http://deb.debian.org/debian bookworm/main amd64 libatm1 amd64 1:2.5.1-4+b2 [68.3 kB]\n",
      "Get:9 http://deb.debian.org/debian bookworm/main amd64 libpam-cap amd64 1:2.66-4 [14.5 kB]\n",
      "Fetched 1573 kB in 1s (1190 kB/s)\n",
      "Selecting previously unselected package libelf1:amd64.\n",
      "(Reading database ... \n",
      "(Reading database ... 5%\n",
      "(Reading database ... 10%\n",
      "(Reading database ... 15%\n",
      "(Reading database ... 20%\n",
      "(Reading database ... 25%\n",
      "(Reading database ... 30%\n",
      "(Reading database ... 35%\n",
      "(Reading database ... 40%\n",
      "(Reading database ... 45%\n",
      "(Reading database ... 50%\n",
      "(Reading database ... 55%\n",
      "(Reading database ... 60%\n",
      "(Reading database ... 65%\n",
      "(Reading database ... 70%\n",
      "(Reading database ... 75%\n",
      "(Reading database ... 80%\n",
      "(Reading database ... 85%\n",
      "(Reading database ... 90%\n",
      "(Reading database ... 95%\n",
      "(Reading database ... 100%\n",
      "(Reading database ... 12332 files and directories currently installed.)\n",
      "Preparing to unpack .../0-libelf1_0.188-2.1_amd64.deb ...\n",
      "Unpacking libelf1:amd64 (0.188-2.1) ...\n",
      "Selecting previously unselected package libbpf1:amd64.\n",
      "Preparing to unpack .../1-libbpf1_1%3a1.1.0-1_amd64.deb ...\n",
      "Unpacking libbpf1:amd64 (1:1.1.0-1) ...\n",
      "Selecting previously unselected package libmnl0:amd64.\n",
      "Preparing to unpack .../2-libmnl0_1.0.4-3_amd64.deb ...\n",
      "Unpacking libmnl0:amd64 (1.0.4-3) ...\n",
      "Selecting previously unselected package libxtables12:amd64.\n",
      "Preparing to unpack .../3-libxtables12_1.8.9-2_amd64.deb ...\n",
      "Unpacking libxtables12:amd64 (1.8.9-2) ...\n",
      "Selecting previously unselected package libcap2-bin.\n",
      "Preparing to unpack .../4-libcap2-bin_1%3a2.66-4_amd64.deb ...\n",
      "Unpacking libcap2-bin (1:2.66-4) ...\n",
      "Selecting previously unselected package iproute2.\n",
      "Preparing to unpack .../5-iproute2_6.1.0-3_amd64.deb ...\n",
      "Unpacking iproute2 (6.1.0-3) ...\n",
      "Selecting previously unselected package iputils-ping.\n",
      "Preparing to unpack .../6-iputils-ping_3%3a20221126-1+deb12u1_amd64.deb ...\n",
      "Unpacking iputils-ping (3:20221126-1+deb12u1) ...\n",
      "Selecting previously unselected package libatm1:amd64.\n",
      "Preparing to unpack .../7-libatm1_1%3a2.5.1-4+b2_amd64.deb ...\n",
      "Unpacking libatm1:amd64 (1:2.5.1-4+b2) ...\n",
      "Selecting previously unselected package libpam-cap:amd64.\n",
      "Preparing to unpack .../8-libpam-cap_1%3a2.66-4_amd64.deb ...\n",
      "Unpacking libpam-cap:amd64 (1:2.66-4) ...\n",
      "Setting up libatm1:amd64 (1:2.5.1-4+b2) ...\n",
      "Setting up libcap2-bin (1:2.66-4) ...\n",
      "Setting up libmnl0:amd64 (1.0.4-3) ...\n",
      "Setting up libxtables12:amd64 (1.8.9-2) ...\n",
      "Setting up libelf1:amd64 (0.188-2.1) ...\n",
      "Setting up libpam-cap:amd64 (1:2.66-4) ...\n",
      "debconf: unable to initialize frontend: Dialog\n",
      "debconf: (TERM is not set, so the dialog frontend is not usable.)\n",
      "debconf: falling back to frontend: Readline\n",
      "debconf: unable to initialize frontend: Readline\n",
      "debconf: (This frontend requires a controlling tty.)\n",
      "debconf: falling back to frontend: Teletype\n",
      "Setting up iputils-ping (3:20221126-1+deb12u1) ...\n",
      "Setting up libbpf1:amd64 (1:1.1.0-1) ...\n",
      "Setting up iproute2 (6.1.0-3) ...\n",
      "debconf: unable to initialize frontend: Dialog\n",
      "debconf: (TERM is not set, so the dialog frontend is not usable.)\n",
      "debconf: falling back to frontend: Readline\n",
      "debconf: unable to initialize frontend: Readline\n",
      "debconf: (This frontend requires a controlling tty.)\n",
      "debconf: falling back to frontend: Teletype\n",
      "Processing triggers for libc-bin (2.36-9+deb12u9) ...\n"
     ]
    },
    {
     "name": "stderr",
     "output_type": "stream",
     "text": [
      "debconf: delaying package configuration, since apt-utils is not installed\n"
     ]
    }
   ],
   "source": [
    "!docker exec node1 apt-get update \n",
    "!docker exec node1 apt-get install -y iputils-ping iproute2"
   ]
  },
  {
   "cell_type": "code",
   "execution_count": 49,
   "id": "619c298b-5c99-44b3-914d-3d2907f7b95d",
   "metadata": {},
   "outputs": [
    {
     "name": "stdout",
     "output_type": "stream",
     "text": [
      "PING cnn.com (151.101.195.5) 56(84) bytes of data.\n",
      "64 bytes from 151.101.195.5 (151.101.195.5): icmp_seq=1 ttl=63 time=80.0 ms\n",
      "64 bytes from 151.101.195.5 (151.101.195.5): icmp_seq=2 ttl=63 time=29.4 ms\n",
      "64 bytes from 151.101.195.5 (151.101.195.5): icmp_seq=3 ttl=63 time=33.1 ms\n",
      "\n",
      "--- cnn.com ping statistics ---\n",
      "3 packets transmitted, 3 received, 0% packet loss, time 2003ms\n",
      "rtt min/avg/max/mdev = 29.443/47.499/79.975/23.011 ms\n"
     ]
    }
   ],
   "source": [
    "!docker exec node1 ping -c 3 cnn.com"
   ]
  },
  {
   "cell_type": "markdown",
   "id": "5826ff21-fdf2-409f-8cb0-498fa35856d7",
   "metadata": {},
   "source": [
    "### Can these machines see each other?"
   ]
  },
  {
   "cell_type": "code",
   "execution_count": 52,
   "id": "af799c6c-5e91-4522-bfe0-b71b2702652a",
   "metadata": {},
   "outputs": [
    {
     "name": "stdout",
     "output_type": "stream",
     "text": [
      "d6040cf9bf45\n"
     ]
    }
   ],
   "source": [
    "!docker exec node2 hostname"
   ]
  },
  {
   "cell_type": "code",
   "execution_count": 54,
   "id": "6e50ddb1-6fc8-4080-b285-bf0f804f10d3",
   "metadata": {},
   "outputs": [
    {
     "name": "stdout",
     "output_type": "stream",
     "text": [
      "PING d6040cf9bf45 (172.18.0.3) 56(84) bytes of data.\n",
      "64 bytes from node2.simulated-cluster (172.18.0.3): icmp_seq=1 ttl=64 time=0.285 ms\n",
      "64 bytes from node2.simulated-cluster (172.18.0.3): icmp_seq=2 ttl=64 time=0.177 ms\n",
      "64 bytes from node2.simulated-cluster (172.18.0.3): icmp_seq=3 ttl=64 time=0.076 ms\n",
      "\n",
      "--- d6040cf9bf45 ping statistics ---\n",
      "3 packets transmitted, 3 received, 0% packet loss, time 2042ms\n",
      "rtt min/avg/max/mdev = 0.076/0.179/0.285/0.085 ms\n"
     ]
    }
   ],
   "source": [
    "!docker exec node1 ping -c 3 d6040cf9bf45"
   ]
  },
  {
   "cell_type": "markdown",
   "id": "456ec693-9203-4d12-ba4d-e5e25b6be75b",
   "metadata": {},
   "source": [
    "Nice!"
   ]
  },
  {
   "cell_type": "markdown",
   "id": "2d905ce7-43a5-4cda-8731-e7bb65096fdf",
   "metadata": {},
   "source": [
    "### A drive can be shared among containers to avoid donwloading and installing packages multiple times"
   ]
  },
  {
   "cell_type": "markdown",
   "id": "eef436d4-6169-4243-8e47-698f99ab8642",
   "metadata": {},
   "source": [
    "Notice that if we need to install the same package in each container, those containers will pull packages off the web again and again and again!\n",
    "We can solve this by creating a shared volume"
   ]
  },
  {
   "cell_type": "markdown",
   "id": "04469957-4340-4cf8-8ec8-45e425b286d0",
   "metadata": {},
   "source": [
    "#### Shared `apt` volume"
   ]
  },
  {
   "cell_type": "code",
   "execution_count": 93,
   "id": "0f06239c-00e3-4581-8f84-5f1ad7ab5f4c",
   "metadata": {},
   "outputs": [
    {
     "name": "stdout",
     "output_type": "stream",
     "text": [
      "apt-cache\n",
      "31af0861fb32b5898858e19671b462b7c36258efbe5b8e8bd539b6a84b783950\n",
      "25e966b402685541e809e3ff9d78a770714a4a274c56dbfdfe8ce1f611ae9648\n",
      "883c97ee721d6917de3a2750cdc15f6338793dde0d0506322804a74328bf9354\n"
     ]
    }
   ],
   "source": [
    "!docker volume create apt-cache\n",
    "\n",
    "!docker run -dit --rm --name apt-container-1 --network simulated-cluster -v apt-cache:/var/cache/apt/archives continuumio/miniconda3\n",
    "!docker run -dit --rm --name apt-container-2 --network simulated-cluster -v apt-cache:/var/cache/apt/archives continuumio/miniconda3\n",
    "!docker run -dit --rm --name apt-container-3 --network simulated-cluster -v apt-cache:/var/cache/apt/archives continuumio/miniconda3"
   ]
  },
  {
   "cell_type": "markdown",
   "id": "d66aa4bb-2f38-49ea-b744-1468ffe2bc7f",
   "metadata": {},
   "source": [
    "Now let's see how long it takes to install a package"
   ]
  },
  {
   "cell_type": "code",
   "execution_count": 97,
   "id": "70e02ba2-fb81-40bc-a0c6-a52ee8136538",
   "metadata": {
    "scrolled": true
   },
   "outputs": [
    {
     "name": "stdout",
     "output_type": "stream",
     "text": [
      "Hit:1 http://deb.debian.org/debian bookworm InRelease\n",
      "Hit:2 http://deb.debian.org/debian bookworm-updates InRelease\n",
      "Hit:3 http://deb.debian.org/debian-security bookworm-security InRelease\n",
      "Reading package lists...\n",
      "Building dependency tree...\n",
      "Reading state information...\n",
      "3 packages can be upgraded. Run 'apt list --upgradable' to see them.\n",
      "Reading package lists...\n",
      "Building dependency tree...\n",
      "Reading state information...\n",
      "The following additional packages will be installed:\n",
      "  libatm1 libbpf1 libcap2-bin libelf1 libmnl0 libpam-cap libxtables12\n",
      "Suggested packages:\n",
      "  iproute2-doc\n",
      "The following NEW packages will be installed:\n",
      "  iproute2 iputils-ping libatm1 libbpf1 libcap2-bin libelf1 libmnl0 libpam-cap\n",
      "  libxtables12\n",
      "0 upgraded, 9 newly installed, 0 to remove and 3 not upgraded.\n",
      "Need to get 1573 kB of archives.\n",
      "After this operation, 5627 kB of additional disk space will be used.\n",
      "Get:1 http://deb.debian.org/debian bookworm/main amd64 libelf1 amd64 0.188-2.1 [174 kB]\n",
      "Get:2 http://deb.debian.org/debian bookworm/main amd64 libbpf1 amd64 1:1.1.0-1 [145 kB]\n",
      "Get:3 http://deb.debian.org/debian bookworm/main amd64 libmnl0 amd64 1.0.4-3 [12.5 kB]\n",
      "Get:4 http://deb.debian.org/debian bookworm/main amd64 libxtables12 amd64 1.8.9-2 [30.8 kB]\n",
      "Get:5 http://deb.debian.org/debian bookworm/main amd64 libcap2-bin amd64 1:2.66-4 [34.7 kB]\n",
      "Get:6 http://deb.debian.org/debian bookworm/main amd64 iproute2 amd64 6.1.0-3 [1046 kB]\n",
      "Get:7 http://deb.debian.org/debian bookworm/main amd64 iputils-ping amd64 3:20221126-1+deb12u1 [47.2 kB]\n",
      "Get:8 http://deb.debian.org/debian bookworm/main amd64 libatm1 amd64 1:2.5.1-4+b2 [68.3 kB]\n",
      "Get:9 http://deb.debian.org/debian bookworm/main amd64 libpam-cap amd64 1:2.66-4 [14.5 kB]\n",
      "Fetched 1573 kB in 1s (1466 kB/s)\n",
      "Selecting previously unselected package libelf1:amd64.\n",
      "(Reading database ... \n",
      "(Reading database ... 5%\n",
      "(Reading database ... 10%\n",
      "(Reading database ... 15%\n",
      "(Reading database ... 20%\n",
      "(Reading database ... 25%\n",
      "(Reading database ... 30%\n",
      "(Reading database ... 35%\n",
      "(Reading database ... 40%\n",
      "(Reading database ... 45%\n",
      "(Reading database ... 50%\n",
      "(Reading database ... 55%\n",
      "(Reading database ... 60%\n",
      "(Reading database ... 65%\n",
      "(Reading database ... 70%\n",
      "(Reading database ... 75%\n",
      "(Reading database ... 80%\n",
      "(Reading database ... 85%\n",
      "(Reading database ... 90%\n",
      "(Reading database ... 95%\n",
      "(Reading database ... 100%\n",
      "(Reading database ... 12332 files and directories currently installed.)\n",
      "Preparing to unpack .../0-libelf1_0.188-2.1_amd64.deb ...\n",
      "Unpacking libelf1:amd64 (0.188-2.1) ...\n",
      "Selecting previously unselected package libbpf1:amd64.\n",
      "Preparing to unpack .../1-libbpf1_1%3a1.1.0-1_amd64.deb ...\n",
      "Unpacking libbpf1:amd64 (1:1.1.0-1) ...\n",
      "Selecting previously unselected package libmnl0:amd64.\n",
      "Preparing to unpack .../2-libmnl0_1.0.4-3_amd64.deb ...\n",
      "Unpacking libmnl0:amd64 (1.0.4-3) ...\n",
      "Selecting previously unselected package libxtables12:amd64.\n",
      "Preparing to unpack .../3-libxtables12_1.8.9-2_amd64.deb ...\n",
      "Unpacking libxtables12:amd64 (1.8.9-2) ...\n",
      "Selecting previously unselected package libcap2-bin.\n",
      "Preparing to unpack .../4-libcap2-bin_1%3a2.66-4_amd64.deb ...\n",
      "Unpacking libcap2-bin (1:2.66-4) ...\n",
      "Selecting previously unselected package iproute2.\n",
      "Preparing to unpack .../5-iproute2_6.1.0-3_amd64.deb ...\n",
      "Unpacking iproute2 (6.1.0-3) ...\n",
      "Selecting previously unselected package iputils-ping.\n",
      "Preparing to unpack .../6-iputils-ping_3%3a20221126-1+deb12u1_amd64.deb ...\n",
      "Unpacking iputils-ping (3:20221126-1+deb12u1) ...\n",
      "Selecting previously unselected package libatm1:amd64.\n",
      "Preparing to unpack .../7-libatm1_1%3a2.5.1-4+b2_amd64.deb ...\n",
      "Unpacking libatm1:amd64 (1:2.5.1-4+b2) ...\n",
      "Selecting previously unselected package libpam-cap:amd64.\n",
      "Preparing to unpack .../8-libpam-cap_1%3a2.66-4_amd64.deb ...\n",
      "Unpacking libpam-cap:amd64 (1:2.66-4) ...\n",
      "Setting up libatm1:amd64 (1:2.5.1-4+b2) ...\n",
      "Setting up libcap2-bin (1:2.66-4) ...\n",
      "Setting up libmnl0:amd64 (1.0.4-3) ...\n",
      "Setting up libxtables12:amd64 (1.8.9-2) ...\n",
      "Setting up libelf1:amd64 (0.188-2.1) ...\n",
      "Setting up libpam-cap:amd64 (1:2.66-4) ...\n",
      "debconf: unable to initialize frontend: Dialog\n",
      "debconf: (TERM is not set, so the dialog frontend is not usable.)\n",
      "debconf: falling back to frontend: Readline\n",
      "debconf: unable to initialize frontend: Readline\n",
      "debconf: (This frontend requires a controlling tty.)\n",
      "debconf: falling back to frontend: Teletype\n",
      "Setting up iputils-ping (3:20221126-1+deb12u1) ...\n",
      "Setting up libbpf1:amd64 (1:1.1.0-1) ...\n",
      "Setting up iproute2 (6.1.0-3) ...\n",
      "debconf: unable to initialize frontend: Dialog\n",
      "debconf: (TERM is not set, so the dialog frontend is not usable.)\n",
      "debconf: falling back to frontend: Readline\n",
      "debconf: unable to initialize frontend: Readline\n",
      "debconf: (This frontend requires a controlling tty.)\n",
      "debconf: falling back to frontend: Teletype\n",
      "Processing triggers for libc-bin (2.36-9+deb12u9) ...\n",
      "CPU times: total: 31.2 ms\n",
      "Wall time: 5.48 s\n"
     ]
    },
    {
     "name": "stderr",
     "output_type": "stream",
     "text": [
      "\n",
      "WARNING: apt does not have a stable CLI interface. Use with caution in scripts.\n",
      "\n",
      "debconf: delaying package configuration, since apt-utils is not installed\n"
     ]
    }
   ],
   "source": [
    "%%time\n",
    "!docker exec apt-container-1 sh -c \"apt update && apt-get install -y iputils-ping iproute2\""
   ]
  },
  {
   "cell_type": "code",
   "execution_count": 99,
   "id": "700edbbf-a35c-4428-aae7-2707ea90caa3",
   "metadata": {
    "scrolled": true
   },
   "outputs": [
    {
     "name": "stdout",
     "output_type": "stream",
     "text": [
      "Get:1 http://deb.debian.org/debian bookworm InRelease [151 kB]CPU times: total: 78.1 ms\n",
      "Wall time: 11.6 s\n",
      "\n",
      "Get:2 http://deb.debian.org/debian bookworm-updates InRelease [55.4 kB]\n",
      "Get:3 http://deb.debian.org/debian-security bookworm-security InRelease [48.0 kB]\n",
      "Get:4 http://deb.debian.org/debian bookworm/main amd64 Packages [8792 kB]\n",
      "Get:5 http://deb.debian.org/debian bookworm-updates/main amd64 Packages [13.5 kB]\n",
      "Get:6 http://deb.debian.org/debian-security bookworm-security/main amd64 Packages [246 kB]\n",
      "Fetched 9306 kB in 7s (1353 kB/s)\n",
      "Reading package lists...\n",
      "Building dependency tree...\n",
      "Reading state information...\n",
      "3 packages can be upgraded. Run 'apt list --upgradable' to see them.\n",
      "Reading package lists...\n",
      "Building dependency tree...\n",
      "Reading state information...\n",
      "The following additional packages will be installed:\n",
      "  libatm1 libbpf1 libcap2-bin libelf1 libmnl0 libpam-cap libxtables12\n",
      "Suggested packages:\n",
      "  iproute2-doc\n",
      "The following NEW packages will be installed:\n",
      "  iproute2 iputils-ping libatm1 libbpf1 libcap2-bin libelf1 libmnl0 libpam-cap\n",
      "  libxtables12\n",
      "0 upgraded, 9 newly installed, 0 to remove and 3 not upgraded.\n",
      "Need to get 1573 kB of archives.\n",
      "After this operation, 5627 kB of additional disk space will be used.\n",
      "Get:1 http://deb.debian.org/debian bookworm/main amd64 libelf1 amd64 0.188-2.1 [174 kB]\n",
      "Get:2 http://deb.debian.org/debian bookworm/main amd64 libbpf1 amd64 1:1.1.0-1 [145 kB]\n",
      "Get:3 http://deb.debian.org/debian bookworm/main amd64 libmnl0 amd64 1.0.4-3 [12.5 kB]\n",
      "Get:4 http://deb.debian.org/debian bookworm/main amd64 libxtables12 amd64 1.8.9-2 [30.8 kB]\n",
      "Get:5 http://deb.debian.org/debian bookworm/main amd64 libcap2-bin amd64 1:2.66-4 [34.7 kB]\n",
      "Get:6 http://deb.debian.org/debian bookworm/main amd64 iproute2 amd64 6.1.0-3 [1046 kB]\n",
      "Get:7 http://deb.debian.org/debian bookworm/main amd64 iputils-ping amd64 3:20221126-1+deb12u1 [47.2 kB]\n",
      "Get:8 http://deb.debian.org/debian bookworm/main amd64 libatm1 amd64 1:2.5.1-4+b2 [68.3 kB]\n",
      "Get:9 http://deb.debian.org/debian bookworm/main amd64 libpam-cap amd64 1:2.66-4 [14.5 kB]\n",
      "Fetched 1573 kB in 1s (1649 kB/s)\n",
      "Selecting previously unselected package libelf1:amd64.\n",
      "(Reading database ... \n",
      "(Reading database ... 5%\n",
      "(Reading database ... 10%\n",
      "(Reading database ... 15%\n",
      "(Reading database ... 20%\n",
      "(Reading database ... 25%\n",
      "(Reading database ... 30%\n",
      "(Reading database ... 35%\n",
      "(Reading database ... 40%\n",
      "(Reading database ... 45%\n",
      "(Reading database ... 50%\n",
      "(Reading database ... 55%\n",
      "(Reading database ... 60%\n",
      "(Reading database ... 65%\n",
      "(Reading database ... 70%\n",
      "(Reading database ... 75%\n",
      "(Reading database ... 80%\n",
      "(Reading database ... 85%\n",
      "(Reading database ... 90%\n",
      "(Reading database ... 95%\n",
      "(Reading database ... 100%\n",
      "(Reading database ... 12332 files and directories currently installed.)\n",
      "Preparing to unpack .../0-libelf1_0.188-2.1_amd64.deb ...\n",
      "Unpacking libelf1:amd64 (0.188-2.1) ...\n",
      "Selecting previously unselected package libbpf1:amd64.\n",
      "Preparing to unpack .../1-libbpf1_1%3a1.1.0-1_amd64.deb ...\n",
      "Unpacking libbpf1:amd64 (1:1.1.0-1) ...\n",
      "Selecting previously unselected package libmnl0:amd64.\n",
      "Preparing to unpack .../2-libmnl0_1.0.4-3_amd64.deb ...\n",
      "Unpacking libmnl0:amd64 (1.0.4-3) ...\n",
      "Selecting previously unselected package libxtables12:amd64.\n",
      "Preparing to unpack .../3-libxtables12_1.8.9-2_amd64.deb ...\n",
      "Unpacking libxtables12:amd64 (1.8.9-2) ...\n",
      "Selecting previously unselected package libcap2-bin.\n",
      "Preparing to unpack .../4-libcap2-bin_1%3a2.66-4_amd64.deb ...\n",
      "Unpacking libcap2-bin (1:2.66-4) ...\n",
      "Selecting previously unselected package iproute2.\n",
      "Preparing to unpack .../5-iproute2_6.1.0-3_amd64.deb ...\n",
      "Unpacking iproute2 (6.1.0-3) ...\n",
      "Selecting previously unselected package iputils-ping.\n",
      "Preparing to unpack .../6-iputils-ping_3%3a20221126-1+deb12u1_amd64.deb ...\n",
      "Unpacking iputils-ping (3:20221126-1+deb12u1) ...\n",
      "Selecting previously unselected package libatm1:amd64.\n",
      "Preparing to unpack .../7-libatm1_1%3a2.5.1-4+b2_amd64.deb ...\n",
      "Unpacking libatm1:amd64 (1:2.5.1-4+b2) ...\n",
      "Selecting previously unselected package libpam-cap:amd64.\n",
      "Preparing to unpack .../8-libpam-cap_1%3a2.66-4_amd64.deb ...\n",
      "Unpacking libpam-cap:amd64 (1:2.66-4) ...\n",
      "Setting up libatm1:amd64 (1:2.5.1-4+b2) ...\n",
      "Setting up libcap2-bin (1:2.66-4) ...\n",
      "Setting up libmnl0:amd64 (1.0.4-3) ...\n",
      "Setting up libxtables12:amd64 (1.8.9-2) ...\n",
      "Setting up libelf1:amd64 (0.188-2.1) ...\n",
      "Setting up libpam-cap:amd64 (1:2.66-4) ...\n",
      "debconf: unable to initialize frontend: Dialog\n",
      "debconf: (TERM is not set, so the dialog frontend is not usable.)\n",
      "debconf: falling back to frontend: Readline\n",
      "debconf: unable to initialize frontend: Readline\n",
      "debconf: (This frontend requires a controlling tty.)\n",
      "debconf: falling back to frontend: Teletype\n",
      "Setting up iputils-ping (3:20221126-1+deb12u1) ...\n",
      "Setting up libbpf1:amd64 (1:1.1.0-1) ...\n",
      "Setting up iproute2 (6.1.0-3) ...\n",
      "debconf: unable to initialize frontend: Dialog\n",
      "debconf: (TERM is not set, so the dialog frontend is not usable.)\n",
      "debconf: falling back to frontend: Readline\n",
      "debconf: unable to initialize frontend: Readline\n",
      "debconf: (This frontend requires a controlling tty.)\n",
      "debconf: falling back to frontend: Teletype\n",
      "Processing triggers for libc-bin (2.36-9+deb12u9) ...\n"
     ]
    },
    {
     "name": "stderr",
     "output_type": "stream",
     "text": [
      "\n",
      "WARNING: apt does not have a stable CLI interface. Use with caution in scripts.\n",
      "\n",
      "debconf: delaying package configuration, since apt-utils is not installed\n"
     ]
    }
   ],
   "source": [
    "%%time\n",
    "!docker exec apt-container-2 sh -c \"apt update && apt-get install -y iputils-ping iproute2\""
   ]
  },
  {
   "cell_type": "code",
   "execution_count": null,
   "id": "c49ea82a-5024-4be0-9a3a-48fa5cb66037",
   "metadata": {},
   "outputs": [],
   "source": []
  }
 ],
 "metadata": {
  "kernelspec": {
   "display_name": "Python [conda env:conda-mleng_env]",
   "language": "python",
   "name": "conda-env-conda-mleng_env-py"
  },
  "language_info": {
   "codemirror_mode": {
    "name": "ipython",
    "version": 3
   },
   "file_extension": ".py",
   "mimetype": "text/x-python",
   "name": "python",
   "nbconvert_exporter": "python",
   "pygments_lexer": "ipython3",
   "version": "3.11.11"
  }
 },
 "nbformat": 4,
 "nbformat_minor": 5
}
