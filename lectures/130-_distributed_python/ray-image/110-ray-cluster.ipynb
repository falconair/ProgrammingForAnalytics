{
 "cells": [
  {
   "cell_type": "markdown",
   "id": "5d775b5d-8fdf-449d-a4a7-5fcc913ceee0",
   "metadata": {},
   "source": [
    "# Ray cluster\n",
    "\n",
    "Ray is a framework for distributed computing in Python. It is growing in popularity.\n",
    "\n",
    "Please note that the Ray project provides its own docker image `rayproject/ray`, however, installing dependencies manually adds to the intuition."
   ]
  },
  {
   "cell_type": "markdown",
   "id": "09c1b8da-b60b-47c7-bddb-9b72f66e4e1c",
   "metadata": {},
   "source": [
    "#### Create a docker image which has all necessary software installed"
   ]
  },
  {
   "cell_type": "markdown",
   "id": "e80af6da-2c07-481b-a197-8de28c306152",
   "metadata": {},
   "source": [
    "```Dockerfile\n",
    "FROM continuumio/miniconda3\n",
    "RUN apt update && apt install -y iputils-ping iproute2\n",
    "RUN pip install \"ray[all]\"\n",
    "``"
   ]
  },
  {
   "cell_type": "code",
   "execution_count": null,
   "id": "65fab8cf-7037-40a2-90b5-90fb4085f157",
   "metadata": {
    "scrolled": true
   },
   "outputs": [],
   "source": [
    "%%time\n",
    "!docker build -t test-ray-image ."
   ]
  },
  {
   "cell_type": "markdown",
   "id": "4b7351c5-c559-4eec-b917-f02f57cc8594",
   "metadata": {},
   "source": [
    "#### Create a simulated network"
   ]
  },
  {
   "cell_type": "code",
   "execution_count": null,
   "id": "01db7b45-d492-48db-8994-0cf5acc69045",
   "metadata": {},
   "outputs": [],
   "source": [
    "!docker network rm simulated-cluster"
   ]
  },
  {
   "cell_type": "code",
   "execution_count": null,
   "id": "1384749d-d582-4296-861c-dc3c87c23b53",
   "metadata": {},
   "outputs": [],
   "source": [
    "!docker network create simulated-cluster"
   ]
  },
  {
   "cell_type": "markdown",
   "id": "c881e621-1c91-4cea-8334-ad196773d4f4",
   "metadata": {},
   "source": [
    "#### Start a docker container \n",
    "Scheduler at port 6379 and UI at port 8265"
   ]
  },
  {
   "cell_type": "code",
   "execution_count": null,
   "id": "526a50c3-9722-411e-b5f9-df21497acd2d",
   "metadata": {},
   "outputs": [],
   "source": [
    "!docker run \\\n",
    "    -dit \\\n",
    "    --network simulated-cluster \\\n",
    "    -p 6379:6379 -p 8265:8265 -p 10001:10001 -p 10002:10002 \\\n",
    "    --name ray-head \\\n",
    "test-ray-image \\\n",
    "    ray start --head --node-ip-address=0.0.0.0 --dashboard-host=0.0.0.0 --disable-usage-stats --block"
   ]
  },
  {
   "cell_type": "code",
   "execution_count": 1,
   "id": "2a69b3da-59ae-4ee8-99ea-6eae71e700bb",
   "metadata": {},
   "outputs": [
    {
     "name": "stdout",
     "output_type": "stream",
     "text": [
      "dff21f978052157439b5ac01738321542d31bb012a7d5a365b973536b04abfcf\n"
     ]
    }
   ],
   "source": [
    "!docker run \\\n",
    "    -dit \\\n",
    "    -p 6379:6379 -p 8265:8265 -p 10001:10001 -p 10002:10002 \\\n",
    "    --name ray-head \\\n",
    "test-ray-image \\\n",
    "    ray start --head --node-ip-address=0.0.0.0 --dashboard-host=0.0.0.0 --disable-usage-stats --block"
   ]
  },
  {
   "cell_type": "code",
   "execution_count": 3,
   "id": "dd1d8672-9f62-465e-b86c-5a2ac070bce4",
   "metadata": {},
   "outputs": [
    {
     "name": "stdout",
     "output_type": "stream",
     "text": [
      "Usage stats collection is disabled.\n",
      "\n",
      "\u001b[37mLocal node IP\u001b[39m: \u001b[1m0.0.0.0\u001b[22m\n",
      "2025-03-04 01:33:23,637\tWARNING services.py:2072 -- WARNING: The object store is using /tmp instead of /dev/shm because /dev/shm has only 67108864 bytes available. This will harm performance! You may be able to free up space by deleting files in /dev/shm. If you are inside a Docker container, you can increase /dev/shm size by passing '--shm-size=4.66gb' to 'docker run' (or add it to the run_options list in a Ray cluster config). Make sure to set this to more than 30% of available RAM.\n",
      "\n",
      "\u001b[32m--------------------\u001b[39m\n",
      "\u001b[32mRay runtime started.\u001b[39m\n",
      "\u001b[32m--------------------\u001b[39m\n",
      "\n",
      "\u001b[36mNext steps\u001b[39m\n",
      "  To add another node to this Ray cluster, run\n",
      "  \u001b[1m  ray start --address='0.0.0.0:6379'\u001b[22m\n",
      "  \n",
      "  To connect to this Ray cluster:\n",
      "    \u001b[35mimport\u001b[39m\u001b[26m ray\n",
      "    ray\u001b[35m.\u001b[39m\u001b[26minit(_node_ip_address\u001b[35m=\u001b[39m\u001b[26m\u001b[33m'0.0.0.0'\u001b[39m\u001b[26m)\n",
      "  \n",
      "  To submit a Ray job using the Ray Jobs CLI:\n",
      "  \u001b[1m  RAY_ADDRESS='http://0.0.0.0:8265' ray job submit --working-dir . -- python my_script.py\u001b[22m\n",
      "  \n",
      "  See https://docs.ray.io/en/latest/cluster/running-applications/job-submission/index.html \n",
      "  for more information on submitting Ray jobs to the Ray cluster.\n",
      "  \n",
      "  To terminate the Ray runtime, run\n",
      "  \u001b[1m  ray stop\u001b[22m\n",
      "  \n",
      "  To view the status of the cluster, use\n",
      "    \u001b[1mray status\u001b[22m\u001b[26m\n",
      "  \n",
      "  To monitor and debug Ray, view the dashboard at \n",
      "    \u001b[1m0.0.0.0:8265\u001b[22m\u001b[26m\n",
      "  \n",
      "  \u001b[4mIf connection to the dashboard fails, check your firewall settings and network configuration.\u001b[24m\n",
      "\n",
      "\u001b[36m\u001b[1m--block\u001b[22m\u001b[39m\n",
      "  This command will now block forever until terminated by a signal.\n",
      "  Running subprocesses are monitored and a message will be printed if any of them terminate unexpectedly. Subprocesses exit with SIGTERM will be treated as graceful, thus NOT reported.\n"
     ]
    }
   ],
   "source": [
    "!docker logs ray-head"
   ]
  },
  {
   "cell_type": "code",
   "execution_count": 5,
   "id": "4e113977-44f5-4678-a1c3-17b2f292eb15",
   "metadata": {},
   "outputs": [
    {
     "name": "stdout",
     "output_type": "stream",
     "text": [
      "    inet 127.0.0.1/8 scope host lo\n",
      "    inet6 ::1/128 scope host \n",
      "    inet 172.17.0.2/16 brd 172.17.255.255 scope global eth0\n"
     ]
    }
   ],
   "source": [
    "!docker exec ray-head bash -c \"ip addr|grep inet\""
   ]
  },
  {
   "cell_type": "code",
   "execution_count": null,
   "id": "5d67c993-dc97-4ade-84fe-48b4041199f7",
   "metadata": {},
   "outputs": [],
   "source": [
    "SCHEDULER_IP = \"172.18.0.2\""
   ]
  },
  {
   "cell_type": "markdown",
   "id": "c1682fbb-5387-443d-9902-1dcae46227ca",
   "metadata": {},
   "source": [
    "#### Start workers"
   ]
  },
  {
   "cell_type": "code",
   "execution_count": null,
   "id": "8daf88ab-039e-4e0d-b999-211494215ad6",
   "metadata": {},
   "outputs": [],
   "source": [
    "!docker run -dit --name ray-worker1 test-ray-image ray start --address=ray-head:6379 --block"
   ]
  },
  {
   "cell_type": "code",
   "execution_count": null,
   "id": "fe9e95b4-f267-4065-9f1a-29ce9d50b46e",
   "metadata": {},
   "outputs": [],
   "source": [
    "!docker run -dit --network simulated-cluster --name ray-worker1 test-ray-image ray start --address=ray-head:6379 --block\n",
    "!docker run -dit --network simulated-cluster --name ray-worker2 test-ray-image ray start --address=ray-head:6379 --block\n",
    "!docker run -dit --network simulated-cluster --name ray-worker3 test-ray-image ray start --address=ray-head:6379 --block"
   ]
  },
  {
   "cell_type": "code",
   "execution_count": 17,
   "id": "4ff08590-d9f3-43cc-b8df-36566ba19e27",
   "metadata": {},
   "outputs": [
    {
     "name": "stdout",
     "output_type": "stream",
     "text": [
      "892da8a30e20cc2d74e67f08e859820c2b206b720b274df6d2dd49b24f7e53ef\n",
      "b53d65ad9bff25966cfb467be902adab6a8c716e0b42f9c4fba36a24e9089607\n",
      "dc4170ae84b655aac05bcb1781d0b9d3222e784521478c2e81c5b1d1b5fbf1b2\n"
     ]
    }
   ],
   "source": [
    "!docker run -dit --name ray-worker1 test-ray-image ray start --address=172.17.0.2:6379 --block\n",
    "!docker run -dit --name ray-worker2 test-ray-image ray start --address=172.17.0.2:6379 --block\n",
    "!docker run -dit --name ray-worker3 test-ray-image ray start --address=172.17.0.2:6379 --block"
   ]
  },
  {
   "cell_type": "code",
   "execution_count": 21,
   "id": "cb43cd93-c852-4f18-8cf4-c84065ba0e76",
   "metadata": {},
   "outputs": [
    {
     "name": "stdout",
     "output_type": "stream",
     "text": [
      "\u001b[37mLocal node IP\u001b[39m: \u001b[1m172.17.0.3\u001b[22m\n",
      "2025-03-04 01:36:03,841\tWARNING services.py:2072 -- WARNING: The object store is using /tmp instead of /dev/shm because /dev/shm has only 67108864 bytes available. This will harm performance! You may be able to free up space by deleting files in /dev/shm. If you are inside a Docker container, you can increase /dev/shm size by passing '--shm-size=5.02gb' to 'docker run' (or add it to the run_options list in a Ray cluster config). Make sure to set this to more than 30% of available RAM.\n",
      "[2025-03-04 01:36:03,872 W 1 1] global_state_accessor.cc:429: Retrying to get node with node ID 93182829376f69e3a7301cba65f37d976b6cdfa271f45371a5601077\n",
      "[2025-03-04 01:36:04,873 W 1 1] global_state_accessor.cc:429: Retrying to get node with node ID 93182829376f69e3a7301cba65f37d976b6cdfa271f45371a5601077\n",
      "\n",
      "\u001b[32m--------------------\u001b[39m\n",
      "\u001b[32mRay runtime started.\u001b[39m\n",
      "\u001b[32m--------------------\u001b[39m\n",
      "\n",
      "To terminate the Ray runtime, run\n",
      "\u001b[1m  ray stop\u001b[22m\n",
      "\n",
      "\u001b[36m\u001b[1m--block\u001b[22m\u001b[39m\n",
      "  This command will now block forever until terminated by a signal.\n",
      "  Running subprocesses are monitored and a message will be printed if any of them terminate unexpectedly. Subprocesses exit with SIGTERM will be treated as graceful, thus NOT reported.\n"
     ]
    }
   ],
   "source": [
    "!docker logs ray-worker1"
   ]
  },
  {
   "cell_type": "markdown",
   "id": "14ba5a90-7eaa-46da-9e8a-553ead2f6b7b",
   "metadata": {},
   "source": [
    "### Now test the network"
   ]
  },
  {
   "cell_type": "code",
   "execution_count": null,
   "id": "c06d72e2-ddb9-49e8-a3cd-4f1a790cabe6",
   "metadata": {
    "scrolled": true
   },
   "outputs": [],
   "source": [
    "#!pip install \"ray[all]\""
   ]
  },
  {
   "cell_type": "code",
   "execution_count": 1,
   "id": "4c70bd71-3bb2-4cb2-81ac-febc70aa471c",
   "metadata": {},
   "outputs": [],
   "source": [
    "import ray"
   ]
  },
  {
   "cell_type": "code",
   "execution_count": 9,
   "id": "9698a8b0-cbcd-452c-87de-b65711a9a525",
   "metadata": {
    "scrolled": true
   },
   "outputs": [
    {
     "name": "stderr",
     "output_type": "stream",
     "text": [
      "2025-03-03 19:53:17,423\tINFO client_builder.py:244 -- Passing the following kwargs to ray.init() on the server: log_to_driver\n"
     ]
    },
    {
     "ename": "ConnectionError",
     "evalue": "ray client connection timeout",
     "output_type": "error",
     "traceback": [
      "\u001b[1;31m---------------------------------------------------------------------------\u001b[0m",
      "\u001b[1;31mConnectionError\u001b[0m                           Traceback (most recent call last)",
      "Cell \u001b[1;32mIn[9], line 1\u001b[0m\n\u001b[1;32m----> 1\u001b[0m ray\u001b[38;5;241m.\u001b[39minit(\u001b[38;5;124m\"\u001b[39m\u001b[38;5;124mray://localhost:6379\u001b[39m\u001b[38;5;124m\"\u001b[39m)\n\u001b[0;32m      3\u001b[0m \u001b[38;5;129m@ray\u001b[39m\u001b[38;5;241m.\u001b[39mremote\n\u001b[0;32m      4\u001b[0m \u001b[38;5;28;01mdef\u001b[39;00m \u001b[38;5;21mtest\u001b[39m():\n\u001b[0;32m      5\u001b[0m     \u001b[38;5;28;01mreturn\u001b[39;00m \u001b[38;5;124m\"\u001b[39m\u001b[38;5;124mHello from Ray!\u001b[39m\u001b[38;5;124m\"\u001b[39m\n",
      "File \u001b[1;32m~\\AppData\\Local\\conda\\conda\\envs\\mleng_env\\Lib\\site-packages\\ray\\_private\\client_mode_hook.py:103\u001b[0m, in \u001b[0;36mclient_mode_hook.<locals>.wrapper\u001b[1;34m(*args, **kwargs)\u001b[0m\n\u001b[0;32m    101\u001b[0m     \u001b[38;5;28;01mif\u001b[39;00m func\u001b[38;5;241m.\u001b[39m\u001b[38;5;18m__name__\u001b[39m \u001b[38;5;241m!=\u001b[39m \u001b[38;5;124m\"\u001b[39m\u001b[38;5;124minit\u001b[39m\u001b[38;5;124m\"\u001b[39m \u001b[38;5;129;01mor\u001b[39;00m is_client_mode_enabled_by_default:\n\u001b[0;32m    102\u001b[0m         \u001b[38;5;28;01mreturn\u001b[39;00m \u001b[38;5;28mgetattr\u001b[39m(ray, func\u001b[38;5;241m.\u001b[39m\u001b[38;5;18m__name__\u001b[39m)(\u001b[38;5;241m*\u001b[39margs, \u001b[38;5;241m*\u001b[39m\u001b[38;5;241m*\u001b[39mkwargs)\n\u001b[1;32m--> 103\u001b[0m \u001b[38;5;28;01mreturn\u001b[39;00m func(\u001b[38;5;241m*\u001b[39margs, \u001b[38;5;241m*\u001b[39m\u001b[38;5;241m*\u001b[39mkwargs)\n",
      "File \u001b[1;32m~\\AppData\\Local\\conda\\conda\\envs\\mleng_env\\Lib\\site-packages\\ray\\_private\\worker.py:1539\u001b[0m, in \u001b[0;36minit\u001b[1;34m(address, num_cpus, num_gpus, resources, labels, object_store_memory, local_mode, ignore_reinit_error, include_dashboard, dashboard_host, dashboard_port, job_config, configure_logging, logging_level, logging_format, logging_config, log_to_driver, namespace, runtime_env, storage, **kwargs)\u001b[0m\n\u001b[0;32m   1537\u001b[0m passed_kwargs\u001b[38;5;241m.\u001b[39mupdate(kwargs)\n\u001b[0;32m   1538\u001b[0m builder\u001b[38;5;241m.\u001b[39m_init_args(\u001b[38;5;241m*\u001b[39m\u001b[38;5;241m*\u001b[39mpassed_kwargs)\n\u001b[1;32m-> 1539\u001b[0m ctx \u001b[38;5;241m=\u001b[39m builder\u001b[38;5;241m.\u001b[39mconnect()\n\u001b[0;32m   1540\u001b[0m \u001b[38;5;28;01mfrom\u001b[39;00m \u001b[38;5;21;01mray\u001b[39;00m\u001b[38;5;21;01m.\u001b[39;00m\u001b[38;5;21;01m_private\u001b[39;00m\u001b[38;5;21;01m.\u001b[39;00m\u001b[38;5;21;01musage\u001b[39;00m \u001b[38;5;28;01mimport\u001b[39;00m usage_lib\n\u001b[0;32m   1542\u001b[0m \u001b[38;5;28;01mif\u001b[39;00m passed_kwargs\u001b[38;5;241m.\u001b[39mget(\u001b[38;5;124m\"\u001b[39m\u001b[38;5;124mallow_multiple\u001b[39m\u001b[38;5;124m\"\u001b[39m) \u001b[38;5;129;01mis\u001b[39;00m \u001b[38;5;28;01mTrue\u001b[39;00m:\n",
      "File \u001b[1;32m~\\AppData\\Local\\conda\\conda\\envs\\mleng_env\\Lib\\site-packages\\ray\\client_builder.py:175\u001b[0m, in \u001b[0;36mClientBuilder.connect\u001b[1;34m(self)\u001b[0m\n\u001b[0;32m    172\u001b[0m \u001b[38;5;28;01mif\u001b[39;00m \u001b[38;5;28mself\u001b[39m\u001b[38;5;241m.\u001b[39m_allow_multiple_connections:\n\u001b[0;32m    173\u001b[0m     old_ray_cxt \u001b[38;5;241m=\u001b[39m ray\u001b[38;5;241m.\u001b[39mutil\u001b[38;5;241m.\u001b[39mclient\u001b[38;5;241m.\u001b[39mray\u001b[38;5;241m.\u001b[39mset_context(\u001b[38;5;28;01mNone\u001b[39;00m)\n\u001b[1;32m--> 175\u001b[0m client_info_dict \u001b[38;5;241m=\u001b[39m ray\u001b[38;5;241m.\u001b[39mutil\u001b[38;5;241m.\u001b[39mclient_connect\u001b[38;5;241m.\u001b[39mconnect(\n\u001b[0;32m    176\u001b[0m     \u001b[38;5;28mself\u001b[39m\u001b[38;5;241m.\u001b[39maddress,\n\u001b[0;32m    177\u001b[0m     job_config\u001b[38;5;241m=\u001b[39m\u001b[38;5;28mself\u001b[39m\u001b[38;5;241m.\u001b[39m_job_config,\n\u001b[0;32m    178\u001b[0m     _credentials\u001b[38;5;241m=\u001b[39m\u001b[38;5;28mself\u001b[39m\u001b[38;5;241m.\u001b[39m_credentials,\n\u001b[0;32m    179\u001b[0m     ray_init_kwargs\u001b[38;5;241m=\u001b[39m\u001b[38;5;28mself\u001b[39m\u001b[38;5;241m.\u001b[39m_remote_init_kwargs,\n\u001b[0;32m    180\u001b[0m     metadata\u001b[38;5;241m=\u001b[39m\u001b[38;5;28mself\u001b[39m\u001b[38;5;241m.\u001b[39m_metadata,\n\u001b[0;32m    181\u001b[0m )\n\u001b[0;32m    183\u001b[0m dashboard_url \u001b[38;5;241m=\u001b[39m ray\u001b[38;5;241m.\u001b[39mutil\u001b[38;5;241m.\u001b[39mclient\u001b[38;5;241m.\u001b[39mray\u001b[38;5;241m.\u001b[39m_get_dashboard_url()\n\u001b[0;32m    185\u001b[0m cxt \u001b[38;5;241m=\u001b[39m ClientContext(\n\u001b[0;32m    186\u001b[0m     dashboard_url\u001b[38;5;241m=\u001b[39mdashboard_url,\n\u001b[0;32m    187\u001b[0m     python_version\u001b[38;5;241m=\u001b[39mclient_info_dict[\u001b[38;5;124m\"\u001b[39m\u001b[38;5;124mpython_version\u001b[39m\u001b[38;5;124m\"\u001b[39m],\n\u001b[1;32m   (...)\u001b[0m\n\u001b[0;32m    191\u001b[0m     _context_to_restore\u001b[38;5;241m=\u001b[39mray\u001b[38;5;241m.\u001b[39mutil\u001b[38;5;241m.\u001b[39mclient\u001b[38;5;241m.\u001b[39mray\u001b[38;5;241m.\u001b[39mget_context(),\n\u001b[0;32m    192\u001b[0m )\n",
      "File \u001b[1;32m~\\AppData\\Local\\conda\\conda\\envs\\mleng_env\\Lib\\site-packages\\ray\\util\\client_connect.py:55\u001b[0m, in \u001b[0;36mconnect\u001b[1;34m(conn_str, secure, metadata, connection_retries, job_config, namespace, ignore_version, _credentials, ray_init_kwargs)\u001b[0m\n\u001b[0;32m     50\u001b[0m _explicitly_enable_client_mode()\n\u001b[0;32m     52\u001b[0m \u001b[38;5;66;03m# TODO(barakmich): https://github.com/ray-project/ray/issues/13274\u001b[39;00m\n\u001b[0;32m     53\u001b[0m \u001b[38;5;66;03m# for supporting things like cert_path, ca_path, etc and creating\u001b[39;00m\n\u001b[0;32m     54\u001b[0m \u001b[38;5;66;03m# the correct metadata\u001b[39;00m\n\u001b[1;32m---> 55\u001b[0m conn \u001b[38;5;241m=\u001b[39m ray\u001b[38;5;241m.\u001b[39mconnect(\n\u001b[0;32m     56\u001b[0m     conn_str,\n\u001b[0;32m     57\u001b[0m     job_config\u001b[38;5;241m=\u001b[39mjob_config,\n\u001b[0;32m     58\u001b[0m     secure\u001b[38;5;241m=\u001b[39msecure,\n\u001b[0;32m     59\u001b[0m     metadata\u001b[38;5;241m=\u001b[39mmetadata,\n\u001b[0;32m     60\u001b[0m     connection_retries\u001b[38;5;241m=\u001b[39mconnection_retries,\n\u001b[0;32m     61\u001b[0m     namespace\u001b[38;5;241m=\u001b[39mnamespace,\n\u001b[0;32m     62\u001b[0m     ignore_version\u001b[38;5;241m=\u001b[39mignore_version,\n\u001b[0;32m     63\u001b[0m     _credentials\u001b[38;5;241m=\u001b[39m_credentials,\n\u001b[0;32m     64\u001b[0m     ray_init_kwargs\u001b[38;5;241m=\u001b[39mray_init_kwargs,\n\u001b[0;32m     65\u001b[0m )\n\u001b[0;32m     66\u001b[0m \u001b[38;5;28;01mreturn\u001b[39;00m conn\n",
      "File \u001b[1;32m~\\AppData\\Local\\conda\\conda\\envs\\mleng_env\\Lib\\site-packages\\ray\\util\\client\\__init__.py:233\u001b[0m, in \u001b[0;36mRayAPIStub.connect\u001b[1;34m(self, *args, **kw_args)\u001b[0m\n\u001b[0;32m    231\u001b[0m \u001b[38;5;28;01mdef\u001b[39;00m \u001b[38;5;21mconnect\u001b[39m(\u001b[38;5;28mself\u001b[39m, \u001b[38;5;241m*\u001b[39margs, \u001b[38;5;241m*\u001b[39m\u001b[38;5;241m*\u001b[39mkw_args):\n\u001b[0;32m    232\u001b[0m     \u001b[38;5;28mself\u001b[39m\u001b[38;5;241m.\u001b[39mget_context()\u001b[38;5;241m.\u001b[39m_inside_client_test \u001b[38;5;241m=\u001b[39m \u001b[38;5;28mself\u001b[39m\u001b[38;5;241m.\u001b[39m_inside_client_test\n\u001b[1;32m--> 233\u001b[0m     conn \u001b[38;5;241m=\u001b[39m \u001b[38;5;28mself\u001b[39m\u001b[38;5;241m.\u001b[39mget_context()\u001b[38;5;241m.\u001b[39mconnect(\u001b[38;5;241m*\u001b[39margs, \u001b[38;5;241m*\u001b[39m\u001b[38;5;241m*\u001b[39mkw_args)\n\u001b[0;32m    234\u001b[0m     \u001b[38;5;28;01mglobal\u001b[39;00m _lock, _all_contexts\n\u001b[0;32m    235\u001b[0m     \u001b[38;5;28;01mwith\u001b[39;00m _lock:\n",
      "File \u001b[1;32m~\\AppData\\Local\\conda\\conda\\envs\\mleng_env\\Lib\\site-packages\\ray\\util\\client\\__init__.py:89\u001b[0m, in \u001b[0;36m_ClientContext.connect\u001b[1;34m(self, conn_str, job_config, secure, metadata, connection_retries, namespace, ignore_version, _credentials, ray_init_kwargs)\u001b[0m\n\u001b[0;32m     86\u001b[0m setup_logger(logging_level, logging_format)\n\u001b[0;32m     88\u001b[0m \u001b[38;5;28;01mtry\u001b[39;00m:\n\u001b[1;32m---> 89\u001b[0m     \u001b[38;5;28mself\u001b[39m\u001b[38;5;241m.\u001b[39mclient_worker \u001b[38;5;241m=\u001b[39m Worker(\n\u001b[0;32m     90\u001b[0m         conn_str,\n\u001b[0;32m     91\u001b[0m         secure\u001b[38;5;241m=\u001b[39msecure,\n\u001b[0;32m     92\u001b[0m         _credentials\u001b[38;5;241m=\u001b[39m_credentials,\n\u001b[0;32m     93\u001b[0m         metadata\u001b[38;5;241m=\u001b[39mmetadata,\n\u001b[0;32m     94\u001b[0m         connection_retries\u001b[38;5;241m=\u001b[39mconnection_retries,\n\u001b[0;32m     95\u001b[0m     )\n\u001b[0;32m     96\u001b[0m     \u001b[38;5;28mself\u001b[39m\u001b[38;5;241m.\u001b[39mapi\u001b[38;5;241m.\u001b[39mworker \u001b[38;5;241m=\u001b[39m \u001b[38;5;28mself\u001b[39m\u001b[38;5;241m.\u001b[39mclient_worker\n\u001b[0;32m     97\u001b[0m     \u001b[38;5;28mself\u001b[39m\u001b[38;5;241m.\u001b[39mclient_worker\u001b[38;5;241m.\u001b[39m_server_init(job_config, ray_init_kwargs)\n",
      "File \u001b[1;32m~\\AppData\\Local\\conda\\conda\\envs\\mleng_env\\Lib\\site-packages\\ray\\util\\client\\worker.py:139\u001b[0m, in \u001b[0;36mWorker.__init__\u001b[1;34m(self, conn_str, secure, metadata, connection_retries, _credentials)\u001b[0m\n\u001b[0;32m    136\u001b[0m \u001b[38;5;66;03m# Set to True after initial connection succeeds\u001b[39;00m\n\u001b[0;32m    137\u001b[0m \u001b[38;5;28mself\u001b[39m\u001b[38;5;241m.\u001b[39m_has_connected \u001b[38;5;241m=\u001b[39m \u001b[38;5;28;01mFalse\u001b[39;00m\n\u001b[1;32m--> 139\u001b[0m \u001b[38;5;28mself\u001b[39m\u001b[38;5;241m.\u001b[39m_connect_channel()\n\u001b[0;32m    140\u001b[0m \u001b[38;5;28mself\u001b[39m\u001b[38;5;241m.\u001b[39m_has_connected \u001b[38;5;241m=\u001b[39m \u001b[38;5;28;01mTrue\u001b[39;00m\n\u001b[0;32m    142\u001b[0m \u001b[38;5;66;03m# Has Ray been initialized on the server?\u001b[39;00m\n",
      "File \u001b[1;32m~\\AppData\\Local\\conda\\conda\\envs\\mleng_env\\Lib\\site-packages\\ray\\util\\client\\worker.py:260\u001b[0m, in \u001b[0;36mWorker._connect_channel\u001b[1;34m(self, reconnecting)\u001b[0m\n\u001b[0;32m    252\u001b[0m \u001b[38;5;28;01mif\u001b[39;00m log_once(\u001b[38;5;124m\"\u001b[39m\u001b[38;5;124mray_client_security_groups\u001b[39m\u001b[38;5;124m\"\u001b[39m):\n\u001b[0;32m    253\u001b[0m     warnings\u001b[38;5;241m.\u001b[39mwarn(\n\u001b[0;32m    254\u001b[0m         \u001b[38;5;124m\"\u001b[39m\u001b[38;5;124mRay Client connection timed out. Ensure that \u001b[39m\u001b[38;5;124m\"\u001b[39m\n\u001b[0;32m    255\u001b[0m         \u001b[38;5;124m\"\u001b[39m\u001b[38;5;124mthe Ray Client port on the head node is reachable \u001b[39m\u001b[38;5;124m\"\u001b[39m\n\u001b[1;32m   (...)\u001b[0m\n\u001b[0;32m    258\u001b[0m         \u001b[38;5;124m\"\u001b[39m\u001b[38;5;124mmore information.\u001b[39m\u001b[38;5;124m\"\u001b[39m\n\u001b[0;32m    259\u001b[0m     )\n\u001b[1;32m--> 260\u001b[0m \u001b[38;5;28;01mraise\u001b[39;00m \u001b[38;5;167;01mConnectionError\u001b[39;00m(\u001b[38;5;124m\"\u001b[39m\u001b[38;5;124mray client connection timeout\u001b[39m\u001b[38;5;124m\"\u001b[39m)\n",
      "\u001b[1;31mConnectionError\u001b[0m: ray client connection timeout"
     ]
    }
   ],
   "source": [
    "ray.init(\"ray://localhost:6379\")\n",
    "\n",
    "@ray.remote\n",
    "def test():\n",
    "    return \"Hello from Ray!\""
   ]
  },
  {
   "cell_type": "code",
   "execution_count": null,
   "id": "9ada971a-80e8-49bd-ac66-b021be78c5b5",
   "metadata": {},
   "outputs": [],
   "source": []
  }
 ],
 "metadata": {
  "kernelspec": {
   "display_name": "Python [conda env:conda-mleng_env]",
   "language": "python",
   "name": "conda-env-conda-mleng_env-py"
  },
  "language_info": {
   "codemirror_mode": {
    "name": "ipython",
    "version": 3
   },
   "file_extension": ".py",
   "mimetype": "text/x-python",
   "name": "python",
   "nbconvert_exporter": "python",
   "pygments_lexer": "ipython3",
   "version": "3.11.11"
  }
 },
 "nbformat": 4,
 "nbformat_minor": 5
}
