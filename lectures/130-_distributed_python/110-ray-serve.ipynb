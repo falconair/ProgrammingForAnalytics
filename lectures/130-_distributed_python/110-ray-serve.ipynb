{
 "cells": [
  {
   "cell_type": "markdown",
   "id": "3372311b-1834-4898-af06-ec7721242ba8",
   "metadata": {},
   "source": [
    "# Ray - a Python framework for distributed computation"
   ]
  },
  {
   "cell_type": "markdown",
   "id": "010838bf-a002-4356-b3e8-4622234e5921",
   "metadata": {},
   "source": [
    "Definition of a distributed system: \n",
    "\n",
    "_\"Where a computer that you never heard of can bring your system down\"_ -- Leslie Lamport"
   ]
  },
  {
   "cell_type": "markdown",
   "id": "94cdd181-17a3-4fa0-aa5d-4ed22e520588",
   "metadata": {},
   "source": [
    "Distributed systems are necessary for many reasons: avoiding a single point of failure, distributing work to responsible departments and improving scalability.\n",
    "\n",
    "Rather than a theoretical explanation, we will install and work with a real-world distributed framework called Ray. Ray is a python specific framework with many high level components which make it easier to serve APIs, train models, share data, etc. We will look at one of these components, before digging a bit deeper into a lower level component."
   ]
  },
  {
   "cell_type": "markdown",
   "id": "3d7c1968-e07d-4d64-9f4f-bf49f5cf1512",
   "metadata": {},
   "source": [
    "### Ray serve\n",
    "Ray serve is a component which makes it easy to spread the serving of an API across several machines. Let's jump into code."
   ]
  },
  {
   "cell_type": "code",
   "execution_count": null,
   "id": "da5c4292-7419-4184-bccf-4594761abfe8",
   "metadata": {},
   "outputs": [],
   "source": [
    "%%writefile simple_api.py\n",
    "\n",
    "from fastapi import FastAPI\n",
    "from typing import Dict\n",
    "\n",
    "app = FastAPI()\n",
    "\n",
    "@app.get(\"/status\")\n",
    "def status() -> Dict[str, str]:\n",
    "    \"\"\"Simple health check endpoint.\"\"\"\n",
    "    return {\"status\": \"ok\"}\n",
    "\n",
    "\n",
    "@app.get(\"/compute\")\n",
    "def fibonacci(n: int):\n",
    "    \"\"\"Compute Fibonacci sequence up to n (inclusive).\"\"\"\n",
    "    if n <= 0:\n",
    "        return []\n",
    "    fib = [0, 1]\n",
    "    while fib[-1] + fib[-2] <= n:\n",
    "        fib.append(fib[-1] + fib[-2])\n",
    "    return fib\n",
    "\n",
    "# fastapi run simple_api.py\n",
    "# http://localhost:8000/compute?n=10"
   ]
  },
  {
   "cell_type": "markdown",
   "id": "490f1988-10a3-4c6b-ba99-641a9e61db49",
   "metadata": {},
   "source": [
    "Normally you run the code above as:\n",
    "\n",
    "```python\n",
    "fastapi run simple_apy.py\n",
    "```\n",
    "\n",
    "This will run the API on a single machine. \n",
    "\n",
    "However, is your startup grows, how do you make sure you can continue to serve clients?"
   ]
  },
  {
   "cell_type": "markdown",
   "id": "6254f39b-1ad4-4782-847c-1195a685e91f",
   "metadata": {},
   "source": [
    "### Is your current setup going to scale when you go viral? \n",
    "Test it with https://locust.io/"
   ]
  },
  {
   "cell_type": "code",
   "execution_count": null,
   "id": "9690dbd7-f1b4-4cc0-be49-1c6cefc71e81",
   "metadata": {},
   "outputs": [],
   "source": [
    "!pip install locust"
   ]
  },
  {
   "cell_type": "markdown",
   "id": "bb2f6289-db40-49c7-9fac-31361617c431",
   "metadata": {},
   "source": [
    "Create a virtual users who will hit your API"
   ]
  },
  {
   "cell_type": "code",
   "execution_count": null,
   "id": "7a72fdd9-bc85-4507-970a-7a4f29bb1568",
   "metadata": {},
   "outputs": [],
   "source": [
    "%%writefile locustfile.py\n",
    "\n",
    "from locust import HttpUser, TaskSet, task, between\n",
    "\n",
    "class APIUser(HttpUser):\n",
    "    wait_time = between(1, 3)\n",
    "    host = \"http://127.0.0.1:8000\"\n",
    "\n",
    "    @task\n",
    "    class UserTasks(TaskSet):\n",
    "        @task\n",
    "        def get_status(self):\n",
    "            self.client.get(\"/status/\") \n",
    "\n",
    "        @task\n",
    "        def do_compute(self):\n",
    "            self.client.get(\"/compute?n=100\") "
   ]
  },
  {
   "cell_type": "markdown",
   "id": "7aff6e5f-a280-43ab-a6bc-04d537b8ff3d",
   "metadata": {},
   "source": [
    "Run it as `locust` at the command line.\n",
    "This will refer you to a web page, which will let you control the test."
   ]
  },
  {
   "cell_type": "markdown",
   "id": "fc6841c8-8e34-48a2-a299-1a907d639454",
   "metadata": {},
   "source": [
    "#### Things to note\n",
    "1. Any filures on the locust dashboard?\n",
    "2. Monitor the logs of your application\n",
    "3. What is the median execution time?\n",
    "4. **What is the tail execution time**?\n",
    "5. What is the RPS (requests per second)?"
   ]
  },
  {
   "cell_type": "markdown",
   "id": "26632f27-3e6a-4030-8adf-bc8fd87e7256",
   "metadata": {},
   "source": [
    "### Let's try to scale this across several machines\n",
    "\n",
    "If we are not on the same network, use Tailscale to hop on the same vpn."
   ]
  },
  {
   "cell_type": "markdown",
   "id": "1c538cc3-efaa-44f2-bd32-b7771d28e7f8",
   "metadata": {},
   "source": [
    "#### Install Ray"
   ]
  },
  {
   "cell_type": "code",
   "execution_count": null,
   "id": "fed64382-d746-4056-a27f-a6099d9aba1b",
   "metadata": {},
   "outputs": [],
   "source": [
    "!pip install ray[all]"
   ]
  },
  {
   "cell_type": "markdown",
   "id": "21a104de-f563-4055-b377-29b2b8cc144d",
   "metadata": {},
   "source": [
    "#### Deploy FastAPI on a cluster (via Ray)"
   ]
  },
  {
   "cell_type": "code",
   "execution_count": null,
   "id": "f9e6a4d1-bba6-4f4d-bfba-ffae5b2d9716",
   "metadata": {},
   "outputs": [],
   "source": [
    "%%writefile simple_api_ray.py\n",
    "\n",
    "from fastapi import FastAPI\n",
    "from typing import Dict\n",
    "from ray import serve\n",
    "#import ray\n",
    "\n",
    "#ray.init(address=\"192.168.12.239:10001\") \n",
    "\n",
    "app = FastAPI()\n",
    "\n",
    "@app.get(\"/status\")\n",
    "def status() -> Dict[str, str]:\n",
    "    \"\"\"Simple health check endpoint.\"\"\"\n",
    "    return {\"status\": \"ok\"}\n",
    "\n",
    "\n",
    "@app.get(\"/compute\")\n",
    "def fibonacci(n: int):\n",
    "    \"\"\"Compute Fibonacci sequence up to n (inclusive).\"\"\"\n",
    "    if n <= 0:\n",
    "        return []\n",
    "    fib = [0, 1]\n",
    "    while fib[-1] + fib[-2] <= n:\n",
    "        fib.append(fib[-1] + fib[-2])\n",
    "    return fib\n",
    "\n",
    "@serve.deployment\n",
    "@serve.ingress(app)\n",
    "class FastAPIWrapper:\n",
    "    pass\n",
    "\n",
    "serve.run(FastAPIWrapper.bind(), route_prefix=\"/\")\n",
    "\n",
    "# python simple_api_ray.py\n",
    "# http://localhost:8000/compute?n=10"
   ]
  },
  {
   "cell_type": "code",
   "execution_count": null,
   "id": "6a193854-70d5-4ca0-8c88-0b4684675a4b",
   "metadata": {},
   "outputs": [],
   "source": [
    "%%writefile simple_api_ray2.py\n",
    "\n",
    "import ray\n",
    "from ray import serve\n",
    "from fastapi import FastAPI\n",
    "\n",
    "ray.init(address=\"auto\")  # Connect to the existing Ray cluster\n",
    "\n",
    "serve.start(detached=True)  # Ensure Serve runs in the background\n",
    "\n",
    "app = FastAPI()\n",
    "\n",
    "@app.get(\"/\")\n",
    "def read_root():\n",
    "    return {\"message\": \"Hello from Ray Serve\"}\n",
    "\n",
    "# Create a deployment with multiple replicas\n",
    "@serve.deployment(num_replicas=2)\n",
    "@serve.ingress(app)\n",
    "class FastAPIDeployment:\n",
    "    pass\n",
    "\n",
    "FastAPIDeployment.deploy()\n",
    "\n",
    "print(\"FastAPI app is deployed. Try accessing it at the head node's IP.\")\n"
   ]
  },
  {
   "cell_type": "code",
   "execution_count": null,
   "id": "5555ce34-cc1e-449c-9de3-77e1ea441f61",
   "metadata": {},
   "outputs": [],
   "source": []
  }
 ],
 "metadata": {
  "kernelspec": {
   "display_name": "Python [conda env:conda-mleng_env]",
   "language": "python",
   "name": "conda-env-conda-mleng_env-py"
  },
  "language_info": {
   "codemirror_mode": {
    "name": "ipython",
    "version": 3
   },
   "file_extension": ".py",
   "mimetype": "text/x-python",
   "name": "python",
   "nbconvert_exporter": "python",
   "pygments_lexer": "ipython3",
   "version": "3.11.11"
  }
 },
 "nbformat": 4,
 "nbformat_minor": 5
}
