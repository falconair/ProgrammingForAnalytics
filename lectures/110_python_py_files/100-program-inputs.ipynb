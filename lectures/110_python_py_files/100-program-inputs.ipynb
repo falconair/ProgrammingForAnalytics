{
 "cells": [
  {
   "cell_type": "markdown",
   "id": "d37cab97-0b43-4b93-a1c2-ead6238f68db",
   "metadata": {},
   "source": [
    "# Jupyter to .py \n",
    "## Inputs for your code"
   ]
  },
  {
   "cell_type": "markdown",
   "id": "f172fa5b-105e-40ae-9405-f80585a9eb75",
   "metadata": {},
   "source": [
    "Jupyter notebooks are designed for interactive computing. You type a bit of code, execute it to see the results, perhaps update the code or add new logic, execute it, test, etc. In fact, a very old name for this type of programming is \"Read-Eval-Loop\". The program is edited, executed (or evaluated) again and again (in a loop).\n",
    "\n",
    "However, programs running in \"production,\" serving APIs and clients do not need to run interactively. They need to be well tested, performant, secure pieces of code which run for days or months without interruption.\n",
    "\n",
    "Production servers generally do not even have Jupyter installed. Programs, made up of a collection of `.py` files, along with relevant configurations and reference files make up a systemm.\n",
    "\n",
    "Perhaps the simplest way to translate your Jupyter code is to copy and paste code cells into a .py file"
   ]
  },
  {
   "cell_type": "markdown",
   "id": "425f35c7-0124-449e-8719-f9607d82b700",
   "metadata": {},
   "source": [
    "**Simple \".py\" file**"
   ]
  },
  {
   "cell_type": "code",
   "execution_count": 1,
   "id": "b14f90b8-a7b5-4531-a77d-f09dffbc88f5",
   "metadata": {},
   "outputs": [
    {
     "name": "stdout",
     "output_type": "stream",
     "text": [
      "Overwriting program1.py\n"
     ]
    }
   ],
   "source": [
    "%%writefile program1.py\n",
    "\n",
    "x = 10\n",
    "print(f\"The number is {x}\")"
   ]
  },
  {
   "cell_type": "code",
   "execution_count": null,
   "id": "6505e069-694c-4769-beaa-54a9cb121384",
   "metadata": {},
   "outputs": [],
   "source": [
    "%run program1.py"
   ]
  },
  {
   "cell_type": "markdown",
   "id": "ff26ca4c-913f-4028-b383-34fe9094f3e7",
   "metadata": {},
   "source": [
    "This file is run by executing the command `python program1.py`"
   ]
  },
  {
   "cell_type": "markdown",
   "id": "4d89f3bb-6cce-40da-9f7a-05b589eecf07",
   "metadata": {},
   "source": [
    "### No automatic output"
   ]
  },
  {
   "cell_type": "markdown",
   "id": "09529c25-0347-4ea2-842e-d49a7a068d95",
   "metadata": {},
   "source": [
    "Recall that in Jupyter, the last command in a cell prints the results to screen. In a Python program, no output is printed to the console unless explicitely done so."
   ]
  },
  {
   "cell_type": "code",
   "execution_count": 2,
   "id": "ad5d3c4f-8fae-4272-aee5-78d8f227df39",
   "metadata": {},
   "outputs": [
    {
     "data": {
      "text/plain": [
       "'Shahbaz'"
      ]
     },
     "execution_count": 2,
     "metadata": {},
     "output_type": "execute_result"
    }
   ],
   "source": [
    "x = 10\n",
    "y = x + x\n",
    "\n",
    "name = \"Shahbaz\"\n",
    "name"
   ]
  },
  {
   "cell_type": "code",
   "execution_count": null,
   "id": "21124d5e-9658-4e0e-9d48-d4f855c636bd",
   "metadata": {},
   "outputs": [],
   "source": [
    "%%writefile program2.py\n",
    "\n",
    "x = 10\n",
    "y = x + x\n",
    "\n",
    "name = \"Shahbaz\"\n",
    "name"
   ]
  },
  {
   "cell_type": "code",
   "execution_count": null,
   "id": "ebc3528d-ef25-4ab3-9a61-3c78f4c29fa6",
   "metadata": {},
   "outputs": [],
   "source": [
    "%run program2.py"
   ]
  },
  {
   "cell_type": "markdown",
   "id": "a87cc7f0-7895-4a03-a53f-d17661ccc17b",
   "metadata": {},
   "source": [
    "### You must control input to the program: interactive, variables, arguments, stdin"
   ]
  },
  {
   "cell_type": "markdown",
   "id": "a6b4231f-2a11-43f3-b4aa-26999c0b614e",
   "metadata": {},
   "source": [
    "A potentially unseen change between Jupyter and .py files is how to handle input for the program. Take the example below"
   ]
  },
  {
   "cell_type": "code",
   "execution_count": 5,
   "id": "6b566578-768e-40be-8f84-46e9b1bcc65f",
   "metadata": {},
   "outputs": [],
   "source": [
    "BATCH_DATE = \"1/14/2025\""
   ]
  },
  {
   "cell_type": "code",
   "execution_count": 6,
   "id": "b99d7435-b198-4cda-833c-6a5ec2e84381",
   "metadata": {},
   "outputs": [
    {
     "name": "stdout",
     "output_type": "stream",
     "text": [
      "This program is run on 1/14/2025\n"
     ]
    }
   ],
   "source": [
    "# Some complicated program which reads sales transactions for a given day and run complicated ML models to generate complicated scores\n",
    "print(f\"This program is run on {BATCH_DATE}\")"
   ]
  },
  {
   "cell_type": "markdown",
   "id": "df91f7b9-a5db-4011-b334-4e52feca54dd",
   "metadata": {},
   "source": [
    "If your program lives in a Jupyuter file, you can simply open the file, edit the `BATCH_DATE` field and \"RUN ALL\" the whole notebook.\n",
    "\n",
    "Python programs (.py files) are absoloutely NOT edited in such a haphazard manner. Think of a program as a machine, such as a blender. In order to change the speed of a blender, you DO NOT open the blender and start shifting the gears. There is a proper and designated dial to let you control the speed. Similarly, if you want to change aspects of your code during run-time, you need to provide explicit input controls.\n",
    "\n",
    "Extending the metaphore, **every change to a production program is akin to changing the manufacturing pipeline** for the widget. \n",
    "\n",
    "Here are three main ways of providing input to your program.\n",
    "\n",
    "**Ask for input interactively**"
   ]
  },
  {
   "cell_type": "code",
   "execution_count": null,
   "id": "408aaf64-1ad0-4823-8169-35bfb0d427f5",
   "metadata": {},
   "outputs": [],
   "source": [
    "%%writefile program3.py\n",
    "\n",
    "BATCH_DATE = input(\"Please provide a batch date (mm/dd/yyyy)\")\n",
    "print(f\"This program is run on {BATCH_DATE}\")"
   ]
  },
  {
   "cell_type": "code",
   "execution_count": null,
   "id": "cb78ebad-3ec1-410e-9774-7d1bee93f439",
   "metadata": {},
   "outputs": [],
   "source": [
    "%run program3.py"
   ]
  },
  {
   "cell_type": "markdown",
   "id": "21ba0da4-a475-4afa-9a1b-7b82c00c1bf3",
   "metadata": {},
   "source": [
    "This is almost never a good idea. This program requires a human to enter a date. What if we wanted to run this script in an automated manner? What if we wanted it to calculate the date and pass it to the program? \n",
    "\n",
    "Even if input is asked (such as a confirmation), you should provide an alternate to override the interactive part. A good example is Ubuntu's package manager. Here is how you install a package `apt install zip`. This command then asks for a confirmation that you, indeed, want to download and install this package. However, since this command often needs to run in an automated manner, you can also run it as `apt install -y zip`."
   ]
  },
  {
   "cell_type": "markdown",
   "id": "66f9c6bb-156f-4ad3-a494-50411fbe9f61",
   "metadata": {},
   "source": [
    "**Client passes in arguments**"
   ]
  },
  {
   "cell_type": "markdown",
   "id": "a90cad0e-b919-49e0-beab-93b512e546ab",
   "metadata": {},
   "source": [
    "The most common way to provide input to your program is to use _command line arguments_. Here is an example:"
   ]
  },
  {
   "cell_type": "code",
   "execution_count": 9,
   "id": "c5bdb936-8ccc-48df-86e4-762c88ffc03c",
   "metadata": {},
   "outputs": [
    {
     "name": "stdout",
     "output_type": "stream",
     "text": [
      "Overwriting program4.py\n"
     ]
    }
   ],
   "source": [
    "%%writefile program4.py\n",
    "\n",
    "import sys\n",
    "\n",
    "BATCH_DATE = sys.argv[1] #<= Here is the magic\n",
    "print(f\"This program is run on {BATCH_DATE}\")\n",
    "#print(f\"What is at location 0? {sys.argv[0]}\")"
   ]
  },
  {
   "cell_type": "code",
   "execution_count": null,
   "id": "d7d44fda-173b-4ad5-abc0-facbe8372fff",
   "metadata": {},
   "outputs": [],
   "source": [
    "%run program4.py 1/7/2025"
   ]
  },
  {
   "cell_type": "markdown",
   "id": "c000eb35-805a-4972-8b91-72d535f3e41f",
   "metadata": {},
   "source": [
    "Run this program as `python program4.py 1/7/2025`\n",
    "\n",
    "Btw, what happens if you don't provide the argument? That's right, an error! **Python programs require care and _defensive_ programming**. Remember, you can't just edit the code anymore. If there is a bug or if you didn't provide enough instructions for users, the \"factory\" will halt and you will have to fly in to fix it (and everyone will be upset)"
   ]
  },
  {
   "cell_type": "code",
   "execution_count": null,
   "id": "27f86fcb-c150-4630-8179-499f69d149db",
   "metadata": {},
   "outputs": [],
   "source": [
    "%run program4.py"
   ]
  },
  {
   "cell_type": "code",
   "execution_count": null,
   "id": "ca1dc063-89e9-4d9b-95d6-8e892ca2c740",
   "metadata": {},
   "outputs": [],
   "source": [
    "%%writefile program5.py\n",
    "\n",
    "import sys\n",
    "\n",
    "if len(sys.argv) < 2:\n",
    "    print(\"Error: Missing BATCH_DATE. Please run as 'python program5.py <BATCH_DATE>`\")\n",
    "    sys.exit(1) # Exit with 0 indicates sucecss and 1 indicates an error\n",
    "\n",
    "BATCH_DATE = sys.argv[1] #<= Here is the magic\n",
    "print(f\"This program is run on {BATCH_DATE}\")"
   ]
  },
  {
   "cell_type": "code",
   "execution_count": null,
   "id": "d6f5637c-8904-47c7-ba4c-eb211da42423",
   "metadata": {},
   "outputs": [],
   "source": [
    "%run program5.py"
   ]
  },
  {
   "cell_type": "markdown",
   "id": "d67cab1c-7ee2-4bd4-933f-e78b84e2ebea",
   "metadata": {},
   "source": [
    "Wait, what's in `sys.argv[0]`?"
   ]
  },
  {
   "cell_type": "markdown",
   "id": "60649b7c-1187-4a00-8dc0-b284ea9a77e1",
   "metadata": {},
   "source": [
    "This is indeed the correct way to accept input. Actually, there are several higher leve libraries which make your program much more user friendly. One, built-in library, is the argparse library"
   ]
  },
  {
   "cell_type": "code",
   "execution_count": null,
   "id": "dd8b5c8b-ec10-4744-adf0-0169b096df29",
   "metadata": {},
   "outputs": [],
   "source": [
    "%%writefile program6.py\n",
    "\n",
    "import argparse\n",
    "\n",
    "# Create the argument parser\n",
    "parser = argparse.ArgumentParser(description=\"Scores sales transactions to predict returns.\")\n",
    "\n",
    "# Add an argument\n",
    "parser.add_argument(\"BATCH_DATE\", type=str, help=\"The date of sales transactions\")\n",
    "\n",
    "# Parse the arguments\n",
    "args = parser.parse_args()\n",
    "\n",
    "# Print the argument\n",
    "print(f\"This program is run on {args.BATCH_DATE}\")"
   ]
  },
  {
   "cell_type": "code",
   "execution_count": null,
   "id": "c992b448-d48e-41f0-82b9-0c2c741712e5",
   "metadata": {},
   "outputs": [],
   "source": [
    "%run program6.py"
   ]
  },
  {
   "cell_type": "markdown",
   "id": "8139475b-bc42-45ae-99f5-64ebcb41ce11",
   "metadata": {},
   "source": [
    "Try running this with different inputs:\n",
    "`python program6.py 1/7/2025`\n",
    "`python program6.py`\n",
    "`python program6.py -h`.\n",
    "\n",
    "For very simple programs, this can be overkill."
   ]
  },
  {
   "cell_type": "markdown",
   "id": "52476420-2dfb-41eb-8b2b-b3e3bd45dcb7",
   "metadata": {},
   "source": [
    "**Environment variables**"
   ]
  },
  {
   "cell_type": "markdown",
   "id": "857214d2-ef8b-490c-ab59-f302162d1bca",
   "metadata": {},
   "source": [
    "A less common method, appropriate for certain situations, is to read in environment variables.\n",
    "\n",
    "All computers and all running sessions have system and enviornment variables, which control a programs operate. For example, if you run the `python` command, how does your computer know where this program exists?  The answer: the `path` (or `PATH`) variable. Each operating system has its own set of variables. In mac and linux, you can view the variable by typing `echo $variable_name`. In windows you can view it by typing `echo %variable_name%`. Here is how Python can read them"
   ]
  },
  {
   "cell_type": "code",
   "execution_count": null,
   "id": "29361b72-ceec-4b13-8426-e45104edba05",
   "metadata": {},
   "outputs": [],
   "source": [
    "%%writefile program7.py\n",
    "\n",
    "import os\n",
    "import sys\n",
    "\n",
    "if len(sys.argv) < 2:\n",
    "    print(\"Error: Missing enviornment variable name. Please run as 'python program5.py <ENV>`\")\n",
    "    sys.exit(1)\n",
    "    \n",
    "ENV = sys.argv[1]\n",
    "ENV_VAL = os.environ.get(ENV, \"\")\n",
    "\n",
    "print(f\"Environment variable {ENV} has value {ENV_VAL}\")"
   ]
  },
  {
   "cell_type": "markdown",
   "id": "35e9d799-30fc-43ec-95dc-b22659c8cd05",
   "metadata": {},
   "source": [
    "Try this with arguments `path`. You can find other variables with the `set` command (different operating systems may use different commands)."
   ]
  },
  {
   "cell_type": "markdown",
   "id": "46a91946-d1ab-4445-b67c-ea0eab92647b",
   "metadata": {},
   "source": [
    "Users can set their own enviornment variables. They can be permanent and globally avialable or temporary and only available in a single termiinal session. For example, set a custom variable and try running the program again:\n",
    "\n",
    "Windows: `SET SERVER_TYPE=PRODUCTION`\n",
    "Linux/mac: `SERVER_TYPE=PRODUCTION`"
   ]
  },
  {
   "cell_type": "markdown",
   "id": "b1db07e7-f2c0-4576-8f46-dc0571693f57",
   "metadata": {},
   "source": [
    "Now try running the earlier program and look for the value SERVER_TYPE. Start a new terminal and try running the same program with the same argument."
   ]
  },
  {
   "cell_type": "markdown",
   "id": "d4d1b01b-7e67-4b63-9ece-b54cf6f2089f",
   "metadata": {},
   "source": [
    "An important usecase of environment variables is to identify the context in which the program is running. Machines can be set to `PROD`, `STAGING`, `DEV` and the program can decide how critical sections are run.\n",
    "\n",
    "Please note that although this can be useful, this is not a common way of reading input."
   ]
  }
 ],
 "metadata": {
  "kernelspec": {
   "display_name": "Python 3 (ipykernel)",
   "language": "python",
   "name": "python3"
  },
  "language_info": {
   "codemirror_mode": {
    "name": "ipython",
    "version": 3
   },
   "file_extension": ".py",
   "mimetype": "text/x-python",
   "name": "python",
   "nbconvert_exporter": "python",
   "pygments_lexer": "ipython3",
   "version": "3.12.7"
  }
 },
 "nbformat": 4,
 "nbformat_minor": 5
}
