{
 "cells": [
  {
   "cell_type": "markdown",
   "id": "d37cab97-0b43-4b93-a1c2-ead6238f68db",
   "metadata": {},
   "source": [
    "# Run types"
   ]
  },
  {
   "cell_type": "markdown",
   "id": "4b07a313-911e-495a-8997-51b88ec26607",
   "metadata": {},
   "source": [
    "Beginners are often (rightly) confused by a very common line: `if __name__ == \"__main__\":`. Let's tackle this, step by step.\n",
    "\n",
    "Historically, code never runs outside functions. Code such as the following was relegated to \"scripts\" and not full-fledge programs:"
   ]
  },
  {
   "cell_type": "code",
   "execution_count": null,
   "id": "1f62f0b3-c71b-418a-a0b8-a633be3fd1dd",
   "metadata": {},
   "outputs": [],
   "source": [
    "%%writefile program8.py\n",
    "print(\"Hello world\")"
   ]
  },
  {
   "cell_type": "code",
   "execution_count": null,
   "id": "abe17143-2e03-4f00-b156-aafc3e8cf24d",
   "metadata": {},
   "outputs": [],
   "source": [
    "%run program8.py"
   ]
  },
  {
   "cell_type": "markdown",
   "id": "c2ab7a3a-6e2a-48dc-9934-d60bbc26f632",
   "metadata": {},
   "source": [
    "Most languages wanted code organized in functions and a special function, called `main` was the entry point. Something like this:"
   ]
  },
  {
   "cell_type": "code",
   "execution_count": null,
   "id": "a1bb7206-df9e-4f35-883f-6ee73e95ebe7",
   "metadata": {},
   "outputs": [],
   "source": [
    "%%writefile program9.py\n",
    "def main():\n",
    "    print(\"Hello world\")"
   ]
  },
  {
   "cell_type": "code",
   "execution_count": null,
   "id": "e2189637-ce88-42e7-8c6b-337d59760734",
   "metadata": {},
   "outputs": [],
   "source": [
    "%run program9.py"
   ]
  },
  {
   "cell_type": "markdown",
   "id": "97162119-a54e-43e4-8ff9-295dac4c67eb",
   "metadata": {},
   "source": [
    "Notice that the simple program with a single line runs just fine. However, the `main` function doesn't seem to hold any special value in Python. Executing the second program produces no output. If we insist on organizing our code under the `main` method, we have to call it explicitely"
   ]
  },
  {
   "cell_type": "code",
   "execution_count": null,
   "id": "4d318f37-141e-4d89-ba72-1bf8c403556a",
   "metadata": {},
   "outputs": [],
   "source": [
    "%%writefile program10.py\n",
    "def main():\n",
    "    print(\"Hello world\")\n",
    "\n",
    "main()"
   ]
  },
  {
   "cell_type": "code",
   "execution_count": null,
   "id": "232e5298-b1cb-4f67-a34f-608e8adedf2d",
   "metadata": {},
   "outputs": [],
   "source": [
    "%run program10.py"
   ]
  },
  {
   "cell_type": "markdown",
   "id": "b2ba33f3-6d7a-4252-bb4a-3b1ccd79c472",
   "metadata": {},
   "source": [
    "That works. However, we now introduce a new issue. Say you import this program into another:"
   ]
  },
  {
   "cell_type": "code",
   "execution_count": null,
   "id": "5d5ba097-bae8-4003-8118-eb8dde739067",
   "metadata": {},
   "outputs": [],
   "source": [
    "%%writefile program11.py\n",
    "\n",
    "import program10"
   ]
  },
  {
   "cell_type": "code",
   "execution_count": null,
   "id": "d7955e77-db7a-4e94-b931-1120b0512147",
   "metadata": {},
   "outputs": [],
   "source": [
    "%run program11.py"
   ]
  },
  {
   "cell_type": "markdown",
   "id": "9ffb06ac-9e3c-4de9-a7bb-09d055fe9bd2",
   "metadata": {},
   "source": [
    "If you run `program11`, it prints `Hello world`. But why?\n",
    "\n",
    "Let's step back and notice something: **if you import a python file, that file is executed**!\n",
    "\n",
    "In fact, Python files are executed in two ways: as part of an import or if run directly.\n",
    "\n",
    "If we import a file, we often don't want to execute any logic, until the calling library is ready to do so. For example, if you import an image transformation library, you don't expect it to start executing code unless you explicitely call image related functions.\n",
    "\n",
    "If we run the file directly, then our intention is indeed to actually execute logic in that file.\n",
    "\n",
    "Here is how we can differentiate between the two types of runs:"
   ]
  },
  {
   "cell_type": "code",
   "execution_count": null,
   "id": "640f32e0-62d1-4e60-86d4-13d401f934c2",
   "metadata": {},
   "outputs": [],
   "source": [
    "%%writefile program12.py\n",
    "\n",
    "print(f\"__name__ in program12 is set to {__name__}\")"
   ]
  },
  {
   "cell_type": "code",
   "execution_count": null,
   "id": "14f3ca9b-e71b-44d6-b832-f83b7763b13a",
   "metadata": {},
   "outputs": [],
   "source": [
    "%%writefile program13.py\n",
    "import program12\n",
    "\n",
    "print(f\"__name__ in program13 is set to {__name__}\")"
   ]
  },
  {
   "cell_type": "code",
   "execution_count": null,
   "id": "88286416-a6bc-448e-a73d-8eba5eb8e9aa",
   "metadata": {},
   "outputs": [],
   "source": [
    "%run program12.py"
   ]
  },
  {
   "cell_type": "code",
   "execution_count": null,
   "id": "3b0e6aa0-622f-41f7-9fe9-dfef3b27c70b",
   "metadata": {},
   "outputs": [],
   "source": [
    "%run program13.py"
   ]
  },
  {
   "cell_type": "markdown",
   "id": "268be666-6e92-40d7-8d4f-de186659dbb8",
   "metadata": {},
   "source": [
    "We have just learned to differntiate between the two types of runs! This is why, if we want to run a script directly, people often write it as:"
   ]
  },
  {
   "cell_type": "code",
   "execution_count": null,
   "id": "c3c42d31-a9a0-4433-94d4-8c1126cb3416",
   "metadata": {},
   "outputs": [],
   "source": [
    "%%writefile program14.py\n",
    "def main():\n",
    "    print(\"Hello world\")\n",
    "\n",
    "if __name__ == \"__main__\":\n",
    "    main()"
   ]
  },
  {
   "cell_type": "code",
   "execution_count": null,
   "id": "b457541b-76b2-4103-9524-38c37bcb1772",
   "metadata": {},
   "outputs": [],
   "source": [
    "%run program14.py"
   ]
  },
  {
   "cell_type": "code",
   "execution_count": null,
   "id": "ea9af695-7584-45c5-8a23-87aa83756185",
   "metadata": {},
   "outputs": [],
   "source": []
  }
 ],
 "metadata": {
  "kernelspec": {
   "display_name": "Python 3 (ipykernel)",
   "language": "python",
   "name": "python3"
  },
  "language_info": {
   "codemirror_mode": {
    "name": "ipython",
    "version": 3
   },
   "file_extension": ".py",
   "mimetype": "text/x-python",
   "name": "python",
   "nbconvert_exporter": "python",
   "pygments_lexer": "ipython3",
   "version": "3.12.7"
  }
 },
 "nbformat": 4,
 "nbformat_minor": 5
}
