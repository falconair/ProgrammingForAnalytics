{
 "cells": [
  {
   "cell_type": "code",
   "execution_count": null,
   "metadata": {},
   "outputs": [],
   "source": [
    "import numpy as np\n",
    "import pandas as pd\n",
    "import matplotlib.pyplot as plt"
   ]
  },
  {
   "cell_type": "code",
   "execution_count": null,
   "metadata": {},
   "outputs": [],
   "source": [
    "%reload_ext postcell\n",
    "%postcell register"
   ]
  },
  {
   "cell_type": "code",
   "execution_count": null,
   "metadata": {},
   "outputs": [],
   "source": [
    "%matplotlib inline"
   ]
  },
  {
   "cell_type": "markdown",
   "metadata": {},
   "source": [
    "# Scikit-Learn\n",
    "\n",
    "The scikit-learn library is the premier, non-deep learning, machine learning library in the Python ecosystem. It contains algorithms for classification, regression, clustering and utilities such as test/train data set creation, various transfomers for scaling, imputation algorithms, etc.\n",
    "\n",
    "An extremely important feature of this library is that it is designed as a cohesive whole. Allmost all algorithms fit in this framework like lego blocks. In other words, this is _not_ just a collection of algorithms which you can download as one packages.\n",
    "\n",
    "While other classes in though program will teach the specific of algorithms, such as _linear regression_ or _decision trees_, this lecture will describe how the API works at a higher level."
   ]
  },
  {
   "cell_type": "markdown",
   "metadata": {},
   "source": [
    "### Quick classification models"
   ]
  },
  {
   "cell_type": "markdown",
   "metadata": {},
   "source": [
    "#### Download a simple dataset"
   ]
  },
  {
   "cell_type": "code",
   "execution_count": null,
   "metadata": {},
   "outputs": [],
   "source": [
    "#Load a simple dataset\n",
    "import seaborn as sns\n",
    "titanic_df = sns.load_dataset('titanic')\n",
    "\n",
    "#only keep numeric columns (for simplicity)\n",
    "titanic_onlynum_df = titanic_df.drop(['sex', 'embarked', 'class', 'who', 'deck', 'embark_town', 'alive'], axis=1)\n",
    "\n",
    "#remove na, nan, etc.\n",
    "titanic_onlynum_noempty_df = titanic_onlynum_df.dropna()"
   ]
  },
  {
   "cell_type": "code",
   "execution_count": null,
   "metadata": {},
   "outputs": [],
   "source": [
    "titanic_onlynum_noempty_df.head()"
   ]
  },
  {
   "cell_type": "code",
   "execution_count": null,
   "metadata": {},
   "outputs": [],
   "source": [
    "titanic_onlynum_noempty_df.shape"
   ]
  },
  {
   "cell_type": "markdown",
   "metadata": {},
   "source": [
    "#### Set up imports and test/train split"
   ]
  },
  {
   "cell_type": "code",
   "execution_count": null,
   "metadata": {},
   "outputs": [],
   "source": [
    "#pre-training\n",
    "from sklearn.model_selection import train_test_split\n",
    "\n",
    "#post training \n",
    "from sklearn.metrics import accuracy_score"
   ]
  },
  {
   "cell_type": "code",
   "execution_count": null,
   "metadata": {},
   "outputs": [],
   "source": [
    "X_train, X_test, y_train, y_test = train_test_split(\n",
    "    titanic_onlynum_noempty_df.drop(['survived'], axis=1)\n",
    "    , titanic_onlynum_noempty_df.survived\n",
    "    , random_state=1)"
   ]
  },
  {
   "cell_type": "code",
   "execution_count": null,
   "metadata": {},
   "outputs": [],
   "source": [
    "X_train"
   ]
  },
  {
   "cell_type": "code",
   "execution_count": null,
   "metadata": {},
   "outputs": [],
   "source": [
    "y_train"
   ]
  },
  {
   "cell_type": "markdown",
   "metadata": {},
   "source": [
    "#### Decision Tree"
   ]
  },
  {
   "cell_type": "code",
   "execution_count": null,
   "metadata": {},
   "outputs": [],
   "source": [
    "%%time\n",
    "from sklearn import tree\n",
    "\n",
    "model = tree.DecisionTreeClassifier(splitter='best', criterion='gini')\n",
    "model.fit(X_train, y_train)\n",
    "\n",
    "y_predict = model.predict(X_test)\n",
    "model.score(X_test, y_test)"
   ]
  },
  {
   "cell_type": "markdown",
   "metadata": {},
   "source": [
    "#### Random Forest"
   ]
  },
  {
   "cell_type": "code",
   "execution_count": null,
   "metadata": {},
   "outputs": [],
   "source": [
    "%%time\n",
    "from sklearn import ensemble\n",
    "\n",
    "model = ensemble.RandomForestClassifier(n_estimators=100, min_samples_split=2)\n",
    "model.fit(X_train, y_train)\n",
    "\n",
    "y_predict = model.predict(X_test)\n",
    "model.score(X_test, y_test)"
   ]
  },
  {
   "cell_type": "markdown",
   "metadata": {},
   "source": [
    "#### SVM"
   ]
  },
  {
   "cell_type": "code",
   "execution_count": null,
   "metadata": {},
   "outputs": [],
   "source": [
    "%%time\n",
    "from sklearn import svm\n",
    "\n",
    "model = svm.SVC(C=1.0, kernel='rbf')\n",
    "model.fit(X_train, y_train)\n",
    "\n",
    "y_predict = model.predict(X_test)\n",
    "model.score(X_test, y_test)"
   ]
  },
  {
   "attachments": {
    "image.png": {
     "image/png": "[encoded data removed]"
    }
   },
   "cell_type": "markdown",
   "metadata": {},
   "source": [
    "Notice that changing models requires only **two lines to change!** \n",
    "\n",
    "![image.png](attachment:image.png)\n",
    "\n",
    "This is an example of a framework which extracted a common api, rather than a packages which throws together a bunch of algorithms, written by people who are not communicating with each other."
   ]
  },
  {
   "cell_type": "markdown",
   "metadata": {},
   "source": [
    "### Try different transformations\n",
    "On my machine, the `SVC` (the svm classifier) produces the worst result. Let's try to improve it by cleaning up the data a bit.\n"
   ]
  },
  {
   "cell_type": "code",
   "execution_count": null,
   "metadata": {},
   "outputs": [],
   "source": [
    "%%time\n",
    "X_train, X_test, y_train, y_test = train_test_split(\n",
    "    titanic_onlynum_df.drop(['survived'], axis=1)\n",
    "    , titanic_onlynum_df.survived\n",
    "    , random_state=1)"
   ]
  },
  {
   "cell_type": "markdown",
   "metadata": {},
   "source": [
    "#### Notice how similar the transformations are"
   ]
  },
  {
   "cell_type": "code",
   "execution_count": null,
   "metadata": {},
   "outputs": [],
   "source": [
    "%%time\n",
    "from sklearn import preprocessing, impute\n",
    "\n",
    "X_train_transformed = X_train\n",
    "\n",
    "#Fill missing values\n",
    "imputer = impute.SimpleImputer(missing_values=np.nan, strategy='constant', fill_value=0)\n",
    "X_train_transformed = imputer.fit_transform(X_train_transformed)\n",
    "\n",
    "#Scale values\n",
    "scaler = preprocessing.StandardScaler()\n",
    "X_train_transformed = scaler.fit_transform(X_train_transformed)\n",
    "\n",
    "#You don't even have to know how a transformer works, in order to use it!\n",
    "pt = preprocessing.PowerTransformer()\n",
    "X_train_transformed = pt.fit_transform(X_train_transformed)\n",
    "\n",
    "model = svm.SVC(C=1.0, kernel='rbf')\n",
    "model.fit(X_train_transformed, y_train)\n",
    "\n",
    "model.score(pt.transform(scaler.transform(imputer.transform(X_test))), y_test)"
   ]
  },
  {
   "cell_type": "markdown",
   "metadata": {},
   "source": [
    "## Transformers, Estimators and Predictors"
   ]
  },
  {
   "cell_type": "markdown",
   "metadata": {},
   "source": [
    "Scikit-learn has three main interfaces: **Transformers**, **estimators** and **predictors**.\n",
    "\n",
    "Objects are created using a constructors, such as `StandardScaler(..)`, `SimpleImputer(..)` or `SVC(..)`.  Once created, objects will have some standard methods.\n",
    "\n",
    "**Estimators**\n",
    "```\n",
    "model = SVC(...) # DecisionTreeClassifier() or RandomForestRegression(), etc.\n",
    "```\n",
    "Standard methods:\n",
    "\n",
    "The `fit` method does the actual training\n",
    "```\n",
    "model.fit(train_inputs, train_target)\n",
    "```\n",
    "\n",
    "The `score` method returns the accuracy of trained model\n",
    "```\n",
    "model.score(test_inputs, test_target)\n",
    "```\n",
    "\n",
    "**Predictors**\n",
    "\n",
    "Predictors are objects which, given an input, generate output based on the learned model. Hence, the most important method is `fit`. Given a list of inputs, perhaps the X_test matrix, this method will return corresponding (predicted) classes. The degree to which these classes match y_test is the accuracy score.\n",
    "```\n",
    "model.predict(target)\n",
    "```\n",
    "\n",
    "If you are not interested in the predicted classes, the probabilities attached to each class, you should use the predict_proba function (note that this function is not always implemented). Given a list of inputs, perhaps the X_test matrix, thsi method will return the probabilities associated with each guess. For example, if the expected result is male or female, each line in the input will correspond to two entries, one for the probability that the correct value is male and one for the probability that the correct value is female.\n",
    "\n",
    "```\n",
    "model.predict_proba(target)\n",
    "```\n",
    "\n",
    "\n",
    "**Transformers**\n",
    "\n",
    "As we have already seen, even transformations, such as imputations, scalers, vectorizers, etc. have a standard interface.\n",
    "\n",
    "```\n",
    "transformer = StandardScaler() # or OneHotEncoder() or SimpleImputer() or PCA()\n",
    "```\n",
    "\n",
    "Although transformers have the `fit` method, the `fit_transform` method combines the fitting and transforming steps and is used much more often.\n",
    "```\n",
    "transformer.fit(train_data)\n",
    "transformer.transform(data)\n",
    "```\n",
    "\n",
    "`fit_transform` processes the input data, such as finding the min and max values of a dataset, which requires reading the whole input, and transforming the data in the same step:\n",
    "```\n",
    "transformer.fit_transform(data)\n",
    "```\n"
   ]
  },
  {
   "cell_type": "markdown",
   "metadata": {},
   "source": [
    "### Model performance metrics"
   ]
  },
  {
   "cell_type": "markdown",
   "metadata": {},
   "source": [
    "Once a model has been trained, scikit-learn provides many ways of assessing the quality of the model. Let's bring back an earlier model. Notice the estimators come with a `score` method:"
   ]
  },
  {
   "cell_type": "code",
   "execution_count": null,
   "metadata": {},
   "outputs": [],
   "source": [
    "%%time\n",
    "X_train, X_test, y_train, y_test = train_test_split(\n",
    "    titanic_onlynum_noempty_df.drop(['survived'], axis=1)\n",
    "    , titanic_onlynum_noempty_df.survived\n",
    "    , random_state=1)\n",
    "\n",
    "#training\n",
    "\n",
    "model = ensemble.RandomForestClassifier(n_estimators=100, min_samples_split=2)\n",
    "model.fit(X_train, y_train)\n",
    "\n",
    "model.score(X_test, y_test)"
   ]
  },
  {
   "cell_type": "markdown",
   "metadata": {},
   "source": [
    "Since this was a classification problem, you can generate a confusion matrix:"
   ]
  },
  {
   "cell_type": "code",
   "execution_count": null,
   "metadata": {},
   "outputs": [],
   "source": [
    "from sklearn.metrics import confusion_matrix, classification_report\n",
    "\n",
    "y_predict = model.predict(X_test)\n",
    "confusion_matrix(y_test, y_predict)"
   ]
  },
  {
   "cell_type": "markdown",
   "metadata": {},
   "source": [
    "##### Bonus: Visualizing confusion matrices"
   ]
  },
  {
   "cell_type": "code",
   "execution_count": null,
   "metadata": {},
   "outputs": [],
   "source": [
    "import seaborn as sns\n",
    "sns.heatmap(confusion_matrix(y_test, y_predict), annot=True, fmt=\"d\", cmap=\"YlGnBu\")"
   ]
  },
  {
   "cell_type": "markdown",
   "metadata": {},
   "source": [
    "A recent scikit-learn visualization library Yellowbrick looks very useful:\n",
    "https://www.scikit-yb.org/en/latest/gallery.html\n",
    "\n",
    "They have created a fourth important interface: **Visualizers** (similar to Estimators, Transformers and Predictors)"
   ]
  },
  {
   "cell_type": "markdown",
   "metadata": {},
   "source": [
    "A full classification report can be generated via:"
   ]
  },
  {
   "cell_type": "code",
   "execution_count": null,
   "metadata": {},
   "outputs": [],
   "source": [
    "print(classification_report(y_test, y_predict))"
   ]
  },
  {
   "cell_type": "markdown",
   "metadata": {},
   "source": [
    "Similarly, regression matrix, such as `means_absolute_error`, `mean_squared_error`, `r2_score`, etc. are also available from `sklearn.metrics`"
   ]
  },
  {
   "cell_type": "markdown",
   "metadata": {},
   "source": [
    "### Model Tuning\n",
    "\n",
    "Of all the models we tried, SVM performed the worst (at least on my laptop). However, we have not done any tuning of the model. Scikit-learn provides two main methods of hyper parameter optimization: `GridSearchCV` and `RandomizedSearchCV`"
   ]
  },
  {
   "cell_type": "code",
   "execution_count": null,
   "metadata": {},
   "outputs": [],
   "source": [
    "%%time\n",
    "from sklearn.model_selection import GridSearchCV\n",
    "\n",
    "params = {'C':[.01, .1, 1, 10], 'kernel':['rbf', 'linear', 'poly']}\n",
    "\n",
    "grid = GridSearchCV(estimator=svm.SVC(), param_grid=params)\n",
    "\n",
    "grid.fit(X_train, y_train)"
   ]
  },
  {
   "cell_type": "code",
   "execution_count": null,
   "metadata": {},
   "outputs": [],
   "source": [
    "print(grid.best_score_)\n",
    "print(grid.best_estimator_)"
   ]
  },
  {
   "cell_type": "markdown",
   "metadata": {},
   "source": [
    "### Pipeline\n",
    "\n",
    "Notice in an earlier cell how several transformers worked _very_ similarly:\n",
    "\n",
    "```python\n",
    "#Fill missing values\n",
    "imputer = impute.SimpleImputer(missing_values=np.nan, strategy='constant', fill_value=0)\n",
    "X_train_transformed = imputer.fit_transform(X_train_transformed)\n",
    "\n",
    "#Scale values\n",
    "scaler = preprocessing.StandardScaler()\n",
    "X_train_transformed = scaler.fit_transform(X_train_transformed)\n",
    "\n",
    "#You don't even have to know how a transformer works, in order to use it!\n",
    "pt = preprocessing.PowerTransformer()\n",
    "X_train_transformed = pt.fit_transform(X_train_transformed)\n",
    "```\n",
    "\n",
    "The code is so similar that we shouldn't have to repeat ourselves. `Pipeline` class in sklearn will take care of the common parts:"
   ]
  },
  {
   "cell_type": "code",
   "execution_count": null,
   "metadata": {},
   "outputs": [],
   "source": [
    "%%time\n",
    "from sklearn import pipeline\n",
    "\n",
    "X_train, X_test, y_train, y_test = train_test_split(\n",
    "    titanic_onlynum_df.drop(['survived'], axis=1)\n",
    "    #titanic_onlynum_noempty_df.drop(['survived'], axis=1)\n",
    "    , titanic_onlynum_df.survived\n",
    "    #, titanic_onlynum_noempty_df.survived\n",
    "    , random_state=1)\n",
    "\n",
    "pipe = pipeline.make_pipeline(\n",
    "    # Transformers\n",
    "    impute.SimpleImputer(missing_values=np.nan, strategy='constant', fill_value=0)\n",
    "    ,preprocessing.StandardScaler()\n",
    "    ,preprocessing.PowerTransformer()\n",
    "    ,svm.SVC(C=1.0, kernel='rbf') # <== Classifier\n",
    ")\n",
    "\n",
    "\n",
    "pipe.fit(X_train, y_train)\n",
    "pipe.score(X_test, y_test)"
   ]
  },
  {
   "cell_type": "markdown",
   "metadata": {},
   "source": [
    "### Gridsearch over whole pipeline (include transformers)"
   ]
  },
  {
   "cell_type": "code",
   "execution_count": null,
   "metadata": {},
   "outputs": [],
   "source": [
    "%%time\n",
    "from sklearn import pipeline\n",
    "\n",
    "X_train, X_test, y_train, y_test = train_test_split(\n",
    "    titanic_onlynum_noempty_df.drop(['survived'], axis=1)\n",
    "    , titanic_onlynum_noempty_df.survived\n",
    "    , random_state=1)\n",
    "\n",
    "pipe = pipeline.make_pipeline(\n",
    "    # Transformers\n",
    "    impute.SimpleImputer(missing_values=np.nan, strategy='constant', fill_value=0)\n",
    "    ,preprocessing.StandardScaler()\n",
    "    ,preprocessing.PowerTransformer()\n",
    "    ,svm.SVC() # <== Classifier\n",
    ")\n",
    "\n",
    "\n",
    "params = {'svc__C':[.01, .1, 1, 10], 'svc__kernel':['rbf', 'linear', 'poly'], 'standardscaler__with_mean':[0,1,10]}\n",
    "optimized_pipe = GridSearchCV(pipe, param_grid=params, n_jobs=-1)\n",
    "\n",
    "optimized_pipe.fit(X_train, y_train)\n",
    "optimized_pipe.score(X_test, y_test)"
   ]
  },
  {
   "cell_type": "code",
   "execution_count": null,
   "metadata": {},
   "outputs": [],
   "source": [
    "optimized_pipe.best_estimator_"
   ]
  },
  {
   "cell_type": "markdown",
   "metadata": {},
   "source": [
    "### Column Transformer\n",
    "There are times when you need to apply a transformation to just a few columns of a dataframe. `ColumnTransformer` helps you do exactly that"
   ]
  },
  {
   "cell_type": "code",
   "execution_count": null,
   "metadata": {},
   "outputs": [],
   "source": [
    "X_train.head()"
   ]
  },
  {
   "cell_type": "code",
   "execution_count": null,
   "metadata": {},
   "outputs": [],
   "source": [
    "from sklearn.compose import ColumnTransformer, make_column_transformer\n",
    "\n",
    "col_transformer = make_column_transformer(\n",
    "    (preprocessing.StandardScaler(), ['age', 'sibsp','fare']),\n",
    "    remainder='passthrough'\n",
    ")\n",
    "\n",
    "pd.DataFrame(col_transformer.fit_transform(X_train), columns=['age', 'sibsp','fare']+['pclass', 'parch', 'adult_male', 'alone'])"
   ]
  },
  {
   "cell_type": "code",
   "execution_count": null,
   "metadata": {},
   "outputs": [],
   "source": [
    "col_transformer.fit_transform(X_train)"
   ]
  },
  {
   "cell_type": "code",
   "execution_count": null,
   "metadata": {},
   "outputs": [],
   "source": [
    "from sklearn.compose import ColumnTransformer, make_column_transformer\n",
    "\n",
    "col_transformer = make_column_transformer(\n",
    "    (preprocessing.StandardScaler(), ['age', 'sibsp','fare']),\n",
    "    (preprocessing.OneHotEncoder(), ['adult_male', 'alone']),\n",
    "    remainder='passthrough'\n",
    ")\n",
    "\n",
    "pd.DataFrame(col_transformer.fit_transform(X_train), columns=['age', 'sibsp','fare','adult_male1','adult_male2', 'alone1', 'alone2']+['pclass', 'parch'])\n"
   ]
  },
  {
   "cell_type": "markdown",
   "metadata": {},
   "source": [
    "### Pipeline with transformers (whole thing optimized with grid search)"
   ]
  },
  {
   "cell_type": "code",
   "execution_count": null,
   "metadata": {},
   "outputs": [],
   "source": [
    "%%time\n",
    "from sklearn import pipeline\n",
    "\n",
    "X_train, X_test, y_train, y_test = train_test_split(\n",
    "    titanic_onlynum_noempty_df.drop(['survived'], axis=1)\n",
    "    , titanic_onlynum_noempty_df.survived\n",
    "    , random_state=1)\n",
    "\n",
    "col_transformer = make_column_transformer(\n",
    "    (preprocessing.StandardScaler(), ['age', 'sibsp','fare']),\n",
    "    (preprocessing.OneHotEncoder(), ['adult_male', 'alone']),\n",
    "    remainder='passthrough'\n",
    ")\n",
    "\n",
    "pipe = pipeline.make_pipeline(\n",
    "    col_transformer\n",
    "    ,svm.SVC() # <== Classifier\n",
    ")\n",
    "\n",
    "\n",
    "params = {'svc__C':[.01, .1, 1, 10], 'svc__kernel':['rbf', 'linear', 'poly'], 'columntransformer__standardscaler__with_mean':[0,1,10]}\n",
    "optimized_pipe = GridSearchCV(pipe, param_grid=params, n_jobs=-1)\n",
    "\n",
    "optimized_pipe.fit(X_train, y_train)\n",
    "optimized_pipe.score(X_test, y_test)"
   ]
  },
  {
   "cell_type": "code",
   "execution_count": null,
   "metadata": {},
   "outputs": [],
   "source": [
    "optimized_pipe.best_estimator_"
   ]
  },
  {
   "cell_type": "markdown",
   "metadata": {},
   "source": [
    "### Save/load models\n",
    "Once a model is trained, it can be saved to disk. The saved file contains the weights, as well as details about Python classes which can load them and allow clients to `predict` values."
   ]
  },
  {
   "cell_type": "code",
   "execution_count": null,
   "metadata": {},
   "outputs": [],
   "source": [
    "from joblib import dump\n",
    "\n",
    "dump(optimized_pipe, 'model.joblib')"
   ]
  },
  {
   "cell_type": "code",
   "execution_count": null,
   "metadata": {},
   "outputs": [],
   "source": [
    "%ls"
   ]
  },
  {
   "cell_type": "markdown",
   "metadata": {},
   "source": [
    "#### Load model from disk"
   ]
  },
  {
   "cell_type": "code",
   "execution_count": null,
   "metadata": {},
   "outputs": [],
   "source": [
    "from joblib import load"
   ]
  },
  {
   "cell_type": "code",
   "execution_count": null,
   "metadata": {},
   "outputs": [],
   "source": [
    "trained_model = load('model.joblib')"
   ]
  },
  {
   "cell_type": "code",
   "execution_count": null,
   "metadata": {},
   "outputs": [],
   "source": [
    "trained_model.predict(X_test)"
   ]
  },
  {
   "cell_type": "code",
   "execution_count": null,
   "metadata": {},
   "outputs": [],
   "source": [
    "list(y_test.head())"
   ]
  },
  {
   "cell_type": "markdown",
   "metadata": {},
   "source": [
    "See [notebook](110-scikit-learn-run_saved_model.ipynb) for a \"clean room\" demonstration of code which loads a scikit-learn model."
   ]
  },
  {
   "cell_type": "markdown",
   "metadata": {},
   "source": [
    "# End notes\n",
    "\n",
    "#### PyCaret\n",
    "http://pycaret.org\n",
    "A higher level machine learning library\n",
    "\n",
    "#### SKORCH\n",
    "https://github.com/skorch-dev/skorch\n",
    "Scikit-learn compatible deep learning library\n",
    "\n",
    "#### awesome-scikit-learn\n",
    "https://github.com/fkromer/awesome-scikit-learn\n",
    "General links to the scikit-learn ecosystem"
   ]
  },
  {
   "cell_type": "code",
   "execution_count": null,
   "metadata": {},
   "outputs": [],
   "source": []
  }
 ],
 "metadata": {
  "kernelspec": {
   "display_name": "Python 3 (ipykernel)",
   "language": "python",
   "name": "python3"
  },
  "language_info": {
   "codemirror_mode": {
    "name": "ipython",
    "version": 3
   },
   "file_extension": ".py",
   "mimetype": "text/x-python",
   "name": "python",
   "nbconvert_exporter": "python",
   "pygments_lexer": "ipython3",
   "version": "3.12.4"
  }
 },
 "nbformat": 4,
 "nbformat_minor": 4
}
