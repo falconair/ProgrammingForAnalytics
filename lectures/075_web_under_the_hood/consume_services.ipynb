{
 "cells": [
  {
   "cell_type": "markdown",
   "id": "fff7f325-d2b9-445e-b9fd-caa241da0bf3",
   "metadata": {},
   "source": [
    "# Test services via code (instead of via the browser)"
   ]
  },
  {
   "cell_type": "code",
   "execution_count": null,
   "id": "1c7ba53a-7dc5-4d8b-b1c0-7e0c1cb437f5",
   "metadata": {
    "tags": []
   },
   "outputs": [],
   "source": [
    "import requests"
   ]
  },
  {
   "cell_type": "code",
   "execution_count": null,
   "id": "89691c81-b664-48ca-be50-16d57ec9ebe2",
   "metadata": {
    "tags": []
   },
   "outputs": [],
   "source": [
    "HOST = 'localhost'\n",
    "PORT = 5000"
   ]
  },
  {
   "cell_type": "markdown",
   "id": "e7d20138-aed8-4e2c-916c-e526791af90f",
   "metadata": {},
   "source": [
    "### Request something whcih doesn't exist"
   ]
  },
  {
   "cell_type": "code",
   "execution_count": null,
   "id": "81504c9e-50b3-4dbd-8522-da42f3fb70c0",
   "metadata": {
    "tags": []
   },
   "outputs": [],
   "source": [
    "%%time\n",
    "response = requests.get(url=f'http://{HOST}:{PORT}/')"
   ]
  },
  {
   "cell_type": "code",
   "execution_count": null,
   "id": "6127c67e-ad1b-4296-8428-ff8385d5f206",
   "metadata": {
    "tags": []
   },
   "outputs": [],
   "source": [
    "response"
   ]
  },
  {
   "cell_type": "markdown",
   "id": "d46a726a-5f50-41ed-b4df-9785153122c8",
   "metadata": {},
   "source": [
    "### Request the 'get_time' service (recall that it is a GET service)"
   ]
  },
  {
   "cell_type": "code",
   "execution_count": null,
   "id": "4c48e246-317c-4150-b72c-e8a1e0ab917f",
   "metadata": {
    "tags": []
   },
   "outputs": [],
   "source": [
    "%%time\n",
    "response = requests.get(url=f'http://{HOST}:{PORT}/get_time')"
   ]
  },
  {
   "cell_type": "code",
   "execution_count": null,
   "id": "874cac25-011e-4fc6-a887-2e80d1023025",
   "metadata": {
    "tags": []
   },
   "outputs": [],
   "source": [
    "response"
   ]
  },
  {
   "cell_type": "code",
   "execution_count": null,
   "id": "54429e71-b92d-4f6d-8466-afe7f1df7299",
   "metadata": {
    "tags": []
   },
   "outputs": [],
   "source": [
    "response.text"
   ]
  },
  {
   "cell_type": "code",
   "execution_count": null,
   "id": "7609100d-0b86-448d-9bf7-d6baa3644a16",
   "metadata": {
    "tags": []
   },
   "outputs": [],
   "source": [
    "j = response.json()\n",
    "j"
   ]
  },
  {
   "cell_type": "code",
   "execution_count": null,
   "id": "b10fb44d-f9fa-4290-8ef7-090849746437",
   "metadata": {
    "tags": []
   },
   "outputs": [],
   "source": [
    "type(j) # <= Proper Python dictionary is returned!"
   ]
  },
  {
   "cell_type": "markdown",
   "id": "81338c44-ad31-473f-a9d2-b1c736f5b664",
   "metadata": {
    "tags": []
   },
   "source": [
    "### Request the 'get_churn_probability' service (recall that it is a POST service)"
   ]
  },
  {
   "cell_type": "code",
   "execution_count": null,
   "id": "d3a249da-6d16-4599-9bbb-c8c1fac5aade",
   "metadata": {},
   "outputs": [],
   "source": [
    "import requests"
   ]
  },
  {
   "cell_type": "code",
   "execution_count": null,
   "id": "5e0b8617-a64f-4c0c-b518-20b668241688",
   "metadata": {},
   "outputs": [],
   "source": [
    "HOST = 'localhost'\n",
    "PORT = 5000"
   ]
  },
  {
   "cell_type": "code",
   "execution_count": null,
   "id": "69909596-66e9-4152-b906-bc8a2c9ee0c8",
   "metadata": {
    "tags": []
   },
   "outputs": [],
   "source": [
    "good_client  = {'gender':'male', 'age':23, 'uc_grad':False}\n",
    "great_client = {'gender':'male', 'age':23, 'uc_grad':True}"
   ]
  },
  {
   "cell_type": "code",
   "execution_count": null,
   "id": "58868043-f2e5-40e0-902c-39e8a9031f2c",
   "metadata": {
    "tags": []
   },
   "outputs": [],
   "source": [
    "%%time\n",
    "\n",
    "response = requests.post(url=f'http://{HOST}:{PORT}/get_churn_probability', json=good_client)"
   ]
  },
  {
   "cell_type": "code",
   "execution_count": null,
   "id": "d44f9cb6-2716-4c51-98cb-94018db012da",
   "metadata": {
    "tags": []
   },
   "outputs": [],
   "source": [
    "response"
   ]
  },
  {
   "cell_type": "code",
   "execution_count": null,
   "id": "40677b01-a94f-43d4-a97d-bd2384bd1258",
   "metadata": {
    "tags": []
   },
   "outputs": [],
   "source": [
    "response.json()"
   ]
  },
  {
   "cell_type": "code",
   "execution_count": null,
   "id": "37de25b7-6711-4035-a16b-4fb490573f67",
   "metadata": {
    "tags": []
   },
   "outputs": [],
   "source": [
    "requests.post(url=f'http://{HOST}:{PORT}/get_churn_probability', json=great_client).json()"
   ]
  },
  {
   "cell_type": "code",
   "execution_count": null,
   "id": "41d76aa9-cc22-42cb-84fd-68aa4118a6d0",
   "metadata": {},
   "outputs": [],
   "source": []
  }
 ],
 "metadata": {
  "kernelspec": {
   "display_name": "mleng_env",
   "language": "python",
   "name": "python3"
  },
  "language_info": {
   "codemirror_mode": {
    "name": "ipython",
    "version": 3
   },
   "file_extension": ".py",
   "mimetype": "text/x-python",
   "name": "python",
   "nbconvert_exporter": "python",
   "pygments_lexer": "ipython3",
   "version": "3.11.11"
  }
 },
 "nbformat": 4,
 "nbformat_minor": 5
}
