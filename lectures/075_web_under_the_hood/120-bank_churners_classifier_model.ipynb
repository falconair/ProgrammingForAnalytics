{
 "cells": [
  {
   "cell_type": "markdown",
   "id": "3f1ae1b7-a13d-432a-a188-eaecfecf43b3",
   "metadata": {},
   "source": [
    "# Bank Churners Classifier Model"
   ]
  },
  {
   "cell_type": "code",
   "execution_count": null,
   "id": "ade0125f-e3b3-455b-97a2-cb5312a5c2c7",
   "metadata": {
    "tags": []
   },
   "outputs": [],
   "source": [
    "import numpy as np\n",
    "import pandas as pd\n",
    "import matplotlib.pyplot as plt\n",
    "\n",
    "\n",
    "#pre-training\n",
    "from sklearn.model_selection import train_test_split\n",
    "from sklearn.preprocessing import OneHotEncoder\n",
    "from sklearn.compose import make_column_transformer\n",
    "\n",
    "#training\n",
    "from sklearn import ensemble\n",
    "from sklearn import pipeline\n",
    "\n",
    "\n",
    "#post training \n",
    "from sklearn.metrics import accuracy_score\n",
    "from joblib import dump"
   ]
  },
  {
   "cell_type": "markdown",
   "id": "6c6c2cf4-52c5-4c05-ab13-385673e7223d",
   "metadata": {},
   "source": [
    "#### Read data"
   ]
  },
  {
   "cell_type": "code",
   "execution_count": null,
   "id": "36362537-354d-4e3f-a6fb-460dbbcbde0c",
   "metadata": {
    "tags": []
   },
   "outputs": [],
   "source": [
    "data_df = pd.read_csv('../../datasets/credit-card-customers/BankChurners.zip')\n",
    "data_df.shape"
   ]
  },
  {
   "cell_type": "code",
   "execution_count": null,
   "id": "246d50b6-e278-42ad-a4e9-02aa7b3f964f",
   "metadata": {
    "tags": []
   },
   "outputs": [],
   "source": [
    "data_df.head()"
   ]
  },
  {
   "cell_type": "code",
   "execution_count": null,
   "id": "7dbcba8c-6fb5-468c-8667-cbc204e2b7cd",
   "metadata": {
    "tags": []
   },
   "outputs": [],
   "source": [
    "data_df.columns"
   ]
  },
  {
   "cell_type": "code",
   "execution_count": null,
   "id": "8dc5e6cd-057a-484b-a0b8-56ea80b330d2",
   "metadata": {
    "tags": []
   },
   "outputs": [],
   "source": [
    "data_df.isna().sum()"
   ]
  },
  {
   "cell_type": "markdown",
   "id": "9445f6b4-724e-4231-98cc-180b124ebdbf",
   "metadata": {},
   "source": [
    "#### Remove columns which should not go into the model"
   ]
  },
  {
   "cell_type": "code",
   "execution_count": null,
   "id": "ab5b71a7-ab2e-42ef-bf2c-eb289e806829",
   "metadata": {
    "tags": []
   },
   "outputs": [],
   "source": [
    "data_df.drop([\n",
    "    'CLIENTNUM',\n",
    "    'Naive_Bayes_Classifier_Attrition_Flag_Card_Category_Contacts_Count_12_mon_Dependent_count_Education_Level_Months_Inactive_12_mon_1',\n",
    "    'Naive_Bayes_Classifier_Attrition_Flag_Card_Category_Contacts_Count_12_mon_Dependent_count_Education_Level_Months_Inactive_12_mon_2'\n",
    "], axis=1, inplace=True)"
   ]
  },
  {
   "cell_type": "markdown",
   "id": "053108aa-25ad-4e7e-b691-ebc1f73f9c58",
   "metadata": {},
   "source": [
    "#### Convert categorical columns"
   ]
  },
  {
   "cell_type": "code",
   "execution_count": null,
   "id": "d04261c8-f29a-40f5-99c6-7e3c3ce82ecf",
   "metadata": {
    "tags": []
   },
   "outputs": [],
   "source": [
    "#https://medium.com/@sami.yousuf.azad/one-hot-encoding-with-pandas-dataframe-49a304e8507a\n",
    "CATEGORICAL_COLS = ['Gender', 'Education_Level', 'Marital_Status', 'Income_Category', 'Card_Category', ]\n",
    "col_transformer = make_column_transformer(\n",
    "  (OneHotEncoder(), CATEGORICAL_COLS),\n",
    "  remainder='passthrough')\n",
    "\n",
    "transformed = col_transformer.fit_transform(data_df)\n",
    "\n",
    "transformed_df = pd.DataFrame(transformed, columns=col_transformer.get_feature_names_out())"
   ]
  },
  {
   "cell_type": "code",
   "execution_count": null,
   "id": "9e441e91-a92f-4bcf-a1cc-0fd5ad301a69",
   "metadata": {
    "tags": []
   },
   "outputs": [],
   "source": [
    "transformed_df.head()"
   ]
  },
  {
   "cell_type": "code",
   "execution_count": null,
   "id": "fd4750a0-3a03-43cd-b671-b4dc36e1b96e",
   "metadata": {
    "tags": []
   },
   "outputs": [],
   "source": [
    "transformed_df.columns"
   ]
  },
  {
   "cell_type": "markdown",
   "id": "f7ffd1d7-30d5-4cd9-aabc-2e36de6a0f48",
   "metadata": {},
   "source": [
    "#### Build model"
   ]
  },
  {
   "cell_type": "code",
   "execution_count": null,
   "id": "319bfebe-1ca0-48a2-b2d5-0e60ece888f1",
   "metadata": {
    "tags": []
   },
   "outputs": [],
   "source": [
    "X_train, X_test, y_train, y_test = train_test_split(\n",
    "    data_df.drop(['Attrition_Flag'], axis=1)\n",
    "    , data_df.Attrition_Flag\n",
    "    , random_state=1)"
   ]
  },
  {
   "cell_type": "code",
   "execution_count": null,
   "id": "4ed4890f-d3c2-4eee-b1a1-e1eb17bc6033",
   "metadata": {
    "tags": []
   },
   "outputs": [],
   "source": [
    "pipe = pipeline.make_pipeline(\n",
    "    col_transformer\n",
    "    ,ensemble.RandomForestClassifier(n_estimators=100, min_samples_split=2) # <== Classifier\n",
    ")"
   ]
  },
  {
   "cell_type": "code",
   "execution_count": null,
   "id": "8dd4ae0e-9cd5-452e-9a3e-b507348aa654",
   "metadata": {
    "tags": []
   },
   "outputs": [],
   "source": [
    "#%%time\n",
    "pipe.fit(X_train, y_train)\n",
    "\n",
    "y_predict = pipe.predict(X_test)\n",
    "pipe.score(X_test, y_test)"
   ]
  },
  {
   "cell_type": "code",
   "execution_count": null,
   "id": "c3e09b18-bd5e-4344-88c8-8b549a57e7e1",
   "metadata": {
    "tags": []
   },
   "outputs": [],
   "source": [
    "pipe"
   ]
  },
  {
   "cell_type": "code",
   "execution_count": null,
   "id": "caba1996-cc35-4ccd-b33b-926b7c83e239",
   "metadata": {
    "tags": []
   },
   "outputs": [],
   "source": [
    "#pd.DataFrame({'feature':X_train.columns, 'importance':pipe.feature_importances_}).sort_values(by='importance')"
   ]
  },
  {
   "cell_type": "markdown",
   "id": "bcb9709c-b9eb-40d2-ae70-95fdd28fdb5e",
   "metadata": {},
   "source": [
    "#### Save model"
   ]
  },
  {
   "cell_type": "code",
   "execution_count": null,
   "id": "92aa3d59-ddd2-4265-a19b-08c975c777a2",
   "metadata": {
    "tags": []
   },
   "outputs": [],
   "source": [
    "#%%time\n",
    "dump(pipe, 'bank_churners_classifier_model.joblib')"
   ]
  },
  {
   "cell_type": "code",
   "execution_count": null,
   "id": "99b6c2dd-8700-4f56-a416-ac52c0608054",
   "metadata": {
    "tags": []
   },
   "outputs": [],
   "source": [
    "#%ls"
   ]
  },
  {
   "cell_type": "markdown",
   "id": "e8d59812-29e9-4d9a-b6fd-526d229ddb6d",
   "metadata": {},
   "source": [
    "#### Read model"
   ]
  },
  {
   "cell_type": "code",
   "execution_count": null,
   "id": "d6ba1a77-6f51-4bb1-821c-c06f222c9cf6",
   "metadata": {
    "tags": []
   },
   "outputs": [],
   "source": [
    "from joblib import load"
   ]
  },
  {
   "cell_type": "code",
   "execution_count": null,
   "id": "f356dd4a-7c48-4e9a-987c-93b7c4891359",
   "metadata": {
    "tags": []
   },
   "outputs": [],
   "source": [
    "trained_model = load('bank_churners_classifier_model.joblib')"
   ]
  },
  {
   "cell_type": "code",
   "execution_count": null,
   "id": "9eb000c4-68e0-41d5-869b-b65a587d869c",
   "metadata": {
    "tags": []
   },
   "outputs": [],
   "source": [
    "trained_model.feature_names_in_"
   ]
  },
  {
   "cell_type": "markdown",
   "id": "4b0919c6-93cd-444a-82dd-32428452fe53",
   "metadata": {},
   "source": [
    "The following columns are categorical"
   ]
  },
  {
   "cell_type": "code",
   "execution_count": null,
   "id": "a24f0faa-a6f3-4b3f-b05a-2cd00399d7b4",
   "metadata": {
    "tags": []
   },
   "outputs": [],
   "source": [
    "CATEGORICAL_COLS"
   ]
  },
  {
   "cell_type": "code",
   "execution_count": null,
   "id": "da1e8e3d-679e-4342-9c40-d32fa3528c90",
   "metadata": {
    "tags": []
   },
   "outputs": [],
   "source": [
    "for col in CATEGORICAL_COLS:\n",
    "    print(col, data_df[col].unique())"
   ]
  },
  {
   "cell_type": "code",
   "execution_count": null,
   "id": "0f72029e-7730-435b-82e2-cbcb56e06532",
   "metadata": {
    "tags": []
   },
   "outputs": [],
   "source": [
    "test_data_df = pd.Series({\n",
    "    'Customer_Age'   : 30, \n",
    "    'Gender'         : 'M', \n",
    "    'Dependent_count': 3, \n",
    "    'Education_Level': 'Graduate',\n",
    "    'Marital_Status' : 'Single', \n",
    "    'Income_Category': '$40K - $60K', \n",
    "    'Card_Category'  : 'Blue',\n",
    "    'Months_on_book' : 5, \n",
    "    'Total_Relationship_Count' : 3,\n",
    "    'Months_Inactive_12_mon'   : 1, \n",
    "    'Contacts_Count_12_mon'    : 2, \n",
    "    'Credit_Limit'             : 34000,\n",
    "    'Total_Revolving_Bal'      : 40000, \n",
    "    'Avg_Open_To_Buy'          : 200, \n",
    "    'Total_Amt_Chng_Q4_Q1'     : 34,\n",
    "    'Total_Trans_Amt'          : 500, \n",
    "    'Total_Trans_Ct'           : 3, \n",
    "    'Total_Ct_Chng_Q4_Q1'      : 23,\n",
    "    'Avg_Utilization_Ratio'    : .1\n",
    "}).to_frame().T"
   ]
  },
  {
   "cell_type": "code",
   "execution_count": null,
   "id": "7d39e13a-fafb-4c6f-bebf-e32b5c3fe61b",
   "metadata": {
    "tags": []
   },
   "outputs": [],
   "source": [
    "test_data_df"
   ]
  },
  {
   "cell_type": "code",
   "execution_count": null,
   "id": "332107f3-7cf5-4f42-b8af-8cd93bc2c2f8",
   "metadata": {
    "tags": []
   },
   "outputs": [],
   "source": [
    "test_data_df.columns"
   ]
  },
  {
   "cell_type": "code",
   "execution_count": null,
   "id": "46b22142-0862-4552-9680-2021b57aa627",
   "metadata": {
    "tags": []
   },
   "outputs": [],
   "source": [
    "trained_model.predict(test_data_df)"
   ]
  },
  {
   "cell_type": "code",
   "execution_count": null,
   "id": "8d3a92d6-04e3-46d4-9682-06c4625002a6",
   "metadata": {
    "tags": []
   },
   "outputs": [],
   "source": [
    "trained_model.classes_"
   ]
  },
  {
   "cell_type": "code",
   "execution_count": null,
   "id": "303d418b-5096-499b-bf47-b687ab58c411",
   "metadata": {
    "tags": []
   },
   "outputs": [],
   "source": [
    "trained_model.predict_proba(test_data_df)"
   ]
  },
  {
   "cell_type": "markdown",
   "id": "0f381d5e-fc58-474a-8ba6-7a2080237372",
   "metadata": {},
   "source": [
    "### Convert this notebook to .py\n",
    "Some students having trouble reading the model so they can run a .py file in their own enviornment and generate the model file using the same env as their web services code"
   ]
  },
  {
   "cell_type": "code",
   "execution_count": null,
   "id": "a410d0cb-0040-43de-bdbd-4600a82c406e",
   "metadata": {
    "tags": []
   },
   "outputs": [],
   "source": [
    "!jupyter nbconvert --to python 120-bank_churners_classifier_model.ipynb "
   ]
  },
  {
   "cell_type": "code",
   "execution_count": null,
   "id": "e4e8b9bf-a06b-4971-9cd1-bf72263c8829",
   "metadata": {},
   "outputs": [],
   "source": []
  }
 ],
 "metadata": {
  "kernelspec": {
   "display_name": "Python [conda env:conda-mleng_env]",
   "language": "python",
   "name": "conda-env-conda-mleng_env-py"
  },
  "language_info": {
   "codemirror_mode": {
    "name": "ipython",
    "version": 3
   },
   "file_extension": ".py",
   "mimetype": "text/x-python",
   "name": "python",
   "nbconvert_exporter": "python",
   "pygments_lexer": "ipython3",
   "version": "3.11.11"
  }
 },
 "nbformat": 4,
 "nbformat_minor": 5
}
