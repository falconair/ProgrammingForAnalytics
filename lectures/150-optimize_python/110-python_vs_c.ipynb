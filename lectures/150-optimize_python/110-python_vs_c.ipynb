{
 "cells": [
  {
   "cell_type": "markdown",
   "id": "4115afba-2fac-4a73-9ab1-a2b5fba9714d",
   "metadata": {},
   "source": [
    "# Python, on the inside"
   ]
  },
  {
   "cell_type": "markdown",
   "id": "70c84957-5caa-4756-b85f-180509b49f17",
   "metadata": {},
   "source": [
    "Let's take two programs, one in C and the other in Python"
   ]
  },
  {
   "cell_type": "markdown",
   "id": "714032cd-41c8-4cbc-b018-f75c4f8ded89",
   "metadata": {},
   "source": [
    "### C code"
   ]
  },
  {
   "cell_type": "markdown",
   "id": "26cbcb07-49d2-4a09-9966-bdeab197f416",
   "metadata": {},
   "source": [
    "C code\n",
    "```C\n",
    "int sum(int a, int b){\n",
    "    return a + b;\n",
    "}\n",
    "\n",
    "int main(){\n",
    "    sum(1, 2);\n",
    "}\n",
    "```\n",
    "\n",
    "The compiler for C is told that `a` and `b` are integers. The actual CPU hardware knows about integers and even has hardware circuitry to do the addition. The C compiler loads `a` and `b` into registers and adds them. C is called a \"low level\" language because many of its constructs map directly to CPU hardware. In fact, CPUs over evolve based on how C programs are being written.\n",
    "\n",
    "C is compiled to assembly language, which emulates the CPU.\n"
   ]
  },
  {
   "cell_type": "markdown",
   "id": "a37fa63f-c734-4c27-81be-a36713fb6011",
   "metadata": {},
   "source": [
    "#### C compiled to Assemly language (executed by the CPU)"
   ]
  },
  {
   "cell_type": "markdown",
   "id": "309a65ac-1aae-40e9-88ef-c20534b24e0c",
   "metadata": {},
   "source": [
    "```asm\n",
    "sum:\n",
    "        push    {r11, lr}\n",
    "        mov     r11, sp\n",
    "        sub     sp, sp, #8\n",
    "        str     r0, [sp, #4]\n",
    "        str     r1, [sp]\n",
    "        ldr     r0, [sp, #4]\n",
    "        ldr     r1, [sp]\n",
    "        add     r0, r0, r1\n",
    "        mov     sp, r11\n",
    "        pop     {r11, pc}\n",
    "\n",
    "main:\n",
    "        push    {r11, lr}\n",
    "        mov     r11, sp\n",
    "        ldr     r0, .LCPI1_1\n",
    "        ldr     r1, .LCPI1_2\n",
    "        bl      sum\n",
    "        ldr     r0, .LCPI1_0\n",
    "        pop     {r11, pc}\n",
    ".LCPI1_0:\n",
    "        .long   0\n",
    ".LCPI1_1:\n",
    "        .long   1\n",
    ".LCPI1_2:\n",
    "        .long   2\n",
    "```"
   ]
  },
  {
   "cell_type": "markdown",
   "id": "633f7e52-e536-4059-a06e-5ae36aac4476",
   "metadata": {},
   "source": [
    "The following website is able to generate this output: https://godbolt.org/"
   ]
  },
  {
   "cell_type": "markdown",
   "id": "d02b100f-231c-4f01-afc9-ed04b4bd9aee",
   "metadata": {},
   "source": [
    "### Python code"
   ]
  },
  {
   "cell_type": "markdown",
   "id": "b0d70e67-5207-4010-851b-60f13e8c10b3",
   "metadata": {},
   "source": [
    "```python\n",
    "def sum(a, b):\n",
    "    return a + b\n",
    "\n",
    "sum(1, 2)\n",
    "sum(\"hello \", \"world\")\n",
    "```\n",
    "\n",
    "Python is a \"high level\" language. Its goal is not to map directly to the CPU and make the most efficient  use of its power. Python's goal is to be more user friendly and to be able to represent more complex ideas simply. \n",
    "\n",
    "Python has an interpreter which executes Python code. That interpreter is, itself, C code! The interpreter has to carry out more steps:\n",
    "- Determine the types of a and b (notice, the sum function would work just as well with strings, yet use completely different libraries)\n",
    "- Use reference counting to keep track of memory (notice that we don't do _any_ memory management)"
   ]
  },
  {
   "cell_type": "markdown",
   "id": "6c23f2b2-272d-45df-a60b-fa7fb6f76858",
   "metadata": {},
   "source": [
    "#### Python's intermediate _bytecode_ language"
   ]
  },
  {
   "cell_type": "code",
   "execution_count": 1,
   "id": "8dc6f992-fd59-40cd-bcc5-3498839fd1f9",
   "metadata": {},
   "outputs": [],
   "source": [
    "import dis"
   ]
  },
  {
   "cell_type": "code",
   "execution_count": 2,
   "id": "62f16a00-42d4-46e5-acff-b52d5d4ee146",
   "metadata": {},
   "outputs": [
    {
     "name": "stdout",
     "output_type": "stream",
     "text": [
      "  0           0 RESUME                   0\n",
      "\n",
      "  2           2 LOAD_CONST               0 (<code object sum at 0x14230c510, file \"<dis>\", line 2>)\n",
      "              4 MAKE_FUNCTION            0\n",
      "              6 STORE_NAME               0 (sum)\n",
      "\n",
      "  5           8 PUSH_NULL\n",
      "             10 LOAD_NAME                0 (sum)\n",
      "             12 LOAD_CONST               1 (1)\n",
      "             14 LOAD_CONST               2 (2)\n",
      "             16 PRECALL                  2\n",
      "             20 CALL                     2\n",
      "             30 POP_TOP\n",
      "             32 LOAD_CONST               3 (None)\n",
      "             34 RETURN_VALUE\n",
      "\n",
      "Disassembly of <code object sum at 0x14230c510, file \"<dis>\", line 2>:\n",
      "  2           0 RESUME                   0\n",
      "\n",
      "  3           2 LOAD_FAST                0 (a)\n",
      "              4 LOAD_FAST                1 (b)\n",
      "              6 BINARY_OP                0 (+)\n",
      "             10 RETURN_VALUE\n"
     ]
    }
   ],
   "source": [
    "dis.dis(\"\"\"\n",
    "def sum(a, b):\n",
    "    return a + b\n",
    "\n",
    "sum(1,2)\n",
    "\"\"\")"
   ]
  },
  {
   "cell_type": "markdown",
   "id": "d6f95b87-629b-415d-b709-648c6b1f853d",
   "metadata": {},
   "source": [
    "Full list of Python bytecode instructions at https://docs.python.org/3/library/dis.html#python-bytecode-instructions"
   ]
  },
  {
   "cell_type": "markdown",
   "id": "102ee0a1-955c-4417-a80a-e14776f0b0d6",
   "metadata": {},
   "source": [
    "Additionally, note that the bytecode is not dealing with integers, floats or strings directly.\n",
    "Every object in Python is represented in C as the abstract object called `PyObject`:\n",
    "\n",
    "```C\n",
    "typedef struct {\n",
    "     Py_ssize_t ob_refcnt;   /* object reference count */\n",
    "     PyTypeObject* ob_type;  /* object type */\n",
    "};\n",
    "```\n",
    "\n",
    "However, specific types, such as integer, floats, booleans, strings are C's equivalent of \"sub-classes\" and provide more detail. For example, the actual value of an integer or a string has to be placed somewhere in there.\n",
    "\n",
    "More detail at:\n",
    "- https://llllllllll.github.io/c-extension-tutorial/c-level-representation.html\n",
    "- Official \"Read Me\" doc at https://github.com/python/cpython/blob/main/InternalDocs/interpreter.md"
   ]
  },
  {
   "cell_type": "markdown",
   "id": "1fe9b71d-d2c5-43a4-98f7-cbaa62eee0eb",
   "metadata": {},
   "source": [
    "#### The difference?\n",
    "\n",
    "The assembly generated for C is, essentially, executed directly by the CPU.\n",
    "\n",
    "The Python bytecode is executed by a C program!"
   ]
  },
  {
   "cell_type": "markdown",
   "id": "0b521c54-519a-43b0-a847-a6c719cd9cc9",
   "metadata": {},
   "source": [
    "Notice near the end of the bytecode listing, the operator `BINARY_OP    0`, that is executing the `+` operator. \n",
    "\n",
    "However, that `+` operator is actually doing lots of complicated work. It is getting the correct python objects, doing type-checking (int +, float +, string concat, what is the right implementation?), then performing the operation, packaging that result back into an object, etc.\n",
    "\n",
    "Lots of work, just for an addition!"
   ]
  },
  {
   "cell_type": "markdown",
   "id": "d1e6013c-bbfc-4208-882b-af1f515fbfa0",
   "metadata": {},
   "source": [
    "### Python handles low level details, such as memory allocation, bounds checking, etc."
   ]
  },
  {
   "cell_type": "markdown",
   "id": "00d17acf-7e84-4fa7-a496-ad536d675baa",
   "metadata": {},
   "source": [
    "Take a close look at this Python snippet:\n",
    "\n",
    "```python\n",
    "names_len_dict = dict()\n",
    "\n",
    "for name in ['Homer', 'Marge', 'Bart']:\n",
    "    names_len_dict[name] = len(name)\n",
    "\n",
    "do_something(names_len_dict)\n",
    "...\n",
    "\n",
    "```\n",
    "\n",
    "Notice that we are creating a dictionary dynamically. In a language like C, we have to manually allocate (`malloc`) the right amount of memory, then remember to `free` it.\n",
    "\n",
    "In python, allocation of memory is not so explicit and a _garbage collector_ monitors objects and frees them when they are no longer being used."
   ]
  },
  {
   "cell_type": "markdown",
   "id": "06538908-ea25-4bf6-9e30-24615aa3bdee",
   "metadata": {},
   "source": [
    "Even a simple loop operates differently in Python vs C:\n",
    "\n",
    "```python\n",
    "for n in ['Homer', 'Marge', 'Bart']:\n",
    "    ...\n",
    "```\n",
    "In Python, in every iteration, the interpreter makes sure that the loop does not go beyond the bounds of the list.\n",
    "\n",
    "In a C loop:\n",
    "```C\n",
    "for(int i = 0; i < 10; i ++){\n",
    "    some_list[i];\n",
    "}\n",
    "```\n",
    "It is possible that some_list only has a three elements, in which case the loop will happily access memory it should not have access to.\n",
    "\n",
    "In face, this is a well known way of hacking computers. What if you go past some_list and start accessing the part of memory where the program stores passwords?"
   ]
  },
  {
   "cell_type": "markdown",
   "id": "a0376ea5-898b-4de7-8d1a-277141530e4f",
   "metadata": {},
   "source": [
    "All this book keeping, combined with the lack of static type checking and run-time interpretation slows down the language."
   ]
  },
  {
   "cell_type": "markdown",
   "id": "d0fffabc-ad71-4d3f-aaaa-6b285899f198",
   "metadata": {},
   "source": [
    "### Why is Numpy so much faster?"
   ]
  },
  {
   "cell_type": "markdown",
   "id": "4c9dec43-935d-4af3-8049-47594ea64ce4",
   "metadata": {},
   "source": [
    "Numpy is implemented in C, the whole data structure and its values are in C. Unlike Python, where each element in a list has the full weight and complexity of `PyObject` and other Python features, such as garbage collection, Numpy's implementation bypasses all of that. This is why numpy is so much faster:"
   ]
  },
  {
   "cell_type": "code",
   "execution_count": 6,
   "id": "b1bc8b18-b6c5-47d5-b105-7412972a34b2",
   "metadata": {},
   "outputs": [],
   "source": [
    "import numpy as np"
   ]
  },
  {
   "cell_type": "code",
   "execution_count": 10,
   "id": "8a3fd237-d459-4289-858c-f96df7ec0079",
   "metadata": {},
   "outputs": [
    {
     "name": "stdout",
     "output_type": "stream",
     "text": [
      "62.4 ms ± 2.54 ms per loop (mean ± std. dev. of 7 runs, 10 loops each)\n"
     ]
    }
   ],
   "source": [
    "%timeit sum(range(10_000_000))"
   ]
  },
  {
   "cell_type": "code",
   "execution_count": 11,
   "id": "7e83a0bd-eb24-419a-ad66-d42a1598b8cf",
   "metadata": {},
   "outputs": [
    {
     "name": "stdout",
     "output_type": "stream",
     "text": [
      "6 ms ± 17.1 μs per loop (mean ± std. dev. of 7 runs, 100 loops each)\n"
     ]
    }
   ],
   "source": [
    "%timeit np.sum(np.arange(10_000_000))"
   ]
  },
  {
   "cell_type": "code",
   "execution_count": null,
   "id": "47524449-712e-4057-b417-9dac5cffdc03",
   "metadata": {},
   "outputs": [],
   "source": []
  }
 ],
 "metadata": {
  "kernelspec": {
   "display_name": "mleng",
   "language": "python",
   "name": "mleng"
  },
  "language_info": {
   "codemirror_mode": {
    "name": "ipython",
    "version": 3
   },
   "file_extension": ".py",
   "mimetype": "text/x-python",
   "name": "python",
   "nbconvert_exporter": "python",
   "pygments_lexer": "ipython3",
   "version": "3.11.11"
  }
 },
 "nbformat": 4,
 "nbformat_minor": 5
}
