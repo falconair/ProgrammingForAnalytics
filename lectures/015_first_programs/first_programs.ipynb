{
 "cells": [
  {
   "cell_type": "code",
   "execution_count": null,
   "metadata": {},
   "outputs": [],
   "source": [
    "#%conda install -c conda-forge rise"
   ]
  },
  {
   "cell_type": "markdown",
   "metadata": {
    "slideshow": {
     "slide_type": "slide"
    }
   },
   "source": [
    "# Basics of Programming\n",
    "## Some full examples to get started"
   ]
  },
  {
   "cell_type": "markdown",
   "metadata": {
    "slideshow": {
     "slide_type": "slide"
    }
   },
   "source": [
    "## The building blocks of a program are surprisingly small\n",
    "* Data: numbers, characters, strings, etc.\n",
    "* Functions and Operators: `+, -, abs(), sqrt(), print(), ...`\n",
    "* Conditionals: `if/else` statements\n",
    "* Loops: `for/while/...` loops which allow you to work with multiple items\n",
    "* Data structures: list of items, matrix of items, lookup dictionaries,..."
   ]
  },
  {
   "cell_type": "markdown",
   "metadata": {
    "slideshow": {
     "slide_type": "slide"
    }
   },
   "source": [
    "## Let's download a file containing Game Of Thrones data and explore it"
   ]
  },
  {
   "cell_type": "code",
   "execution_count": null,
   "metadata": {
    "tags": []
   },
   "outputs": [],
   "source": [
    "data_file_location = \"../../datasets/deaths-in-gameofthrones/game-of-thrones-deaths-data.csv\""
   ]
  },
  {
   "cell_type": "markdown",
   "metadata": {
    "slideshow": {
     "slide_type": "slide"
    }
   },
   "source": [
    "### Sit back and get your first look at Python\n",
    "The point of this lecture is just to show you what Python looks like. Meet Python features for the first time. We will get to know their names and characteristics throughout the rest of the semester.\n",
    "\n",
    "**You are NOT expected to learn anything yet, just open your brain and let new words, concepts and sytax flow in**\n",
    "\n",
    "BTW, does everyone know Game of Thrones?"
   ]
  },
  {
   "cell_type": "code",
   "execution_count": null,
   "metadata": {
    "slideshow": {
     "slide_type": "slide"
    },
    "tags": []
   },
   "outputs": [],
   "source": [
    "[line for line in open(data_file_location, 'r', encoding='utf8')][:10]"
   ]
  },
  {
   "cell_type": "markdown",
   "metadata": {
    "slideshow": {
     "slide_type": "slide"
    }
   },
   "source": [
    "### Open the file and look at the contents\n",
    "Let's write very simple programs to operate on this file\n",
    "1. Count the number of lines in the file\n",
    "2. How many people did Arya kill?\n",
    "3. Find the names of everyone killed by Jamie.\n",
    "4. How many people were killed in total?"
   ]
  },
  {
   "cell_type": "markdown",
   "metadata": {
    "slideshow": {
     "slide_type": "slide"
    }
   },
   "source": [
    "## Simplified example: count the number of murders\n",
    "**Pseudo code** (not real code)\n",
    "1. Set variable `counter` equal to zero\n",
    "2. Keep going through lines of the file  \n",
    "    2a. For every new line, add 1 to `counter`\n",
    "3. When done with lines in file, show `counter` "
   ]
  },
  {
   "cell_type": "markdown",
   "metadata": {
    "slideshow": {
     "slide_type": "slide"
    }
   },
   "source": [
    "## Real python: count the number of murders"
   ]
  },
  {
   "cell_type": "code",
   "execution_count": null,
   "metadata": {
    "slideshow": {
     "slide_type": "fragment"
    },
    "tags": []
   },
   "outputs": [],
   "source": [
    "counter = 0\n",
    "file = open(data_file_location, 'r', encoding='utf8')\n",
    "\n",
    "for line in file:\n",
    "    counter = counter + 1\n",
    "\n",
    "\n",
    "file.close()\n",
    "print(counter)"
   ]
  },
  {
   "cell_type": "markdown",
   "metadata": {
    "slideshow": {
     "slide_type": "fragment"
    }
   },
   "source": [
    "* Use `with open(file_name) as file` in the future\n",
    "* Notice the indentation\n",
    "* Notice that we have to close the file (real-world python has a solution for this)\n",
    "* Notice the loop\n",
    "* Find function calls\n",
    "* Find variables\n",
    "* What are types and scopes of variables?"
   ]
  },
  {
   "cell_type": "markdown",
   "metadata": {},
   "source": [
    "#### Python provides a way to avoid having to `close` files"
   ]
  },
  {
   "cell_type": "code",
   "execution_count": null,
   "metadata": {},
   "outputs": [],
   "source": [
    "counter = 0\n",
    "\n",
    "with open(data_file_location, 'r', encoding='utf8') as file:\n",
    "    for line in file:\n",
    "        counter = counter + 1\n",
    "\n",
    "print(counter)"
   ]
  },
  {
   "cell_type": "markdown",
   "metadata": {
    "slideshow": {
     "slide_type": "slide"
    }
   },
   "source": [
    "## Interesting dataset, let's see what it looks like"
   ]
  },
  {
   "cell_type": "code",
   "execution_count": null,
   "metadata": {
    "slideshow": {
     "slide_type": "fragment"
    },
    "tags": []
   },
   "outputs": [],
   "source": [
    "list(open(data_file_location, 'r', encoding='utf8'))[:5]"
   ]
  },
  {
   "cell_type": "code",
   "execution_count": null,
   "metadata": {
    "slideshow": {
     "slide_type": "fragment"
    },
    "tags": []
   },
   "outputs": [],
   "source": [
    "#Sneak peek at DS specific library\n",
    "import pandas as pd\n",
    "pd.read_csv(data_file_location).head()"
   ]
  },
  {
   "cell_type": "markdown",
   "metadata": {
    "slideshow": {
     "slide_type": "fragment"
    }
   },
   "source": [
    "https://github.com/washingtonpost/data-game-of-thrones-deaths"
   ]
  },
  {
   "cell_type": "markdown",
   "metadata": {
    "slideshow": {
     "slide_type": "slide"
    }
   },
   "source": [
    "## How many people did Arya Stark and Jon Snow kill? **Pseudo code**\n",
    "1. Set variable `jon` equal to zero\n",
    "2. Set variable `arya` equal to zero\n",
    "\n",
    "3. Keep going through lines of the file  \n",
    "    3a. For every new line, `split` at commas  \n",
    "    3b. If 4th column is \"Arya Stark\" then add 1 to variable `arya`  \n",
    "    3c. If 4th column is \"Jon Snow\" then add 1 to variable `jon`\n",
    "4. When done with lines in file, show `arya` and `jon` "
   ]
  },
  {
   "cell_type": "markdown",
   "metadata": {
    "slideshow": {
     "slide_type": "slide"
    }
   },
   "source": [
    "## How many people did Arya Stark and Jon Snow kill? **Real code**"
   ]
  },
  {
   "cell_type": "code",
   "execution_count": null,
   "metadata": {
    "slideshow": {
     "slide_type": "fragment"
    },
    "tags": []
   },
   "outputs": [],
   "source": [
    "jon  = 0 # variable containing Jon's score\n",
    "arya = 0 # variable containing Arya's score\n",
    "\n",
    "with open(data_file_location, 'r', encoding='utf8') as file:\n",
    "    #Go through each line in file\n",
    "    for line in file:\n",
    "      columns = line.split(',') #separate line into columns\n",
    "      if columns[4] == \"Arya Stark\": arya = arya + 1\n",
    "      if columns[4] == \"Jon Snow\": \n",
    "        jon = jon + 1\n",
    "\n",
    "print(\"Arya killed\", arya, \"people\")\n",
    "print(\"Jon killed\", jon, \"people\")\n"
   ]
  },
  {
   "cell_type": "code",
   "execution_count": null,
   "metadata": {},
   "outputs": [],
   "source": [
    "line"
   ]
  },
  {
   "cell_type": "code",
   "execution_count": null,
   "metadata": {
    "pycharm": {
     "name": "#%%\n"
    }
   },
   "outputs": [],
   "source": [
    "line.split(',')"
   ]
  },
  {
   "cell_type": "code",
   "execution_count": null,
   "metadata": {
    "slideshow": {
     "slide_type": "fragment"
    },
    "tags": []
   },
   "outputs": [],
   "source": [
    "#Sneak peak at \"Python For Analytics\" -- more declarative\n",
    "data_df = pd.read_csv(data_file_location)\n",
    "data_df[data_df.killer.isin([\"Arya Stark\", \"Jon Snow\"])].killer.value_counts()"
   ]
  },
  {
   "cell_type": "markdown",
   "metadata": {
    "slideshow": {
     "slide_type": "fragment"
    }
   },
   "source": [
    "* Use with open(file_name) as file\n",
    "* Notice that we are accessing the 4th item by using the index 3\n",
    "* Notice that the if statements can be 1 or 2 lines\n",
    "* Find function calls\n",
    "* Find variables\n",
    "* What are the types and scopes of variables"
   ]
  },
  {
   "cell_type": "markdown",
   "metadata": {
    "slideshow": {
     "slide_type": "slide"
    }
   },
   "source": [
    "## Who did Jaime Lannister kill: **Pseudo code**\n",
    "1. Create an empty list which will hold the names of people Jaime killed\n",
    "\n",
    "3. Keep going through lines of the file  \n",
    "    3a. For every new line, `split` at commas  \n",
    "    3b. If 4th column is \"Jaime Lannister\" then add get the name of the person killed from the 3rd column and add it to the list\n",
    "4. When done with lines in file, show the list of people killed by Jaime "
   ]
  },
  {
   "cell_type": "markdown",
   "metadata": {
    "slideshow": {
     "slide_type": "slide"
    }
   },
   "source": [
    "## Who did Jaime Lannister kill: **Real code**"
   ]
  },
  {
   "cell_type": "code",
   "execution_count": null,
   "metadata": {
    "slideshow": {
     "slide_type": "fragment"
    },
    "tags": []
   },
   "outputs": [],
   "source": [
    "killed = list() # list data structure\n",
    "\n",
    "with open(data_file_location, 'r', encoding='utf8') as file:\n",
    "    for line in file:\n",
    "      tokens = line.split(',')\n",
    "      if tokens[4] == \"Jaime Lannister\":\n",
    "        name_of_killed = tokens[3]\n",
    "        killed.append(name_of_killed)\n",
    "\n",
    "print(killed)"
   ]
  },
  {
   "cell_type": "code",
   "execution_count": null,
   "metadata": {
    "slideshow": {
     "slide_type": "fragment"
    },
    "tags": []
   },
   "outputs": [],
   "source": [
    "#Sneak peak at \"Python For Analytics\" -- more declarative\n",
    "data_df = pd.read_csv(data_file_location)\n",
    "print(list(data_df[data_df.killer == 'Jaime Lannister'].character_killed))"
   ]
  },
  {
   "cell_type": "markdown",
   "metadata": {
    "slideshow": {
     "slide_type": "fragment"
    }
   },
   "source": [
    "* Use with open(file_name) as file\n",
    "* Use variables, instead of tokens with hard coded numbers\n",
    "* How many people did he kill? (len)\n",
    "* Who was the first, last person he killed? (killed[0], killed[-1])\n",
    "* Who were the first three people he killed? (killed[0:3])"
   ]
  },
  {
   "cell_type": "markdown",
   "metadata": {
    "slideshow": {
     "slide_type": "slide"
    }
   },
   "source": [
    "## Final example: How many people did _any one_ kill? **Pseudo code**\n",
    "1. create an empty dictionary which will hold look-up keys and values\n",
    "\n",
    "3. Keep going through lines of the file\n",
    "\n",
    "    3a. For every new line, `split` at commas\n",
    "    \n",
    "    3b. look up the killer's name in column 4 and add 1 to the value\n",
    "\n",
    "4. When done with lines in file, show the contents of the dictionary"
   ]
  },
  {
   "cell_type": "code",
   "execution_count": null,
   "metadata": {},
   "outputs": [],
   "source": []
  },
  {
   "cell_type": "markdown",
   "metadata": {
    "slideshow": {
     "slide_type": "slide"
    }
   },
   "source": [
    "## How many people did _any one_ kill? **Real code**"
   ]
  },
  {
   "cell_type": "code",
   "execution_count": null,
   "metadata": {
    "slideshow": {
     "slide_type": "fragment"
    },
    "tags": []
   },
   "outputs": [],
   "source": [
    "killers = dict() # dictionary data structure\n",
    "\n",
    "with open(data_file_location, 'r', encoding='utf8') as file:\n",
    "    for line in file:\n",
    "      tokens = line.split(',')\n",
    "      if tokens[4] in killers: kill_count = killers[tokens[4]]\n",
    "      else: kill_count = 0\n",
    "      kill_count = kill_count + 1\n",
    "      killers[tokens[4]] = kill_count\n",
    "\n",
    "killers"
   ]
  },
  {
   "cell_type": "code",
   "execution_count": null,
   "metadata": {
    "tags": []
   },
   "outputs": [],
   "source": [
    "#Sneak peak at \"Python For Analytics\" -- more declarative\n",
    "data_df = pd.read_csv(data_file_location)\n",
    "data_df.killer.value_counts()"
   ]
  },
  {
   "cell_type": "markdown",
   "metadata": {},
   "source": [
    "# Create a new file, containing names of all the killers"
   ]
  },
  {
   "cell_type": "code",
   "execution_count": null,
   "metadata": {},
   "outputs": [],
   "source": [
    "killers = set() # set data structure\n",
    "\n",
    "output_file_location = \"../../datasets/deaths-in-gameofthrones/killers.csv\"\n",
    "\n",
    "with open(data_file_location, 'r', encoding='utf8') as input_file, open(output_file_location, 'w', encoding='utf8') as output_file:\n",
    "    for line in input_file:\n",
    "      tokens = line.split(',')\n",
    "      killer = tokens[4]\n",
    "      output_file.write(killer + '\\n') # notice that we have to explicitely write '\\n' for new lines\n"
   ]
  },
  {
   "cell_type": "code",
   "execution_count": null,
   "metadata": {},
   "outputs": [],
   "source": [
    "data_df = pd.read_csv(data_file_location)\n",
    "data_df[['killer']].drop_duplicates().sort_values('killer').to_csv('../../datasets/deaths-in-gameofthrones/killers_pd.csv', index=False)"
   ]
  },
  {
   "cell_type": "markdown",
   "metadata": {
    "slideshow": {
     "slide_type": "fragment"
    }
   },
   "source": [
    "Improve this:\n",
    "1. Assign tokens[4] to a variable\n",
    "2. Use += to increment\n",
    "3. Use get(key, default) (mention defaultdict(int))\n",
    "4. use killers.items() in a for loop for better formatting\n",
    "5. Notice that \"killer\" is actually a column heading!\n",
    "6. Use `with open(file_name) as file`\n",
    "\n",
    "7. How many did Jaime kill again?\n",
    "8. How many killers are there?\n",
    "9. How many dead are there?\n",
    "10. Who killed most people?\n"
   ]
  },
  {
   "cell_type": "markdown",
   "metadata": {},
   "source": [
    "Reference:\n",
    "Deaths in Game of Thrones: https://data.world/makeovermonday/2019w27"
   ]
  },
  {
   "cell_type": "code",
   "execution_count": null,
   "metadata": {},
   "outputs": [],
   "source": []
  }
 ],
 "metadata": {
  "celltoolbar": "Visualize",
  "kernelspec": {
   "display_name": "Python 3 (ipykernel)",
   "language": "python",
   "name": "python3"
  },
  "language_info": {
   "codemirror_mode": {
    "name": "ipython",
    "version": 3
   },
   "file_extension": ".py",
   "mimetype": "text/x-python",
   "name": "python",
   "nbconvert_exporter": "python",
   "pygments_lexer": "ipython3",
   "version": "3.12.4"
  },
  "vscode": {
   "interpreter": {
    "hash": "108a1df64039728e69f178110a6e255a10aba8514903b770571642a02940d2ba"
   }
  }
 },
 "nbformat": 4,
 "nbformat_minor": 4
}
