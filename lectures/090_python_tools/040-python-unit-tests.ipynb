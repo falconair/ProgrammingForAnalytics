{
 "cells": [
  {
   "cell_type": "markdown",
   "id": "c2d09fff-37d4-40c1-a1fb-6019c792ef27",
   "metadata": {},
   "source": [
    "# Unit tests\n",
    "\n",
    "Unit tests are one of the most important inddicators of professional code. They are a way to use your code with various inputs, common and corner cases, in an automated, programmatic way. The tool of our choice will by `pytest`"
   ]
  },
  {
   "cell_type": "code",
   "execution_count": null,
   "id": "91754d64-3754-408f-90fe-4637f704478d",
   "metadata": {},
   "outputs": [],
   "source": [
    "!pip install pytest"
   ]
  },
  {
   "cell_type": "markdown",
   "id": "0ad1ee61-f9aa-46b3-b69c-7cf7644a8f09",
   "metadata": {},
   "source": [
    "### Create a sample library"
   ]
  },
  {
   "cell_type": "markdown",
   "id": "614c4844-ff58-4219-a6ac-2e983f24adbb",
   "metadata": {},
   "source": [
    "Let's create a \"library\" to test"
   ]
  },
  {
   "cell_type": "code",
   "execution_count": null,
   "id": "59659c86-007e-4d2d-8852-b851fbf80af8",
   "metadata": {},
   "outputs": [],
   "source": [
    "%%writefile name_reverser.py\n",
    "# This library parses names and presents them in a professional, reverse name order\n",
    "\n",
    "def name_reverse_order(full_name):\n",
    "    first, last = full_name.split(' ')\n",
    "    return f'{last}, {first}'\n"
   ]
  },
  {
   "cell_type": "code",
   "execution_count": 10,
   "id": "7baddaaf-1eb4-4eb9-a6ee-d40ece663ef4",
   "metadata": {},
   "outputs": [],
   "source": [
    "# %load name_reverser.py\n",
    "# This library parses names and presents them in a professional, reverse name order\n",
    "\n",
    "def name_reverse_order(full_name):\n",
    "    first, last = full_name.split(' ')\n",
    "    return f'{last}, {first}'\n"
   ]
  },
  {
   "cell_type": "markdown",
   "id": "28ffa5e2-04d6-4507-8dcf-e378bc41bcff",
   "metadata": {},
   "source": [
    "Let's do a basic sanity check. Does it work?"
   ]
  },
  {
   "cell_type": "code",
   "execution_count": 2,
   "id": "b6e1e86b-bf25-4acb-a201-821dbf15e94c",
   "metadata": {},
   "outputs": [
    {
     "data": {
      "text/plain": [
       "'Jordan, Michael'"
      ]
     },
     "execution_count": 2,
     "metadata": {},
     "output_type": "execute_result"
    }
   ],
   "source": [
    "name_reverse_order(\"Michael Jordan\")"
   ]
  },
  {
   "cell_type": "markdown",
   "id": "f66d46fb-5f6a-4371-b312-91b9302464cb",
   "metadata": {},
   "source": [
    "Great! Let's try another"
   ]
  },
  {
   "cell_type": "code",
   "execution_count": 3,
   "id": "029e88d0-4086-4461-8e59-f2e65d219d65",
   "metadata": {},
   "outputs": [
    {
     "ename": "ValueError",
     "evalue": "too many values to unpack (expected 2)",
     "output_type": "error",
     "traceback": [
      "\u001b[0;31m---------------------------------------------------------------------------\u001b[0m",
      "\u001b[0;31mValueError\u001b[0m                                Traceback (most recent call last)",
      "Cell \u001b[0;32mIn[3], line 1\u001b[0m\n\u001b[0;32m----> 1\u001b[0m name_reverse_order(\u001b[38;5;124m\"\u001b[39m\u001b[38;5;124mJohn Fitzgerald Kennedy\u001b[39m\u001b[38;5;124m\"\u001b[39m)\n",
      "Cell \u001b[0;32mIn[1], line 5\u001b[0m, in \u001b[0;36mname_reverse_order\u001b[0;34m(full_name)\u001b[0m\n\u001b[1;32m      4\u001b[0m \u001b[38;5;28;01mdef\u001b[39;00m \u001b[38;5;21mname_reverse_order\u001b[39m(full_name):\n\u001b[0;32m----> 5\u001b[0m     first, last \u001b[38;5;241m=\u001b[39m full_name\u001b[38;5;241m.\u001b[39msplit(\u001b[38;5;124m'\u001b[39m\u001b[38;5;124m \u001b[39m\u001b[38;5;124m'\u001b[39m)\n\u001b[1;32m      6\u001b[0m     \u001b[38;5;28;01mreturn\u001b[39;00m \u001b[38;5;124mf\u001b[39m\u001b[38;5;124m'\u001b[39m\u001b[38;5;132;01m{\u001b[39;00mlast\u001b[38;5;132;01m}\u001b[39;00m\u001b[38;5;124m, \u001b[39m\u001b[38;5;132;01m{\u001b[39;00mfirst\u001b[38;5;132;01m}\u001b[39;00m\u001b[38;5;124m'\u001b[39m\n",
      "\u001b[0;31mValueError\u001b[0m: too many values to unpack (expected 2)"
     ]
    }
   ],
   "source": [
    "name_reverse_order(\"John Fitzgerald Kennedy\")"
   ]
  },
  {
   "cell_type": "markdown",
   "id": "3e978799-d454-466b-b9d5-9443072d4e0f",
   "metadata": {},
   "source": [
    "Yikes! Looks like our logic doesn't work.\n",
    "\n",
    "As we are coding, our testing should not just be arbitrary, done in a manual way. We can create another file which will load our code, exercise it and return the results.\n",
    "\n",
    "We can be more systematic about this by creating a _unit test_ and run it via the `pytest` command"
   ]
  },
  {
   "cell_type": "markdown",
   "id": "f1a2b815-f582-4717-9d2e-2f331236ba35",
   "metadata": {},
   "source": [
    "### Let's create some tests"
   ]
  },
  {
   "cell_type": "code",
   "execution_count": 4,
   "id": "cf3f512c-8772-4f31-9f93-356bbe91c930",
   "metadata": {},
   "outputs": [
    {
     "name": "stdout",
     "output_type": "stream",
     "text": [
      "Overwriting tests/test_name_reverser.py\n"
     ]
    }
   ],
   "source": [
    "%%writefile tests/test_name_reverser.py\n",
    "import pytest\n",
    "from name_reverser import name_reverse_order\n",
    "\n",
    "def test_name_reverse_order_normal():\n",
    "    rslt = name_reverse_order(\"Michael Jordan\")\n",
    "    assert rslt == \"Jordan, Michael\"\n",
    "    "
   ]
  },
  {
   "cell_type": "code",
   "execution_count": 5,
   "id": "d1427b81-4266-4078-8184-2ce20edd84a3",
   "metadata": {},
   "outputs": [
    {
     "name": "stdout",
     "output_type": "stream",
     "text": [
      "\u001b[1m============================= test session starts ==============================\u001b[0m\n",
      "platform darwin -- Python 3.12.7, pytest-7.4.4, pluggy-1.0.0\n",
      "rootdir: /Users/shahbaz/Documents/GitHub/ProgrammingForAnalytics/lectures/090_python_tools\n",
      "plugins: anyio-4.2.0\n",
      "collected 1 item                                                               \u001b[0m\n",
      "\n",
      "tests/test_name_reverser.py \u001b[32m.\u001b[0m\u001b[32m                                            [100%]\u001b[0m\n",
      "\n",
      "\u001b[32m============================== \u001b[32m\u001b[1m1 passed\u001b[0m\u001b[32m in 0.01s\u001b[0m\u001b[32m ===============================\u001b[0m\n"
     ]
    }
   ],
   "source": [
    "!pytest tests/test_name_reverser.py"
   ]
  },
  {
   "cell_type": "markdown",
   "id": "4adeae3a-0500-414b-84f0-90d43fc3eaea",
   "metadata": {},
   "source": [
    "#### Multiple tests in a file\n",
    "Let's add more tests"
   ]
  },
  {
   "cell_type": "code",
   "execution_count": 6,
   "id": "4ac61661-bb8e-4b62-ba73-899cdc4ef094",
   "metadata": {},
   "outputs": [
    {
     "name": "stdout",
     "output_type": "stream",
     "text": [
      "Overwriting tests/test_name_reverser.py\n"
     ]
    }
   ],
   "source": [
    "%%writefile tests/test_name_reverser.py\n",
    "import pytest\n",
    "from name_reverser import name_reverse_order\n",
    "\n",
    "def test_name_reverse_order_normal():\n",
    "    rslt = name_reverse_order(\"Michael Jordan\")\n",
    "    assert rslt == \"Jordan, Michael\"\n",
    "\n",
    "    rslt = name_reverse_order(\"Lebron James\")\n",
    "    assert rslt == \"James, Lebron\"\n",
    "\n",
    "def test_name_reverse_order_middle_names():\n",
    "    rslt = name_reverse_order(\"John F Kennedy\")\n",
    "    assert rslt == \"Kennedy, John F\"\n",
    "\n",
    "    rslt = name_reverse_order(\"Jean Luc Picard\")\n",
    "    assert rslt == \"Picard, Jean Luc\"\n"
   ]
  },
  {
   "cell_type": "code",
   "execution_count": 7,
   "id": "82bb0d55-bc2b-4654-8781-51b958414bfe",
   "metadata": {},
   "outputs": [
    {
     "name": "stdout",
     "output_type": "stream",
     "text": [
      "\u001b[1m============================= test session starts ==============================\u001b[0m\n",
      "platform darwin -- Python 3.12.7, pytest-7.4.4, pluggy-1.0.0\n",
      "rootdir: /Users/shahbaz/Documents/GitHub/ProgrammingForAnalytics/lectures/090_python_tools\n",
      "plugins: anyio-4.2.0\n",
      "collected 2 items                                                              \u001b[0m\n",
      "\n",
      "tests/test_name_reverser.py \u001b[32m.\u001b[0m\u001b[31mF\u001b[0m\u001b[31m                                           [100%]\u001b[0m\n",
      "\n",
      "=================================== FAILURES ===================================\n",
      "\u001b[31m\u001b[1m_____________________ test_name_reverse_order_middle_names _____________________\u001b[0m\n",
      "\n",
      "    \u001b[94mdef\u001b[39;49;00m \u001b[92mtest_name_reverse_order_middle_names\u001b[39;49;00m():\u001b[90m\u001b[39;49;00m\n",
      ">       rslt = name_reverse_order(\u001b[33m\"\u001b[39;49;00m\u001b[33mJohn F Kennedy\u001b[39;49;00m\u001b[33m\"\u001b[39;49;00m)\u001b[90m\u001b[39;49;00m\n",
      "\n",
      "\u001b[1m\u001b[31mtests/test_name_reverser.py\u001b[0m:12: \n",
      "_ _ _ _ _ _ _ _ _ _ _ _ _ _ _ _ _ _ _ _ _ _ _ _ _ _ _ _ _ _ _ _ _ _ _ _ _ _ _ _ \n",
      "\n",
      "full_name = 'John F Kennedy'\n",
      "\n",
      "    \u001b[94mdef\u001b[39;49;00m \u001b[92mname_reverse_order\u001b[39;49;00m(full_name):\u001b[90m\u001b[39;49;00m\n",
      "        \u001b[94mif\u001b[39;49;00m full_name == \u001b[33m\"\u001b[39;49;00m\u001b[33m\"\u001b[39;49;00m: \u001b[90m# Handle the case where an empty string is passed\u001b[39;49;00m\u001b[90m\u001b[39;49;00m\n",
      "            \u001b[94mreturn\u001b[39;49;00m \u001b[33m\"\u001b[39;49;00m\u001b[33m\"\u001b[39;49;00m\u001b[90m\u001b[39;49;00m\n",
      "        \u001b[94melse\u001b[39;49;00m:\u001b[90m\u001b[39;49;00m\n",
      ">           first, last = full_name.split(\u001b[33m'\u001b[39;49;00m\u001b[33m \u001b[39;49;00m\u001b[33m'\u001b[39;49;00m)\u001b[90m\u001b[39;49;00m\n",
      "\u001b[1m\u001b[31mE           ValueError: too many values to unpack (expected 2)\u001b[0m\n",
      "\n",
      "\u001b[1m\u001b[31mname_reverser.py\u001b[0m:7: ValueError\n",
      "\u001b[36m\u001b[1m=========================== short test summary info ============================\u001b[0m\n",
      "\u001b[31mFAILED\u001b[0m tests/test_name_reverser.py::\u001b[1mtest_name_reverse_order_middle_names\u001b[0m - ValueError: too many values to unpack (expected 2)\n",
      "\u001b[31m========================= \u001b[31m\u001b[1m1 failed\u001b[0m, \u001b[32m1 passed\u001b[0m\u001b[31m in 0.03s\u001b[0m\u001b[31m ==========================\u001b[0m\n"
     ]
    }
   ],
   "source": [
    "!pytest tests/test_name_reverser.py"
   ]
  },
  {
   "cell_type": "markdown",
   "id": "96db56ef-0636-49a4-a555-bd52d109bc0d",
   "metadata": {},
   "source": [
    "#### Corner cases that _should_ produce errors"
   ]
  },
  {
   "cell_type": "markdown",
   "id": "462e9eee-ab95-409d-bf70-db05b0a4e291",
   "metadata": {},
   "source": [
    "In fact, we should add silly corner cases."
   ]
  },
  {
   "cell_type": "code",
   "execution_count": 11,
   "id": "9c8bd237-8719-4cab-a8e9-0653cb0a5d0e",
   "metadata": {},
   "outputs": [
    {
     "name": "stdout",
     "output_type": "stream",
     "text": [
      "Overwriting tests/test_name_reverser.py\n"
     ]
    }
   ],
   "source": [
    "%%writefile tests/test_name_reverser.py\n",
    "import pytest\n",
    "from name_reverser import name_reverse_order\n",
    "\n",
    "def test_name_reverse_order_normal():\n",
    "    rslt = name_reverse_order(\"Michael Jordan\")\n",
    "    assert rslt == \"Jordan, Michael\"\n",
    "\n",
    "    rslt = name_reverse_order(\"Lebron James\")\n",
    "    assert rslt == \"James, Lebron\"\n",
    "\n",
    "def test_name_reverse_order_bad_inputs():\n",
    "\n",
    "    # Empty string\n",
    "    with pytest.raises(ValueError):\n",
    "        rslt = name_reverse_order(\"\")\n",
    "    "
   ]
  },
  {
   "cell_type": "code",
   "execution_count": 12,
   "id": "cbb69daa-f53d-49ec-ba73-f5808e58db6b",
   "metadata": {},
   "outputs": [
    {
     "name": "stdout",
     "output_type": "stream",
     "text": [
      "\u001b[1m============================= test session starts ==============================\u001b[0m\n",
      "platform darwin -- Python 3.12.7, pytest-7.4.4, pluggy-1.0.0\n",
      "rootdir: /Users/shahbaz/Documents/GitHub/ProgrammingForAnalytics/lectures/090_python_tools\n",
      "plugins: anyio-4.2.0\n",
      "collected 2 items                                                              \u001b[0m\n",
      "\n",
      "tests/test_name_reverser.py \u001b[32m.\u001b[0m\u001b[31mF\u001b[0m\u001b[31m                                           [100%]\u001b[0m\n",
      "\n",
      "=================================== FAILURES ===================================\n",
      "\u001b[31m\u001b[1m______________________ test_name_reverse_order_bad_inputs ______________________\u001b[0m\n",
      "\n",
      "    \u001b[94mdef\u001b[39;49;00m \u001b[92mtest_name_reverse_order_bad_inputs\u001b[39;49;00m():\u001b[90m\u001b[39;49;00m\n",
      "    \u001b[90m\u001b[39;49;00m\n",
      "        \u001b[90m# Empty string\u001b[39;49;00m\u001b[90m\u001b[39;49;00m\n",
      ">       \u001b[94mwith\u001b[39;49;00m pytest.raises(\u001b[96mValueError\u001b[39;49;00m):\u001b[90m\u001b[39;49;00m\n",
      "\u001b[1m\u001b[31mE       Failed: DID NOT RAISE <class 'ValueError'>\u001b[0m\n",
      "\n",
      "\u001b[1m\u001b[31mtests/test_name_reverser.py\u001b[0m:14: Failed\n",
      "\u001b[36m\u001b[1m=========================== short test summary info ============================\u001b[0m\n",
      "\u001b[31mFAILED\u001b[0m tests/test_name_reverser.py::\u001b[1mtest_name_reverse_order_bad_inputs\u001b[0m - Failed: DID NOT RAISE <class 'ValueError'>\n",
      "\u001b[31m========================= \u001b[31m\u001b[1m1 failed\u001b[0m, \u001b[32m1 passed\u001b[0m\u001b[31m in 0.02s\u001b[0m\u001b[31m ==========================\u001b[0m\n"
     ]
    }
   ],
   "source": [
    "!pytest tests/test_name_reverser.py"
   ]
  },
  {
   "cell_type": "markdown",
   "id": "9f907c97-3de9-4950-91bb-ed97bf8fa2e6",
   "metadata": {},
   "source": [
    "The error producing test passed because we _expect_ and _want_ it to produce an error in some cases"
   ]
  },
  {
   "cell_type": "markdown",
   "id": "f4c2b912-66fa-4f30-bdf8-2f81f1c60245",
   "metadata": {},
   "source": [
    "#### When expected errors aren't found\n",
    "Let's see what happens when an expected error is not found"
   ]
  },
  {
   "cell_type": "code",
   "execution_count": null,
   "id": "54ca30f3-c20d-4bd3-b54e-2a4b74e4e992",
   "metadata": {},
   "outputs": [],
   "source": [
    "%%writefile tests/test_name_reverser.py\n",
    "import pytest\n",
    "from name_reverser import name_reverse_order\n",
    "\n",
    "def test_name_reverse_order_normal():\n",
    "    rslt = name_reverse_order(\"Michael Jordan\")\n",
    "    assert rslt == \"Jordan, Michael\"\n",
    "\n",
    "    rslt = name_reverse_order(\"Lebron James\")\n",
    "    assert rslt == \"James, Lebron\"\n",
    "\n",
    "def test_name_reverse_order_bad_inputs():\n",
    "\n",
    "    # Empty string\n",
    "    with pytest.raises(ValueError):\n",
    "        rslt = name_reverse_order(\"\")\n",
    "        \n",
    "    # Too normal?\n",
    "    with pytest.raises(ValueError):\n",
    "        rslt = name_reverse_order(\"George Washington\")\n",
    "    "
   ]
  },
  {
   "cell_type": "code",
   "execution_count": null,
   "id": "d6d735aa-cf46-4c57-9d5c-c99e30a2a49f",
   "metadata": {},
   "outputs": [],
   "source": [
    "!pytest tests/test_name_reverser.py"
   ]
  },
  {
   "cell_type": "markdown",
   "id": "4a5379e7-296e-4af9-9938-2bb024b825aa",
   "metadata": {},
   "source": [
    "#### Multiple test files"
   ]
  },
  {
   "cell_type": "code",
   "execution_count": null,
   "id": "856f91b0-457c-48b5-a7fe-82dac0534046",
   "metadata": {},
   "outputs": [],
   "source": [
    "%%writefile tests/test_name_reverser.py\n",
    "import pytest\n",
    "from name_reverser import name_reverse_order\n",
    "\n",
    "def test_name_reverse_order_normal():\n",
    "    rslt = name_reverse_order(\"Michael Jordan\")\n",
    "    assert rslt == \"Jordan, Michael\"\n",
    "\n",
    "    rslt = name_reverse_order(\"Lebron James\")\n",
    "    assert rslt == \"James, Lebron\"\n",
    "\n",
    "def test_name_reverse_order_bad_inputs():\n",
    "\n",
    "    # Empty string\n",
    "    with pytest.raises(ValueError):\n",
    "        rslt = name_reverse_order(\"\")\n",
    "        "
   ]
  },
  {
   "cell_type": "code",
   "execution_count": 13,
   "id": "0d96abca-bf79-41aa-aea9-dd7dff11232f",
   "metadata": {},
   "outputs": [
    {
     "name": "stdout",
     "output_type": "stream",
     "text": [
      "Overwriting tests/test_name_reverser_part_deux.py\n"
     ]
    }
   ],
   "source": [
    "%%writefile tests/test_name_reverser_part_deux.py\n",
    "import pytest\n",
    "from name_reverser import name_reverse_order\n",
    "\n",
    "def test_name_reverse_order_normal():\n",
    "    rslt = name_reverse_order(\"Michael Jordan\")\n",
    "    assert rslt == \"Jordan, Michael\"\n",
    "\n",
    "    rslt = name_reverse_order(\"Lebron James\")\n",
    "    assert rslt == \"James, Lebron\"\n",
    "\n",
    "def test_name_reverse_order_bad_inputs():\n",
    "\n",
    "    # Empty string\n",
    "    with pytest.raises(ValueError):\n",
    "        rslt = name_reverse_order(\"\")\n",
    "        "
   ]
  },
  {
   "cell_type": "code",
   "execution_count": null,
   "id": "551bebe3-9192-4124-bfcc-3bc707672c48",
   "metadata": {},
   "outputs": [],
   "source": [
    "!pytest tests/"
   ]
  },
  {
   "cell_type": "markdown",
   "id": "2a4749c4-1ee7-466f-bf2d-6ab746968f44",
   "metadata": {},
   "source": [
    "### Tests before code: test driven development"
   ]
  },
  {
   "cell_type": "markdown",
   "id": "fe0dd0fd-6753-4c69-99ce-79cdcf3540ca",
   "metadata": {},
   "source": [
    "A very interesting technique is to write unit test **before** writing the actual code! This turns unit tests from a QA related task to a spec, which the final program must pass.\n",
    "\n",
    "Senior developers are write unit tests and hand them to more junion developers. Junior developers now know _exactly_ what the interface will look like, what the inputs will look like and what the scope of the project will be.\n",
    "\n",
    "This is also a fantastic technique to get the programmers to think about how their code will be used."
   ]
  },
  {
   "cell_type": "markdown",
   "id": "db953e8e-c1ca-452f-9e4b-4b34a439fdf8",
   "metadata": {},
   "source": [
    "### Code coverage tools track which parts of code are NOT covered by tests"
   ]
  },
  {
   "cell_type": "code",
   "execution_count": null,
   "id": "2b7c972c-e003-4eb4-a041-57655f8046f7",
   "metadata": {},
   "outputs": [],
   "source": [
    "!pip install coverage"
   ]
  },
  {
   "cell_type": "code",
   "execution_count": 14,
   "id": "da05ee54-bdfd-48e5-a186-332e43e194b9",
   "metadata": {},
   "outputs": [
    {
     "name": "stdout",
     "output_type": "stream",
     "text": [
      "Overwriting name_reverser.py\n"
     ]
    }
   ],
   "source": [
    "%%writefile name_reverser.py\n",
    "# This library parses names and presents them in a professional, reverse name order\n",
    "\n",
    "def name_reverse_order(full_name):\n",
    "    if full_name == \"\": # Handle the case where an empty string is passed\n",
    "        return \"\"\n",
    "    else:\n",
    "        first, last = full_name.split(' ')\n",
    "        return f'{last}, {first}'\n"
   ]
  },
  {
   "cell_type": "code",
   "execution_count": 15,
   "id": "a0dae67c-3ebb-4223-b72c-ce9704140ad2",
   "metadata": {},
   "outputs": [
    {
     "name": "stdout",
     "output_type": "stream",
     "text": [
      "Overwriting tests/test_name_reverser.py\n"
     ]
    }
   ],
   "source": [
    "%%writefile tests/test_name_reverser.py\n",
    "import pytest\n",
    "from name_reverser import name_reverse_order\n",
    "\n",
    "def test_name_reverse_order_normal():\n",
    "    rslt = name_reverse_order(\"Michael Jordan\")\n",
    "    assert rslt == \"Jordan, Michael\"\n",
    "\n",
    "    rslt = name_reverse_order(\"Lebron James\")\n",
    "    assert rslt == \"James, Lebron\"\n",
    "\n"
   ]
  },
  {
   "cell_type": "code",
   "execution_count": null,
   "id": "370a4fcb-1f12-4edf-9c81-9d95ccb351cc",
   "metadata": {},
   "outputs": [],
   "source": [
    "!pytest tests/test_name_reverser.py"
   ]
  },
  {
   "cell_type": "code",
   "execution_count": null,
   "id": "9e4a1c96-fafb-40bf-befe-b4ec336911cd",
   "metadata": {},
   "outputs": [],
   "source": [
    "!coverage run -m pytest tests/test_name_reverser.py"
   ]
  },
  {
   "cell_type": "code",
   "execution_count": null,
   "id": "2802f578-7b71-429e-80ce-5a0aa0f8d7c2",
   "metadata": {},
   "outputs": [],
   "source": [
    "!coverage report"
   ]
  },
  {
   "cell_type": "markdown",
   "id": "c0c4a109-a5d7-447c-b70e-6116b888fd51",
   "metadata": {},
   "source": [
    "#### A visual report!"
   ]
  },
  {
   "cell_type": "code",
   "execution_count": null,
   "id": "348890d5-0401-4b90-98ab-3437fae022c2",
   "metadata": {},
   "outputs": [],
   "source": [
    "!coverage html"
   ]
  },
  {
   "cell_type": "markdown",
   "id": "bac76efd-d2e5-4bae-b801-4968994e756c",
   "metadata": {},
   "source": [
    "Now load the file htmlcov\\index.html from your _browser_ to see the source code, annotated with which lines were not covered by your tests!"
   ]
  },
  {
   "cell_type": "markdown",
   "id": "8ce8f87b-73ff-46b4-a56d-da26415ce06f",
   "metadata": {},
   "source": [
    "### Make your test run after every commit on GitHub"
   ]
  },
  {
   "cell_type": "markdown",
   "id": "3e911862-199f-4779-a3bd-fab0df08f91d",
   "metadata": {},
   "source": [
    "```yaml\n",
    "name: Run Unit Test via Pytest  \n",
    "  \n",
    "on: [push]  \n",
    "  \n",
    "jobs:  \n",
    "  build:  \n",
    "    runs-on: ubuntu-latest  \n",
    "    strategy:  \n",
    "      matrix:  \n",
    "        python-version: [\"3.10\", \"3.11\", \"3.12\"]  \n",
    "  \n",
    "    steps:  \n",
    "      - uses: actions/checkout@v3  \n",
    "      - name: Set up Python ${{ matrix.python-version }}  \n",
    "        uses: actions/setup-python@v4  \n",
    "        with:  \n",
    "          python-version: ${{ matrix.python-version }}  \n",
    "      - name: Install dependencies  \n",
    "        run: |  \n",
    "          python -m pip install --upgrade pip  \n",
    "          if [ -f requirements.txt ]; then pip install -r requirements.txt; fi  \n",
    "      - name: Test with pytest  \n",
    "        run: |  \n",
    "          pytest tests/ \n",
    "      - name: Generate Coverage Report  \n",
    "        run: |  \n",
    "          coverage report -m\n",
    "\n",
    "```\n",
    "\n",
    "source: https://pytest-with-eric.com/integrations/pytest-github-actions/"
   ]
  },
  {
   "cell_type": "markdown",
   "id": "477d2908-0da6-4adf-93a6-82315d3811a9",
   "metadata": {},
   "source": [
    "Keep this file in `.github/workflows/run_unit_tests.yml`"
   ]
  },
  {
   "cell_type": "code",
   "execution_count": null,
   "id": "70740365-eb8a-4055-8b2a-c8a7cfc85c54",
   "metadata": {},
   "outputs": [],
   "source": []
  }
 ],
 "metadata": {
  "kernelspec": {
   "display_name": "mleng",
   "language": "python",
   "name": "mleng"
  },
  "language_info": {
   "codemirror_mode": {
    "name": "ipython",
    "version": 3
   },
   "file_extension": ".py",
   "mimetype": "text/x-python",
   "name": "python",
   "nbconvert_exporter": "python",
   "pygments_lexer": "ipython3",
   "version": "3.11.11"
  }
 },
 "nbformat": 4,
 "nbformat_minor": 5
}
