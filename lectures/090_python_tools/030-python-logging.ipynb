{
 "cells": [
  {
   "cell_type": "markdown",
   "id": "df44ac34-bf12-46ed-be09-89ca4818e871",
   "metadata": {},
   "source": [
    "# Python Logging"
   ]
  },
  {
   "cell_type": "markdown",
   "id": "c16c12f7-874d-48de-afa3-be13b93ce02e",
   "metadata": {},
   "source": [
    "Printing text to screen, in a running program, usually has two purposes:\n",
    "\n",
    "### Debug statements\n",
    "Programmers will output values of variables and steps of a program to help them debug errors. This allows them to view the internal state of a program as it runs. As we saw in the _debugger_ notebook, breakpoints are usually more effective in finding bug.\n",
    "\n",
    "### Logging statements\n",
    "There are times when you want to record parts of the internal state of a program for posterity. If the program performs in an errant manner (perhaps due to a bug, perhaps due to an error in the environment where the program was run), you want a record of it. "
   ]
  },
  {
   "cell_type": "code",
   "execution_count": null,
   "id": "72f48a5f-6060-4656-9bdd-4750420601f5",
   "metadata": {
    "tags": []
   },
   "outputs": [],
   "source": [
    "i_val = 5\n",
    "j_val = 5\n",
    "\n",
    "total = 0\n",
    "\n",
    "for i in range(i_val):\n",
    "    for j in range(j_val):\n",
    "        total += i + j\n",
    "        print(\"Current values of i, j and total:\", i, j, total) # <= This is TOO much detail, don't leave this in the final program\n",
    "\n",
    "if total > 100: print(\"ERROR: Values must never exceed 100\")\n",
    "else: print(\"Program executed normally and the total value is\", total)"
   ]
  },
  {
   "cell_type": "markdown",
   "id": "b86a008e-9f15-459a-9075-b966f49102f1",
   "metadata": {},
   "source": [
    "## Python's built-in logging library"
   ]
  },
  {
   "cell_type": "code",
   "execution_count": null,
   "id": "1e7550bb-cfb4-4ec2-9461-def0ec8a0f27",
   "metadata": {
    "tags": []
   },
   "outputs": [],
   "source": [
    "import logging"
   ]
  },
  {
   "cell_type": "code",
   "execution_count": null,
   "id": "9764f5e3-acdf-4c3d-9db7-7e8405758222",
   "metadata": {
    "tags": []
   },
   "outputs": [],
   "source": [
    "i_val = 5\n",
    "j_val = 6\n",
    "\n",
    "total = 0\n",
    "\n",
    "for i in range(i_val):\n",
    "    for j in range(j_val):\n",
    "        total += i + j\n",
    "        logging.debug(\"Current values of i, j and total:\", i, j, total) # <= This is TOO much detail, don't leave this in the final program\n",
    "\n",
    "if total > 100: logging.error(\"ERROR: Values must never exceed 100\")\n",
    "else: logging.info(\"Program executed normally and the total value is\", total)\n",
    "\n",
    "logging.info(\"Program complete\")"
   ]
  },
  {
   "cell_type": "markdown",
   "id": "ec6361b9-fe3f-4bd2-bc0f-cc33a5696f15",
   "metadata": {},
   "source": [
    "Python logging library is a very powerful utility, based on Java's _log4j_ library. Logging is often one of the ways professional code is different from student code.\n",
    "\n",
    "Note that only the `error` message is printed. Python's logging library provides 5 (relevant) logging levels, in order of increasing importance:\n",
    "* `logging.debug()`\n",
    "* `logging.info()`\n",
    "* `logging.warning()` <= Python's default logging level (this, `error` and `critical` are enabled by default)\n",
    "* `logging.error()`\n",
    "* `logging.critical()`"
   ]
  },
  {
   "cell_type": "markdown",
   "id": "95e7141d-3e26-4da2-8561-e96a1bd47c19",
   "metadata": {},
   "source": [
    "The names are self-explanatory. Instead of writing message to the console with a single `print()` statement, you can now segregate them by priority. Under normal conditions, `warning`, `error` and `critical` messages are printed. You can think of their importance as:\n",
    "\n",
    "* `warning`: Something unexpected has happened, perhaps an unexpected if/else clause was executed or perhaps an unexpected input value was received. This may or may not be a big deal.\n",
    "* `error`: Something wrong has happened! \n",
    "* `critical`: This program is about to go bye bye. \n",
    "\n",
    "Note that `critical` is not always used. Often the distinction between `error` and `critical` is not necessary."
   ]
  },
  {
   "cell_type": "markdown",
   "id": "cb82e36e-bcde-4e4f-b612-65c45b469876",
   "metadata": {},
   "source": [
    "Message levels `debug` and `info` are not printed by default. Note that _log4j_'s default was `info`, not warning. In other words, all messages of priority `info` and higher were printed. Python increases the default to `warning`. I do not agree with this decision.\n",
    "\n",
    "Here is how these two levels are used:\n",
    "* `debug`: Debug messages generally display values of variables we already know. We don't need to print them. Howver, if a program start acting up, debug logs can be enabled to peek into programs more closely.\n",
    "* `info`: This is the most common level used by programmers. This is what you want to see as your program is running. This helps to confirm that your program is making progress, responding to client requests, etc.\n",
    "\n",
    "The `log4j` library provides a priority lower than `debug`, called `trace`. You use `trace` to log far more detail than you would ever need. I tis generally not used, unless the programmer is losign his or her mind trying to track down errors."
   ]
  },
  {
   "cell_type": "markdown",
   "id": "813b0fd4-3345-4678-a296-c1ed13ab76f7",
   "metadata": {},
   "source": [
    "#### Please note that for the remainder of this lecture, we will assume that code is being run in a .py file, on the command line. \n",
    "Jupyter interferes with Python's logging (there are work=arounds, but add more complexity than we need at this point in the lecture)"
   ]
  },
  {
   "cell_type": "markdown",
   "id": "eabb73d9-14b8-43aa-aa24-9694c2968217",
   "metadata": {},
   "source": [
    "You can change the default logging level:"
   ]
  },
  {
   "cell_type": "code",
   "execution_count": null,
   "id": "6b2df7f8-d19a-4e08-8535-0a06e5c06bb4",
   "metadata": {
    "tags": []
   },
   "outputs": [],
   "source": [
    "import logging\n",
    "\n",
    "logging.basicConfig(level=logging.INFO)\n",
    "\n",
    "\n",
    "def maximum(numbers):\n",
    "    #pass # pass means \"do nothing\", add your code here\n",
    "    max_value = 0\n",
    "    for num in numbers:\n",
    "        logging.debug(f\"num:{num}, max_value:{max_value}\")\n",
    "        if num > max_value:\n",
    "            logging.debug(\"max > max_value branch taken. Setting new max_value\")\n",
    "            max_value = num\n",
    "    return max_value\n",
    "\n",
    "def main():\n",
    "    logging.info(\"Let us find the maximum value from the following list:\")\n",
    "    list_of_nums = [1,2,3]\n",
    "    max_value = maximum(list_of_nums)\n",
    "    logging.info(max_value)\n",
    "\n",
    "    logging.info(\"Let us find the maximum value from another list:\")\n",
    "    list_of_nums = [-1, -2, -3]\n",
    "    max_value = maximum(list_of_nums)\n",
    "    logging.info(max_value)\n",
    "    \n",
    "if __name__ == \"__main__\":\n",
    "    logging.warning(f\"This program is being run from the command line\")\n",
    "    main()\n"
   ]
  },
  {
   "cell_type": "markdown",
   "id": "d20fe227-ee78-4eb3-80ac-5899bfcd7814",
   "metadata": {},
   "source": [
    "## Why can't you just do `print(\"INFO: answering client query XYZ\")`?"
   ]
  },
  {
   "cell_type": "markdown",
   "id": "47632434-ab06-4b87-9250-c34f7fddc409",
   "metadata": {},
   "source": [
    "#### Admins can control logging level after the program is deployed"
   ]
  },
  {
   "cell_type": "markdown",
   "id": "0e839ec4-d008-4faf-9bb6-4b487b136a50",
   "metadata": {},
   "source": [
    "In the code above, we simply imported the logging library and started using it. This is perfectly fine for small programs or programs which run on an enviornmet you control. However, deploying in a more restricted enviornment is very different. What if you program is running on a tightly controlled server or perhaps even on a client's computer. Do you ask your client to edit yoru code and change the default logging level Clearly not!"
   ]
  },
  {
   "cell_type": "markdown",
   "id": "caa9bfeb-c337-4904-880c-a9b6fcfb7113",
   "metadata": {},
   "source": [
    "_logging.json_\n",
    "\n",
    "```json\n",
    "{\n",
    "    \"version\": 1,\n",
    "    \"handlers\": {\n",
    "        \"console\": {\n",
    "            \"class\": \"logging.StreamHandler\",\n",
    "            \"level\": \"DEBUG\",\n",
    "            \"stream\": \"ext://sys.stdout\"\n",
    "        }\n",
    "    },\n",
    "    \"loggers\": {\n",
    "        \"root\": {\n",
    "            \"level\": \"DEBUG\",\n",
    "            \"handlers\": [\"console\"]\n",
    "        }\n",
    "    }\n",
    "}\n",
    "```\n",
    "\n",
    "Source: https://gist.github.com/panamantis/5797dda98b1fa6fab2f739a7aacc5e9d"
   ]
  },
  {
   "cell_type": "code",
   "execution_count": null,
   "id": "94a54ea0-0959-4431-bcf7-e3930ab18eb8",
   "metadata": {},
   "outputs": [],
   "source": [
    "import logging.config\n",
    "import json\n",
    "\n",
    "with open(\"logging.json\", \"r\") as f:\n",
    "        json_config = json.load(f)\n",
    "        logging.config.dictConfig(json_config)\n",
    "\n",
    "def maximum(numbers):\n",
    "    #pass # pass means \"do nothing\", add your code here\n",
    "    max_value = 0\n",
    "    for num in numbers:\n",
    "        logging.debug(f\"num:{num}, max_value:{max_value}\")\n",
    "        if num > max_value:\n",
    "            logging.debug(\"max > max_value branch taken. Setting new max_value\")\n",
    "            max_value = num\n",
    "    return max_value\n",
    "\n",
    "def main():\n",
    "    logging.info(\"Let us find the maximum value from the following list:\")\n",
    "    list_of_nums = [1,2,3]\n",
    "    max_value = maximum(list_of_nums)\n",
    "    logging.info(max_value)\n",
    "\n",
    "    logging.info(\"Let us find the maximum value from another list:\")\n",
    "    list_of_nums = [-1, -2, -3]\n",
    "    max_value = maximum(list_of_nums)\n",
    "    logging.info(max_value)\n",
    "    \n",
    "if __name__ == \"__main__\":\n",
    "    logging.warning(f\"This program is being run from the command line\")\n",
    "    main()\n"
   ]
  },
  {
   "cell_type": "markdown",
   "id": "9dbfa472-47a4-47eb-bc00-b5a28cb6a446",
   "metadata": {},
   "source": [
    "```\n",
    "This program is being run from the command line\n",
    "Let us find the maximum value from the following list:\n",
    "num:1, max_value:0\n",
    "max > max_value branch taken. Setting new max_value\n",
    "num:2, max_value:1\n",
    "max > max_value branch taken. Setting new max_value\n",
    "num:3, max_value:2\n",
    "max > max_value branch taken. Setting new max_value\n",
    "3\n",
    "Let us find the maximum value from another list:\n",
    "num:-1, max_value:0\n",
    "num:-2, max_value:0\n",
    "num:-3, max_value:0\n",
    "0\n",
    "```"
   ]
  },
  {
   "cell_type": "markdown",
   "id": "127afcd8-c88f-48c4-ada9-a889421f55ec",
   "metadata": {},
   "source": [
    "Notice that system admins can now control the logging of this application, without ever touching the code!"
   ]
  },
  {
   "cell_type": "markdown",
   "id": "b96582b9-180f-47c5-a72a-14a6521b5243",
   "metadata": {},
   "source": [
    "#### The _format_ of the logs can be changed\n",
    "While writing code, programmers may not be very dilligent about recording information which may not be relevant to the problem they are currently solving. Things like timestamps are very important -- necesary even. The _logging_ module lets you control this"
   ]
  },
  {
   "cell_type": "markdown",
   "id": "1690196b-6d85-494f-bdfa-c261f71a5bbb",
   "metadata": {},
   "source": [
    "_logging.json_\n",
    "\n",
    "Notice the `formatters` section as well sa the `\"formatter\": \"simple\",` entry in the `handlers` section\n",
    "```json\n",
    "{\n",
    "    \"version\": 1,\n",
    "    \"formatters\": {\n",
    "        \"simple\": {\n",
    "            \"format\": \"%(asctime)s - %(name)s - %(levelname)s - %(message)s\"\n",
    "        }\n",
    "    },\n",
    "    \"handlers\": {\n",
    "        \"console\": {\n",
    "            \"class\": \"logging.StreamHandler\",\n",
    "            \"level\": \"DEBUG\",\n",
    "            \"formatter\": \"simple\",\n",
    "            \"stream\": \"ext://sys.stdout\"\n",
    "        }\n",
    "    },\n",
    "    \"loggers\": {\n",
    "        \"root\": {\n",
    "            \"level\": \"DEBUG\",\n",
    "            \"handlers\": [\"console\"]\n",
    "        }\n",
    "    }\n",
    "}\n",
    "```\n",
    "\n",
    "We are adding additional information:\n",
    "* `asctime`: Timestamp\n",
    "* `name`: Name of the logger\n",
    "* `levelname`: _debug_, _info_, etc.\n",
    "* `message`: Actual text"
   ]
  },
  {
   "cell_type": "markdown",
   "id": "24bee20e-59a6-4ea3-86ba-f20b3908eb32",
   "metadata": {},
   "source": [
    "WIthout changing a single line in the code, the output now looks like this:\n",
    "```\n",
    "2024-03-01 21:19:03,386 - root - WARNING - This program is being run from the command line\n",
    "2024-03-01 21:19:03,386 - root - INFO - Let us find the maximum value from the following list:\n",
    "2024-03-01 21:19:03,386 - root - DEBUG - num:1, max_value:0\n",
    "2024-03-01 21:19:03,386 - root - DEBUG - max > max_value branch taken. Setting new max_value\n",
    "2024-03-01 21:19:03,386 - root - DEBUG - num:2, max_value:1\n",
    "2024-03-01 21:19:03,386 - root - DEBUG - max > max_value branch taken. Setting new max_value\n",
    "2024-03-01 21:19:03,386 - root - DEBUG - num:3, max_value:2\n",
    "2024-03-01 21:19:03,386 - root - DEBUG - max > max_value branch taken. Setting new max_value\n",
    "2024-03-01 21:19:03,394 - root - INFO - 3\n",
    "2024-03-01 21:19:03,394 - root - INFO - Let us find the maximum value from another list:\n",
    "2024-03-01 21:19:03,394 - root - DEBUG - num:-1, max_value:0\n",
    "2024-03-01 21:19:03,394 - root - DEBUG - num:-2, max_value:0\n",
    "2024-03-01 21:19:03,394 - root - DEBUG - num:-3, max_value:0\n",
    "2024-03-01 21:19:03,394 - root - INFO - 0\n",
    "```"
   ]
  },
  {
   "cell_type": "markdown",
   "id": "96f672c3-457a-4ce4-9575-9ed30fc42586",
   "metadata": {},
   "source": [
    "#### File or module specific logger can provide even more useful information\n",
    "As the current output shows, there is no way for us to know _which_ file or library produced these logs. If you program consists of multiple libraries, it is useful to make the logger name more specific"
   ]
  },
  {
   "cell_type": "code",
   "execution_count": null,
   "id": "645fd11f-629e-4a71-8ff7-bdd357f9250c",
   "metadata": {},
   "outputs": [],
   "source": [
    "import logging.config\n",
    "import json\n",
    "import os\n",
    "\n",
    "with open(\"logging.json\", \"r\") as f:\n",
    "        json_config = json.load(f)\n",
    "        logging.config.dictConfig(json_config)\n",
    "\n",
    "fname = os.path.basename(__file__)\n",
    "log = logging.getLogger(fname) # <= This lines makes the logger name more useful\n",
    "\n",
    "def maximum(numbers):\n",
    "    #pass # pass means \"do nothing\", add your code here\n",
    "    max_value = 0\n",
    "    for num in numbers:\n",
    "        log.debug(f\"num:{num}, max_value:{max_value}\")\n",
    "        if num > max_value:\n",
    "            log.debug(\"max > max_value branch taken. Setting new max_value\")\n",
    "            max_value = num\n",
    "    return max_value\n",
    "\n",
    "def main():\n",
    "    log.info(\"Let us find the maximum value from the following list:\")\n",
    "    list_of_nums = [1,2,3]\n",
    "    max_value = maximum(list_of_nums)\n",
    "    log.info(max_value)\n",
    "\n",
    "    log.info(\"Let us find the maximum value from another list:\")\n",
    "    list_of_nums = [-1, -2, -3]\n",
    "    max_value = maximum(list_of_nums)\n",
    "    log.info(max_value)\n",
    "    \n",
    "if __name__ == \"__main__\":\n",
    "    log.warning(f\"This program is being run from the command line\")\n",
    "    main()\n"
   ]
  },
  {
   "cell_type": "markdown",
   "id": "2cc9d1c7-f2c8-42c8-923c-624ddcbf3b58",
   "metadata": {},
   "source": [
    "Output:\n",
    "```\n",
    "2024-03-01 21:34:27,510 - maximum_bad_logging.py - WARNING - This program is being run from the command line\n",
    "2024-03-01 21:34:27,510 - maximum_bad_logging.py - INFO - Let us find the maximum value from the following list:\n",
    "2024-03-01 21:34:27,510 - maximum_bad_logging.py - DEBUG - num:1, max_value:0\n",
    "2024-03-01 21:34:27,510 - maximum_bad_logging.py - DEBUG - max > max_value branch taken. Setting new max_value\n",
    "2024-03-01 21:34:27,510 - maximum_bad_logging.py - DEBUG - num:2, max_value:1\n",
    "2024-03-01 21:34:27,510 - maximum_bad_logging.py - DEBUG - max > max_value branch taken. Setting new max_value\n",
    "2024-03-01 21:34:27,510 - maximum_bad_logging.py - DEBUG - num:3, max_value:2\n",
    "2024-03-01 21:34:27,510 - maximum_bad_logging.py - DEBUG - max > max_value branch taken. Setting new max_value\n",
    "2024-03-01 21:34:27,510 - maximum_bad_logging.py - INFO - 3\n",
    "2024-03-01 21:34:27,510 - maximum_bad_logging.py - INFO - Let us find the maximum value from another list:\n",
    "2024-03-01 21:34:27,510 - maximum_bad_logging.py - DEBUG - num:-1, max_value:0\n",
    "2024-03-01 21:34:27,510 - maximum_bad_logging.py - DEBUG - num:-2, max_value:0\n",
    "2024-03-01 21:34:27,510 - maximum_bad_logging.py - DEBUG - num:-3, max_value:0\n",
    "2024-03-01 21:34:27,510 - maximum_bad_logging.py - INFO - 0\n",
    "```"
   ]
  },
  {
   "cell_type": "markdown",
   "id": "3155075f-4c85-4fcf-af7d-62162286d14d",
   "metadata": {},
   "source": [
    "#### These logs are just being written to the console, do we have to redirect output to a file?\n",
    "If a program is writing output to a console, most command line shells will let you redirect the output to a file `python maximum_bad_logging.py > mbl.log`. \n",
    "\n",
    "The _logging_ library provides a better solution"
   ]
  },
  {
   "cell_type": "markdown",
   "id": "ba1f7c8e-6e56-45fc-bb90-f148f74daee5",
   "metadata": {},
   "source": [
    "_logging.json_\n",
    "\n",
    "Notice that we have added a new `handler` called `file`. The `loggers.root.handlers` section now also lists `\"file\"` in the list\n",
    "```\n",
    "{\n",
    "    \"version\": 1,\n",
    "    \"formatters\": {\n",
    "        \"simple\": {\n",
    "            \"format\": \"%(asctime)s - %(name)s - %(levelname)s - %(message)s\"\n",
    "        }\n",
    "    },\n",
    "    \"handlers\": {\n",
    "        \"console\": {\n",
    "            \"class\": \"logging.StreamHandler\",\n",
    "            \"level\": \"DEBUG\",\n",
    "            \"formatter\": \"simple\",\n",
    "            \"stream\": \"ext://sys.stdout\"\n",
    "        },\n",
    "        \"file\": {\n",
    "            \"class\": \"logging.handlers.TimedRotatingFileHandler\",\n",
    "            \"level\": \"DEBUG\",\n",
    "            \"formatter\": \"simple\",\n",
    "            \"when\": \"D\",\n",
    "            \"backupCount\": 0,\n",
    "            \"filename\": \"./maximum_bad_logging.log\"\n",
    "        }\n",
    "    },\n",
    "    \"loggers\": {\n",
    "        \"root\": {\n",
    "            \"level\": \"DEBUG\",\n",
    "            \"handlers\": [\"console\", \"file\"]\n",
    "        }\n",
    "    }\n",
    "}\n",
    "```"
   ]
  },
  {
   "cell_type": "markdown",
   "id": "3d4cabca-1f88-4b3f-8dd2-b3aef9aa5e8c",
   "metadata": {},
   "source": [
    "The console output is exactly the same, but now there is also a file containing the logs. Note that we are using the `TimedRotatingFileHandler` above, which will roll over the log every day and _automatically_ protect your logs! This is VERY useful for long running processes, such as application servers."
   ]
  },
  {
   "cell_type": "markdown",
   "id": "e6a5dc48-2bcf-44e8-b43d-b531c356f45f",
   "metadata": {},
   "source": [
    "Here are interesting _FileHandlers_ in the _logging_ library. Note that they are presented here only to show how powerful (and over the top) logging can get. Students are encouraged to keep things simple:\n",
    "\n",
    "* `NullHandler`: Doesn't do anything\n",
    "* `WatchedFileHandler`: \" ...watches the file it is logging to. If the file changes, it is closed and reopened using the file name. A file change can happen because of usage of programs such as newsyslog and logrotate which perform log file rotation.\"\n",
    "* `RotatingFileHandler`: \" supports rotation of disk log files.\"\n",
    "* `TimedRotatingFileHandler`: \"supports rotation of disk log files at certain timed intervals.\"\n",
    "* `SocketHandler`: \"sends logging output to a network socket.\"\n",
    "* `SysLogHandler`: \" supports sending logging messages to a remote or local Unix syslog.\"\n",
    "* `NTEventLogHandler`: \"supports sending logging messages to a local Windows NT, Windows 2000 or Windows XP event log\"\n",
    "* `SMTPHandler`: \" supports sending logging messages to an email address via SMTP.\"\n",
    "* `MemoryHandler`: \" supports buffering of logging records in memory, periodically flushing them to a target handler. Flushing occurs whenever the buffer is full, or when an event of a certain severity or greater is seen.\"\n",
    "* `HTTPHandler`: \" supports sending logging messages to a web server, using either GET or POST semantics.\"\n",
    "* `QueueHandler`: \"supports sending logging messages to a queue, such as those implemented in the queue or multiprocessing modules\"\n",
    "\n",
    "(quoted text copied directly from Python docs)"
   ]
  },
  {
   "cell_type": "markdown",
   "id": "d3d961ac-94e6-4e3a-a0c1-d70afd6a7639",
   "metadata": {},
   "source": [
    "#### Logging can be very expensive! Don't execute discarded logs\n",
    "A pattern common in Java (remember that _logging_ is inspired by log4java), but not seen as much in Python is to wrap uncommon logging statements in an `if` clause:\n",
    "\n",
    "```python\n",
    "log.debug(f\"The value of total is {complicatedTotalCalculation()}\")\n",
    "log.info(\"Process complete\")\n",
    "```\n",
    "\n",
    "Let's say that the default logging level is set to `info`, which means that the `debug` statement will not be logged.\n",
    "\n",
    "The `debug` statement will STILL BE EXECUTED! It will just get filtered out before it is logged to console or file! Particularly the `complicatedTotalCalculation` function will be executed, even if its value is thrown away!\n",
    "\n",
    "Java developers use this pattern:\n",
    "\n",
    "```python\n",
    "if log.getEffectiveLevel() == logging.DEBUG: log.debug(f\"The value of total is {complicatedTotalCalculation()}\")\n",
    "if log.getEffectiveLevel() == logging.INFO: log.info(\"Process complete\")\n",
    "```\n",
    "\n",
    "Notice how this only executes the log statement if that level of log is actually enabled. It does make the code look terribe but if your program is littered with `debug` statements, when the default level is set to `info`, such optimizations may be useful."
   ]
  },
  {
   "cell_type": "markdown",
   "id": "9b8da98f-4b20-4f1b-af8b-015b3f1d37cd",
   "metadata": {},
   "source": [
    "#### Logging can be very expensive! Look into async logs\n",
    "Most logging statements are blocking (see asyncio section for more details). Python now provides facilities to log in a non-blocking manner. See the docs for `QueueHandler`. A nice overview is provided in this blog: https://medium.com/@augustomen/using-logging-asynchronously-c8e854de874c "
   ]
  },
  {
   "cell_type": "code",
   "execution_count": null,
   "id": "8feace9a-a62c-4374-aff9-340d0c29a403",
   "metadata": {},
   "outputs": [],
   "source": []
  }
 ],
 "metadata": {
  "kernelspec": {
   "display_name": "Python 3 (ipykernel)",
   "language": "python",
   "name": "python3"
  },
  "language_info": {
   "codemirror_mode": {
    "name": "ipython",
    "version": 3
   },
   "file_extension": ".py",
   "mimetype": "text/x-python",
   "name": "python",
   "nbconvert_exporter": "python",
   "pygments_lexer": "ipython3",
   "version": "3.12.7"
  }
 },
 "nbformat": 4,
 "nbformat_minor": 5
}
