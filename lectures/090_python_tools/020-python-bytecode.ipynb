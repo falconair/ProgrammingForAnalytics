{
 "cells": [
  {
   "cell_type": "code",
   "execution_count": 1,
   "id": "648ac726-3cb0-4744-a463-fb8dd32c87f4",
   "metadata": {
    "tags": []
   },
   "outputs": [],
   "source": [
    "import dis"
   ]
  },
  {
   "cell_type": "code",
   "execution_count": 2,
   "id": "92d3ec11-5bda-4686-8feb-6550132f02dc",
   "metadata": {
    "tags": []
   },
   "outputs": [],
   "source": [
    "def loop_f(x):\n",
    "    for i in range(x):\n",
    "        print(i)"
   ]
  },
  {
   "cell_type": "code",
   "execution_count": 3,
   "id": "32c3e112-2562-4f32-8135-5d0956316fd6",
   "metadata": {
    "tags": []
   },
   "outputs": [],
   "source": [
    "def listcomp_f(x):\n",
    "    [print(i) for i in range(x)]"
   ]
  },
  {
   "cell_type": "code",
   "execution_count": 4,
   "id": "4991ba06-181a-4ad1-8303-f685a33b4051",
   "metadata": {
    "tags": []
   },
   "outputs": [
    {
     "name": "stdout",
     "output_type": "stream",
     "text": [
      "0\n",
      "1\n",
      "2\n"
     ]
    }
   ],
   "source": [
    "loop_f(3)"
   ]
  },
  {
   "cell_type": "code",
   "execution_count": 5,
   "id": "d7f695f5-f595-4958-a551-b760f933f866",
   "metadata": {
    "tags": []
   },
   "outputs": [
    {
     "name": "stdout",
     "output_type": "stream",
     "text": [
      "0\n",
      "1\n",
      "2\n"
     ]
    }
   ],
   "source": [
    "listcomp_f(3)"
   ]
  },
  {
   "cell_type": "code",
   "execution_count": 6,
   "id": "7aa3fee5-f68f-4215-9bc9-27ff8aee72d2",
   "metadata": {
    "tags": []
   },
   "outputs": [
    {
     "name": "stdout",
     "output_type": "stream",
     "text": [
      "  1           0 RESUME                   0\n",
      "\n",
      "  2           2 LOAD_GLOBAL              1 (NULL + range)\n",
      "             14 LOAD_FAST                0 (x)\n",
      "             16 PRECALL                  1\n",
      "             20 CALL                     1\n",
      "             30 GET_ITER\n",
      "        >>   32 FOR_ITER                17 (to 68)\n",
      "             34 STORE_FAST               1 (i)\n",
      "\n",
      "  3          36 LOAD_GLOBAL              3 (NULL + print)\n",
      "             48 LOAD_FAST                1 (i)\n",
      "             50 PRECALL                  1\n",
      "             54 CALL                     1\n",
      "             64 POP_TOP\n",
      "             66 JUMP_BACKWARD           18 (to 32)\n",
      "\n",
      "  2     >>   68 LOAD_CONST               0 (None)\n",
      "             70 RETURN_VALUE\n"
     ]
    }
   ],
   "source": [
    "dis.dis(loop_f)"
   ]
  },
  {
   "cell_type": "code",
   "execution_count": 8,
   "id": "935916ff-0f64-4f6e-85c9-76448ad45229",
   "metadata": {
    "tags": []
   },
   "outputs": [
    {
     "name": "stdout",
     "output_type": "stream",
     "text": [
      "  1           0 RESUME                   0\n",
      "\n",
      "  2           2 LOAD_CONST               1 (<code object <listcomp> at 0x000001B9993E6880, file \"C:\\Users\\shahb\\AppData\\Local\\Temp\\ipykernel_4252\\1272453071.py\", line 2>)\n",
      "              4 MAKE_FUNCTION            0\n",
      "              6 LOAD_GLOBAL              1 (NULL + range)\n",
      "             18 LOAD_FAST                0 (x)\n",
      "             20 PRECALL                  1\n",
      "             24 CALL                     1\n",
      "             34 GET_ITER\n",
      "             36 PRECALL                  0\n",
      "             40 CALL                     0\n",
      "             50 POP_TOP\n",
      "             52 LOAD_CONST               0 (None)\n",
      "             54 RETURN_VALUE\n",
      "\n",
      "Disassembly of <code object <listcomp> at 0x000001B9993E6880, file \"C:\\Users\\shahb\\AppData\\Local\\Temp\\ipykernel_4252\\1272453071.py\", line 2>:\n",
      "  2           0 RESUME                   0\n",
      "              2 BUILD_LIST               0\n",
      "              4 LOAD_FAST                0 (.0)\n",
      "        >>    6 FOR_ITER                17 (to 42)\n",
      "              8 STORE_FAST               1 (i)\n",
      "             10 LOAD_GLOBAL              1 (NULL + print)\n",
      "             22 LOAD_FAST                1 (i)\n",
      "             24 PRECALL                  1\n",
      "             28 CALL                     1\n",
      "             38 LIST_APPEND              2\n",
      "             40 JUMP_BACKWARD           18 (to 6)\n",
      "        >>   42 RETURN_VALUE\n"
     ]
    }
   ],
   "source": [
    "dis.dis(listcomp_f)"
   ]
  },
  {
   "cell_type": "code",
   "execution_count": null,
   "id": "9e5524e9-31ee-4c37-85ad-3aced5b7ed5f",
   "metadata": {},
   "outputs": [],
   "source": []
  }
 ],
 "metadata": {
  "kernelspec": {
   "display_name": "Python 3 (ipykernel)",
   "language": "python",
   "name": "python3"
  },
  "language_info": {
   "codemirror_mode": {
    "name": "ipython",
    "version": 3
   },
   "file_extension": ".py",
   "mimetype": "text/x-python",
   "name": "python",
   "nbconvert_exporter": "python",
   "pygments_lexer": "ipython3",
   "version": "3.11.5"
  }
 },
 "nbformat": 4,
 "nbformat_minor": 5
}
