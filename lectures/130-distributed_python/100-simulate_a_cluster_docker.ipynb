{
 "cells": [
  {
   "cell_type": "markdown",
   "id": "39d3eec6-222d-4b90-b02b-a808feeb4428",
   "metadata": {},
   "source": [
    "# Simulate a cluster\n",
    "By its nature, testing and experimenting with distributed software requires multiple machines. Luckily, we are living in the age of virtual machines and containers - we can simulate as many machines we like by using various vm/container technologies. Let's try docker"
   ]
  },
  {
   "cell_type": "markdown",
   "id": "e4f71c93-a7b7-4bc7-8ec8-dcd7adc30097",
   "metadata": {},
   "source": [
    "### Docker\n",
    "In this section, we will use Docker to simulatre a cluster. Please note that this is not a Docker tutorial, which is why we will avoid using `docker compose`, `docker swarm` or even `Dockerfile`. We are pretending that these are full-fledged machines and a specific vm/container technology. \n",
    "\n",
    "First, let's make sure we have docker installed. If not, please install Docker Desktop: https://www.docker.com/products/docker-desktop/"
   ]
  },
  {
   "cell_type": "code",
   "execution_count": null,
   "id": "f2ef4765-6209-4eb4-a477-3d3b87408038",
   "metadata": {},
   "outputs": [],
   "source": [
    "!docker --version"
   ]
  },
  {
   "cell_type": "markdown",
   "id": "35893f39-f78e-41ce-9ab9-a2622c929937",
   "metadata": {},
   "source": [
    "#### Pull an image"
   ]
  },
  {
   "cell_type": "markdown",
   "id": "2784073c-0d4c-4dc8-8c15-97d7a8546dbb",
   "metadata": {},
   "source": [
    "We will set up a cluster of 5 machines. Le's use the official Python docker image: https://hub.docker.com/_/python\n",
    "(may take around 5 minutes)"
   ]
  },
  {
   "cell_type": "code",
   "execution_count": null,
   "id": "b01fd60f-8a9c-40bf-99b3-dd08c407bd6a",
   "metadata": {},
   "outputs": [],
   "source": [
    "%%time\n",
    "!docker pull continuumio/miniconda3"
   ]
  },
  {
   "cell_type": "markdown",
   "id": "575b6d6e-62ed-45db-b3b2-e37910eee06c",
   "metadata": {},
   "source": [
    "#### Set up a network"
   ]
  },
  {
   "cell_type": "markdown",
   "id": "1f8084b1-0add-481a-93d7-9886dd3d2548",
   "metadata": {},
   "source": [
    "This will allow our \"machines\" to talk to each other"
   ]
  },
  {
   "cell_type": "code",
   "execution_count": null,
   "id": "8e71ffc3-84fd-430e-8266-fa4d182df1e5",
   "metadata": {},
   "outputs": [],
   "source": [
    "!docker network create simulated-cluster"
   ]
  },
  {
   "cell_type": "markdown",
   "id": "eb2235e5-e35b-4023-b759-ca30469fa642",
   "metadata": {},
   "source": [
    "#### Start a machine which belongs to our simulated cluster"
   ]
  },
  {
   "cell_type": "markdown",
   "id": "eb5851a3-2433-4ac9-ab24-3ae953821b36",
   "metadata": {
    "scrolled": true
   },
   "source": [
    "Note that you can get help for docker flags via `!docker run --help`\n",
    "\n",
    "Here are the flags we are using below:\n",
    "- `run` This will run an instance of the image we downloaded earlier. Think of the image download as the CD which contains the operating sysstem and `docker run` as us setting up a physical machine to run the operating system\n",
    "- `-d` This will run the image in the background, so it doesn't take over JupyterHUB (similar to `python ./app.py &`)\n",
    "- `-i` This will run the image in an interactive manner - so we can connect to it\n",
    "- `-t` This will run the image via the terminal\n",
    "- `--rm` remove the image once we are done with it"
   ]
  },
  {
   "cell_type": "code",
   "execution_count": null,
   "id": "06cb51b5-95fc-44cf-8143-2522c0f43bcb",
   "metadata": {},
   "outputs": [],
   "source": [
    "!docker run -dit --rm --network simulated-cluster --name node1 continuumio/miniconda3"
   ]
  },
  {
   "cell_type": "markdown",
   "id": "3d2c2bea-ead8-45b2-a536-54fa16964f0a",
   "metadata": {},
   "source": [
    "Once a container is running, you can \"ssh\" into it via the exec command. This will not work from Jupyter, you should do it from the command line (terminal)\n",
    "\n",
    "`docker exec -it node1 bash`"
   ]
  },
  {
   "cell_type": "markdown",
   "id": "2bba122d-e84f-43fc-84ad-b175b695c6f5",
   "metadata": {},
   "source": [
    "Check docker"
   ]
  },
  {
   "cell_type": "code",
   "execution_count": null,
   "id": "31f4fa5b-30cc-4604-8de5-ed0f8516185e",
   "metadata": {},
   "outputs": [],
   "source": [
    "!docker ps"
   ]
  },
  {
   "cell_type": "markdown",
   "id": "2c94c670-9872-4d16-b3a5-45603386c6cb",
   "metadata": {},
   "source": [
    "Run a few more machines"
   ]
  },
  {
   "cell_type": "code",
   "execution_count": null,
   "id": "40cdcefc-6df1-4847-b798-7b4754a38b5f",
   "metadata": {},
   "outputs": [],
   "source": [
    "!docker run -dit --rm --network simulated-cluster --name node2 continuumio/miniconda3\n",
    "!docker run -dit --rm --network simulated-cluster --name node3 continuumio/miniconda3"
   ]
  },
  {
   "cell_type": "code",
   "execution_count": null,
   "id": "1f8a1129-6c63-4c62-9d60-8381b041be71",
   "metadata": {},
   "outputs": [],
   "source": [
    "!docker ps"
   ]
  },
  {
   "cell_type": "markdown",
   "id": "fa2449a7-6bde-4357-8f8f-368decbfd3e0",
   "metadata": {},
   "source": [
    "#### Install required software in those machines\n",
    "Notice that these machines don't even have the ping command installed. Let's install it to confirm these machines can talk to each other"
   ]
  },
  {
   "cell_type": "code",
   "execution_count": null,
   "id": "418fdbf5-f2b7-40dc-8ca3-d38119a45625",
   "metadata": {},
   "outputs": [],
   "source": [
    "!docker exec node1 ping -c 3cnn.com"
   ]
  },
  {
   "cell_type": "markdown",
   "id": "f92c9793-6855-49c2-a175-e058cd88bfdf",
   "metadata": {},
   "source": [
    "Even `ping` is not installed??"
   ]
  },
  {
   "cell_type": "code",
   "execution_count": null,
   "id": "1ad0986c-6c68-49d5-9e1a-fb6b16057c17",
   "metadata": {
    "scrolled": true
   },
   "outputs": [],
   "source": [
    "!docker exec node1 apt-get update \n",
    "!docker exec node1 apt-get install -y iputils-ping iproute2"
   ]
  },
  {
   "cell_type": "code",
   "execution_count": null,
   "id": "619c298b-5c99-44b3-914d-3d2907f7b95d",
   "metadata": {},
   "outputs": [],
   "source": [
    "!docker exec node1 ping -c 3 cnn.com"
   ]
  },
  {
   "cell_type": "markdown",
   "id": "5826ff21-fdf2-409f-8cb0-498fa35856d7",
   "metadata": {},
   "source": [
    "### Can these machines see each other?"
   ]
  },
  {
   "cell_type": "code",
   "execution_count": null,
   "id": "af799c6c-5e91-4522-bfe0-b71b2702652a",
   "metadata": {},
   "outputs": [],
   "source": [
    "!docker exec node2 hostname"
   ]
  },
  {
   "cell_type": "code",
   "execution_count": null,
   "id": "6e50ddb1-6fc8-4080-b285-bf0f804f10d3",
   "metadata": {},
   "outputs": [],
   "source": [
    "!docker exec node1 ping -c 3 d6040cf9bf45"
   ]
  },
  {
   "cell_type": "markdown",
   "id": "456ec693-9203-4d12-ba4d-e5e25b6be75b",
   "metadata": {},
   "source": [
    "Nice!"
   ]
  },
  {
   "cell_type": "markdown",
   "id": "2d905ce7-43a5-4cda-8731-e7bb65096fdf",
   "metadata": {},
   "source": [
    "### A drive can be shared among containers to avoid donwloading and installing packages multiple times"
   ]
  },
  {
   "cell_type": "markdown",
   "id": "eef436d4-6169-4243-8e47-698f99ab8642",
   "metadata": {},
   "source": [
    "Notice that if we need to install the same package in each container, those containers will pull packages off the web again and again and again!\n",
    "We can solve this by creating a shared volume"
   ]
  },
  {
   "cell_type": "markdown",
   "id": "04469957-4340-4cf8-8ec8-45e425b286d0",
   "metadata": {},
   "source": [
    "#### Shared `apt` volume"
   ]
  },
  {
   "cell_type": "code",
   "execution_count": null,
   "id": "0f06239c-00e3-4581-8f84-5f1ad7ab5f4c",
   "metadata": {},
   "outputs": [],
   "source": [
    "!docker volume create apt-cache\n",
    "\n",
    "!docker run -dit --rm --name apt-container-1 --network simulated-cluster -v apt-cache:/var/cache/apt/archives continuumio/miniconda3\n",
    "!docker run -dit --rm --name apt-container-2 --network simulated-cluster -v apt-cache:/var/cache/apt/archives continuumio/miniconda3\n",
    "!docker run -dit --rm --name apt-container-3 --network simulated-cluster -v apt-cache:/var/cache/apt/archives continuumio/miniconda3"
   ]
  },
  {
   "cell_type": "markdown",
   "id": "d66aa4bb-2f38-49ea-b744-1468ffe2bc7f",
   "metadata": {},
   "source": [
    "Now let's see how long it takes to install a package"
   ]
  },
  {
   "cell_type": "code",
   "execution_count": null,
   "id": "70e02ba2-fb81-40bc-a0c6-a52ee8136538",
   "metadata": {
    "scrolled": true
   },
   "outputs": [],
   "source": [
    "%%time\n",
    "!docker exec apt-container-1 sh -c \"apt update && apt-get install -y iputils-ping iproute2\""
   ]
  },
  {
   "cell_type": "code",
   "execution_count": null,
   "id": "700edbbf-a35c-4428-aae7-2707ea90caa3",
   "metadata": {
    "scrolled": true
   },
   "outputs": [],
   "source": [
    "%%time\n",
    "!docker exec apt-container-2 sh -c \"apt update && apt-get install -y iputils-ping iproute2\""
   ]
  },
  {
   "cell_type": "code",
   "execution_count": null,
   "id": "c49ea82a-5024-4be0-9a3a-48fa5cb66037",
   "metadata": {},
   "outputs": [],
   "source": []
  }
 ],
 "metadata": {
  "kernelspec": {
   "display_name": "mleng",
   "language": "python",
   "name": "mleng"
  },
  "language_info": {
   "codemirror_mode": {
    "name": "ipython",
    "version": 3
   },
   "file_extension": ".py",
   "mimetype": "text/x-python",
   "name": "python",
   "nbconvert_exporter": "python",
   "pygments_lexer": "ipython3",
   "version": "3.11.11"
  }
 },
 "nbformat": 4,
 "nbformat_minor": 5
}
