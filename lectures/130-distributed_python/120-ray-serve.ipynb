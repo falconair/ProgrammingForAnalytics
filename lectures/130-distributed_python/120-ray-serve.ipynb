{
 "cells": [
  {
   "cell_type": "markdown",
   "id": "3372311b-1834-4898-af06-ec7721242ba8",
   "metadata": {},
   "source": [
    "# Ray Serve - scale deployed models"
   ]
  },
  {
   "cell_type": "markdown",
   "id": "3d7c1968-e07d-4d64-9f4f-bf49f5cf1512",
   "metadata": {},
   "source": [
    "### Ray serve\n",
    "Ray serve is a component which makes it easy to spread the serving of an API across several machines. Let's jump into code."
   ]
  },
  {
   "cell_type": "code",
   "execution_count": null,
   "id": "da5c4292-7419-4184-bccf-4594761abfe8",
   "metadata": {},
   "outputs": [],
   "source": [
    "%%writefile simple_api.py\n",
    "\n",
    "from fastapi import FastAPI\n",
    "from typing import Dict\n",
    "\n",
    "app = FastAPI()\n",
    "\n",
    "@app.get(\"/status\")\n",
    "def status() -> Dict[str, str]:\n",
    "    \"\"\"Simple health check endpoint.\"\"\"\n",
    "    return {\"status\": \"ok\"}\n",
    "\n",
    "\n",
    "@app.get(\"/compute\")\n",
    "def fibonacci(n: int):\n",
    "    \"\"\"Compute Fibonacci sequence up to n (inclusive).\"\"\"\n",
    "    if n <= 0:\n",
    "        return []\n",
    "    fib = [0, 1]\n",
    "    while fib[-1] + fib[-2] <= n:\n",
    "        fib.append(fib[-1] + fib[-2])\n",
    "    return fib\n",
    "\n",
    "# fastapi run simple_api.py\n",
    "# http://localhost:8000/compute?n=10"
   ]
  },
  {
   "cell_type": "markdown",
   "id": "490f1988-10a3-4c6b-ba99-641a9e61db49",
   "metadata": {},
   "source": [
    "Normally you run the code above as:\n",
    "\n",
    "```python\n",
    "fastapi run simple_apy.py\n",
    "```\n",
    "\n",
    "This will run the API on a single machine. \n",
    "\n",
    "However, is your startup grows, how do you make sure you can continue to serve clients?"
   ]
  },
  {
   "cell_type": "markdown",
   "id": "26632f27-3e6a-4030-8adf-bc8fd87e7256",
   "metadata": {},
   "source": [
    "### Let's try to scale this across several machines\n",
    "\n",
    "If we are not on the same network, use Tailscale to hop on the same vpn."
   ]
  },
  {
   "cell_type": "markdown",
   "id": "1c538cc3-efaa-44f2-bd32-b7771d28e7f8",
   "metadata": {},
   "source": [
    "#### Install Ray"
   ]
  },
  {
   "cell_type": "code",
   "execution_count": null,
   "id": "fed64382-d746-4056-a27f-a6099d9aba1b",
   "metadata": {},
   "outputs": [],
   "source": [
    "!pip install ray[all]"
   ]
  },
  {
   "cell_type": "markdown",
   "id": "21a104de-f563-4055-b377-29b2b8cc144d",
   "metadata": {},
   "source": [
    "#### Deploy FastAPI on a cluster (via Ray)"
   ]
  },
  {
   "cell_type": "code",
   "execution_count": null,
   "id": "f9e6a4d1-bba6-4f4d-bfba-ffae5b2d9716",
   "metadata": {},
   "outputs": [],
   "source": [
    "%%writefile simple_api_ray.py\n",
    "\n",
    "from fastapi import FastAPI\n",
    "from typing import Dict\n",
    "from ray import serve\n",
    "import ray\n",
    "\n",
    "#ray.init(address=\"192.168.12.239:10001\") \n",
    "#ray.init(ignore_reinit_error=True)\n",
    "\n",
    "app = FastAPI()\n",
    "\n",
    "@app.get(\"/status\")\n",
    "def status() -> Dict[str, str]:\n",
    "    \"\"\"Simple health check endpoint.\"\"\"\n",
    "    return {\"status\": \"ok\"}\n",
    "\n",
    "\n",
    "@app.get(\"/compute\")\n",
    "def fibonacci(n: int):\n",
    "    \"\"\"Compute Fibonacci sequence up to n (inclusive).\"\"\"\n",
    "    if n <= 0:\n",
    "        return []\n",
    "    fib = [0, 1]\n",
    "    while fib[-1] + fib[-2] <= n:\n",
    "        fib.append(fib[-1] + fib[-2])\n",
    "    return fib\n",
    "\n",
    "@serve.deployment\n",
    "@serve.ingress(app)\n",
    "class FastAPIWrapper:\n",
    "    pass\n",
    "\n",
    "serve.run(FastAPIWrapper.bind(), route_prefix=\"/\")\n",
    "\n",
    "# python simple_api_ray.py\n",
    "# http://localhost:8000/compute?n=10"
   ]
  },
  {
   "cell_type": "code",
   "execution_count": null,
   "id": "6a193854-70d5-4ca0-8c88-0b4684675a4b",
   "metadata": {},
   "outputs": [],
   "source": [
    "%%writefile simple_api_ray2.py\n",
    "\n",
    "import requests\n",
    "from fastapi import FastAPI\n",
    "from ray import serve\n",
    "\n",
    "# 1: Define a FastAPI app and wrap it in a deployment with a route handler.\n",
    "app = FastAPI()\n",
    "\n",
    "\n",
    "@serve.deployment\n",
    "@serve.ingress(app)\n",
    "class FastAPIDeployment:\n",
    "    # FastAPI will automatically parse the HTTP request for us.\n",
    "    @app.get(\"/hello\")\n",
    "    def say_hello(self, name: str) -> str:\n",
    "        return f\"Hello {name}!\"\n",
    "\n",
    "\n",
    "# 2: Deploy the deployment.\n",
    "serve.run(FastAPIDeployment.bind(), route_prefix=\"/\", )\n",
    "\n",
    "# 3: Query the deployment and print the result.\n",
    "# print(requests.get(\"http://localhost:8000/hello\", params={\"name\": \"Theodore\"}).json())\n",
    "# \"Hello Theodore!\""
   ]
  },
  {
   "cell_type": "code",
   "execution_count": null,
   "id": "5555ce34-cc1e-449c-9de3-77e1ea441f61",
   "metadata": {},
   "outputs": [],
   "source": []
  }
 ],
 "metadata": {
  "kernelspec": {
   "display_name": "Python [conda env:conda-mleng_env]",
   "language": "python",
   "name": "conda-env-conda-mleng_env-py"
  },
  "language_info": {
   "codemirror_mode": {
    "name": "ipython",
    "version": 3
   },
   "file_extension": ".py",
   "mimetype": "text/x-python",
   "name": "python",
   "nbconvert_exporter": "python",
   "pygments_lexer": "ipython3",
   "version": "3.11.11"
  }
 },
 "nbformat": 4,
 "nbformat_minor": 5
}
