{
 "cells": [
  {
   "cell_type": "markdown",
   "id": "c2f074d0-4fce-491a-b485-ed23e5a09c8f",
   "metadata": {},
   "source": [
    "# Ray - a Python framework for distributed computation"
   ]
  },
  {
   "cell_type": "markdown",
   "id": "2b150524-9b76-474c-b99c-505e62b047a3",
   "metadata": {},
   "source": [
    "Definition of a distributed system: \n",
    "\n",
    "_\"Where a computer that you never heard of can bring your system down\"_ -- Leslie Lamport"
   ]
  },
  {
   "cell_type": "markdown",
   "id": "70622b6a-3c66-4028-8a71-9729179a7c1e",
   "metadata": {},
   "source": [
    "Distributed systems are necessary for many reasons: avoiding a single point of failure, distributing work to responsible departments and improving scalability. "
   ]
  },
  {
   "cell_type": "markdown",
   "id": "c3d199d6-a1f1-4a3e-9182-4323abe1916b",
   "metadata": {},
   "source": [
    "#### Improve scalability\n",
    "The most obvious reason for distributing computation, from the perspective of data scientists, is to increase the amount of computer power, memory and storage available to us in a single machine."
   ]
  },
  {
   "cell_type": "markdown",
   "id": "70a2e16a-f5f4-482c-b0fe-80def3bf2cde",
   "metadata": {},
   "source": [
    "#### Use compute power more effeciently\n",
    "Sometimes we inherit a set of machines with different capabilities. For example, your data may be stored on one machine and relevant or specialized libraries on a different computer. A distributed cluster can make more effecient decisions: such as moving a few bytes of library code to the machine with the data, rather than moving gigabytes of data to the compute machine."
   ]
  },
  {
   "cell_type": "markdown",
   "id": "35bb181d-436d-4c6f-ba27-58da2a49ffe8",
   "metadata": {},
   "source": [
    "#### Avoid single point of failure\n",
    "One of the most important benefits of distributed computation is to avoid a single point of failure. The internet itself, being a network of networks, was created to avoid complete system failure in case of a nuclear attack.\n",
    "\n",
    "Failure is not just limited to physical attacks (or mistakes). In the early days of the internet, it was common to say that the \"internet routes around censorship.\" "
   ]
  },
  {
   "cell_type": "markdown",
   "id": "21bd5c7d-c3c9-4c71-b71d-38ef5a1a0490",
   "metadata": {},
   "source": [
    " "
   ]
  },
  {
   "cell_type": "markdown",
   "id": "c5a956ed-4404-4381-9a23-43cd5fb8c656",
   "metadata": {},
   "source": [
    "### Ray - a Python library which enables distributed computation"
   ]
  },
  {
   "cell_type": "markdown",
   "id": "03071d45-572f-4553-9bb8-288a3fccab08",
   "metadata": {},
   "source": [
    "Rather than a theoretical explanation, we will install and work with a real-world distributed framework called Ray. Ray is a python specific framework with many high level components which make it easier to serve APIs, train models, share data, etc. We will look at one of these components, before digging a bit deeper into a lower level component.\n",
    "\n",
    "First steps, let's make sure Ray is installed:"
   ]
  },
  {
   "cell_type": "code",
   "execution_count": null,
   "id": "9fb318d9-a8c6-49be-abc1-d99b13ed2a22",
   "metadata": {},
   "outputs": [],
   "source": [
    "!pip install ray[all]"
   ]
  },
  {
   "cell_type": "markdown",
   "id": "b9792bfd-3585-419c-a322-340714a5e3ed",
   "metadata": {},
   "source": [
    "The above command installs all the necessary libraries needed for Ray. Please note that in this notebook, we will be testing only a local version of Ray."
   ]
  },
  {
   "cell_type": "markdown",
   "id": "20d74b9c-9a44-46a4-8c42-757242804344",
   "metadata": {},
   "source": [
    "#### Distribute a simple function (or Ray Tasks)"
   ]
  },
  {
   "cell_type": "code",
   "execution_count": null,
   "id": "89f46ebb-2712-47ba-b694-06c2301b144e",
   "metadata": {},
   "outputs": [],
   "source": [
    "import ray\n",
    "import ray\n",
    "import socket\n",
    "import os\n",
    "\n",
    "ray.init(ignore_reinit_error=True) # <= This is where Ray attempts to connect to an existing cluster, or starts a local one"
   ]
  },
  {
   "cell_type": "code",
   "execution_count": null,
   "id": "18be29ee-e33a-4c88-a193-5751c8bd1345",
   "metadata": {},
   "outputs": [],
   "source": [
    "@ray.remote # <= This decorator tells Ray that this function should be distributed\n",
    "def multiply(x):\n",
    "    return x * x\n",
    "\n",
    "future1 = multiply.remote(1)\n",
    "future2 = multiply.remote(2)\n",
    "future3 = multiply.remote(3)\n",
    "\n",
    "print(ray.get([future1, future2, future3]))"
   ]
  },
  {
   "cell_type": "code",
   "execution_count": null,
   "id": "91be1642-5570-42c9-acbf-6ad79bda1c53",
   "metadata": {},
   "outputs": [],
   "source": [
    "@ray.remote \n",
    "def get_node_info(x):\n",
    "    hostname = socket.gethostname()\n",
    "    pid = os.getpid()\n",
    "    return f\"Host: {hostname}, Process ID: {pid}\"\n",
    "\n",
    "future1 = get_node_info.remote(1)\n",
    "future2 = get_node_info.remote(2)\n",
    "future3 = get_node_info.remote(3)\n",
    "\n",
    "print(ray.get([future1, future2, future3]))\n",
    "\n",
    "# https://docs.ray.io/en/latest/ray-overview/getting-started.html"
   ]
  },
  {
   "cell_type": "markdown",
   "id": "16cd0430-c832-4995-9030-bff70c8c9c93",
   "metadata": {},
   "source": [
    "### Detour 1: How can  a piece of logic be distributed?"
   ]
  },
  {
   "cell_type": "markdown",
   "id": "7c0b27e0-58ee-4f45-8d90-4c5252ef1f5a",
   "metadata": {},
   "source": [
    "I'm sure you can imagine sending an excel file full of data to a colleague. Perhaps sending a single record, containing student grades or client demographics an api call. But how do you send a function? "
   ]
  },
  {
   "cell_type": "code",
   "execution_count": null,
   "id": "55b9f2f9-489a-447f-a39d-8ddea91308ed",
   "metadata": {},
   "outputs": [],
   "source": [
    "def test_function(name=\"Shahbaz\"):\n",
    "    return f\"Hiya {name}!\""
   ]
  },
  {
   "cell_type": "markdown",
   "id": "93ac2eda-3874-4883-a406-1d72b3ce5b7b",
   "metadata": {},
   "source": [
    "Notice that a function is an object that we can access:"
   ]
  },
  {
   "cell_type": "code",
   "execution_count": null,
   "id": "645fc235-0c4f-42e4-a379-210c97e1c0e9",
   "metadata": {},
   "outputs": [],
   "source": [
    "test_function"
   ]
  },
  {
   "cell_type": "markdown",
   "id": "0a9d7217-c0f1-4975-85a2-64941533fc1a",
   "metadata": {},
   "source": [
    "We can view this function as just a bunch of bytes, using Python's built-in `pickle` library:"
   ]
  },
  {
   "cell_type": "code",
   "execution_count": null,
   "id": "e3157c04-0265-4e21-af5b-fe0b78b4091a",
   "metadata": {},
   "outputs": [],
   "source": [
    "import pickle\n",
    "\n",
    "pickled_function = pickle.dumps(test_function)"
   ]
  },
  {
   "cell_type": "code",
   "execution_count": null,
   "id": "24b4817b-6d95-483e-a105-090e33c7b34b",
   "metadata": {},
   "outputs": [],
   "source": [
    "pickled_function"
   ]
  },
  {
   "cell_type": "markdown",
   "id": "b982fefc-ab08-4ccc-9359-97a791fc1534",
   "metadata": {},
   "source": [
    "The \"pickle\" library _serializes_ code into a represetation. We use the text represetnation above for easier viewing of the content.\n",
    "We can now _deserialize_ those bytes back into an executable function:"
   ]
  },
  {
   "cell_type": "code",
   "execution_count": null,
   "id": "5caa406e-4be0-4e62-97c2-f0b0c652f36b",
   "metadata": {},
   "outputs": [],
   "source": [
    "test_function_deserialized = pickle.loads(pickled_function)"
   ]
  },
  {
   "cell_type": "code",
   "execution_count": null,
   "id": "4d71d79b-4d18-43f4-b03b-8bf063ef70aa",
   "metadata": {},
   "outputs": [],
   "source": [
    "test_function_deserialized()"
   ]
  },
  {
   "cell_type": "markdown",
   "id": "2eb026c3-5c87-406f-8dc6-12c0e131e658",
   "metadata": {},
   "source": [
    "**Important** Instead of `print`ing the text, we just as easily could have sent it off to one of the worker nodes!"
   ]
  },
  {
   "cell_type": "markdown",
   "id": "12e28801-8c16-482c-8005-4d140ca2442b",
   "metadata": {},
   "source": [
    "### Detour 2: What are futures?"
   ]
  },
  {
   "cell_type": "markdown",
   "id": "a4d3d191-137b-49ed-97da-6dbf1ef93e59",
   "metadata": {},
   "source": [
    "The concept of a _future_ (and the related topic of a _promise_) is becoming more and more common in distributed and asynchronous computing. This concept is not limited to Python, in fact, their history goes back to a version of the LISP langauge. \n",
    "\n",
    "Futures simplify code by abstracting away an important detail in distributed computing: computation is running on a different machine, hence can be parallelized, while the code looks like it is executing in a serial manner."
   ]
  },
  {
   "cell_type": "markdown",
   "id": "7e860952-84ea-48a3-9a60-6e6e28e478f1",
   "metadata": {},
   "source": [
    "Imagine this scenario:"
   ]
  },
  {
   "cell_type": "code",
   "execution_count": null,
   "id": "c40c316f-2519-44d0-9789-f74e9e3bbecb",
   "metadata": {},
   "outputs": [],
   "source": [
    "def heavy_computation(x):\n",
    "    return x * x * x * x * x # ... some complicated operation which takes a long time to compute\n",
    "\n",
    "answer1 = heavy_computation(100)\n",
    "answer2 = heavy_computation(200)\n",
    "answer3 = heavy_computation(300)"
   ]
  },
  {
   "cell_type": "markdown",
   "id": "fb56f6fb-2756-49e7-a88d-80ccf473d272",
   "metadata": {},
   "source": [
    "Imagine that `heavy_computation` actually is a very computationally heavy function. As we execute `heavy_computation`, our computer cpu usage shoots up and no other work can be done until the function has finished. We execute the three functions one at a time.\n",
    "\n",
    "Now a different scenario"
   ]
  },
  {
   "cell_type": "code",
   "execution_count": null,
   "id": "1ae48e48-133b-4a75-911a-4a7813f37d92",
   "metadata": {},
   "outputs": [],
   "source": [
    "def heavy_remote_computation(x):\n",
    "    return x * x * x * x * x # ... some complicated operation which takes a long time to compute\n",
    "\n",
    "answer1 = heavy_remote_computation(100)\n",
    "answer2 = heavy_remote_computation(200)\n",
    "answer3 = heavy_remote_computation(300)"
   ]
  },
  {
   "cell_type": "markdown",
   "id": "2366066e-5e55-4ffe-b8ab-dd64f2c68139",
   "metadata": {},
   "source": [
    "We are now doing the _same_ computation, but using a distributed framework to send these computations to remote machines.\n",
    "\n",
    "Important difference: as `answer1` is being calculated, our local machine is doing NO work. It is simply waiting for the answer to be calculated on a worker node. **What is stopping us from sending some work to a worker node, then immediately sending more work to a different node?**\n",
    "\n",
    "In other words, we can calculate answers 1, 2 and 3 in _parallel_!"
   ]
  },
  {
   "cell_type": "markdown",
   "id": "4c57e135-b146-499e-a834-e023553b8f00",
   "metadata": {},
   "source": [
    "Seerial execution"
   ]
  },
  {
   "attachments": {
    "34f650b7-2c51-4cca-9bc7-cb758d6be30e.png": {
     "image/png": "[encoded data removed]"
    }
   },
   "cell_type": "markdown",
   "id": "fecb1a89-a466-48b3-99ce-dde6e8758d2d",
   "metadata": {},
   "source": [
    "![image.png](attachment:34f650b7-2c51-4cca-9bc7-cb758d6be30e.png)"
   ]
  },
  {
   "cell_type": "markdown",
   "id": "cbc4a140-ebbc-4122-befa-43c2f66662de",
   "metadata": {},
   "source": [
    "Parallel execution"
   ]
  },
  {
   "attachments": {
    "015a9c78-13cf-41f1-8013-70529a433f63.png": {
     "image/png": "[encoded data removed]"
    }
   },
   "cell_type": "markdown",
   "id": "bb664664-b54b-4560-a425-08049337980c",
   "metadata": {},
   "source": [
    "![image.png](attachment:015a9c78-13cf-41f1-8013-70529a433f63.png)"
   ]
  },
  {
   "cell_type": "markdown",
   "id": "36a3a3d2-c865-406a-a701-efae17f4f50a",
   "metadata": {},
   "source": [
    "However, the code above becomes more complicated"
   ]
  },
  {
   "cell_type": "markdown",
   "id": "06456075-2db5-422d-8a51-dc16b19318e0",
   "metadata": {},
   "source": [
    "```python\n",
    "def heavy_remote_computation(x):\n",
    "    return x * x * x * x * x # ... some complicated operation which takes a long time to compute\n",
    "\n",
    "answer1 = execute_remote(heavy_remote_computation, 100) # serialize, send to remote worker, await result\n",
    "answer2 = execute_remote(heavy_remote_computation, 200)\n",
    "answer3 = execute_remote(heavy_remote_computation, 300)\n",
    "```"
   ]
  },
  {
   "cell_type": "markdown",
   "id": "4fca99a3-92f0-49c9-9c1f-9fbef12eceba",
   "metadata": {},
   "source": [
    "Even this is not enough! If the whole point is that we shold execute all three commands in parallel, then what is actually being put into variables `answer1`, `answer2` and `answer3`?"
   ]
  },
  {
   "cell_type": "markdown",
   "id": "98e1b5d7-8f77-47b1-9e8e-ff84cbf31547",
   "metadata": {},
   "source": [
    "**Futures** solve this problem. Python actually has TWO implementations of futures: `concurrent.futures.Future` and `asyncio.Future`. The implementation of the `Future` object is out of scope for this lecture. We will only look at the concept:\n",
    "\n",
    "The word \"future\" here just means \"the _future_ result of a computation.\" \n",
    "\n",
    "Some computations do not return the result of their computation right away. They return a place-holder object. This object remains empty, until the called function completes is work and the result is written to the future object. This is why ray has the `ray.get(..)` function. This function checks to see if the result has been calculated. If it has not, it _blocks_ (does not move forward). This is also why we don't call `ray.get()` right after calling the remote function. Calling `ray.get()` would defeat the purpose of futures!"
   ]
  },
  {
   "cell_type": "markdown",
   "id": "22028fd0-62e2-461b-90af-0cc65323c888",
   "metadata": {},
   "source": [
    "#### Futures algebra\n",
    "Note that future objects now exist in most languages and have their own algebra. For example, given multiple operations, a programmer can ask for things like:\n",
    " - get me the first future object that has results, ignore all others\n",
    " - either get me all results together or simply wait for them\n",
    " - only wait for X seconds, otherwise timeout\n",
    " - if a function results in an Exception, handle the exception\n",
    " - etc.\n",
    "\n",
    "What's more, the concepts described here form the core of a modern (but unwelcomed by the author) trend of **async** or asynchronous computing."
   ]
  },
  {
   "cell_type": "markdown",
   "id": "819b6a11-fabc-4c49-878b-7b8106f4e339",
   "metadata": {},
   "source": [
    "To remind ourselves, here is the code again:"
   ]
  },
  {
   "cell_type": "code",
   "execution_count": null,
   "id": "2949eb32-ee0b-48e0-a6e7-1c6a3720542a",
   "metadata": {},
   "outputs": [],
   "source": [
    "@ray.remote # <= This decorator tells Ray that this function should be distributed\n",
    "def multiply(x):\n",
    "    return x * x\n",
    "\n",
    "future1 = multiply.remote(1)\n",
    "future2 = multiply.remote(2)\n",
    "future3 = multiply.remote(3)\n",
    "\n",
    "print(ray.get([future1, future2, future3]))"
   ]
  },
  {
   "cell_type": "code",
   "execution_count": null,
   "id": "ff042dc2-ec92-446e-bd2c-fbc1d05417bd",
   "metadata": {},
   "outputs": [],
   "source": [
    "type(future1)"
   ]
  },
  {
   "cell_type": "markdown",
   "id": "1bb4d21e-2707-4be0-81ca-f49e728a7790",
   "metadata": {},
   "source": [
    "### Distributing Python classes (or Ray Actors)"
   ]
  },
  {
   "cell_type": "markdown",
   "id": "4461c6cb-cb25-402d-8f42-fad69a876cc3",
   "metadata": {},
   "source": [
    "Ray extends the concept of distributed functions to distributed classes. Recall that classes not only have behavior (methods) but also state (variables which store values). Here is an example:"
   ]
  },
  {
   "cell_type": "code",
   "execution_count": null,
   "id": "c15c5799-703f-4aeb-83f9-1728c635e105",
   "metadata": {},
   "outputs": [],
   "source": [
    "@ray.remote\n",
    "class Counter(object):\n",
    "    def __init__(self):\n",
    "        self.n = 0\n",
    "\n",
    "    def increment(self):\n",
    "        self.n += 1\n",
    "\n",
    "    def read(self):\n",
    "        return self.n\n",
    "\n",
    "counters = [Counter.remote() for i in range(4)]\n",
    "[c.increment.remote() for c in counters]\n",
    "futures = [c.read.remote() for c in counters]\n",
    "print(ray.get(futures)) # [1, 1, 1, 1]\n",
    "\n",
    "# https://docs.ray.io/en/latest/ray-overview/getting-started.html"
   ]
  },
  {
   "attachments": {
    "ec1e6895-a3a3-4e44-8edd-3bb6e2e692a3.png": {
     "image/png": "[encoded data removed]"
    }
   },
   "cell_type": "markdown",
   "id": "b3c33caa-bf91-4ab0-9c48-c43887990155",
   "metadata": {},
   "source": [
    "### Ray as a foundation layer\n",
    "Ray is becoming a foundational layer for modern ML systes. Many other distributed frameworks now sit on top of Ray. For example, there are projects to distributed [Pandas on Ray](https://docs.ray.io/en/latest/ray-more-libs/modin/index.html), [Dask on Ray](https://docs.ray.io/en/latest/ray-more-libs/dask-on-ray.html), even [Spark on Ray](https://docs.ray.io/en/latest/ray-more-libs/raydp.html).\n",
    "\n",
    "Ray is currently being used by cutting edge LLM companies:\n",
    "![image.png](attachment:ec1e6895-a3a3-4e44-8edd-3bb6e2e692a3.png)"
   ]
  },
  {
   "cell_type": "markdown",
   "id": "9e76a42f-a84c-44cc-b654-b1ffd9538cb3",
   "metadata": {},
   "source": [
    "As data scientists, a sub-project of Ray, `Ray Serve` is what should be of practical interest foor us. See next notebook!"
   ]
  },
  {
   "cell_type": "code",
   "execution_count": null,
   "id": "f12f09ac-875f-42ed-8c81-956a3f9c0e97",
   "metadata": {},
   "outputs": [],
   "source": []
  }
 ],
 "metadata": {
  "kernelspec": {
   "display_name": "Python [conda env:conda-mleng_env]",
   "language": "python",
   "name": "conda-env-conda-mleng_env-py"
  },
  "language_info": {
   "codemirror_mode": {
    "name": "ipython",
    "version": 3
   },
   "file_extension": ".py",
   "mimetype": "text/x-python",
   "name": "python",
   "nbconvert_exporter": "python",
   "pygments_lexer": "ipython3",
   "version": "3.11.11"
  }
 },
 "nbformat": 4,
 "nbformat_minor": 5
}
