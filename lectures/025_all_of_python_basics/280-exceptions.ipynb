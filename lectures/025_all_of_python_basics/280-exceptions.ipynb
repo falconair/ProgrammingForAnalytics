{
 "cells": [
  {
   "cell_type": "code",
   "execution_count": null,
   "id": "6f3ae980-2265-4c53-839b-d6877d825ac2",
   "metadata": {},
   "outputs": [],
   "source": [
    "%reload_ext postcell\n",
    "%postcell register"
   ]
  },
  {
   "cell_type": "code",
   "execution_count": null,
   "id": "99f38927-93bd-4072-b20e-8153f9666605",
   "metadata": {
    "tags": []
   },
   "outputs": [],
   "source": [
    "import os"
   ]
  },
  {
   "cell_type": "markdown",
   "id": "2c43876f-854a-4ed6-af30-c37152e1b16e",
   "metadata": {},
   "source": [
    "# Python exceptions"
   ]
  },
  {
   "cell_type": "markdown",
   "id": "8a92b9a0-76bb-4bdd-acef-b0ef6fdb5960",
   "metadata": {},
   "source": [
    "Many modern langauges such as Python, Java, C# include an error handling mechanism called exceptions, and supporting syntax called the \"try/catch\" or \"try/except\" block.\n",
    "\n",
    "\"Exceptions\" are named very appropriately, they indicate that something unexpected or _exceptional_ has taken place inside a function. In other words, something is wrong!\n",
    "\n",
    "Take a look at this function:"
   ]
  },
  {
   "cell_type": "markdown",
   "id": "c28fe7c4-f4d9-4b4b-b7b1-e8fe1896ae0e",
   "metadata": {},
   "source": [
    "```python\n",
    "def read_file(filename):\n",
    "    f = open(filename) <== What if the file doesn't exist?? Will the whole program die?\n",
    "    return f.readlines()\n",
    "```\n",
    "\n",
    "In languages without exceptions, you might do defensive programming as such:\n",
    "```python\n",
    "def read_file(filename):\n",
    "    \n",
    "    if not os.path.isfile(filename):\n",
    "        return -1 <== Negative code indicates that this function did not execute correctly\n",
    "    \n",
    "    f = open(filename)\n",
    "    return f.readlines()\n",
    "```\n",
    "\n",
    "Exceptions allow us to manage errors in a safer and more rigorous manner:"
   ]
  },
  {
   "cell_type": "code",
   "execution_count": null,
   "id": "99879605-ca6e-4bf2-8364-f23ebc85748b",
   "metadata": {
    "tags": []
   },
   "outputs": [],
   "source": [
    "def read_file(filename):\n",
    "    f = open(filename) #<== What if the file doesn't exist?? Will the whole program die?\n",
    "    return f.readlines()"
   ]
  },
  {
   "cell_type": "code",
   "execution_count": null,
   "id": "da6b3964-b199-4df1-bd8a-0c683db04875",
   "metadata": {
    "tags": []
   },
   "outputs": [],
   "source": [
    "read_file(\"nofile.txt\")"
   ]
  },
  {
   "cell_type": "markdown",
   "id": "083c96a5-8016-4cc3-acb8-5c282a9ae6e1",
   "metadata": {},
   "source": [
    "Handle the exception"
   ]
  },
  {
   "cell_type": "code",
   "execution_count": null,
   "id": "2d8d4a5a-43aa-4f1a-b89d-02575bdb02be",
   "metadata": {
    "tags": []
   },
   "outputs": [],
   "source": [
    "def read_file(filename):\n",
    "    try:\n",
    "        f = open(filename)\n",
    "        return f.readlines()\n",
    "    except:\n",
    "        print(\"Horrible error, the file wasn't found\")\n",
    "        return \"\""
   ]
  },
  {
   "cell_type": "code",
   "execution_count": null,
   "id": "998fecdf-bb30-4a0e-bf4a-cd0c69e6f567",
   "metadata": {
    "tags": []
   },
   "outputs": [],
   "source": [
    "read_file(\"nofile.txt\")"
   ]
  },
  {
   "cell_type": "markdown",
   "id": "b0d02df0-0d2f-441d-a5a7-26c1b839fa36",
   "metadata": {},
   "source": [
    "#### Is this really better?\n",
    "As you can see, the second example looks much nicer and no longer has the scary pick gibberish.\n",
    "However, is it actually better? That scary pink blob contains LOTS of useful information. It tells us what the error was and what caused it.\n",
    "\n",
    "The nice \"Horrible error\" message, while cute, gives us almost no information!"
   ]
  },
  {
   "cell_type": "markdown",
   "id": "e8ee6e5c-cc83-4294-91cd-9387141a636a",
   "metadata": {},
   "source": [
    "Exceptions allow us to catch specific error scenarios:"
   ]
  },
  {
   "cell_type": "code",
   "execution_count": null,
   "id": "dcadea28-99b5-437a-aca0-82678699583d",
   "metadata": {
    "tags": []
   },
   "outputs": [],
   "source": [
    "def read_file2(filename):\n",
    "    try:\n",
    "        f = open(filename)\n",
    "        return f.readlines()\n",
    "    except FileNotFoundError:\n",
    "        print(\"Horrible error, the file wasn't found\")\n",
    "        return \"\"\n",
    "    except PermissionError:\n",
    "        print(\"The file exists but you do not have access to access it\")\n",
    "        return \"\""
   ]
  },
  {
   "cell_type": "code",
   "execution_count": null,
   "id": "c437742b-4f9b-4cde-8465-c97039bfdcf3",
   "metadata": {
    "tags": []
   },
   "outputs": [],
   "source": [
    "read_file2('nofile.txt')"
   ]
  },
  {
   "cell_type": "markdown",
   "id": "42f91c28-26bd-4394-8559-07b7adde70bd",
   "metadata": {},
   "source": [
    "**Note** Here is an unexpected pro-tip, you generally should not \"catch\" exceptions. For example, if the file exist, you can't do anything about it anyway, just let the program crash!"
   ]
  },
  {
   "cell_type": "code",
   "execution_count": null,
   "id": "944ef106-93d6-4dfc-afd9-ee9a983bdc00",
   "metadata": {
    "tags": []
   },
   "outputs": [],
   "source": [
    "def read_file3(filename):\n",
    "    f = open(filename)\n",
    "    return f.readlines()"
   ]
  },
  {
   "cell_type": "code",
   "execution_count": null,
   "id": "e619994f-e205-4590-b3fb-0adaf2850d65",
   "metadata": {
    "tags": []
   },
   "outputs": [],
   "source": [
    "read_file3('nofile.txt')"
   ]
  },
  {
   "cell_type": "markdown",
   "id": "d1d805c1-b55a-40ed-96cc-da05f3265619",
   "metadata": {},
   "source": [
    "**Exercise** This function does not account for 'division by zero' error, add exceptions and print error when the relevant exception is raised:"
   ]
  },
  {
   "cell_type": "code",
   "execution_count": null,
   "id": "6440e2a0-947f-46df-9fe9-091130553b82",
   "metadata": {
    "tags": []
   },
   "outputs": [],
   "source": [
    "%%postcell exercise_025_280_a\n",
    "\n",
    "def calculate_avg(list_of_numbers):\n",
    "    tot = sum(list_of_numbers)\n",
    "    avg = tot / len(list_of_numbers)\n",
    "    return avg\n",
    "\n",
    "calculate_avg([1,2,3,4,5])\n",
    "calculate_avg([])"
   ]
  },
  {
   "cell_type": "markdown",
   "id": "7cc63011-f36c-4bfd-a0ce-b8f6d36c0b4e",
   "metadata": {},
   "source": [
    "Exceptions _may_ be useful when:\n",
    "1. You actually _CAN_ do something to resolve the exception, such as retrying a connection or adding more context to the error. However, if you anticipate an exception, you can often mitigate it by doing defensive programming (explicitely checking for file existance, building in re-try logic, etc.)\n",
    "2. You are running an ininite loop as a server and whatever exceptions may come up, you want to catch them, log them, then continue running the program"
   ]
  },
  {
   "cell_type": "markdown",
   "id": "0d41e2cb-e5e3-42ef-839f-d86507e204c1",
   "metadata": {},
   "source": [
    "### Get a handle on the exception\n",
    "Sometimes you want access to the raised exception to extract the error message or the attached stack trace. Python makes it very easy:"
   ]
  },
  {
   "cell_type": "code",
   "execution_count": null,
   "id": "821940bb-9f8b-4371-8664-3daf5dd23550",
   "metadata": {
    "tags": []
   },
   "outputs": [],
   "source": [
    "def read_file2(filenamex):\n",
    "    try:\n",
    "        f = open(filenamex)\n",
    "        return f.readlines()\n",
    "    except FileNotFoundError as e:\n",
    "        print(\"Horrible error, the file wasn't found, here is some more info:\")\n",
    "        print(e.args)\n",
    "        return \"\"\n",
    "    except PermissionError as e:\n",
    "        print(\"The file exists but you do not have access to access it, here is some more info:\")\n",
    "        print(e.args)\n",
    "        return \"\"\n",
    "\n",
    "read_file2('nofile.txt')"
   ]
  },
  {
   "cell_type": "markdown",
   "id": "d288d1be-6cb3-47dc-bfb0-d6dc3cfb9834",
   "metadata": {},
   "source": [
    "### try...except...else\n",
    "Python provides an `else` block, which executes if NO exception was raised"
   ]
  },
  {
   "cell_type": "code",
   "execution_count": null,
   "id": "aecf003e-fcfe-4690-ab7f-eac0ae03e48d",
   "metadata": {
    "tags": []
   },
   "outputs": [],
   "source": [
    "def read_file4(filename):\n",
    "    try:\n",
    "        f = open(filename)\n",
    "        rslt= f.readlines()\n",
    "    except FileNotFoundError:\n",
    "        print(\"Horrible error, the file wasn't found\")\n",
    "        return \"\"\n",
    "    except PermissionError:\n",
    "        print(\"The file exists but you do not have access to access it\")\n",
    "        return \"\"\n",
    "    else:\n",
    "        print(\"File read correctly\")\n",
    "    return rslt"
   ]
  },
  {
   "cell_type": "code",
   "execution_count": null,
   "id": "07cf56c5-720f-4243-b109-0a48ac03d9ed",
   "metadata": {
    "tags": []
   },
   "outputs": [],
   "source": [
    "read_file4('../../postcell.conf')"
   ]
  },
  {
   "cell_type": "markdown",
   "id": "0e50b0cc-94e0-4a1f-858d-ba41f7356515",
   "metadata": {},
   "source": [
    "Realistically there aren't very many useases for the `try ... else` clause. Most languages which provide exception handling don't provide a `try/else` clause. "
   ]
  },
  {
   "cell_type": "markdown",
   "id": "78ba4129-b7b9-4d53-9868-c65b1f6190c0",
   "metadata": {},
   "source": [
    "### try...except...finally\n",
    "Unlike the `try/else` clause, the `try/finally` clause is extremely important. It is sometimes necessary to cleanup resource which were acquired during a try block."
   ]
  },
  {
   "cell_type": "code",
   "execution_count": null,
   "id": "98e8be89-51ec-41ba-8a2f-78765ca2210a",
   "metadata": {
    "tags": []
   },
   "outputs": [],
   "source": [
    "def read_files5(file1, file2):\n",
    "    try:\n",
    "        f1, f2 = None, None\n",
    "        f1 = open(file1)\n",
    "        f2 = open(file2)\n",
    "    except FileNotFoundError:\n",
    "        print(\"Horrible error, the file wasn't found\")\n",
    "    finally:\n",
    "        print(\"Closing open files\")\n",
    "        if f1: f1.close()\n",
    "        if f2: f2.close()"
   ]
  },
  {
   "cell_type": "markdown",
   "id": "d872c856-c351-432d-bf9f-929a903e06b1",
   "metadata": {},
   "source": [
    "Notice which part of the try/except/finally block gets called if an exception is raised or isn't raised"
   ]
  },
  {
   "cell_type": "code",
   "execution_count": null,
   "id": "4277aad0-21ac-43f0-ad07-8f6b8a51100d",
   "metadata": {
    "tags": []
   },
   "outputs": [],
   "source": [
    "read_files5('nofile.txt', 'nofile.csv')"
   ]
  },
  {
   "cell_type": "code",
   "execution_count": null,
   "id": "d664b5d0-098e-4a0c-a7d8-fb5a95ba1e13",
   "metadata": {
    "tags": []
   },
   "outputs": [],
   "source": [
    "read_files5('../../postcell.conf', '../../postcell.conf')"
   ]
  },
  {
   "cell_type": "markdown",
   "id": "3db07acb-34ac-4a9e-8e00-c6b82b32afc3",
   "metadata": {},
   "source": [
    "### Raise exceptions\n",
    "\n",
    "If you are writing a function or a full library, you may have to raise exceptions yourself. The syntax is very simple:"
   ]
  },
  {
   "cell_type": "code",
   "execution_count": null,
   "id": "5fc16292-69be-4674-aa75-78b848ff73ad",
   "metadata": {
    "tags": []
   },
   "outputs": [],
   "source": [
    "def get_lottery_number(password):\n",
    "    LOTTERY_NUM = 42\n",
    "    if password == 123:\n",
    "        return LOTTERY_NUM\n",
    "    else:\n",
    "        raise PermissionError(\"Bad password :( \")"
   ]
  },
  {
   "cell_type": "code",
   "execution_count": null,
   "id": "7bcbb429-4cef-4ae0-80cf-dfbe93a1d211",
   "metadata": {
    "tags": []
   },
   "outputs": [],
   "source": [
    "get_lottery_number(456)"
   ]
  },
  {
   "cell_type": "markdown",
   "id": "3a621e2c-37d6-4995-8768-aea1a402aba0",
   "metadata": {},
   "source": [
    "### Custom exceptions\n",
    "Creating custom exceptions is the domain of software engineers. As a data scientist, you should never have to create your own exceptions. If you even do end up writing a library, the syntax is as follows:"
   ]
  },
  {
   "cell_type": "code",
   "execution_count": null,
   "id": "a99d8687-94a5-43e6-b5bb-320a650f1b27",
   "metadata": {
    "tags": []
   },
   "outputs": [],
   "source": [
    "class ConstraintViolated(Exception):\n",
    "    def __init__(self, message):\n",
    "        super().__init__(message)"
   ]
  },
  {
   "cell_type": "code",
   "execution_count": null,
   "id": "d806e3b2-c409-4926-9e8e-b8f71868bb87",
   "metadata": {
    "tags": []
   },
   "outputs": [],
   "source": [
    "class Professor():\n",
    "    def __init__(self, name, department, salary):\n",
    "        self.name = name\n",
    "        self.department = department\n",
    "        self.salary = salary\n",
    "        \n",
    "        if salary == 0:\n",
    "            raise ConstraintViolated(\"Professor salary must not be zero dollar\")"
   ]
  },
  {
   "cell_type": "code",
   "execution_count": null,
   "id": "ba717663-1a7f-435f-8ce6-7fef68eaca78",
   "metadata": {
    "tags": []
   },
   "outputs": [],
   "source": [
    "Professor(\"Shahbaz\", \"PSD\", 0)"
   ]
  },
  {
   "cell_type": "markdown",
   "id": "d7075863-b1ad-43a2-bd56-2eb79962412d",
   "metadata": {},
   "source": [
    "### Exceptions are not only for errors\n",
    "Exceptions exist when the normal flow of code needs to be interrupted. Iterators and Generators use exceptions to break loops!\n",
    "\n",
    "```python\n",
    "for i in range(3):\n",
    "   print(i)\n",
    "```"
   ]
  },
  {
   "cell_type": "code",
   "execution_count": null,
   "id": "8a530dbb-d677-4b68-8601-59c74a82cdf7",
   "metadata": {
    "tags": []
   },
   "outputs": [],
   "source": [
    "gen = iter(range(3))\n",
    "gen"
   ]
  },
  {
   "cell_type": "code",
   "execution_count": null,
   "id": "04d5944f-e89d-44ac-bac0-d49f81bf4518",
   "metadata": {
    "tags": []
   },
   "outputs": [],
   "source": [
    "next(gen)"
   ]
  },
  {
   "cell_type": "code",
   "execution_count": null,
   "id": "1e92a47e-4e7b-401c-8251-6061c1bb2d87",
   "metadata": {
    "tags": []
   },
   "outputs": [],
   "source": [
    "next(gen)"
   ]
  },
  {
   "cell_type": "code",
   "execution_count": null,
   "id": "8d71ddb3-e2ee-47a3-89b9-4ba66c8b8c4a",
   "metadata": {
    "tags": []
   },
   "outputs": [],
   "source": [
    "next(gen)"
   ]
  },
  {
   "cell_type": "code",
   "execution_count": null,
   "id": "b67a2416-2cfe-4bd4-876c-e231a74f8495",
   "metadata": {
    "tags": []
   },
   "outputs": [],
   "source": [
    "next(gen)"
   ]
  },
  {
   "cell_type": "markdown",
   "id": "b8371376-c047-4628-a899-4f4623720c42",
   "metadata": {},
   "source": [
    "### But why do we need exceptions?\n",
    "\n",
    "In the example, the class simply won't be created if an exception is thrown. A less obvious example is why you would raise an exception inside a function.\n",
    "\n",
    "For example, why does this cause an exception:"
   ]
  },
  {
   "cell_type": "code",
   "execution_count": null,
   "id": "8c57bd56-7729-4e28-bafe-878fd5fd5132",
   "metadata": {
    "tags": []
   },
   "outputs": [],
   "source": [
    "open('nofile.txt')"
   ]
  },
  {
   "cell_type": "markdown",
   "id": "7607cbf9-3375-47d0-b132-d69bdf941afa",
   "metadata": {},
   "source": [
    "Why not just return an empty string or None (as some functions do).\n",
    "The reason has to do with how to _think_ about these functions. If the `open` function returned an empty string, does that mean the file was empty or that the file didn't exist?\n",
    "\n",
    "If that function returned None, that can be an indicator that an error occured, but wouldn't we want to know more fine-grained detail about the cause of the error: the file doesn't exist or the user doesn't have access to it?"
   ]
  },
  {
   "cell_type": "markdown",
   "id": "1a2d4894-bb1a-457d-9c0c-48880aa6e88f",
   "metadata": {},
   "source": [
    "### Checked exceptions (which Python doesn't have)\n",
    "\n",
    "Python is a dynamic language, which means it does not have strict type checking. You can simply assign a value to a variable `gpa = 3.5`, without needing to give an explicit type. Some languages not only requier types, `double gpa = 3.5`, they even have strict exception checking!\n",
    "\n",
    "For example, if Python was like Java, the following code would not work:\n",
    "\n",
    "```python\n",
    "def count_lines(filename):\n",
    "    file = open(filename)\n",
    "    return len(file.readlines())\n",
    "```\n",
    "\n",
    "Java, at compile time, would recognize that the `open` command can throw a `FileNotFound` exception. It would force us to acknowledge or handle the exception. New programmers might do something like this:\n",
    "\n",
    "```python\n",
    "def count_lines(filename):\n",
    "    try:\n",
    "        file = open(filename)\n",
    "    except FileNotFoundError:\n",
    "        print(f\"I guess this file {filename} was not found\")\n",
    "        \n",
    "    return len(file.readlines())\n",
    "```\n",
    "\n",
    "More seasoned developers will know that your funtion should not simply hide exceptions. If you don't want to handle the exception, then you should let the calling function handle it:\n",
    "\n",
    "```python\n",
    "def count_lines(filename) throws FileNotFoundError: # <= Not actual Python syntax\n",
    "    file = open(filename)\n",
    "    return len(file.readlines())\n",
    "```\n",
    "\n",
    "The `throws` clause above is from Java and not actually part of Python. Being force to either handle the exception or two explicitely \"throw\" it and let the caller handle is called \"Checked Exceptions.\" Most of the internet seems to hate this feature although the author of these lecture loves them. If you are using a typed language, the ability to know which exceptions can be raise by any number of lines in a function can be extremely helpful."
   ]
  },
  {
   "cell_type": "code",
   "execution_count": null,
   "id": "6299c56e-5a12-42e7-bcfb-fc6d42d86fc2",
   "metadata": {},
   "outputs": [],
   "source": []
  }
 ],
 "metadata": {
  "kernelspec": {
   "display_name": "Python 3 (ipykernel)",
   "language": "python",
   "name": "python3"
  },
  "language_info": {
   "codemirror_mode": {
    "name": "ipython",
    "version": 3
   },
   "file_extension": ".py",
   "mimetype": "text/x-python",
   "name": "python",
   "nbconvert_exporter": "python",
   "pygments_lexer": "ipython3",
   "version": "3.11.5"
  }
 },
 "nbformat": 4,
 "nbformat_minor": 5
}
