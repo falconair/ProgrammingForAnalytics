{
 "cells": [
  {
   "cell_type": "code",
   "execution_count": null,
   "id": "458a24a0-1958-4e24-b20c-c8dbb13f45f3",
   "metadata": {
    "tags": []
   },
   "outputs": [],
   "source": [
    "%reload_ext postcell\n",
    "%postcell register"
   ]
  },
  {
   "cell_type": "code",
   "execution_count": null,
   "id": "43ded774-1e79-4f8b-829f-af8156a2a390",
   "metadata": {
    "tags": []
   },
   "outputs": [],
   "source": [
    "from IPython.display import HTML, display\n",
    "import math"
   ]
  },
  {
   "cell_type": "code",
   "execution_count": null,
   "id": "b8398e8e-ae1a-4ea1-992a-388d4919ee1f",
   "metadata": {
    "tags": []
   },
   "outputs": [],
   "source": [
    "def show_methods(e):\n",
    "    return render_list([m for m in dir(e) if '__' not in m])\n",
    "    \n",
    "def render_list(l):\n",
    "    style = 'list-style-type:none;display:inline-block;margin:0px 1%;'\n",
    "    return HTML('<ul\">' + ''.join([f'<li style=\"{style}\"><b>{m}</b></li>' for m in l]) + '</ul>') "
   ]
  },
  {
   "cell_type": "markdown",
   "id": "71cd8d0e-1161-40ce-bbdf-85a407925f89",
   "metadata": {},
   "source": [
    "# All of Python - The Basics For Experienced Programmers"
   ]
  },
  {
   "cell_type": "markdown",
   "id": "e89b4f6f-f8dc-40a4-9c95-f57a35ac4958",
   "metadata": {},
   "source": [
    "This notebook is a shorter version of `100_all_of_python_basics.ipynb`. That notebook contains an overview of Python for complete newbies. This notebook is more apprproate for people who have prior programming experience."
   ]
  },
  {
   "cell_type": "markdown",
   "id": "ff062ed8-08ad-43aa-b9ea-a990c2c2c4d7",
   "metadata": {},
   "source": [
    "### Numbers"
   ]
  },
  {
   "cell_type": "markdown",
   "id": "a566fef0-552d-4348-9f86-05e26f503ad1",
   "metadata": {},
   "source": [
    "Python has integers, floating points and complex numbers. Like any other language, it has standard operators (with two exceptions):"
   ]
  },
  {
   "cell_type": "markdown",
   "id": "f1bfae6f-617a-4578-8475-9848ce88cb09",
   "metadata": {},
   "source": [
    "| | |\n",
    "|---|---|\n",
    "|+| addition|\n",
    "|-| subtraction|\n",
    "|*| multiplication|\n",
    "|/| division|\n",
    "|//| safe or integer division |\n",
    "|**| exponentiation (not '^') <== IMPORTANT|\n",
    "|%| modulus|\n"
   ]
  },
  {
   "cell_type": "markdown",
   "id": "0994ea1d-4255-462a-8329-1a5949efbbbf",
   "metadata": {},
   "source": [
    "**Exercise** Check the type of 100"
   ]
  },
  {
   "cell_type": "code",
   "execution_count": null,
   "id": "56f4e385-d515-4915-ab38-81841b6fa73d",
   "metadata": {
    "tags": []
   },
   "outputs": [],
   "source": [
    "type(100)"
   ]
  },
  {
   "cell_type": "code",
   "execution_count": null,
   "id": "91e9db17-ff34-4beb-8ac0-53267d6c39ef",
   "metadata": {
    "tags": []
   },
   "outputs": [],
   "source": [
    "type(3.14)"
   ]
  },
  {
   "cell_type": "code",
   "execution_count": null,
   "id": "eae5cdcb-b328-48cf-81b6-2f0bb48e0fbf",
   "metadata": {},
   "outputs": [],
   "source": [
    "#%%postcell exercise_025_095_a\n",
    "\n",
    "#type your answer here"
   ]
  },
  {
   "cell_type": "markdown",
   "id": "841a33ca-6fec-428c-83c8-944dc1907124",
   "metadata": {},
   "source": [
    "**Exercise** Check the type of 100.0"
   ]
  },
  {
   "cell_type": "code",
   "execution_count": null,
   "id": "6c84df5b-837a-4649-b156-5dbec1de1776",
   "metadata": {
    "tags": []
   },
   "outputs": [],
   "source": [
    "%%postcell exercise_025_095_b\n",
    "\n",
    "#type your answer here"
   ]
  },
  {
   "cell_type": "markdown",
   "id": "6b6763e9-c10d-466e-99f7-4b9a006ab173",
   "metadata": {},
   "source": [
    "**Exercise** Raise 2 to the power of 5"
   ]
  },
  {
   "cell_type": "code",
   "execution_count": null,
   "id": "d47c5136-f5b6-4b7a-8cbe-57af78515b89",
   "metadata": {},
   "outputs": [],
   "source": [
    "%%postcell exercise_025_095_c\n",
    "\n",
    "#type your answer here"
   ]
  },
  {
   "cell_type": "markdown",
   "id": "cb82fbee-dc63-4966-a152-5e1f7498f83d",
   "metadata": {},
   "source": [
    "Numbers can be made easy to read using separators, susch as:"
   ]
  },
  {
   "cell_type": "code",
   "execution_count": null,
   "id": "2c982bd2-7692-4fb3-80c5-7e7e3460deec",
   "metadata": {
    "tags": []
   },
   "outputs": [],
   "source": [
    "1000000\n",
    "1_000_000 #1,000,000"
   ]
  },
  {
   "cell_type": "markdown",
   "id": "76940290-ba1a-4a4c-a183-729f4ca0570b",
   "metadata": {},
   "source": [
    "### String"
   ]
  },
  {
   "cell_type": "markdown",
   "id": "b4c8983e-eba5-4d94-adac-9c5f3a505ea4",
   "metadata": {},
   "source": [
    "Python's strings are like any other langauge, although the syntax can be more flexible. "
   ]
  },
  {
   "cell_type": "markdown",
   "id": "1fd35b88-d670-45c1-9831-fbc2e56a2e91",
   "metadata": {},
   "source": [
    "**Exercise** Check the type of \"100\""
   ]
  },
  {
   "cell_type": "code",
   "execution_count": null,
   "id": "454a71a6-0dbf-457c-8a24-1409d292969c",
   "metadata": {},
   "outputs": [],
   "source": [
    "%%postcell exercise_025_095_d\n",
    "\n",
    "#type your answer here"
   ]
  },
  {
   "cell_type": "markdown",
   "id": "c2c9fa7b-656a-4b7a-bc3b-6ba4ca6d85a1",
   "metadata": {},
   "source": [
    "Single quote `'` and double quote `\"` have the same meaning. There is no `char` type"
   ]
  },
  {
   "cell_type": "code",
   "execution_count": null,
   "id": "2f47b0ab-d86d-44a6-a1f9-8052e9b8708c",
   "metadata": {
    "tags": []
   },
   "outputs": [],
   "source": [
    "\"hello world\""
   ]
  },
  {
   "cell_type": "code",
   "execution_count": null,
   "id": "3d32cb2e-887c-4f36-8357-ba671928b43e",
   "metadata": {
    "tags": []
   },
   "outputs": [],
   "source": [
    "'hello world'"
   ]
  },
  {
   "cell_type": "code",
   "execution_count": null,
   "id": "ff42e074-d6cf-46a5-bbc0-a733284be36a",
   "metadata": {
    "tags": []
   },
   "outputs": [],
   "source": [
    "print('This is a \"great\" example')"
   ]
  },
  {
   "cell_type": "code",
   "execution_count": null,
   "id": "fbf0848a-7f1d-42e9-a5c3-2f7b0e112451",
   "metadata": {
    "tags": []
   },
   "outputs": [],
   "source": [
    "print(\"This class is 'great'\")"
   ]
  },
  {
   "cell_type": "code",
   "execution_count": null,
   "id": "ab10ea5f-81a7-4b31-a393-68d459bc421a",
   "metadata": {
    "tags": []
   },
   "outputs": [],
   "source": [
    "type(\"hello\"), type('hello')"
   ]
  },
  {
   "cell_type": "markdown",
   "id": "2fd693b0-bbdb-4b82-a0ad-8ac8044d88b8",
   "metadata": {},
   "source": [
    "Python has multi-line strings, using _three single quotes_ `'''`:"
   ]
  },
  {
   "cell_type": "code",
   "execution_count": null,
   "id": "367b4004-f354-445a-9888-353645b6cae2",
   "metadata": {
    "tags": []
   },
   "outputs": [],
   "source": [
    "'''hello\n",
    "world\n",
    "how are\n",
    "you'''"
   ]
  },
  {
   "cell_type": "code",
   "execution_count": null,
   "id": "df24768f-ea1b-477a-90e8-31d970e09583",
   "metadata": {
    "tags": []
   },
   "outputs": [],
   "source": [
    "print('''hello\n",
    "world\n",
    "how are\n",
    "you''')"
   ]
  },
  {
   "cell_type": "code",
   "execution_count": null,
   "id": "83a34e2e-3db0-4439-8516-0ee0494dc290",
   "metadata": {
    "tags": []
   },
   "outputs": [],
   "source": [
    "print('hello\\nworld\\nhow are\\n\\n\\n\\n\\n\\nyou')"
   ]
  },
  {
   "cell_type": "code",
   "execution_count": null,
   "id": "0b383ca2-e7b3-4525-9b75-5fd93348e95b",
   "metadata": {
    "tags": []
   },
   "outputs": [],
   "source": [
    "multiline_string = '''hello\n",
    "world\n",
    "how are\n",
    "you'''"
   ]
  },
  {
   "cell_type": "code",
   "execution_count": null,
   "id": "482e9859-309a-4a13-b9bb-e7b1e8591382",
   "metadata": {
    "tags": []
   },
   "outputs": [],
   "source": [
    "print(multiline_string)"
   ]
  },
  {
   "cell_type": "markdown",
   "id": "df5bb858-7700-4720-8914-6b19bde95705",
   "metadata": {},
   "source": [
    "Modern Python's way of interpolating strings is called \"f-strings.\" Python has many ways of doing string interpolation, ignore them all in favor of f-strings:"
   ]
  },
  {
   "cell_type": "code",
   "execution_count": null,
   "id": "2cdb7c7d-0b61-4880-a341-ccaacc17a2bc",
   "metadata": {
    "scrolled": true,
    "tags": []
   },
   "outputs": [],
   "source": [
    "\"Homer is \" + 36 + \" years old\""
   ]
  },
  {
   "cell_type": "code",
   "execution_count": null,
   "id": "74fc5bd5-b91c-4ed2-ab29-3afe2dc03b30",
   "metadata": {},
   "outputs": [],
   "source": [
    "str(36)"
   ]
  },
  {
   "cell_type": "code",
   "execution_count": null,
   "id": "a999adef-c3e7-4694-82b1-f2a5993a7347",
   "metadata": {},
   "outputs": [],
   "source": [
    "\"Homer is \" + str(36) + \" years old\""
   ]
  },
  {
   "cell_type": "code",
   "execution_count": null,
   "id": "1600398a-b3e5-4cb3-90fe-8322e498b513",
   "metadata": {
    "tags": []
   },
   "outputs": [],
   "source": [
    "\"Homer is \" + str(30 + 6) + \" years old\""
   ]
  },
  {
   "cell_type": "code",
   "execution_count": null,
   "id": "ca9ea062-85cb-4664-a13f-51a7906590f2",
   "metadata": {
    "tags": []
   },
   "outputs": [],
   "source": [
    "f\"Homer is {30 + 6} years old\""
   ]
  },
  {
   "cell_type": "code",
   "execution_count": null,
   "id": "d6d6a308-e9fb-4753-aba5-b11e031647c7",
   "metadata": {
    "tags": []
   },
   "outputs": [],
   "source": [
    "\"Homer is {30 + 6} years old\""
   ]
  },
  {
   "cell_type": "code",
   "execution_count": null,
   "id": "5ae1a39c-020e-439c-b18d-2647c79f1ceb",
   "metadata": {
    "tags": []
   },
   "outputs": [],
   "source": [
    "#string concatenation\n",
    "marge_age = 32\n",
    "\"Marge is \" + str(marge_age) + \" years old\""
   ]
  },
  {
   "cell_type": "code",
   "execution_count": null,
   "id": "965cf953-093b-4438-a0ec-c2e206c0215c",
   "metadata": {
    "tags": []
   },
   "outputs": [],
   "source": [
    "#string interpolation\n",
    "marge_age = 32\n",
    "f'Marge is {marge_age} years old'"
   ]
  },
  {
   "cell_type": "code",
   "execution_count": null,
   "id": "487b00cd-56ac-45e1-9dcb-024d144284f2",
   "metadata": {
    "tags": []
   },
   "outputs": [],
   "source": [
    "#incorrect string interpolation\n",
    "marge_age = 32\n",
    "'Marge is {marge_age} years old'"
   ]
  },
  {
   "cell_type": "markdown",
   "id": "d9952c00-1e7a-46b8-bc37-698e7a7cfd2f",
   "metadata": {},
   "source": [
    "**Exercise** List all `string` methods using the `dir()` function"
   ]
  },
  {
   "cell_type": "code",
   "execution_count": null,
   "id": "e5731183-636b-42af-a5e9-4c4147b02314",
   "metadata": {},
   "outputs": [],
   "source": [
    "#%%postcell exercise_025_095_e\n",
    "\n",
    "#type your answer here"
   ]
  },
  {
   "cell_type": "code",
   "execution_count": null,
   "id": "4d31f03f-bec5-4cab-b8dd-3a15cdb37233",
   "metadata": {
    "tags": []
   },
   "outputs": [],
   "source": [
    "dir(\"some string\")"
   ]
  },
  {
   "cell_type": "code",
   "execution_count": null,
   "id": "c9eda157-9816-4776-bb78-5fbc139160c6",
   "metadata": {},
   "outputs": [],
   "source": [
    "\"hello world\"."
   ]
  },
  {
   "cell_type": "code",
   "execution_count": null,
   "id": "b88f2d0c-47dd-4fb5-bd51-c84096343323",
   "metadata": {
    "tags": []
   },
   "outputs": [],
   "source": [
    "\"hello\" + \"world\""
   ]
  },
  {
   "cell_type": "code",
   "execution_count": null,
   "id": "34207b2f-099e-4def-9540-24b8656ca8d6",
   "metadata": {
    "tags": []
   },
   "outputs": [],
   "source": [
    "\"hello\" * 5"
   ]
  },
  {
   "cell_type": "markdown",
   "id": "9c5cff40-97c6-486f-bbf2-fbe91db5e4ed",
   "metadata": {},
   "source": [
    "##### Methods available on strings"
   ]
  },
  {
   "cell_type": "code",
   "execution_count": null,
   "id": "2f1b4721-3105-4eb9-a2df-99a44df55c6a",
   "metadata": {
    "tags": []
   },
   "outputs": [],
   "source": [
    "show_methods(\"some string\")"
   ]
  },
  {
   "cell_type": "markdown",
   "id": "5e035e88-a6d5-4e42-9e23-6ae7465df8be",
   "metadata": {},
   "source": [
    "In Python, like most other languages, methods on a object are called via \"dot notation.\" \n",
    "For example:"
   ]
  },
  {
   "cell_type": "code",
   "execution_count": null,
   "id": "644f5803-be3d-4208-936f-7458a3b6c384",
   "metadata": {
    "tags": []
   },
   "outputs": [],
   "source": [
    "\"homer\".capitalize()"
   ]
  },
  {
   "cell_type": "markdown",
   "id": "e646eb17-cd4a-4410-9ca5-d332a9451ec8",
   "metadata": {},
   "source": [
    "##### Operators on strings"
   ]
  },
  {
   "cell_type": "markdown",
   "id": "5164b81f-096e-4a79-b23b-6812fb913df3",
   "metadata": {},
   "source": [
    "| | |\n",
    "|---|---|\n",
    "|+| concatenate (combine) two strings|\n",
    "|*| repeat string a number of times|\n"
   ]
  },
  {
   "cell_type": "code",
   "execution_count": null,
   "id": "33eaed50-05ce-453e-9621-c27b7eeb310a",
   "metadata": {},
   "outputs": [],
   "source": [
    "#TODO: in exercises, have them try common operations, such as split, join, lower, upper, startswith, endswith and f strings"
   ]
  },
  {
   "cell_type": "markdown",
   "id": "ab75b8d2-bf9b-41cb-9dee-1d04b659299e",
   "metadata": {},
   "source": [
    "**Exercise** Change the following sentence to lower case \" PLEASE STOP SHOUTING \". Remove extra space at the beginning and end of the sentence. See if the sentence ends with \"ing\".\n",
    "\n",
    "*Hint* Python provides methods, such as `upper`, `lower`, `strip`, `startswith` and `endswith`"
   ]
  },
  {
   "cell_type": "code",
   "execution_count": null,
   "id": "e4a54f54-1a24-484a-abeb-f9518a45a23b",
   "metadata": {},
   "outputs": [],
   "source": [
    "%%postcell exercise_025_095_f\n",
    "\n",
    "#type your answer here\n",
    "\" PLEASE STOP SHOUTING \""
   ]
  },
  {
   "cell_type": "markdown",
   "id": "4d19f93a-fa1a-45e2-bafd-a3bd0d654635",
   "metadata": {},
   "source": [
    "**Exercise** Use `f-strings` to say hello to the name in the variable `name`"
   ]
  },
  {
   "cell_type": "code",
   "execution_count": null,
   "id": "9592c1bb-9cdf-48a0-a7e5-dbf49db92f76",
   "metadata": {},
   "outputs": [],
   "source": [
    "%%postcell exercise_025_095_g\n",
    "\n",
    "name = \"Shahbaz\"\n",
    "#type your answer here"
   ]
  },
  {
   "cell_type": "markdown",
   "id": "b5b2d730-64cd-4848-abef-e096e555c02f",
   "metadata": {},
   "source": [
    "More useful string functionality is described in the `list` section"
   ]
  },
  {
   "cell_type": "markdown",
   "id": "dd7b6b94-5997-4f14-b53f-a0abd92475a8",
   "metadata": {},
   "source": [
    "### Dates"
   ]
  },
  {
   "cell_type": "markdown",
   "id": "009ff6be-fb1a-4c25-b3a4-0b13c439b754",
   "metadata": {},
   "source": [
    "Like most languages, Python provides a `datetime` type. We can certainly represent dates as strings \"Nov 11, 2023\" or as a number _1699109972_ (number of seconds since some date). However, a type dedicated to dates can be very useful."
   ]
  },
  {
   "cell_type": "code",
   "execution_count": null,
   "id": "9c812e35-cddc-4734-995b-a691ef6fc00c",
   "metadata": {
    "tags": []
   },
   "outputs": [],
   "source": [
    "import datetime"
   ]
  },
  {
   "cell_type": "code",
   "execution_count": null,
   "id": "fa411601-a818-4c0a-9cfb-c30b2250c3cd",
   "metadata": {
    "tags": []
   },
   "outputs": [],
   "source": [
    "nov5 = datetime.datetime(2023, 11, 5, 6, 5, 3)# Nov 5, 6:05:03\n",
    "nov5"
   ]
  },
  {
   "cell_type": "code",
   "execution_count": null,
   "id": "493a2ff9-ad50-47b2-905d-c5d781935aa5",
   "metadata": {
    "tags": []
   },
   "outputs": [],
   "source": [
    "type(nov5)"
   ]
  },
  {
   "cell_type": "markdown",
   "id": "7b0efddb-3876-4448-81c2-771d6fb502a5",
   "metadata": {},
   "source": [
    "Get current date and time"
   ]
  },
  {
   "cell_type": "code",
   "execution_count": null,
   "id": "3da590ab-59ff-4555-9b1e-1ec49083486c",
   "metadata": {
    "tags": []
   },
   "outputs": [],
   "source": [
    "datetime.datetime.now()"
   ]
  },
  {
   "cell_type": "markdown",
   "id": "54e4b5bd-4c83-40de-9fed-d483b489e8f5",
   "metadata": {},
   "source": [
    "Once a datetime object is created, it can provide very useful information"
   ]
  },
  {
   "cell_type": "code",
   "execution_count": null,
   "id": "9bc54335-ee51-41e5-9068-1279294b739d",
   "metadata": {
    "tags": []
   },
   "outputs": [],
   "source": [
    "nov5.year, nov5.month, nov5.day"
   ]
  },
  {
   "cell_type": "code",
   "execution_count": null,
   "id": "02fd71fb-bfc0-4ea2-8f1b-5e6a2b2b2e38",
   "metadata": {
    "tags": []
   },
   "outputs": [],
   "source": [
    "nov5.hour, nov5.minute, nov5.second"
   ]
  },
  {
   "cell_type": "code",
   "execution_count": null,
   "id": "ba713787-d79a-43f1-af0c-c74be7a212d0",
   "metadata": {},
   "outputs": [],
   "source": [
    "nov5.   # dir(nov5)"
   ]
  },
  {
   "cell_type": "markdown",
   "id": "9b1d8e64-3a95-479e-8d4b-d5912f97beea",
   "metadata": {},
   "source": [
    "Number of seconds since _epoch_ (Jan 1, 1970)"
   ]
  },
  {
   "cell_type": "code",
   "execution_count": null,
   "id": "6dbfff6f-3538-42b7-a171-5f89ba23a8da",
   "metadata": {
    "tags": []
   },
   "outputs": [],
   "source": [
    "nov5.timestamp()"
   ]
  },
  {
   "cell_type": "markdown",
   "id": "be9c676f-62cd-45f9-aaa6-ed72938775b8",
   "metadata": {},
   "source": [
    "You can precisely control how dates and times a printed See this page for a table of formatters: https://www.w3schools.com/python/python_datetime.asp"
   ]
  },
  {
   "cell_type": "code",
   "execution_count": null,
   "id": "006847da-3ab5-408a-9692-297d8f4111a6",
   "metadata": {
    "tags": []
   },
   "outputs": [],
   "source": [
    "print( nov5.strftime(\"%B %d, %Y\") )\n",
    "print( nov5.strftime(\"%b %d, %Y\") )\n",
    "print( nov5.strftime(\"%d/%m/%Y\") )\n",
    "print( nov5.strftime(\"%m/%d/%Y\") )"
   ]
  },
  {
   "cell_type": "code",
   "execution_count": null,
   "id": "52954693-3649-45a0-a95e-71ccf0b68907",
   "metadata": {
    "tags": []
   },
   "outputs": [],
   "source": [
    "nov5.isoformat()"
   ]
  },
  {
   "cell_type": "markdown",
   "id": "68cfa018-7017-4e01-b343-d52ae26e06b4",
   "metadata": {},
   "source": [
    "You can use the same formatting strings to _parse_ dates"
   ]
  },
  {
   "cell_type": "code",
   "execution_count": null,
   "id": "af4ab8e9-d38b-45dd-a50f-c8102ae971bd",
   "metadata": {
    "tags": []
   },
   "outputs": [],
   "source": [
    "date_string = \"Nov 5, 2023\"\n",
    "datetime.datetime.strptime(date_string, \"%b %d, %Y\")"
   ]
  },
  {
   "cell_type": "code",
   "execution_count": null,
   "id": "88ef00c8-b1d0-4d8b-b21f-87331d98bc6e",
   "metadata": {},
   "outputs": [],
   "source": [
    "nov5 + 1"
   ]
  },
  {
   "cell_type": "code",
   "execution_count": null,
   "id": "a1a826d3-2caa-49ee-8a14-6c66cfe4d0df",
   "metadata": {
    "tags": []
   },
   "outputs": [],
   "source": [
    "nov5 + datetime.timedelta(days=1)"
   ]
  },
  {
   "cell_type": "code",
   "execution_count": null,
   "id": "502f5c8b-3989-4880-83ab-6130af81a070",
   "metadata": {
    "tags": []
   },
   "outputs": [],
   "source": [
    "show_methods(nov5)"
   ]
  },
  {
   "cell_type": "markdown",
   "id": "c3c84226-68c7-496b-ab5b-88d59383a4fc",
   "metadata": {},
   "source": [
    "### Boolean: True/False"
   ]
  },
  {
   "cell_type": "markdown",
   "id": "75724de9-c5ca-40a4-a6aa-10fd59c9544c",
   "metadata": {},
   "source": [
    "Python's boolean type has explicit `True` and `False` values, like most modern languages, yet maintains some of the functionalith of C's macros style booleans."
   ]
  },
  {
   "cell_type": "code",
   "execution_count": null,
   "id": "d5326e14-6bf1-4d67-b6a8-9b590051404f",
   "metadata": {
    "tags": []
   },
   "outputs": [],
   "source": [
    "1 > 2"
   ]
  },
  {
   "cell_type": "code",
   "execution_count": null,
   "id": "3ffaceb3-4318-4187-a2f4-f8a4b934f4f2",
   "metadata": {
    "tags": []
   },
   "outputs": [],
   "source": [
    "2 > 1"
   ]
  },
  {
   "cell_type": "markdown",
   "id": "5d5681ea-f3eb-4a73-9d35-1904f205a055",
   "metadata": {},
   "source": [
    "`True` maps to `1` and `False` maps to `0`:"
   ]
  },
  {
   "cell_type": "code",
   "execution_count": null,
   "id": "494682c9-6222-4380-93e2-637dba233bb6",
   "metadata": {
    "tags": []
   },
   "outputs": [],
   "source": [
    "True + True"
   ]
  },
  {
   "cell_type": "markdown",
   "id": "bc5037cc-5187-4638-9d11-767cc07b3cfe",
   "metadata": {},
   "source": [
    "In the **`Truthiness`** section, we will further discuss unexpectedly useful boolean functionality"
   ]
  },
  {
   "cell_type": "markdown",
   "id": "9ea80931-3887-4358-bd86-0249f8abbdfc",
   "metadata": {},
   "source": [
    "##### Operators for comparison (including comparison of strings and numbers)"
   ]
  },
  {
   "cell_type": "markdown",
   "id": "a31e6982-d671-4152-b6c7-a4c0672fe7ec",
   "metadata": {},
   "source": [
    "| | |\n",
    "|---|---|\n",
    "|==| equals|\n",
    "|!=| not equal|\n",
    "|>| greater than|\n",
    "|<| less than|\n",
    "|>=| greater than or equal to |\n",
    "|<=| less than or equal to|\n"
   ]
  },
  {
   "cell_type": "markdown",
   "id": "875e6645-ae5f-449e-ada6-2c1348b9802d",
   "metadata": {
    "toc-hr-collapsed": true
   },
   "source": [
    "##### Logical operators"
   ]
  },
  {
   "cell_type": "markdown",
   "id": "d363133e-0396-4d56-87b2-957375800d3d",
   "metadata": {},
   "source": [
    "| | |\n",
    "|---|---|\n",
    "|and| conjunction|\n",
    "|or| disjunction|\n",
    "|not| negation|\n"
   ]
  },
  {
   "cell_type": "markdown",
   "id": "7c14a78e-4d12-4cff-bcc2-e387f2b66bfb",
   "metadata": {},
   "source": [
    "We will do exercises involving booleans in the if/else section"
   ]
  },
  {
   "cell_type": "markdown",
   "id": "3f5bcceb-1d4b-457c-b600-b65dfd65f028",
   "metadata": {},
   "source": [
    "### Type conversion"
   ]
  },
  {
   "cell_type": "markdown",
   "id": "1999e50b-c62c-4f22-860b-400b3cb4f51b",
   "metadata": {},
   "source": [
    "Python does not require explicit types, but objects do have run-time type information:"
   ]
  },
  {
   "cell_type": "code",
   "execution_count": null,
   "id": "9e4b61b0-ad58-457f-9cca-372d276f9451",
   "metadata": {
    "tags": []
   },
   "outputs": [],
   "source": [
    "type(\"hello\"), type(23), type(23.4), type(True)"
   ]
  },
  {
   "cell_type": "markdown",
   "id": "0d745669-8c06-4718-8390-9a2b5fc63ddb",
   "metadata": {},
   "source": [
    "Some important built-in data types in Python are: "
   ]
  },
  {
   "cell_type": "markdown",
   "id": "324358e4-eac3-4ced-a292-b6a8053deade",
   "metadata": {},
   "source": [
    "`str`, `int`, `float`, `bool`"
   ]
  },
  {
   "cell_type": "markdown",
   "id": "edea921e-4588-47bf-b826-3df6f00846de",
   "metadata": {},
   "source": [
    "These type names are also functions to convert one type to another:"
   ]
  },
  {
   "cell_type": "code",
   "execution_count": null,
   "id": "f162a0da-33e6-4a60-9f55-bc8df18e56ae",
   "metadata": {
    "tags": []
   },
   "outputs": [],
   "source": [
    "\"23.4\" + \"1\""
   ]
  },
  {
   "cell_type": "code",
   "execution_count": null,
   "id": "a2e31025-3c23-4f83-9e8e-dfe33e6d923e",
   "metadata": {
    "tags": []
   },
   "outputs": [],
   "source": [
    "float(\"23.4\") + 1"
   ]
  },
  {
   "cell_type": "code",
   "execution_count": null,
   "id": "8629453b-4f1d-416e-a84f-96f43c9c5828",
   "metadata": {
    "tags": []
   },
   "outputs": [],
   "source": [
    "\"Homer is number \" + 1 #<= What happened?"
   ]
  },
  {
   "cell_type": "code",
   "execution_count": null,
   "id": "daa4b963-7156-4d42-953d-abf5244efb20",
   "metadata": {
    "tags": []
   },
   "outputs": [],
   "source": [
    "\"Homer is number \" + str(1)"
   ]
  },
  {
   "cell_type": "code",
   "execution_count": null,
   "id": "43199a38-fffa-482f-abc9-05e08691eede",
   "metadata": {
    "tags": []
   },
   "outputs": [],
   "source": [
    "bool(1)"
   ]
  },
  {
   "cell_type": "code",
   "execution_count": null,
   "id": "cde4c05e-dadf-4fb9-b333-0b6dbd76d281",
   "metadata": {
    "tags": []
   },
   "outputs": [],
   "source": [
    "float(\"hello\")"
   ]
  },
  {
   "cell_type": "code",
   "execution_count": null,
   "id": "420e3022-2ecf-437f-a4e2-fae6cd0b5695",
   "metadata": {},
   "outputs": [],
   "source": [
    "int(2.6)"
   ]
  },
  {
   "cell_type": "code",
   "execution_count": null,
   "id": "e3aba073-1552-41cd-bf79-3eeded18c74b",
   "metadata": {},
   "outputs": [],
   "source": [
    "1 + 2.1"
   ]
  },
  {
   "cell_type": "markdown",
   "id": "6f0396c4-4d1a-49bc-ad87-86c566e36549",
   "metadata": {},
   "source": [
    "### Variables"
   ]
  },
  {
   "cell_type": "markdown",
   "id": "32fe4714-e1e1-46bb-a6a1-0d4201448189",
   "metadata": {},
   "source": [
    "Variable definition in Python is simpler than other mainstream programming languages. There is no required type, not `var` or `let` keyword, no separation of declaration of definitions. "
   ]
  },
  {
   "cell_type": "code",
   "execution_count": null,
   "id": "9a0a6df6-01ea-4717-8743-c3294ffbfef9",
   "metadata": {
    "tags": []
   },
   "outputs": [],
   "source": [
    "x = \"Hello\""
   ]
  },
  {
   "cell_type": "markdown",
   "id": "5bd35a1c-fed8-4aa3-9b23-97a5fa1f7fea",
   "metadata": {},
   "source": [
    "That's it."
   ]
  },
  {
   "cell_type": "markdown",
   "id": "7682156a-7aa5-4984-9d3e-8225a43b8afa",
   "metadata": {},
   "source": [
    "Since Python is a dynamic language, types are assigned at runtime, not at definition time"
   ]
  },
  {
   "cell_type": "code",
   "execution_count": null,
   "id": "b116c192-38c0-4f62-b25a-da8f29609992",
   "metadata": {
    "tags": []
   },
   "outputs": [],
   "source": [
    "type(x)"
   ]
  },
  {
   "cell_type": "code",
   "execution_count": null,
   "id": "02b74a4c-e9a5-4138-afae-23c407c7124f",
   "metadata": {
    "tags": []
   },
   "outputs": [],
   "source": [
    "x = 100"
   ]
  },
  {
   "cell_type": "code",
   "execution_count": null,
   "id": "d90c7ef8-d208-44bd-886c-31206c0e4480",
   "metadata": {
    "tags": []
   },
   "outputs": [],
   "source": [
    "type(x)"
   ]
  },
  {
   "cell_type": "markdown",
   "id": "4ccf8d98-ee8b-45c7-9aff-3d24acf0f330",
   "metadata": {},
   "source": [
    "#### Increment operator"
   ]
  },
  {
   "cell_type": "code",
   "execution_count": null,
   "id": "2314ab38-61e4-4748-9fcd-6b401f82ce74",
   "metadata": {
    "tags": []
   },
   "outputs": [],
   "source": [
    "x = 100"
   ]
  },
  {
   "cell_type": "code",
   "execution_count": null,
   "id": "070005cc-c11d-49ab-a6ac-4cd9b2e65dbe",
   "metadata": {
    "tags": []
   },
   "outputs": [],
   "source": [
    "x = x + 1"
   ]
  },
  {
   "cell_type": "code",
   "execution_count": null,
   "id": "04d759a6-828d-4a0a-a434-280bd0f42b91",
   "metadata": {
    "tags": []
   },
   "outputs": [],
   "source": [
    "x"
   ]
  },
  {
   "cell_type": "markdown",
   "id": "ee526710-4ebc-4615-a459-eeae91350a71",
   "metadata": {},
   "source": [
    "Variable assignment in PYthon provide a utility found in many other programming langauges which combines assignment and a binary operator"
   ]
  },
  {
   "cell_type": "code",
   "execution_count": null,
   "id": "2a1c62f5-7a0e-4010-a1b3-932989e9aa5d",
   "metadata": {
    "tags": []
   },
   "outputs": [],
   "source": [
    "x += 1\n",
    "x"
   ]
  },
  {
   "cell_type": "code",
   "execution_count": null,
   "id": "9f93bec4-b47a-45e6-b668-6d35c9cb8105",
   "metadata": {
    "tags": []
   },
   "outputs": [],
   "source": [
    "x *= 2\n",
    "x"
   ]
  },
  {
   "cell_type": "markdown",
   "id": "c98eb56e-f67a-447b-8231-da6f83c4bd1a",
   "metadata": {},
   "source": [
    "Unlike many other programming languages, Python provides a greater number of such assignment operators: `/=`, `%=`, `**=`, etc."
   ]
  },
  {
   "cell_type": "markdown",
   "id": "3d2314e8-becb-4af7-a11b-4156414f88b2",
   "metadata": {},
   "source": [
    "Perhaps surprisingly, Python does _not_ provide a common operation found in almost every other language"
   ]
  },
  {
   "cell_type": "code",
   "execution_count": null,
   "id": "b7d59064-56bc-4a2d-8dd0-61fdaf60b939",
   "metadata": {
    "tags": []
   },
   "outputs": [],
   "source": [
    "x++"
   ]
  },
  {
   "cell_type": "markdown",
   "id": "e8bfd508-3903-457f-a322-46cbd4bc6fa2",
   "metadata": {},
   "source": [
    "Python allows multiple assignment"
   ]
  },
  {
   "cell_type": "code",
   "execution_count": null,
   "id": "63313faa-b6fc-4ce6-9008-28d232886053",
   "metadata": {
    "tags": []
   },
   "outputs": [],
   "source": [
    "x, y = 1, 2"
   ]
  },
  {
   "cell_type": "code",
   "execution_count": null,
   "id": "379caec0-33b2-43b6-8841-90b59a0fad97",
   "metadata": {
    "tags": []
   },
   "outputs": [],
   "source": [
    "x"
   ]
  },
  {
   "cell_type": "code",
   "execution_count": null,
   "id": "e0273e15-bf97-45ec-b0c8-ba4a201177a5",
   "metadata": {
    "tags": []
   },
   "outputs": [],
   "source": [
    "y"
   ]
  },
  {
   "cell_type": "code",
   "execution_count": null,
   "id": "7220cfdd-a84f-421a-b9e8-a5a05309ef8c",
   "metadata": {
    "tags": []
   },
   "outputs": [],
   "source": [
    "y, x = x, y"
   ]
  },
  {
   "cell_type": "code",
   "execution_count": null,
   "id": "0e2fe09a-642f-4c17-911b-7293066394de",
   "metadata": {
    "tags": []
   },
   "outputs": [],
   "source": [
    "x"
   ]
  },
  {
   "cell_type": "code",
   "execution_count": null,
   "id": "2b5ad44b-7a5e-4870-a361-5dee0590f0d8",
   "metadata": {
    "tags": []
   },
   "outputs": [],
   "source": [
    "y"
   ]
  },
  {
   "cell_type": "markdown",
   "id": "b915d5ca-525f-4e68-8f92-61417c3131b7",
   "metadata": {},
   "source": [
    "### Functions"
   ]
  },
  {
   "cell_type": "markdown",
   "id": "23f034a0-c142-4338-92b5-5a3d9ed7fa0e",
   "metadata": {},
   "source": [
    "Perhaps the first time programmers notice a major departure from mainstream languages is when they come across Python's function syntax. _Indentation matters!_"
   ]
  },
  {
   "cell_type": "code",
   "execution_count": null,
   "id": "f5b25715-26da-476f-8a50-0e12112ef1aa",
   "metadata": {
    "tags": []
   },
   "outputs": [],
   "source": [
    "type(100)"
   ]
  },
  {
   "cell_type": "code",
   "execution_count": null,
   "id": "1c1f2db9-07ed-4f9b-a3b5-fa671fdd6dbe",
   "metadata": {
    "tags": []
   },
   "outputs": [],
   "source": [
    "def function_name(arg1, arg2):\n",
    "    return arg1 + arg2"
   ]
  },
  {
   "cell_type": "code",
   "execution_count": null,
   "id": "99979735-14c8-4c09-aa26-eb36c6eb5a68",
   "metadata": {
    "tags": []
   },
   "outputs": [],
   "source": [
    "function_name(1,2)"
   ]
  },
  {
   "cell_type": "code",
   "execution_count": null,
   "id": "6d88b289-0fea-4197-b0e9-8f157dc17275",
   "metadata": {
    "tags": []
   },
   "outputs": [],
   "source": [
    "function_name(\"hello\", \"world\")"
   ]
  },
  {
   "cell_type": "markdown",
   "id": "7a7d0c2a-b245-46e9-b6b1-d1d5a8fa7f11",
   "metadata": {},
   "source": [
    "**Exercise** Write a function which accepts a name and returns a string \"Hello _name_\" (where _name_ is the input variable)"
   ]
  },
  {
   "cell_type": "code",
   "execution_count": null,
   "id": "55893e4a-74e6-4ceb-b3d9-8b1075653964",
   "metadata": {},
   "outputs": [],
   "source": [
    "%%postcell exercise_025_095_h\n",
    "\n",
    "#type your answer here"
   ]
  },
  {
   "cell_type": "markdown",
   "id": "23d85653-d083-44a7-acb2-c6c4c0e8ddca",
   "metadata": {},
   "source": [
    "Python allows functions to have default values."
   ]
  },
  {
   "cell_type": "code",
   "execution_count": null,
   "id": "9dd16d1d-b220-4b9c-8d6d-35975128a3f5",
   "metadata": {
    "tags": []
   },
   "outputs": [],
   "source": [
    "def greeting(name, salutation=\"Hello\"):\n",
    "    return f\"{salutation} {name}!\"\n"
   ]
  },
  {
   "cell_type": "code",
   "execution_count": null,
   "id": "56e0d420-2a47-45cf-a162-0c47b1552ce8",
   "metadata": {
    "tags": []
   },
   "outputs": [],
   "source": [
    "greeting(\"Shahbaz\")"
   ]
  },
  {
   "cell_type": "code",
   "execution_count": null,
   "id": "e4d3b81b-72d1-4c72-ad0c-e488fe6005bd",
   "metadata": {
    "tags": []
   },
   "outputs": [],
   "source": [
    "greeting(\"Shahbaz\", \"Bonjour\")"
   ]
  },
  {
   "cell_type": "code",
   "execution_count": null,
   "id": "a9a3722f-0518-4aad-8bc5-f42dec9fe674",
   "metadata": {
    "tags": []
   },
   "outputs": [],
   "source": [
    "greeting(\"Shahbaz\", salutation=\"Bonjour\")"
   ]
  },
  {
   "cell_type": "code",
   "execution_count": null,
   "id": "4f8fc807-7d10-4af2-a6a3-96d4468189c1",
   "metadata": {},
   "outputs": [],
   "source": [
    "open?"
   ]
  },
  {
   "cell_type": "markdown",
   "id": "8e475704-3002-4c64-9320-53c5fd8df950",
   "metadata": {},
   "source": [
    "Global variables"
   ]
  },
  {
   "cell_type": "code",
   "execution_count": null,
   "id": "0d1ef340-3425-48f4-8e7d-b932fc043532",
   "metadata": {
    "tags": []
   },
   "outputs": [],
   "source": [
    "counter = 24\n",
    "\n",
    "def check_counter(threshold):\n",
    "    return counter > threshold"
   ]
  },
  {
   "cell_type": "code",
   "execution_count": null,
   "id": "0fe30dd1-f670-4c2c-ad7a-67fb54b98a59",
   "metadata": {
    "tags": []
   },
   "outputs": [],
   "source": [
    "check_counter()"
   ]
  },
  {
   "cell_type": "code",
   "execution_count": null,
   "id": "0265c865-c883-447b-bde8-34a324643d23",
   "metadata": {
    "tags": []
   },
   "outputs": [],
   "source": [
    "check_counter(200)"
   ]
  },
  {
   "cell_type": "markdown",
   "id": "5bb88424-f54b-4cde-874f-f132a6f4ce7f",
   "metadata": {},
   "source": [
    "Anonymous or lambda functions"
   ]
  },
  {
   "cell_type": "code",
   "execution_count": null,
   "id": "bf8bfa22-189d-44b5-a953-3154d6a7308b",
   "metadata": {},
   "outputs": [],
   "source": [
    "def normal_function(n):\n",
    "    return f\"Hello {n}\""
   ]
  },
  {
   "cell_type": "code",
   "execution_count": null,
   "id": "4b65ffd7-3452-4673-81be-d01d3f2a1956",
   "metadata": {},
   "outputs": [],
   "source": [
    "normal_function(\"Shahbaz\")"
   ]
  },
  {
   "cell_type": "code",
   "execution_count": null,
   "id": "f8b032ae-5f00-4402-ae17-9f1530bd1f43",
   "metadata": {
    "tags": []
   },
   "outputs": [],
   "source": [
    "x = lambda n: f\"Hello {n}\"  # I would have preferred this:  x = def n: f\"Hello {n}\""
   ]
  },
  {
   "cell_type": "code",
   "execution_count": null,
   "id": "43ce1634-0cf4-4b1c-a695-86fe3e263e16",
   "metadata": {
    "tags": []
   },
   "outputs": [],
   "source": [
    "x(\"Shahbaz\")"
   ]
  },
  {
   "cell_type": "code",
   "execution_count": null,
   "id": "d118aa2f-698e-49c1-8bc1-64f4e3155023",
   "metadata": {
    "tags": []
   },
   "outputs": [],
   "source": [
    "type(x)"
   ]
  },
  {
   "cell_type": "markdown",
   "id": "00e6bb66-738c-4c74-b4a0-c8dbb725707e",
   "metadata": {},
   "source": [
    "##### `import` external libraries"
   ]
  },
  {
   "cell_type": "markdown",
   "id": "a1cfb9e2-1f19-4e42-b42e-fc80928621ad",
   "metadata": {},
   "source": [
    "Python, naturally, provides the ability to import external libraries. However, unlike other languages, it provides some additonal functionality, such as aliases for imported libraries, importing without using name spaces, etc."
   ]
  },
  {
   "cell_type": "code",
   "execution_count": null,
   "id": "6329fffc-20ff-4c40-8d45-d7c0bfd22c6d",
   "metadata": {
    "tags": []
   },
   "outputs": [],
   "source": [
    "import math"
   ]
  },
  {
   "cell_type": "code",
   "execution_count": null,
   "id": "be3e2e83-cad0-48e2-b4f8-d5bc1d4bf2c7",
   "metadata": {
    "tags": []
   },
   "outputs": [],
   "source": [
    "math.sqrt(144)"
   ]
  },
  {
   "cell_type": "code",
   "execution_count": null,
   "id": "a9ef584c-f9f9-4a85-b49c-1885155436c6",
   "metadata": {
    "tags": []
   },
   "outputs": [],
   "source": [
    "math.floor(123.456)"
   ]
  },
  {
   "cell_type": "code",
   "execution_count": null,
   "id": "c5a799e3-0229-449b-9746-f577e29ea1c0",
   "metadata": {
    "tags": []
   },
   "outputs": [],
   "source": [
    "dir(math)"
   ]
  },
  {
   "cell_type": "markdown",
   "id": "0b27f8fa-3a77-41b7-a8f4-ffbc70277314",
   "metadata": {},
   "source": [
    "If you don't want to have to use `math.`, you can import all functions into the current name space"
   ]
  },
  {
   "cell_type": "code",
   "execution_count": null,
   "id": "2c82b42a-535b-407f-afc0-9aace381d00f",
   "metadata": {
    "tags": []
   },
   "outputs": [],
   "source": [
    "ceil(123.45)"
   ]
  },
  {
   "cell_type": "code",
   "execution_count": null,
   "id": "08802ebf-4d61-4d65-a2e6-40480f92ea73",
   "metadata": {
    "tags": []
   },
   "outputs": [],
   "source": [
    "math.ceil(123.45)"
   ]
  },
  {
   "cell_type": "code",
   "execution_count": null,
   "id": "adcca2b4-1314-419e-a99c-4becca6d9a4e",
   "metadata": {
    "tags": []
   },
   "outputs": [],
   "source": [
    "from math import *"
   ]
  },
  {
   "cell_type": "code",
   "execution_count": null,
   "id": "3590a842-b537-4806-875e-d31ce73ce13d",
   "metadata": {
    "tags": []
   },
   "outputs": [],
   "source": [
    "ceil(123.45)"
   ]
  },
  {
   "cell_type": "markdown",
   "id": "5067f48b-5912-476b-8010-f0890d33a0b4",
   "metadata": {},
   "source": [
    "_Warning:_ I'm not convinced this is every a good idea!"
   ]
  },
  {
   "cell_type": "code",
   "execution_count": null,
   "id": "ce4ada60-7bc9-4e89-92d8-9b7925db0bd1",
   "metadata": {
    "tags": []
   },
   "outputs": [],
   "source": [
    "import math as m"
   ]
  },
  {
   "cell_type": "code",
   "execution_count": null,
   "id": "0d6a9f23-501b-4e09-afa4-55acadc49fce",
   "metadata": {
    "tags": []
   },
   "outputs": [],
   "source": [
    "m.ceil(123.45)"
   ]
  },
  {
   "cell_type": "markdown",
   "id": "ef9b515e-a180-49ac-a0a9-311de7e1c1b2",
   "metadata": {},
   "source": [
    "Programmers generally don't arbitrarily pick aliases. There are some industry best practices. For example, the_Numpy_ and _Pandas_ libraries are universally imported as\n",
    "\n",
    "```python\n",
    "import numpy as np\n",
    "import pandas as pd\n",
    "```"
   ]
  },
  {
   "cell_type": "markdown",
   "id": "6db14fdd-64ce-45ea-a485-b7ab2a44b35b",
   "metadata": {},
   "source": [
    "##### Installing 3rd party libraries: not Python but very important"
   ]
  },
  {
   "cell_type": "markdown",
   "id": "df0fa2b5-5180-4299-9e02-5733f2624274",
   "metadata": {},
   "source": [
    "Like other modern programming ecosystems, Python provides (multiple) ways of installing external packages.\n",
    "\n",
    "```python\n",
    "pip install somepackage\n",
    "```"
   ]
  },
  {
   "cell_type": "markdown",
   "id": "6e7b9190-6e2f-4b8b-be62-688ccf6d6ae6",
   "metadata": {},
   "source": [
    "`pip` is officially part of Python. However, data scientists often use an alternative\n",
    "\n",
    "```python\n",
    "conda install somepackage\n",
    "```"
   ]
  },
  {
   "cell_type": "markdown",
   "id": "0626244b-4aa2-4868-b8ed-68112daf6d3a",
   "metadata": {},
   "source": [
    "`conda` is part of the _Anaconda_ Python distribution. Data scientists generally prefer this distribution because it comes pre-installed with Pandas, Numpy, Scikit-Learn, Jupyter and other tools."
   ]
  },
  {
   "cell_type": "markdown",
   "id": "143d6d96-8c18-4f7b-802f-dd24c13f209a",
   "metadata": {},
   "source": [
    "As data scientists, you should prefer `conda`. If a package is not availabe via `conda`, then use `pip` as a backup."
   ]
  },
  {
   "cell_type": "markdown",
   "id": "1c0fd9fc-3b00-48e9-b6f3-8e1615518afe",
   "metadata": {},
   "source": [
    "## Container types / Data structures"
   ]
  },
  {
   "cell_type": "markdown",
   "id": "8977f02a-7f37-4ac6-a74d-e17917ae7ba3",
   "metadata": {},
   "source": [
    "### Lists"
   ]
  },
  {
   "cell_type": "markdown",
   "id": "dfc61c08-ca9f-4e29-bf21-933d51e3fc3d",
   "metadata": {},
   "source": [
    "Python's list correspond to similar data structures in other languages, such as arrays and vectors and are closer to the standard linked list than a fixed size array based on contiguous memory."
   ]
  },
  {
   "cell_type": "code",
   "execution_count": null,
   "id": "059b3975-1f5c-4b01-b523-d87be41e20be",
   "metadata": {
    "tags": []
   },
   "outputs": [],
   "source": [
    "[1, 2, 3, \"Homer\", 4.5,  True, 3, 3, 3]"
   ]
  },
  {
   "cell_type": "markdown",
   "id": "dfa20f58-c8d6-41f5-9963-8383d81ff5db",
   "metadata": {},
   "source": [
    "Python provides conveniet _literals_ (syntax specific to that data structure). As you can see in the previous example, lists can contain items of any type (including lists, themselves)."
   ]
  },
  {
   "cell_type": "code",
   "execution_count": null,
   "id": "f88ab2e0-2646-4214-be80-acfed319444f",
   "metadata": {
    "tags": []
   },
   "outputs": [],
   "source": [
    "[1, 2, 3, \"Homer\", 4.5,  True, 3, 3, 3, [1,2,3]]"
   ]
  },
  {
   "cell_type": "markdown",
   "id": "d00c9b77-886f-4c37-976f-878f250959be",
   "metadata": {},
   "source": [
    "Methods available for lists:"
   ]
  },
  {
   "cell_type": "code",
   "execution_count": null,
   "id": "ab07177e-e4b1-4805-a45b-bf57567bbe80",
   "metadata": {
    "tags": []
   },
   "outputs": [],
   "source": [
    "show_methods(list())"
   ]
  },
  {
   "cell_type": "code",
   "execution_count": null,
   "id": "e368e7e8-0a99-4659-a91f-6e33af108a91",
   "metadata": {
    "tags": []
   },
   "outputs": [],
   "source": [
    "type([1,2,3])"
   ]
  },
  {
   "cell_type": "markdown",
   "id": "a9f24833-068b-4d3c-a30e-37f5b23ca3d6",
   "metadata": {},
   "source": [
    "Like `str`, `int`, `float` and  `bool`, the name of the type is also the constructor of the type"
   ]
  },
  {
   "cell_type": "code",
   "execution_count": null,
   "id": "3bbfa06d-c900-43cd-a8be-f05a70116c20",
   "metadata": {
    "tags": []
   },
   "outputs": [],
   "source": [
    "mylist = list()\n",
    "mylist"
   ]
  },
  {
   "cell_type": "code",
   "execution_count": null,
   "id": "7dbb40d2-3e33-4c5a-b22a-53c5309514c8",
   "metadata": {
    "tags": []
   },
   "outputs": [],
   "source": [
    "mylist.append(2)\n",
    "mylist"
   ]
  },
  {
   "cell_type": "code",
   "execution_count": null,
   "id": "3114f92c-2815-4761-ac7c-1fbe87d0c37b",
   "metadata": {
    "tags": []
   },
   "outputs": [],
   "source": [
    "mylist.append(3)\n",
    "mylist"
   ]
  },
  {
   "cell_type": "code",
   "execution_count": null,
   "id": "910f47ce-cb71-4acb-bde3-a8bacac0a339",
   "metadata": {
    "tags": []
   },
   "outputs": [],
   "source": [
    "mylist.append([4,5])\n",
    "mylist"
   ]
  },
  {
   "cell_type": "code",
   "execution_count": null,
   "id": "efe1d580-fe56-4c02-9424-66e156907eff",
   "metadata": {
    "tags": []
   },
   "outputs": [],
   "source": [
    "mylist.extend([6,7])\n",
    "mylist"
   ]
  },
  {
   "cell_type": "markdown",
   "id": "88ce6c8b-c047-4009-9104-18f92ef65d67",
   "metadata": {},
   "source": [
    "##### Getting values out of lists"
   ]
  },
  {
   "cell_type": "code",
   "execution_count": null,
   "id": "99e42b5d-79fc-43fa-a198-ed45b52112ec",
   "metadata": {
    "tags": []
   },
   "outputs": [],
   "source": [
    "simpsons = [\"Homer\", \"Margee\", \"Bart\", \"Lisa\", \"Maggie\"]\n",
    "simpsons"
   ]
  },
  {
   "cell_type": "markdown",
   "id": "3d329fb2-a122-4165-9817-3fc857d865d4",
   "metadata": {},
   "source": [
    "Python is a _zero_ index language. The first item in a list is at index location _0_, NOT _1_"
   ]
  },
  {
   "cell_type": "code",
   "execution_count": null,
   "id": "3b8a375e-5d1a-49de-84a8-aaef70064306",
   "metadata": {
    "tags": []
   },
   "outputs": [],
   "source": [
    "simpsons[1]"
   ]
  },
  {
   "cell_type": "code",
   "execution_count": null,
   "id": "c9cda117-caa7-41f2-9342-3862e3895ebc",
   "metadata": {
    "tags": []
   },
   "outputs": [],
   "source": [
    "simpsons[0]"
   ]
  },
  {
   "cell_type": "markdown",
   "id": "16911d07-67d5-44f9-b838-91f039d4c83c",
   "metadata": {},
   "source": [
    "You can index values from the end by using negative numbers"
   ]
  },
  {
   "cell_type": "code",
   "execution_count": null,
   "id": "a605f70d-c706-4e79-8f2a-0ce489af5571",
   "metadata": {
    "tags": []
   },
   "outputs": [],
   "source": [
    "simpsons[-1]"
   ]
  },
  {
   "cell_type": "code",
   "execution_count": null,
   "id": "a7b8bb9b-c49a-4966-9a69-db2601f9472b",
   "metadata": {
    "tags": []
   },
   "outputs": [],
   "source": [
    "simpsons[-2]"
   ]
  },
  {
   "cell_type": "markdown",
   "id": "cd6c87b5-3ad9-4e22-9125-c6488955b207",
   "metadata": {},
   "source": [
    "You can get a range of values in the same expression: `start:end:step`\n",
    "Note that the _end_ number is _not inclusive_. "
   ]
  },
  {
   "cell_type": "code",
   "execution_count": null,
   "id": "400ae784-6fcf-4485-a2d5-aac8977a24bf",
   "metadata": {
    "tags": []
   },
   "outputs": [],
   "source": [
    "simpsons[1:4]"
   ]
  },
  {
   "cell_type": "code",
   "execution_count": null,
   "id": "8e0ba1b8-9669-47f2-869b-96a30264a998",
   "metadata": {
    "tags": []
   },
   "outputs": [],
   "source": [
    "simpsons[1:2]"
   ]
  },
  {
   "cell_type": "code",
   "execution_count": null,
   "id": "c05a5403-b104-4750-8de4-045e70f98266",
   "metadata": {
    "tags": []
   },
   "outputs": [],
   "source": [
    "simpsons[1]"
   ]
  },
  {
   "cell_type": "code",
   "execution_count": null,
   "id": "99a49c76-c2dd-4fa0-8b66-e4b66e1d41f8",
   "metadata": {
    "tags": []
   },
   "outputs": [],
   "source": [
    "type(simpsons[1:2]), type(simpsons[1])"
   ]
  },
  {
   "cell_type": "markdown",
   "id": "51699c9f-058e-411d-936f-35fa503d23c3",
   "metadata": {},
   "source": [
    "You can skip the _start_ value if you want the range to start at the beginning (you don't have to provide a _zero_)"
   ]
  },
  {
   "cell_type": "code",
   "execution_count": null,
   "id": "7e891716-36e1-416b-9b99-85bd5a2c291a",
   "metadata": {
    "tags": []
   },
   "outputs": [],
   "source": [
    "simpsons[0:3]"
   ]
  },
  {
   "cell_type": "code",
   "execution_count": null,
   "id": "5bcbbe7d-65a7-40be-877d-3281b37166cc",
   "metadata": {},
   "outputs": [],
   "source": [
    "simpsons[:3]"
   ]
  },
  {
   "cell_type": "markdown",
   "id": "ab0d743a-5d92-4e8c-9f50-66a4e9c69417",
   "metadata": {},
   "source": [
    "Similarly, you can skip the _end_ if you want the range to go to the end"
   ]
  },
  {
   "cell_type": "code",
   "execution_count": null,
   "id": "d96416e1-bf20-4428-834c-cc760832fa6a",
   "metadata": {},
   "outputs": [],
   "source": [
    "simpsons[2:]"
   ]
  },
  {
   "cell_type": "code",
   "execution_count": null,
   "id": "2d2a6cb7-7489-46cc-aaeb-4dec33f4e20a",
   "metadata": {},
   "outputs": [],
   "source": [
    "simpsons[-2:]"
   ]
  },
  {
   "cell_type": "code",
   "execution_count": null,
   "id": "f989fed2-5a50-4ba9-ab70-ea59ee05e3cc",
   "metadata": {
    "tags": []
   },
   "outputs": [],
   "source": [
    "simpsons[:] # <= A way to copy a list"
   ]
  },
  {
   "cell_type": "code",
   "execution_count": null,
   "id": "487e70d9-2a37-4a77-b5d8-378c034ce55b",
   "metadata": {},
   "outputs": [],
   "source": [
    "simpsons[::2] #Extract every other item"
   ]
  },
  {
   "cell_type": "markdown",
   "id": "b3a67e6c-1aca-4253-888c-03b1f576f5fb",
   "metadata": {},
   "source": [
    "(hints for HW 2)"
   ]
  },
  {
   "cell_type": "code",
   "execution_count": null,
   "id": "bbdc167f-6b4c-439e-9fc1-f7af84b708f0",
   "metadata": {
    "tags": []
   },
   "outputs": [],
   "source": [
    "names = [\"Homer\", \"Marge\", \"Bart\", \"Lisa\", \"Maggie\"]\n",
    "ages  = [34, 32, 10, 8, 2]\n",
    "list(zip(names, ages))"
   ]
  },
  {
   "cell_type": "code",
   "execution_count": null,
   "id": "63c9e1b3-933f-434f-bfb8-840ba9eb4f50",
   "metadata": {},
   "outputs": [],
   "source": [
    "list(zip(simpsons, simpsons[1:]))"
   ]
  },
  {
   "cell_type": "markdown",
   "id": "b98dcd3b-a398-42a3-9d68-f9f3753b7fe2",
   "metadata": {},
   "source": [
    "Combine these utilities as you wish"
   ]
  },
  {
   "cell_type": "markdown",
   "id": "dcb1aca8-ebdd-4e8e-be4a-8f0d164eff7a",
   "metadata": {},
   "source": [
    "**Exercise** Given the list `simpsons`, defined above, retrieve the following items from it:"
   ]
  },
  {
   "cell_type": "code",
   "execution_count": null,
   "id": "316464c0-f66c-4d16-90e9-ff2f3c23c2d3",
   "metadata": {},
   "outputs": [],
   "source": [
    "%%postcell exercise_025_095_i\n",
    "\n",
    "# First element\n",
    "print(...)\n",
    "\n",
    "#Last element\n",
    "print(...)\n",
    "\n",
    "#Last two elements\n",
    "print(...)\n",
    "\n"
   ]
  },
  {
   "cell_type": "markdown",
   "id": "2eba6931-01b9-4585-963f-50bf804f148f",
   "metadata": {},
   "source": [
    "##### Strings and lists"
   ]
  },
  {
   "cell_type": "markdown",
   "id": "b9d230dd-a92e-419d-b6d2-92ee41cc4272",
   "metadata": {},
   "source": [
    "Note that strings can also be queried as lists"
   ]
  },
  {
   "cell_type": "code",
   "execution_count": null,
   "id": "8bfd036d-0b86-49ca-89cf-e5063b873d35",
   "metadata": {},
   "outputs": [],
   "source": [
    "\"Mr. Homer Simpson\"[4:9]"
   ]
  },
  {
   "cell_type": "code",
   "execution_count": null,
   "id": "1f0bfe8b-ce87-4e19-ba7e-57ecd2a604c0",
   "metadata": {},
   "outputs": [],
   "source": [
    "\"Mr. Homer Simpson\"[-7:]"
   ]
  },
  {
   "cell_type": "code",
   "execution_count": null,
   "id": "183748ba-c0b4-47e0-a2ea-4b93f0446cf0",
   "metadata": {},
   "outputs": [],
   "source": [
    "\"Mr. Homer Simpson\"[:3]"
   ]
  },
  {
   "cell_type": "markdown",
   "id": "c553fab5-78ad-4b33-9cb2-b14263740fc9",
   "metadata": {},
   "source": [
    "Strings can be broken up, or _tokenized_ in various ways"
   ]
  },
  {
   "cell_type": "code",
   "execution_count": null,
   "id": "a92c845c-82a0-404e-8599-5273d6a1fa30",
   "metadata": {},
   "outputs": [],
   "source": [
    "\"We've tried nothing, and we're all out of ideas\".split()"
   ]
  },
  {
   "cell_type": "code",
   "execution_count": null,
   "id": "f65b0a9a-6198-434f-84eb-a86d0c7eb95b",
   "metadata": {},
   "outputs": [],
   "source": [
    "\"We've tried nothing, and we're all out of ideas\".split(' ')"
   ]
  },
  {
   "cell_type": "code",
   "execution_count": null,
   "id": "d844973e-8735-4708-855f-2920228aaa0c",
   "metadata": {},
   "outputs": [],
   "source": [
    "\"We've tried nothing, and we're all out of ideas\".split(',')"
   ]
  },
  {
   "cell_type": "markdown",
   "id": "6b3d0bac-97d8-4348-98bd-3bd5011f23a1",
   "metadata": {},
   "source": [
    "A list of tokens can be combined back into a string"
   ]
  },
  {
   "cell_type": "code",
   "execution_count": null,
   "id": "cfa9663d-ab79-41c0-b5af-1523456c0d1c",
   "metadata": {},
   "outputs": [],
   "source": [
    "names = ['Homer', 'Marge', 'Bart', 'Lisa', 'Maggie']\n",
    "names"
   ]
  },
  {
   "cell_type": "code",
   "execution_count": null,
   "id": "7b3fabac-dd6b-4a3c-8982-a22e0d7a469f",
   "metadata": {},
   "outputs": [],
   "source": [
    "' '.join(names)"
   ]
  },
  {
   "cell_type": "code",
   "execution_count": null,
   "id": "1301b707-b27c-4b29-a3e1-932f5b242d10",
   "metadata": {},
   "outputs": [],
   "source": [
    "', '.join(names)"
   ]
  },
  {
   "cell_type": "code",
   "execution_count": null,
   "id": "65f9248d-ca3b-45c7-be55-b56d451ae101",
   "metadata": {},
   "outputs": [],
   "source": [
    "' and '.join(names)"
   ]
  },
  {
   "cell_type": "markdown",
   "id": "d08cb4dc-6ede-4b64-89ef-865a4e0eb58b",
   "metadata": {},
   "source": [
    "**Exercise** Print the first word in the sentence below"
   ]
  },
  {
   "cell_type": "code",
   "execution_count": null,
   "id": "bf256dfd-1c3c-4430-8c9d-d32ceeb9d0ac",
   "metadata": {},
   "outputs": [],
   "source": [
    "%%postcell exercise_025_095_j\n",
    "\n",
    "\"We've tried nothing, and we're all out of ideas\""
   ]
  },
  {
   "cell_type": "markdown",
   "id": "01536ac1-c809-448b-ac00-28cd1e55f04a",
   "metadata": {},
   "source": [
    "### Tuples"
   ]
  },
  {
   "cell_type": "markdown",
   "id": "d1dfc6c0-e95e-42ed-a3e7-9727954365de",
   "metadata": {},
   "source": [
    "Tuples are not available in many older mainstream languages. They are very similar to lists. Unlike lists, tuples are _immutable_ (once created, they cannot be changed). While lists use `[]` square brackets, tuples use `()` round brackets. "
   ]
  },
  {
   "cell_type": "code",
   "execution_count": null,
   "id": "20dd3bb6-87f4-4b79-a4ad-2f6f75c8b968",
   "metadata": {},
   "outputs": [],
   "source": [
    "l = ['homer', 'marge']\n",
    "l"
   ]
  },
  {
   "cell_type": "code",
   "execution_count": null,
   "id": "aa549dbb-ac80-4e3c-826d-d0f318be8567",
   "metadata": {},
   "outputs": [],
   "source": [
    "t = ('homer', 'marge') #<== This is a Tuple!\n",
    "t"
   ]
  },
  {
   "cell_type": "code",
   "execution_count": null,
   "id": "51b70b78-0813-499c-b37e-4f1681033a97",
   "metadata": {},
   "outputs": [],
   "source": [
    "l[0]"
   ]
  },
  {
   "cell_type": "code",
   "execution_count": null,
   "id": "e207fdb2-1e0e-4783-aedb-85a0e851db76",
   "metadata": {},
   "outputs": [],
   "source": [
    "t[0]"
   ]
  },
  {
   "cell_type": "code",
   "execution_count": null,
   "id": "3c543f6d-3769-4afe-a9ac-6f1f1a95d95a",
   "metadata": {},
   "outputs": [],
   "source": [
    "l[0] = 'HOMER'\n",
    "l"
   ]
  },
  {
   "cell_type": "code",
   "execution_count": null,
   "id": "22eee47b-4f28-4b37-aaa4-4f3b35674935",
   "metadata": {},
   "outputs": [],
   "source": [
    "t[0] = 'HOMER'\n",
    "t"
   ]
  },
  {
   "cell_type": "markdown",
   "id": "09980686-ab30-4598-a053-904a011d9cd3",
   "metadata": {},
   "source": [
    "Beginning students may be confused why tuples exist, when lists are already avilable. Although there is a technical reason for their existance: immutable data structures can be used as dictionary keys, for example, the real reason is that their semantics are different. \n",
    "\n",
    "For example, if a function returns a list, that means that the result of the function can be any number of items, between zero and _n_. For example, a `search(...)` function may return any number of results.\n",
    "\n",
    "However, if a function returns a tuple, it should be expected to return a specific number of items. For example, `get_first_and_last_name()` will not arbitrarily return zero or 100 items."
   ]
  },
  {
   "cell_type": "markdown",
   "id": "e7165384-2d2e-4c80-b5e0-f4633a84fcd8",
   "metadata": {},
   "source": [
    "We will look at tuples in greater detail in a later notebook. For now, just be aware that when you see output like `(1,2)`, you are still looking at a collection of items. "
   ]
  },
  {
   "cell_type": "code",
   "execution_count": null,
   "id": "d16acebe-b415-4330-8071-5ba76175752a",
   "metadata": {},
   "outputs": [],
   "source": [
    "1,2"
   ]
  },
  {
   "cell_type": "markdown",
   "id": "392ed9a3-3dae-4954-9c30-615ccfcfe7f6",
   "metadata": {},
   "source": [
    "Tuples are sometimes used to return multiple values from a function"
   ]
  },
  {
   "cell_type": "code",
   "execution_count": null,
   "id": "73c3689a-d184-40bc-b59a-dc363cecac37",
   "metadata": {},
   "outputs": [],
   "source": [
    "def f():\n",
    "    return 1,2"
   ]
  },
  {
   "cell_type": "code",
   "execution_count": null,
   "id": "64a4f27f-d29c-4bbf-bf22-85528e98d959",
   "metadata": {},
   "outputs": [],
   "source": [
    "f()"
   ]
  },
  {
   "cell_type": "markdown",
   "id": "4e069b91-b183-4614-a678-3817278e8298",
   "metadata": {},
   "source": [
    "Python allows multiple assignment, necessary for tuples"
   ]
  },
  {
   "cell_type": "code",
   "execution_count": null,
   "id": "1d2c8314-9d15-4627-9239-b1e8bee6fdf5",
   "metadata": {
    "tags": []
   },
   "outputs": [],
   "source": [
    "x, y = 4, 5"
   ]
  },
  {
   "cell_type": "code",
   "execution_count": null,
   "id": "5e5a01fa-a751-4646-b1ac-0a278323513a",
   "metadata": {
    "tags": []
   },
   "outputs": [],
   "source": [
    "x"
   ]
  },
  {
   "cell_type": "code",
   "execution_count": null,
   "id": "b4dc74b9-5409-4c4f-a500-f5f2283b33c0",
   "metadata": {
    "tags": []
   },
   "outputs": [],
   "source": [
    "y"
   ]
  },
  {
   "cell_type": "code",
   "execution_count": null,
   "id": "dcc96f30-0d85-4d96-9a49-d0d69c29b2ca",
   "metadata": {},
   "outputs": [],
   "source": [
    "x, y = f()"
   ]
  },
  {
   "cell_type": "code",
   "execution_count": null,
   "id": "6b67778b-8cbb-4b45-b14c-a018d7bcf2c8",
   "metadata": {},
   "outputs": [],
   "source": [
    "x"
   ]
  },
  {
   "cell_type": "code",
   "execution_count": null,
   "id": "35493c00-0a36-4d5a-8548-f9abf9396a5a",
   "metadata": {},
   "outputs": [],
   "source": [
    "y"
   ]
  },
  {
   "cell_type": "markdown",
   "id": "5467993f-bb96-435e-9fd9-91f21e55c90d",
   "metadata": {},
   "source": [
    "##### Methods on tuples"
   ]
  },
  {
   "cell_type": "code",
   "execution_count": null,
   "id": "01f1259d-00a0-4fbe-b79a-01e7f199fa29",
   "metadata": {},
   "outputs": [],
   "source": [
    "show_methods((1,2))"
   ]
  },
  {
   "cell_type": "markdown",
   "id": "7c90ee7a-48a4-43b1-87b7-c6838baf4f7b",
   "metadata": {},
   "source": [
    "### Sets"
   ]
  },
  {
   "cell_type": "markdown",
   "id": "dad12657-fd99-4bb6-bace-c9a407d0e10c",
   "metadata": {},
   "source": [
    "Sets in Python are similar to the _set_ data structure found in many other langauges. In general, it represents the standard mathematical set. Unlike lists, elements in a sent have no order and no duplicates."
   ]
  },
  {
   "cell_type": "code",
   "execution_count": null,
   "id": "9b6bfafc-e4ce-49ce-854e-573244fd0ad3",
   "metadata": {},
   "outputs": [],
   "source": [
    "[1,1,2,3,3,3,4,5]"
   ]
  },
  {
   "cell_type": "code",
   "execution_count": null,
   "id": "9c3f520b-1710-4d62-a353-265c7d58c053",
   "metadata": {},
   "outputs": [],
   "source": [
    "set([1,1,2,3,3,3,4,5])"
   ]
  },
  {
   "cell_type": "code",
   "execution_count": null,
   "id": "a5dfd250-45b8-4f73-8d73-2cbdf4993d3f",
   "metadata": {},
   "outputs": [],
   "source": [
    "moes_customers = set()\n",
    "moes_customers"
   ]
  },
  {
   "cell_type": "code",
   "execution_count": null,
   "id": "03d01be6-5c25-4ea2-893b-558ca5c11556",
   "metadata": {},
   "outputs": [],
   "source": [
    "moes_customers.add('Homer')\n",
    "moes_customers.add('Barney')\n",
    "moes_customers"
   ]
  },
  {
   "cell_type": "code",
   "execution_count": null,
   "id": "3148683f-d19e-4a9d-9d7f-535e8b180865",
   "metadata": {},
   "outputs": [],
   "source": [
    "moes_customers.add('Homer')\n",
    "moes_customers"
   ]
  },
  {
   "cell_type": "markdown",
   "id": "8b7f0470-7e60-4adb-9657-64f986428338",
   "metadata": {},
   "source": [
    "Sets, mathematical or as programming concepts, come with a few standard operations. Given two sets, you can find elements which are common to both `intersection`, elements which exists in either set `union`, elements which exist in one set but not the other `difference`, etc."
   ]
  },
  {
   "cell_type": "code",
   "execution_count": null,
   "id": "d66c5f68-9884-4d4c-8acb-da63516432dd",
   "metadata": {},
   "outputs": [],
   "source": [
    "marketing_campaign_customers = set(['homer', 'apu', 'lisa', 'monty', 'maggie'])\n",
    "older_customers = set(['abe', 'seymore', 'monty', 'homer', 'apu'])\n",
    "senior_customers = set(['abe', 'monty'])"
   ]
  },
  {
   "cell_type": "markdown",
   "id": "3372cab2-c285-4dec-bd7f-ae5708b1aab2",
   "metadata": {},
   "source": [
    "Which customers appear in either set (`union`)"
   ]
  },
  {
   "cell_type": "code",
   "execution_count": null,
   "id": "9afb9613-1608-4975-b70a-4a3317442170",
   "metadata": {},
   "outputs": [],
   "source": [
    "marketing_campaign_customers.union(older_customers)"
   ]
  },
  {
   "cell_type": "code",
   "execution_count": null,
   "id": "8d9f5532-f2ee-490b-b297-ba678107f3b0",
   "metadata": {},
   "outputs": [],
   "source": [
    "marketing_campaign_customers | older_customers"
   ]
  },
  {
   "cell_type": "markdown",
   "id": "0fc87c2a-6b60-4aaa-8977-e05fb1bced03",
   "metadata": {},
   "source": [
    "Which customers show up in both sets (`intersection`)"
   ]
  },
  {
   "cell_type": "code",
   "execution_count": null,
   "id": "f037d22a-f6ca-4400-b8dc-b97abc5b6670",
   "metadata": {},
   "outputs": [],
   "source": [
    "marketing_campaign_customers.intersection(older_customers)"
   ]
  },
  {
   "cell_type": "code",
   "execution_count": null,
   "id": "07ee2b49-55f7-440e-80ad-fe25befcbf55",
   "metadata": {},
   "outputs": [],
   "source": [
    "marketing_campaign_customers & older_customers"
   ]
  },
  {
   "cell_type": "markdown",
   "id": "0708d849-c78a-4e19-b6d1-f15f0c51e445",
   "metadata": {},
   "source": [
    "Which customers are in one set but not the other? (`difference`)"
   ]
  },
  {
   "cell_type": "code",
   "execution_count": null,
   "id": "2e4dfc66-647e-4875-bcda-bbdf643905db",
   "metadata": {},
   "outputs": [],
   "source": [
    "marketing_campaign_customers.difference(older_customers)"
   ]
  },
  {
   "cell_type": "code",
   "execution_count": null,
   "id": "ca7028ee-d761-47ee-9097-a2c479513ee1",
   "metadata": {},
   "outputs": [],
   "source": [
    "marketing_campaign_customers - older_customers"
   ]
  },
  {
   "cell_type": "code",
   "execution_count": null,
   "id": "b9e70b00-2a0b-453a-a5b1-37dc0c6b3533",
   "metadata": {},
   "outputs": [],
   "source": [
    "older_customers.difference(marketing_campaign_customers)"
   ]
  },
  {
   "cell_type": "code",
   "execution_count": null,
   "id": "367bf244-f8b5-4b09-9223-368242cd3b33",
   "metadata": {},
   "outputs": [],
   "source": [
    "older_customers - marketing_campaign_customers"
   ]
  },
  {
   "cell_type": "markdown",
   "id": "bab140ea-5c6c-4ba0-bfe2-6f58680dbde8",
   "metadata": {},
   "source": [
    "TODO:\n",
    "Do the sets have _any_ members in common? (`isdisjoint`)"
   ]
  },
  {
   "cell_type": "code",
   "execution_count": null,
   "id": "fe74e986-3194-4726-b739-fda4790fbf54",
   "metadata": {},
   "outputs": [],
   "source": [
    "marketing_campaign_customers.isdisjoint(older_customers)"
   ]
  },
  {
   "cell_type": "markdown",
   "id": "8049a2ce-ec2e-4aed-acf9-22b4eeb8a482",
   "metadata": {},
   "source": [
    "Are 'senior' customers also considered 'older' customers? (`issubset`, `issuperset`, proper sub/super sets)"
   ]
  },
  {
   "cell_type": "code",
   "execution_count": null,
   "id": "9cc205a4-23b1-4c0d-9803-da5e69636f26",
   "metadata": {},
   "outputs": [],
   "source": [
    "senior_customers.issubset(older_customers)"
   ]
  },
  {
   "cell_type": "code",
   "execution_count": null,
   "id": "58840223-9045-4800-9415-ea4390da36d7",
   "metadata": {},
   "outputs": [],
   "source": [
    "senior_customers <= older_customers"
   ]
  },
  {
   "cell_type": "markdown",
   "id": "e8758438-4319-492d-92b7-0348b09eb33a",
   "metadata": {},
   "source": [
    "**Exercise** Most popular names https://en.wiktionary.org/wiki/Appendix:Most_popular_given_names_by_country\n",
    "Canadian names are from 2003 (of English speaknig population) and American names are from 2005.\n",
    "\n",
    "The lists are very similar. \n",
    "1. Which names appear in the Canadian list, but not the American list\n",
    "2. Which names appear in both lists"
   ]
  },
  {
   "cell_type": "code",
   "execution_count": null,
   "id": "c3358ee7-376c-4a05-a738-106204163c5c",
   "metadata": {},
   "outputs": [],
   "source": [
    "%%postcell exercise_025_095_k\n",
    "\n",
    "canada = ['Emily', 'Emma', 'Madison', 'Sarah', 'Hannah', 'Sydney', 'Megan', 'Ashley', 'Taylor', 'Paige']\n",
    "usa    = ['Emily', 'Emma', 'Madison', 'Abigail', 'Olivia', 'Isabella', 'Hannah', 'Samantha', 'Ava', 'Ashley']\n",
    "\n",
    "#Type code here"
   ]
  },
  {
   "cell_type": "markdown",
   "id": "5d4c5fef-4113-4688-9ccf-30d987c202d3",
   "metadata": {},
   "source": [
    "### Dictionaries"
   ]
  },
  {
   "cell_type": "markdown",
   "id": "5929a47f-cbf3-4df1-85f8-2059a16a9ebf",
   "metadata": {},
   "source": [
    "Python dictionaries, sometimes called maps or associative arrays in other langauges are a basic data structure. Dictionaries, as the name implies, are used to store two associated values: keys and values."
   ]
  },
  {
   "cell_type": "code",
   "execution_count": null,
   "id": "d8d8a952-e440-4557-adf2-3b187c72d50b",
   "metadata": {},
   "outputs": [],
   "source": [
    "simpson_ages = {'homer': 36, 'marge': 34}\n",
    "simpson_ages"
   ]
  },
  {
   "cell_type": "markdown",
   "id": "b48b541a-503c-41f0-99c4-b6a609e5a7ce",
   "metadata": {},
   "source": [
    "Dictionaries are designed so values can be looked up via keys. Generally, dictionaries are not \"bi-directional.\" Given a value, you can't look up keys."
   ]
  },
  {
   "cell_type": "code",
   "execution_count": null,
   "id": "20093e45-b503-4ee1-9a2a-3bbf0d471875",
   "metadata": {},
   "outputs": [],
   "source": [
    "simpson_ages['homer']"
   ]
  },
  {
   "cell_type": "markdown",
   "id": "b546df75-e43d-4ca8-965a-aaf558cfaacd",
   "metadata": {},
   "source": [
    "Dictionary methods:"
   ]
  },
  {
   "cell_type": "code",
   "execution_count": null,
   "id": "cc3ed320-302b-478b-810f-7f0b4c342b79",
   "metadata": {},
   "outputs": [],
   "source": [
    "show_methods(simpson_ages)"
   ]
  },
  {
   "cell_type": "code",
   "execution_count": null,
   "id": "cae39894-79c2-429c-9bcd-1dd692e27a64",
   "metadata": {},
   "outputs": [],
   "source": [
    "type(simpson_ages)"
   ]
  },
  {
   "cell_type": "markdown",
   "id": "81c81016-7f12-4c40-b1c8-59645cbd72e4",
   "metadata": {},
   "source": [
    "Let's use `dict` as a constructor to create a set and test it"
   ]
  },
  {
   "cell_type": "code",
   "execution_count": null,
   "id": "c85ac14e-87db-4f58-88b5-a89791777448",
   "metadata": {},
   "outputs": [],
   "source": [
    "simpson_ages = dict()\n",
    "simpson_ages"
   ]
  },
  {
   "cell_type": "code",
   "execution_count": null,
   "id": "cde30309-4617-40b5-b5aa-442f14ac95ac",
   "metadata": {},
   "outputs": [],
   "source": [
    "simpson_ages['homer'] = 36\n",
    "simpson_ages"
   ]
  },
  {
   "cell_type": "code",
   "execution_count": null,
   "id": "f3365ed6-6e0e-46cd-932f-bd87a95c7832",
   "metadata": {},
   "outputs": [],
   "source": [
    "simpson_ages['marge'] = 34\n",
    "simpson_ages"
   ]
  },
  {
   "cell_type": "code",
   "execution_count": null,
   "id": "7dc1af8e-6711-4ef4-999d-4c16120fbf43",
   "metadata": {},
   "outputs": [],
   "source": [
    "simpson_ages['homer']"
   ]
  },
  {
   "cell_type": "markdown",
   "id": "ef4b747b-bfdf-44ac-b6b5-457f23a626d9",
   "metadata": {},
   "source": [
    "Dictionaries can contain almost any type:"
   ]
  },
  {
   "cell_type": "code",
   "execution_count": null,
   "id": "f19b80ac-5454-4e39-8754-67ca5600e349",
   "metadata": {},
   "outputs": [],
   "source": [
    "my_second_dictionary = {\"key1\": \"value1\", \"key2\": 2, \"key3\": \"value3\", 4:\"value4\", \"4\":\"value4str\"}\n",
    "my_second_dictionary"
   ]
  },
  {
   "cell_type": "code",
   "execution_count": null,
   "id": "b0560078-530c-49d4-af31-ff500a789b9f",
   "metadata": {},
   "outputs": [],
   "source": [
    "my_second_dictionary[\"key1\"]"
   ]
  },
  {
   "cell_type": "code",
   "execution_count": null,
   "id": "ea7f3cff-c8c0-4511-a778-fb1840885f93",
   "metadata": {},
   "outputs": [],
   "source": [
    "my_second_dictionary[4]"
   ]
  },
  {
   "cell_type": "code",
   "execution_count": null,
   "id": "940f59f2-930a-4445-9741-330b0aedc206",
   "metadata": {},
   "outputs": [],
   "source": [
    "my_second_dictionary[\"4\"]"
   ]
  },
  {
   "cell_type": "code",
   "execution_count": null,
   "id": "35fb550b-3128-461e-8ad2-354b7670bbcc",
   "metadata": {},
   "outputs": [],
   "source": [
    "my_second_dictionary[\"key2\"]"
   ]
  },
  {
   "cell_type": "code",
   "execution_count": null,
   "id": "2057dcdf-5893-4aea-b6a4-e2d067ec9b6a",
   "metadata": {},
   "outputs": [],
   "source": [
    "my_second_dictionary"
   ]
  },
  {
   "cell_type": "markdown",
   "id": "04d6ec4d-cb25-4f44-b23d-e8227355dd5a",
   "metadata": {},
   "source": [
    "Much like lists, dictionaries can even contain other data structures"
   ]
  },
  {
   "cell_type": "code",
   "execution_count": null,
   "id": "14a6f1f0-41a9-4c80-acee-b14aff59d5dc",
   "metadata": {},
   "outputs": [],
   "source": [
    "my_third_dict = {\"key1\": \"value1\", \"key2\": [1,2,3], \"key3\": {\"inner\": \"dictionary\"}}\n",
    "my_third_dict"
   ]
  },
  {
   "cell_type": "code",
   "execution_count": null,
   "id": "49570192-7594-47d2-ab6a-b7e7c859864a",
   "metadata": {},
   "outputs": [],
   "source": [
    "my_third_dict['key2']"
   ]
  },
  {
   "cell_type": "code",
   "execution_count": null,
   "id": "b884adb2-631c-4624-9daf-d990a35cb96f",
   "metadata": {},
   "outputs": [],
   "source": [
    "my_third_dict['key2'][-1]"
   ]
  },
  {
   "cell_type": "code",
   "execution_count": null,
   "id": "51eb83fa-9abe-473d-bbeb-0e23cd468859",
   "metadata": {},
   "outputs": [],
   "source": [
    "my_third_dict['key3']['inner']"
   ]
  },
  {
   "cell_type": "markdown",
   "id": "a2ab0bc2-0cd6-413c-aed3-1857934fb6de",
   "metadata": {},
   "source": [
    "You can get lists of dictionary keys and values"
   ]
  },
  {
   "cell_type": "code",
   "execution_count": null,
   "id": "ebac3b3e-7fd0-487f-87d9-ab9ad3a3ba41",
   "metadata": {
    "tags": []
   },
   "outputs": [],
   "source": [
    "my_third_dict.keys()"
   ]
  },
  {
   "cell_type": "code",
   "execution_count": null,
   "id": "a4219b25-a07f-4839-b7ea-799497b3137a",
   "metadata": {
    "tags": []
   },
   "outputs": [],
   "source": [
    "my_third_dict.values()"
   ]
  },
  {
   "cell_type": "markdown",
   "id": "8f1146a3-4211-4528-abcd-d4b5b85a824a",
   "metadata": {},
   "source": [
    "**Exercise** Given the dictionary below (children listed in age order: oldest first), find\n",
    "1. Simpsons' youngest child's name\n",
    "2. Flanders' oldest child's gender"
   ]
  },
  {
   "cell_type": "code",
   "execution_count": null,
   "id": "d842d135-f76f-4049-8e62-5935ba823ca7",
   "metadata": {},
   "outputs": [],
   "source": [
    "%%postcell exercise_025_095_l\n",
    "\n",
    "families = {\n",
    "    'Simpson': [{'name':'Bart', 'gender':'Male'}, {'name':'Lisa', 'gender':'Female'}, {'name':'Maggie', 'gender':'Female'}],\n",
    "    'Flanders': [{'name':'Todd', 'gender':'Male'}, {'name':'Rod', 'gender':'Male'}]\n",
    "}\n",
    "\n",
    "#Type code here\n"
   ]
  },
  {
   "cell_type": "markdown",
   "id": "050d9951-3c40-43e7-9ca6-c705716e853d",
   "metadata": {},
   "source": [
    "### Common operations"
   ]
  },
  {
   "cell_type": "markdown",
   "id": "50d48c84-b023-4bc9-8ae5-a75ffcf54d2d",
   "metadata": {},
   "source": [
    "Python (as well as most other programming languages) provide functions which work across data structures. Programmers can accomplish similar tasks using the same syntax."
   ]
  },
  {
   "cell_type": "code",
   "execution_count": null,
   "id": "73f4abfc-ae13-4d2b-9535-bb88f2fe00ab",
   "metadata": {},
   "outputs": [],
   "source": [
    "list1 = [1,2,3,4,5]\n",
    "dict1 = {1:\"one\", 2:\"two\", 3:\"three\", 4:\"four\", 5:\"five\"}\n",
    "tup1  = (1, 2, 3, 4, 5)\n",
    "set1  = set(list1)\n",
    "str1  = \"hello\""
   ]
  },
  {
   "cell_type": "code",
   "execution_count": null,
   "id": "9e95a01b-928d-434c-aeac-1dad2d925967",
   "metadata": {},
   "outputs": [],
   "source": [
    "list2 = []\n",
    "dict2 = {}\n",
    "tup2  = ()\n",
    "set2  = set()\n",
    "str2  = \"\""
   ]
  },
  {
   "cell_type": "markdown",
   "id": "06476bb5-22c4-40dc-8017-9e3a3060cd6f",
   "metadata": {},
   "source": [
    "Size of data structures"
   ]
  },
  {
   "cell_type": "code",
   "execution_count": null,
   "id": "df6132ce-6224-45ad-acf3-094e74c33515",
   "metadata": {},
   "outputs": [],
   "source": [
    "len(list1), len(dict1), len(tup1), len(set1), len(str1)"
   ]
  },
  {
   "cell_type": "markdown",
   "id": "a11809b0-538c-4a6a-91af-2c4d4c838004",
   "metadata": {},
   "source": [
    "Get value at an index or a keyword"
   ]
  },
  {
   "cell_type": "code",
   "execution_count": null,
   "id": "ccb33220-e76a-4ff9-8dab-f3e27f4f3c2f",
   "metadata": {},
   "outputs": [],
   "source": [
    "list1[2], dict1[2], tup1[2], str1[2] #, set1[2]"
   ]
  },
  {
   "cell_type": "markdown",
   "id": "b0039bf9-c372-4609-b2a9-6208023db89f",
   "metadata": {},
   "source": [
    "Check if an item exists"
   ]
  },
  {
   "cell_type": "code",
   "execution_count": null,
   "id": "cced45e7-e900-436e-b5d7-9405244669e9",
   "metadata": {},
   "outputs": [],
   "source": [
    "2 in list1"
   ]
  },
  {
   "cell_type": "code",
   "execution_count": null,
   "id": "07830325-75ca-418d-8d5a-2bc4f49dbaec",
   "metadata": {},
   "outputs": [],
   "source": [
    "2 in dict1"
   ]
  },
  {
   "cell_type": "code",
   "execution_count": null,
   "id": "186ad767-a933-4409-bd25-dfa3b7e4cc34",
   "metadata": {},
   "outputs": [],
   "source": [
    "\"four\" in dict1"
   ]
  },
  {
   "cell_type": "code",
   "execution_count": null,
   "id": "a070171e-af07-41dc-9874-8460bcf601f1",
   "metadata": {},
   "outputs": [],
   "source": [
    "2 in tup1"
   ]
  },
  {
   "cell_type": "code",
   "execution_count": null,
   "id": "67a5c8ab-5835-4ffb-8941-fd13b00b97b9",
   "metadata": {},
   "outputs": [],
   "source": [
    "2 in set1"
   ]
  },
  {
   "cell_type": "code",
   "execution_count": null,
   "id": "fe38130d-52b6-418e-b623-44ad0617ae38",
   "metadata": {},
   "outputs": [],
   "source": [
    "'l' in str1"
   ]
  },
  {
   "cell_type": "markdown",
   "id": "c128324b-2e67-4647-8d2e-a427fdcd4310",
   "metadata": {},
   "source": [
    "Remove an item"
   ]
  },
  {
   "cell_type": "code",
   "execution_count": null,
   "id": "e75155b3-b98a-42bd-ab59-715ff96dfe8b",
   "metadata": {},
   "outputs": [],
   "source": [
    "list1"
   ]
  },
  {
   "cell_type": "code",
   "execution_count": null,
   "id": "c8ea8e86-b9b8-4478-914b-bbfccab71abc",
   "metadata": {},
   "outputs": [],
   "source": [
    "del list1[2]"
   ]
  },
  {
   "cell_type": "code",
   "execution_count": null,
   "id": "f441337f-bd92-45d2-ac57-823d0b6a0896",
   "metadata": {},
   "outputs": [],
   "source": [
    "list1"
   ]
  },
  {
   "cell_type": "code",
   "execution_count": null,
   "id": "d92e545a-d49d-454d-9a6f-e425843744c6",
   "metadata": {},
   "outputs": [],
   "source": [
    "dict1"
   ]
  },
  {
   "cell_type": "code",
   "execution_count": null,
   "id": "fff92a0d-0dd5-4300-b5d2-8d35f5bdde86",
   "metadata": {},
   "outputs": [],
   "source": [
    "del dict1[2]"
   ]
  },
  {
   "cell_type": "code",
   "execution_count": null,
   "id": "4ccab4ab-88cd-4e39-88a0-e2a3a87a9e91",
   "metadata": {},
   "outputs": [],
   "source": [
    "dict1"
   ]
  },
  {
   "cell_type": "markdown",
   "id": "2c7a7f0a-eb41-4304-be13-06737f74a4a4",
   "metadata": {},
   "source": [
    "Strings and tupples are _immutable_, hence, can't be changed."
   ]
  },
  {
   "cell_type": "code",
   "execution_count": null,
   "id": "94f32cc3-d5b2-4969-8a37-1bc8cf433974",
   "metadata": {},
   "outputs": [],
   "source": [
    "# del str1[2]\n",
    "# del tup1[2]"
   ]
  },
  {
   "cell_type": "markdown",
   "id": "09fe0296-e16b-4d26-8ab5-c71796d48d1b",
   "metadata": {},
   "source": [
    "Set elements can't be access via an index location (since they have no order)"
   ]
  },
  {
   "cell_type": "code",
   "execution_count": null,
   "id": "3ee68ec6-4c87-438d-b6ce-6753ce14b1c3",
   "metadata": {},
   "outputs": [],
   "source": [
    "set1"
   ]
  },
  {
   "cell_type": "code",
   "execution_count": null,
   "id": "1333879f-83dd-485e-836b-2e2f5d524ce8",
   "metadata": {},
   "outputs": [],
   "source": [
    "# del set1[4]\n",
    "set1.remove(4)"
   ]
  },
  {
   "cell_type": "code",
   "execution_count": null,
   "id": "b64fc760-0703-46f6-8e29-4d802620afb1",
   "metadata": {},
   "outputs": [],
   "source": [
    "set1"
   ]
  },
  {
   "cell_type": "markdown",
   "id": "9ab8d2ef-5cd2-44ad-9ef1-e7955776f2ba",
   "metadata": {},
   "source": [
    "Modify an item"
   ]
  },
  {
   "cell_type": "code",
   "execution_count": null,
   "id": "515becd4-047d-4f49-9c96-4db0ace0c30f",
   "metadata": {},
   "outputs": [],
   "source": [
    "list1"
   ]
  },
  {
   "cell_type": "code",
   "execution_count": null,
   "id": "3eab051a-cdb3-401b-95e6-e307305a8d85",
   "metadata": {},
   "outputs": [],
   "source": [
    "list1[1] = 45"
   ]
  },
  {
   "cell_type": "code",
   "execution_count": null,
   "id": "87e314e6-d6a3-4529-8f76-a34c5f73146e",
   "metadata": {},
   "outputs": [],
   "source": [
    "list1"
   ]
  },
  {
   "cell_type": "code",
   "execution_count": null,
   "id": "c78169c4-16aa-4586-ab51-473082982626",
   "metadata": {},
   "outputs": [],
   "source": [
    "dict1"
   ]
  },
  {
   "cell_type": "code",
   "execution_count": null,
   "id": "10a2de39-5d75-4c40-8081-0d51b020942d",
   "metadata": {},
   "outputs": [],
   "source": [
    "dict1[1] = 45"
   ]
  },
  {
   "cell_type": "code",
   "execution_count": null,
   "id": "507c33fa-464a-4840-9751-812e2b662e72",
   "metadata": {},
   "outputs": [],
   "source": [
    "dict1"
   ]
  },
  {
   "cell_type": "markdown",
   "id": "95b810d8-9a03-4a72-bfeb-ebeaf5dcb35f",
   "metadata": {},
   "source": [
    "As seen earlier, strings and tuples are immutable and sets don't have index locations"
   ]
  },
  {
   "cell_type": "markdown",
   "id": "3d96ad0a-4e86-498c-a6c5-e515e41dbc5b",
   "metadata": {},
   "source": [
    "See the **truthiness** section below for more examples"
   ]
  },
  {
   "cell_type": "markdown",
   "id": "7b8719a1-a85c-4ced-8ff3-16effa92c27f",
   "metadata": {},
   "source": [
    "## Control flow statements"
   ]
  },
  {
   "cell_type": "markdown",
   "id": "bd310b07-bac5-4a00-9cce-2a0b46fb4724",
   "metadata": {},
   "source": [
    "### Loops"
   ]
  },
  {
   "cell_type": "markdown",
   "id": "776d4be8-87d9-4e6c-b1f5-57899b49d25c",
   "metadata": {},
   "source": [
    "Across programming langages, the synatx for loops seems to fall into two categories. Older languages use the `for(int i = 0; i < MAX; i++){ ...}` syntax. More modern syntax is closer to `for item in list ...`\n",
    "\n",
    "Python follows the more recent syntax"
   ]
  },
  {
   "cell_type": "code",
   "execution_count": null,
   "id": "2426eb5a-9afc-40c4-8000-245eebf1f66b",
   "metadata": {},
   "outputs": [],
   "source": [
    "for name in ['homer', 'marge', 'bart', 'lisa', 'maggie']:\n",
    "    print(name.capitalize())\n",
    "\n",
    "print(\"Done with the loop\")"
   ]
  },
  {
   "cell_type": "markdown",
   "id": "23fc8757-0f74-4310-a6b5-758132efcef0",
   "metadata": {},
   "source": [
    "Notice again that indentation matters! In fact, in Python, indentation is how you define the scope of a loop (or a function, if/else clause, etc.)"
   ]
  },
  {
   "cell_type": "code",
   "execution_count": null,
   "id": "98753427-9933-4cfd-ae1b-49d5068708ac",
   "metadata": {},
   "outputs": [],
   "source": [
    "for word in \"this sentence has a few words in it\".split(\" \"):\n",
    "    print(f\"Length of the word '{word}' is {len(word)}\")"
   ]
  },
  {
   "cell_type": "code",
   "execution_count": null,
   "id": "5850bb48-7d0c-41ee-b209-dc5f754bbee1",
   "metadata": {},
   "outputs": [],
   "source": [
    "\"this sentence has a few words in it\".split(\" \")"
   ]
  },
  {
   "cell_type": "code",
   "execution_count": null,
   "id": "00f26c90-9516-4b1f-b3c8-3fdd1e611bdc",
   "metadata": {},
   "outputs": [],
   "source": [
    "# common mistake\n",
    "for word in \"this sentence has a few words in it\":\n",
    "    print(\"Length of the word\", word,\" is\", len(word))"
   ]
  },
  {
   "cell_type": "markdown",
   "id": "ba9aa795-998a-467a-bb99-3833f5672f9a",
   "metadata": {},
   "source": [
    "Dictionaries provide an easy way to iterate over both, keys and values:"
   ]
  },
  {
   "cell_type": "code",
   "execution_count": null,
   "id": "10b1e565-c379-46e9-8bea-4710369c8f5b",
   "metadata": {
    "tags": []
   },
   "outputs": [],
   "source": [
    "simpson_ages = {'homer': 36, 'marge': 34}\n",
    "simpson_ages.items()"
   ]
  },
  {
   "cell_type": "code",
   "execution_count": null,
   "id": "2174e161-0838-4b24-b404-53078a8db035",
   "metadata": {
    "tags": []
   },
   "outputs": [],
   "source": [
    "for key, value in simpson_ages.items():\n",
    "    print(f\"{key.capitalize()} is {value} years old\")"
   ]
  },
  {
   "cell_type": "code",
   "execution_count": null,
   "id": "926bf35b-fd5d-4b7f-8036-c1a754439a40",
   "metadata": {
    "tags": []
   },
   "outputs": [],
   "source": [
    "# use proper variable names\n",
    "for name, age in simpson_ages.items():\n",
    "    print(f\"{name.capitalize()} is {age} years old\")"
   ]
  },
  {
   "cell_type": "markdown",
   "id": "feb15294-a0f5-4c3a-a647-8e001ebcd67b",
   "metadata": {},
   "source": [
    "##### A quick detour for _Iterables_"
   ]
  },
  {
   "cell_type": "markdown",
   "id": "268a2d09-55a1-4b40-a00e-b9d1d6f6ddf8",
   "metadata": {},
   "source": [
    "You just saw that Python lets you loop over a list. In reality, Python let's you loop over a more generic type called `Iterable`. _You can iterate over anythihng which is iterable_.\n",
    "\n",
    "A good example of an iterable, which is not a list is a file"
   ]
  },
  {
   "cell_type": "code",
   "execution_count": null,
   "id": "77a676cd-5c73-43ff-8886-7c369739263e",
   "metadata": {},
   "outputs": [],
   "source": [
    "counter = 0\n",
    "with open('../../datasets/deaths-in-gameofthrones/game-of-thrones-deaths-data.csv', encoding='utf8') as file:\n",
    "    for line in file:\n",
    "        counter += 1\n",
    "\n",
    "print(counter)"
   ]
  },
  {
   "cell_type": "markdown",
   "id": "50f947b4-49b0-460b-b0f3-fce08566feae",
   "metadata": {},
   "source": [
    "A file is not a list! In some ways it is similar, but a list is a different object.\n",
    "\n",
    "Let's try another"
   ]
  },
  {
   "cell_type": "code",
   "execution_count": null,
   "id": "8f0ba74c-5fcd-4a3a-aadd-90c8233242c0",
   "metadata": {},
   "outputs": [],
   "source": [
    "for i in range(10):\n",
    "    print(i)"
   ]
  },
  {
   "cell_type": "code",
   "execution_count": null,
   "id": "c0130d6e-c0e7-4040-b0da-ce130c882887",
   "metadata": {},
   "outputs": [],
   "source": [
    "range(10)"
   ]
  },
  {
   "cell_type": "code",
   "execution_count": null,
   "id": "074be7be-6a8e-4b71-81fa-44ac4ae3bda9",
   "metadata": {},
   "outputs": [],
   "source": [
    "list(range(10))"
   ]
  },
  {
   "cell_type": "markdown",
   "id": "375d0a63-1261-4769-953c-99181a3875fb",
   "metadata": {},
   "source": [
    "A `range` is not a list! In some ways it is similar, but a list is a different object."
   ]
  },
  {
   "cell_type": "markdown",
   "id": "8323a389-2b8c-4cd9-b374-e8cba694c41a",
   "metadata": {},
   "source": [
    "So in what ways are `list`, `range` and a file similar? They are all iterables."
   ]
  },
  {
   "cell_type": "markdown",
   "id": "dae2ab6d-0393-467a-933d-79f533e277a5",
   "metadata": {},
   "source": [
    "A Python object, closely related to loops and lists is an iterable. Think of iterables as objects which can be looped over. You have seen that we can loop over lists and files. Lists and files are clearly two completely differnt things. However, they both provide the concept if `next()`. A file can thought of as an object which returns a new line everytime the `next()` function is called. A list can do the same. They don't have to represent the same concept, but they can be similar just because we can _iterate_ over them.\n",
    "\n",
    "There are many other items in Python which one can iterate over. A good example is the well used `range` function. See this example:"
   ]
  },
  {
   "cell_type": "code",
   "execution_count": null,
   "id": "38658eec-1ec8-4b0b-9a80-961bf247d31d",
   "metadata": {},
   "outputs": [],
   "source": [
    "import sys"
   ]
  },
  {
   "cell_type": "code",
   "execution_count": null,
   "id": "1895bc45-80d3-46ab-9d2b-f8dba2936540",
   "metadata": {},
   "outputs": [],
   "source": [
    "sys.getsizeof([1])"
   ]
  },
  {
   "cell_type": "code",
   "execution_count": null,
   "id": "a38b3628-d19c-4407-b214-464c023dbcbf",
   "metadata": {},
   "outputs": [],
   "source": [
    "sys.getsizeof([1,2,3,4,5])"
   ]
  },
  {
   "cell_type": "code",
   "execution_count": null,
   "id": "4d183cf9-ea83-440c-be89-e72d7194ba9c",
   "metadata": {},
   "outputs": [],
   "source": [
    "sys.getsizeof([1,2,3,4,5,6,7,8,9,10])"
   ]
  },
  {
   "cell_type": "code",
   "execution_count": null,
   "id": "0139b7a8-95e2-45ac-9370-f1b08510d472",
   "metadata": {},
   "outputs": [],
   "source": [
    "sys.getsizeof(range(100000000000000000000000000000000000000000000000000))"
   ]
  },
  {
   "cell_type": "code",
   "execution_count": null,
   "id": "21485665-926d-41b7-98dc-eda14d829745",
   "metadata": {
    "tags": []
   },
   "outputs": [],
   "source": [
    "sys.getsizeof([])"
   ]
  },
  {
   "cell_type": "markdown",
   "id": "40d5eb51-c1ef-4bca-ab4a-988d8382e1b8",
   "metadata": {},
   "source": [
    "The `range` function is creating an absoloutely giant list! It should blow up our computer, instead it shows that its size, in memory, is only 48 bytes?\n",
    "\n",
    "That's because `range()` doesn't actually create a giant list. It only creates an iterator. Everytime the loop calls `next()` on it, it takes the current number, adds one to it and returns that number. No need to maintain a giant list!\n",
    "\n",
    "This is also why you can loop through a file which is 10 times larger than your memory. The for loop isn't actually creating a list, then iterating through it. It is ready the data _on demand_ or in a _lazy_ fashion.\n",
    "\n",
    "Note that the `next()` function I've mentioned a few times is actually called `__next__`, since it is generally not supposed to be used by human programmers. It is used by Python code internally, such as loops."
   ]
  },
  {
   "cell_type": "markdown",
   "id": "cb561633-e0ac-4487-9538-81050e5a8f9a",
   "metadata": {},
   "source": [
    "##### ... back to loops"
   ]
  },
  {
   "cell_type": "markdown",
   "id": "d75b1b88-5898-4b3d-a8d4-48eb4e6569d7",
   "metadata": {},
   "source": [
    "`range`, `enumerate` and `zip` are two of the most important functions related to loops. Two additonal keywords: `break` and `continue` are also necessary to fully utilize loops"
   ]
  },
  {
   "cell_type": "markdown",
   "id": "9251bc64-486e-4011-9c49-5a7342e56e21",
   "metadata": {},
   "source": [
    "Recall that the older syntax used to be `for(int i=0; i < MAX; i++){..}`. Although this syntax was more cumbersome, it did have one benefit: you always knew which iteration you were in! Is this the first time around the loop or the 25th?\n",
    "\n",
    "We can get this functionality back via `enumerate`"
   ]
  },
  {
   "cell_type": "code",
   "execution_count": null,
   "id": "525b1665-b00b-4e4c-bd02-4fe45f5921cb",
   "metadata": {},
   "outputs": [],
   "source": [
    "for name in ['homer', 'marge', 'bart', 'lisa', 'maggie']:\n",
    "    print(name.capitalize())\n",
    "\n",
    "print(\"Done with the loop\")"
   ]
  },
  {
   "cell_type": "markdown",
   "id": "830b170c-473a-4eb6-9e54-66ccc2b90d35",
   "metadata": {},
   "source": [
    "What if you wanted to print the order of the name?"
   ]
  },
  {
   "cell_type": "code",
   "execution_count": null,
   "id": "be35e615-e31f-4dba-af00-d35b166bbb63",
   "metadata": {
    "tags": []
   },
   "outputs": [],
   "source": [
    "counter = 0\n",
    "for name in ['homer', 'marge', 'bart', 'lisa', 'maggie']:\n",
    "    print(counter, name.capitalize())\n",
    "    counter += 1\n",
    "\n",
    "print(\"Done with the loop\")"
   ]
  },
  {
   "cell_type": "code",
   "execution_count": null,
   "id": "d1ad2016-aa01-4402-a32a-499ce6c78487",
   "metadata": {},
   "outputs": [],
   "source": [
    "for index, name in enumerate(['homer', 'marge', 'bart', 'lisa', 'maggie']):\n",
    "    print(index, name.capitalize())\n",
    "\n",
    "print(\"Done with the loop\")"
   ]
  },
  {
   "cell_type": "markdown",
   "id": "856387a9-868a-4f9b-a70f-2a09562e71a5",
   "metadata": {},
   "source": [
    "There was also a semantic benefit to the earlier syntax. You could choose to run the loop a specific number of times. In other words, in Python, you can easily say \"loop over this list of elements.\" But how do you say \"run this loop 12 times?\""
   ]
  },
  {
   "cell_type": "code",
   "execution_count": null,
   "id": "8a2a04b3-bce9-4e54-b53a-fb2976196e86",
   "metadata": {},
   "outputs": [],
   "source": [
    "for i in range(12):\n",
    "    print(i)"
   ]
  },
  {
   "cell_type": "markdown",
   "id": "265202f7-ffa9-4554-afb2-f5d92a2f210a",
   "metadata": {},
   "source": [
    "**Exerecise** Iterate over a list in the following manner:"
   ]
  },
  {
   "cell_type": "code",
   "execution_count": null,
   "id": "09830bbb-0f05-4680-9424-c4f227cafffd",
   "metadata": {},
   "outputs": [],
   "source": [
    "%%postcell exercise_025_095_m\n",
    "\n",
    "lst = ['homer', 'marge', 'bart', 'lisa', 'maggie']\n",
    "\n",
    "#print each name to screen in a loop\n",
    "\n",
    "#print the first two names in a loop"
   ]
  },
  {
   "cell_type": "code",
   "execution_count": null,
   "id": "b9854187-5bd1-4033-8195-65f5f8447cf2",
   "metadata": {},
   "outputs": [],
   "source": []
  },
  {
   "cell_type": "code",
   "execution_count": null,
   "id": "e2bae096-9e53-485a-a4d8-061f13321ac7",
   "metadata": {},
   "outputs": [],
   "source": []
  },
  {
   "cell_type": "code",
   "execution_count": null,
   "id": "d4731620-0b92-4e4c-8a16-e26edf6335e3",
   "metadata": {},
   "outputs": [],
   "source": []
  },
  {
   "cell_type": "code",
   "execution_count": null,
   "id": "d01958fc-4160-4240-9773-c28014012bf1",
   "metadata": {},
   "outputs": [],
   "source": []
  },
  {
   "cell_type": "code",
   "execution_count": null,
   "id": "74cc3494-62f8-4402-94ce-35179c639fbc",
   "metadata": {},
   "outputs": [],
   "source": []
  },
  {
   "cell_type": "markdown",
   "id": "bde77693-b2a2-4485-b7c9-19e9e7cec04c",
   "metadata": {},
   "source": [
    "Finally, how do you iterate over two lists at the same time? Use `zip`!"
   ]
  },
  {
   "cell_type": "code",
   "execution_count": null,
   "id": "ef83b6ed-9658-4d50-b836-6f7290aeb008",
   "metadata": {},
   "outputs": [],
   "source": [
    "names = ['homer', 'marge', 'bart', 'lisa', 'maggie']\n",
    "ages  = [34, 32, 10, 8, 1]\n",
    "\n",
    "list(zip(names, ages))"
   ]
  },
  {
   "cell_type": "code",
   "execution_count": null,
   "id": "76b47f91-d6c3-4021-a348-ac58cd6f90cc",
   "metadata": {},
   "outputs": [],
   "source": [
    "for name, age in zip(names, ages):\n",
    "    print(name, age)"
   ]
  },
  {
   "cell_type": "code",
   "execution_count": null,
   "id": "c3214ff6-917a-4b04-9789-01131d17b535",
   "metadata": {},
   "outputs": [],
   "source": []
  },
  {
   "cell_type": "code",
   "execution_count": null,
   "id": "f40f68d3-04fa-4f4e-9a9a-013715c8e42d",
   "metadata": {},
   "outputs": [],
   "source": [
    "dict(zip(names, ages))"
   ]
  },
  {
   "cell_type": "code",
   "execution_count": null,
   "id": "f1561980-be40-4795-b45f-2f144ccbf47a",
   "metadata": {},
   "outputs": [],
   "source": [
    "list(zip(names, names[1:]))"
   ]
  },
  {
   "cell_type": "markdown",
   "id": "735965c5-88f8-45ff-9ded-175e8ff30e22",
   "metadata": {},
   "source": [
    "An extremely useful keyword related to loops is `break`. This performs the same function as other languages...break out of a loop. \n",
    "\n",
    "For example, given a very large file, how do you only display the first few rows?"
   ]
  },
  {
   "cell_type": "code",
   "execution_count": null,
   "id": "989f4473-428a-4730-8a66-ded78b467fad",
   "metadata": {},
   "outputs": [],
   "source": [
    "counter = 0\n",
    "with open('../../datasets/deaths-in-gameofthrones/game-of-thrones-deaths-data.csv', encoding='utf8') as file:\n",
    "    for line in file:\n",
    "        counter += 1\n",
    "        if counter < 5:\n",
    "            print(line)\n",
    "        else:\n",
    "            break # <= If you have gone through the first 5 rows, then 'break' out of the loop\n"
   ]
  },
  {
   "cell_type": "markdown",
   "id": "fcf121c6-7ec7-4382-9e5b-274a17545a88",
   "metadata": {},
   "source": [
    "Keep in mind that if you are using nested loops, `break` will only break out of the inner most loop"
   ]
  },
  {
   "cell_type": "code",
   "execution_count": null,
   "id": "6e78a5f3-ff4b-4cca-802b-16ea3fb7cad5",
   "metadata": {},
   "outputs": [],
   "source": [
    "for i in range(5):\n",
    "    for j in range(5):\n",
    "        if j == 3: break\n",
    "        print(i, j)"
   ]
  },
  {
   "cell_type": "markdown",
   "id": "1d40c43c-0950-422e-bb90-405dd5793b14",
   "metadata": {},
   "source": [
    "What if you find out that you don't want  to `break` out of the loop completely, but also don't want process the current iteration? You `continue` the loop so it skips the current iteration and continues with the rest of the loop"
   ]
  },
  {
   "cell_type": "code",
   "execution_count": null,
   "id": "a8c90c9d-2cb4-411b-9c7a-6c76853355a8",
   "metadata": {},
   "outputs": [],
   "source": [
    "counter = 0\n",
    "with open('../../datasets/deaths-in-gameofthrones/game-of-thrones-deaths-data.csv', encoding='utf8') as file:\n",
    "    for line in file:\n",
    "        counter += 1\n",
    "        if counter == 1:\n",
    "            continue\n",
    "        if counter < 5:\n",
    "            print(line)\n",
    "        else:\n",
    "            break # <= If you gone through the first 5 rows, then 'break' out of the loop\n"
   ]
  },
  {
   "cell_type": "markdown",
   "id": "61b64e58-4858-479f-882b-164400a7be2e",
   "metadata": {},
   "source": [
    "### If/else conditions"
   ]
  },
  {
   "cell_type": "markdown",
   "id": "649f7ded-a360-4971-aa6c-65f2e2199609",
   "metadata": {},
   "source": [
    "The last part of _loops_ already showed how to use if/else statements in Python. Remember that it is indentation which defines what is and is not part of an if or else block. Parenthesis around the if condition are not necessary. \n",
    "\n",
    "Unlike almost every other language, Python provides an `elif` keyword, often simulated us `else if ...` in other language"
   ]
  },
  {
   "cell_type": "code",
   "execution_count": null,
   "id": "4ec9e1cc-c13e-452f-8339-d7a22a792698",
   "metadata": {},
   "outputs": [],
   "source": [
    "counter = 0\n",
    "with open('../../datasets/deaths-in-gameofthrones/game-of-thrones-deaths-data.csv', encoding='utf8') as file:\n",
    "    for line in file:\n",
    "        counter += 1\n",
    "        if counter == 1:\n",
    "            continue\n",
    "        elif counter < 5:\n",
    "            print(line)\n",
    "        else:\n",
    "            break # <= If you gone through the first 5 rows, then 'break' out of the loop\n"
   ]
  },
  {
   "cell_type": "code",
   "execution_count": null,
   "id": "f1ab91db-8c2c-4353-9c37-4bed6db389ce",
   "metadata": {},
   "outputs": [],
   "source": [
    "gpa = 3\n",
    "\n",
    "if gpa > 3.5:\n",
    "    print(\"A\")\n",
    "else:\n",
    "    if gpa >= 3:\n",
    "        print(\"B\")\n",
    "    else:\n",
    "        print(\"Fail\")"
   ]
  },
  {
   "cell_type": "code",
   "execution_count": null,
   "id": "2a1b0463-d91b-4843-82d2-2a123c6c13e8",
   "metadata": {},
   "outputs": [],
   "source": [
    "gpa = 3\n",
    "\n",
    "if gpa > 3.5:\n",
    "    print(\"A\")\n",
    "elif gpa >= 3.0:\n",
    "    print(\"B\")\n",
    "elif gpa >= 2:\n",
    "    print(\"C\")\n",
    "else:\n",
    "    print(\"F\")"
   ]
  },
  {
   "cell_type": "code",
   "execution_count": null,
   "id": "2562e7a7-9344-4b5c-9208-8d9caa68654e",
   "metadata": {},
   "outputs": [],
   "source": [
    "# Common error\n",
    "gpa = 3\n",
    "\n",
    "if gpa > 3.5:\n",
    "    print(\"A\")\n",
    "if gpa >= 3.0:\n",
    "    print(\"B\")\n",
    "if gpa >= 2:\n",
    "    print(\"C\")\n",
    "else:\n",
    "    print(\"F\")"
   ]
  },
  {
   "cell_type": "markdown",
   "id": "1d74ba8c-de26-4702-bae2-ff0d41dab2b9",
   "metadata": {},
   "source": [
    "**Exercise** Iterate over a list in the following manner"
   ]
  },
  {
   "cell_type": "code",
   "execution_count": null,
   "id": "e7ba59d0-536a-4b6e-8035-9ee04799838c",
   "metadata": {},
   "outputs": [],
   "source": [
    "%%postcell exercise_025_095_n\n",
    "\n",
    "lst = ['homer', 'marge', 'bart', 'lisa', 'maggie']\n",
    "\n",
    "#print each name, except lisa, in a loop\n",
    "\n",
    "#print each name, until lisa, then stop printing any further names"
   ]
  },
  {
   "cell_type": "markdown",
   "id": "ff01fb7f-0175-451c-ab33-5c80ba827bec",
   "metadata": {},
   "source": [
    "### Truthiness\n",
    "\n",
    "In `if` conditions and loops, `True` and `False` (or functions which produce them) are not the only valid conditions. Python allows you to use other objects which make the code very convenient.\n",
    "\n",
    "As a general rule, any 'zero' values, empty containers (including empty strings) or None are equal to `False` in `if` conditions and loops."
   ]
  },
  {
   "cell_type": "code",
   "execution_count": null,
   "id": "4bec1471-0cef-4b15-9f6e-62c429966af0",
   "metadata": {},
   "outputs": [],
   "source": [
    "emptylist = []\n",
    "notemptylist = [1,2,3]"
   ]
  },
  {
   "cell_type": "code",
   "execution_count": null,
   "id": "d55e8822-f5ff-482f-96be-6e01e92e0812",
   "metadata": {},
   "outputs": [],
   "source": [
    "type(emptylist)"
   ]
  },
  {
   "cell_type": "code",
   "execution_count": null,
   "id": "9e7d9aa8-7e95-4cea-bfc2-61fbbda9c166",
   "metadata": {},
   "outputs": [],
   "source": [
    "bool(emptylist), bool(notemptylist)"
   ]
  },
  {
   "cell_type": "code",
   "execution_count": null,
   "id": "aae3e8d7-d85a-4617-8fdb-f9d60f84fa5d",
   "metadata": {},
   "outputs": [],
   "source": [
    "if len(notemptylist) > 0:\n",
    "    print(\"this list is not empty\")\n",
    "else:\n",
    "    print(\"this list IS empty\")"
   ]
  },
  {
   "cell_type": "code",
   "execution_count": null,
   "id": "2c81b49f-d5a9-4fe4-bb05-4694a9e8fb30",
   "metadata": {},
   "outputs": [],
   "source": [
    "if notemptylist: \n",
    "    print('this list is not empty')\n",
    "else:\n",
    "    print('this list is empty')"
   ]
  },
  {
   "cell_type": "code",
   "execution_count": null,
   "id": "6ff3bded-1123-4ef6-81d5-a96b8f25d51e",
   "metadata": {},
   "outputs": [],
   "source": [
    "homer_bank_balance = 0"
   ]
  },
  {
   "cell_type": "code",
   "execution_count": null,
   "id": "e759b6cb-01f2-4f20-acd9-db1f6799f405",
   "metadata": {
    "tags": []
   },
   "outputs": [],
   "source": [
    "bool(homer_bank_balance)"
   ]
  },
  {
   "cell_type": "code",
   "execution_count": null,
   "id": "6bea0c1c-a70a-45e6-9229-831edb968274",
   "metadata": {},
   "outputs": [],
   "source": [
    "type(homer_bank_balance)"
   ]
  },
  {
   "cell_type": "code",
   "execution_count": null,
   "id": "5430c926-75a8-4aa2-951c-f2560c76f921",
   "metadata": {},
   "outputs": [],
   "source": [
    "if homer_bank_balance:\n",
    "    print('Homer is not yet broke')\n",
    "else:\n",
    "    print('Homer is broke')"
   ]
  },
  {
   "cell_type": "code",
   "execution_count": null,
   "id": "7f1af2a3-9a37-4bb3-99af-50ea1cb74e85",
   "metadata": {},
   "outputs": [],
   "source": [
    "filecontents = ''"
   ]
  },
  {
   "cell_type": "code",
   "execution_count": null,
   "id": "e3827b40-e6bb-4741-bfcb-b7745ca9b205",
   "metadata": {
    "tags": []
   },
   "outputs": [],
   "source": [
    "bool(filecontents)"
   ]
  },
  {
   "cell_type": "code",
   "execution_count": null,
   "id": "7391b59a-306b-48a9-bb79-430f9700970e",
   "metadata": {},
   "outputs": [],
   "source": [
    "if filecontents:\n",
    "    print('File is not empty')\n",
    "else:\n",
    "    print('File is empty')"
   ]
  },
  {
   "cell_type": "code",
   "execution_count": null,
   "id": "287b3b0a-87a0-4e1a-becb-2094eb0cdd12",
   "metadata": {},
   "outputs": [],
   "source": []
  }
 ],
 "metadata": {
  "kernelspec": {
   "display_name": "Python [conda env:base] *",
   "language": "python",
   "name": "conda-base-py"
  },
  "language_info": {
   "codemirror_mode": {
    "name": "ipython",
    "version": 3
   },
   "file_extension": ".py",
   "mimetype": "text/x-python",
   "name": "python",
   "nbconvert_exporter": "python",
   "pygments_lexer": "ipython3",
   "version": "3.12.7"
  },
  "vscode": {
   "interpreter": {
    "hash": "108a1df64039728e69f178110a6e255a10aba8514903b770571642a02940d2ba"
   }
  }
 },
 "nbformat": 4,
 "nbformat_minor": 5
}
