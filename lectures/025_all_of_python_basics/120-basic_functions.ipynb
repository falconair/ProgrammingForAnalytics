{
 "cells": [
  {
   "cell_type": "code",
   "execution_count": null,
   "metadata": {},
   "outputs": [],
   "source": [
    "%reload_ext postcell\n",
    "%postcell register"
   ]
  },
  {
   "cell_type": "markdown",
   "metadata": {},
   "source": [
    "# Functions"
   ]
  },
  {
   "cell_type": "markdown",
   "metadata": {},
   "source": [
    "You have used many functions so far: `abs()`, `print()`, `open()`, `\"hello\".split()`, etc. The ability to create your functions opens up a path to more advanced programming. At the same time, creating your own functions can dramatically simplify your code.\n",
    "\n",
    "#### Defining and calling functions\n",
    "\n",
    "Some example function, see if you can tell what is going on:"
   ]
  },
  {
   "cell_type": "code",
   "execution_count": null,
   "metadata": {},
   "outputs": [],
   "source": [
    "# This function calculates the average of two numbers\n",
    "\n",
    "def average(num1, num2):\n",
    "  result = (num1 + num2) / 2\n",
    "  return result #can we reduce this to a one line function?"
   ]
  },
  {
   "cell_type": "markdown",
   "metadata": {},
   "source": [
    "_Call_ or _run_ or _execute_ the function `average` _defined_ earlier:"
   ]
  },
  {
   "cell_type": "code",
   "execution_count": null,
   "metadata": {},
   "outputs": [],
   "source": [
    "average(1,2) # should equal 1.5"
   ]
  },
  {
   "cell_type": "code",
   "execution_count": null,
   "metadata": {},
   "outputs": [],
   "source": [
    "# Without running this function, can you tell what it does?\n",
    "def first_word(word):\n",
    "  multiple_words = word.split(\" \")\n",
    "  return multiple_words[0]"
   ]
  },
  {
   "cell_type": "code",
   "execution_count": null,
   "metadata": {},
   "outputs": [],
   "source": [
    "first_word(\"hello world\") # should equal \"hello\""
   ]
  },
  {
   "cell_type": "code",
   "execution_count": null,
   "metadata": {},
   "outputs": [],
   "source": [
    "test_word = \"hello world\"\n",
    "first_word(test_word) # same as before"
   ]
  },
  {
   "cell_type": "code",
   "execution_count": null,
   "metadata": {},
   "outputs": [],
   "source": [
    "first_word(\"hello\") # there is no space tp split on, what will this do?"
   ]
  },
  {
   "cell_type": "code",
   "execution_count": null,
   "metadata": {},
   "outputs": [],
   "source": [
    "my_first_name = first_word(\"Homer Simpson\")\n",
    "print(\"My first name is\",my_first_name)"
   ]
  },
  {
   "cell_type": "markdown",
   "metadata": {},
   "source": [
    "Defining function and execution them is a bit like writing a recipe and actually using it to cook. Functions gather up logic into a variable, which can be repeatedly used elsewhere. You can write your function once, test it throughly and use it elsewhere in your code. If you find an error in your logic, you change it in one place and users of your function get corrected code.\n",
    "\n",
    "The general (although simplified) logic of function is this:\n",
    "\n",
    "```python\n",
    "function function_name(argument1, argument2):\n",
    "  do something...\n",
    "  do something...\n",
    "  return result\n",
    "```\n",
    "\n",
    "Functions take arguments, also called parameters, and return results. Programmers also use the terminology 'inputs' and 'outputs.'"
   ]
  },
  {
   "cell_type": "markdown",
   "metadata": {},
   "source": [
    "#### Docstrings - add documentation to your functions"
   ]
  },
  {
   "cell_type": "code",
   "execution_count": null,
   "metadata": {},
   "outputs": [],
   "source": [
    "def average(num1, num2):\n",
    "    \"\"\"\n",
    "    Calculates the mean of two parameters\n",
    "\n",
    "    Parameters:\n",
    "    argument1 (int): first number used for mean calculation\n",
    "    argument2 (int): second number used for mean calculation\n",
    "\n",
    "    Returns:\n",
    "    int:mean of two inputs\n",
    "\n",
    "   \"\"\"\n",
    "    result = (num1 + num2) / 2\n",
    "    return result #can we reduce this to a one line function?"
   ]
  },
  {
   "cell_type": "code",
   "execution_count": null,
   "metadata": {},
   "outputs": [],
   "source": [
    "average?"
   ]
  },
  {
   "cell_type": "markdown",
   "metadata": {},
   "source": [
    "#### Lifetime of variables within functions, aka _scope_\n",
    "Any variable you create inside functions disappears as soon as the function 'exits' or finishes running.\n"
   ]
  },
  {
   "cell_type": "code",
   "execution_count": null,
   "metadata": {},
   "outputs": [],
   "source": [
    "def test_func1():\n",
    "  test_list = [1, 2, 3]\n",
    "  return \"hi\""
   ]
  },
  {
   "cell_type": "markdown",
   "metadata": {},
   "source": [
    "Once we run the function above to completion, what happens to the  `test_list` variable?"
   ]
  },
  {
   "cell_type": "code",
   "execution_count": null,
   "metadata": {},
   "outputs": [],
   "source": [
    "test_func1()\n",
    "print(test_list) # why doesn't this work?"
   ]
  },
  {
   "cell_type": "markdown",
   "metadata": {},
   "source": [
    "`test_list` doesn't exist, because the variable disappeared as soon as the function finished. This is immensely helpful in keeping your programming envrionment clean. In the course of writing a program, you may use tens or hundreds of functions. What if all of their internal structures leaked out to rest of your program? You would find yourself in a huge mess of thousands of variables!\n"
   ]
  },
  {
   "cell_type": "code",
   "execution_count": null,
   "metadata": {},
   "outputs": [],
   "source": [
    "def test_func2(num1, num2, num3):\n",
    "  test_list = [num1, num2, num3]\n",
    "  return \"hi\""
   ]
  },
  {
   "cell_type": "code",
   "execution_count": null,
   "metadata": {},
   "outputs": [],
   "source": [
    "test_func2(1, 2, 3)\n",
    "print(test_list) # you already know this won't work"
   ]
  },
  {
   "cell_type": "markdown",
   "metadata": {},
   "source": [
    "What if you _want_ to return that list?"
   ]
  },
  {
   "cell_type": "code",
   "execution_count": null,
   "metadata": {},
   "outputs": [],
   "source": [
    "def test_func3(num1, num2, num3):\n",
    "  test_list = [num1, num2, num3]\n",
    "  return test_list # here, you are correctly returning test_list"
   ]
  },
  {
   "cell_type": "code",
   "execution_count": null,
   "metadata": {},
   "outputs": [],
   "source": [
    "test_func3(1, 2, 3)\n",
    "print(test_list) # this still doesn't work yet?"
   ]
  },
  {
   "cell_type": "markdown",
   "metadata": {},
   "source": [
    "This doesn't work yet, because you are not capturing the output of the function. Let's try again:"
   ]
  },
  {
   "cell_type": "code",
   "execution_count": null,
   "metadata": {},
   "outputs": [],
   "source": [
    "my_list = test_func3(1, 2, 3) #<== Notice we are no setting my_list\n",
    "print(my_list) "
   ]
  },
  {
   "cell_type": "markdown",
   "metadata": {},
   "source": [
    "Now it works! Keep in mind that we could have assigned the output of test_func3 to a variable with a different name, the name 'my_list' inside the function is completely different from the variable named 'my_list' outside the function\n"
   ]
  },
  {
   "cell_type": "code",
   "execution_count": null,
   "metadata": {},
   "outputs": [],
   "source": [
    "my_list2 = test_func3(1, 2, 3) #<== Notice the variable name is different\n",
    "print(my_list2) # still works!"
   ]
  },
  {
   "cell_type": "markdown",
   "metadata": {},
   "source": [
    "#### Calling functions from within functions"
   ]
  },
  {
   "cell_type": "markdown",
   "metadata": {},
   "source": [
    "Notice the use of `first_word` function inside the function `many_first_names`"
   ]
  },
  {
   "cell_type": "code",
   "execution_count": null,
   "metadata": {},
   "outputs": [],
   "source": [
    "def many_first_names(list_of_names):\n",
    "  list_of_first_names = []\n",
    "  for name in list_of_names:\n",
    "    list_of_first_names.append(first_word(name)) # output of first_word is input to .append()\n",
    "\n",
    "  return list_of_first_names"
   ]
  },
  {
   "cell_type": "code",
   "execution_count": null,
   "metadata": {},
   "outputs": [],
   "source": [
    "many_first_names([\"Homer Simpson\", \"Marge Simpson\", \"Lisa Simpson\"])"
   ]
  },
  {
   "cell_type": "markdown",
   "metadata": {},
   "source": [
    "**Exercise**\n",
    "Write a function called 'length' which accepts a list and counts the number of elements (recall exercises involving game of thrones data).\n",
    "Test with these values:\n",
    "\n"
   ]
  },
  {
   "cell_type": "code",
   "execution_count": null,
   "metadata": {},
   "outputs": [],
   "source": [
    "%%postcell exercise_025_120_a\n",
    "\n",
    "def length(list_of_nums):\n",
    "    #write your code here"
   ]
  },
  {
   "cell_type": "code",
   "execution_count": null,
   "metadata": {},
   "outputs": [],
   "source": [
    "length([1,2,3]) #  Should equal 3"
   ]
  },
  {
   "cell_type": "code",
   "execution_count": null,
   "metadata": {},
   "outputs": [],
   "source": [
    "length([1]) # Should equal 1"
   ]
  },
  {
   "cell_type": "code",
   "execution_count": null,
   "metadata": {},
   "outputs": [],
   "source": [
    "length([]) # Should equal zero"
   ]
  },
  {
   "cell_type": "markdown",
   "metadata": {},
   "source": [
    "Python's version of this function is called `len`"
   ]
  },
  {
   "cell_type": "markdown",
   "metadata": {},
   "source": [
    "**Exercise**\n",
    "What is the difference between these two functions, which do you think is more useful?\n",
    "(only the last line is different)\n",
    "\n",
    "```python\n",
    "def average1(numbers):\n",
    "  sum = 0\n",
    "  count = 0\n",
    "  for num in numbers:\n",
    "    sum += num\n",
    "    count += 1\n",
    "  return sum/count\n",
    "\n",
    "def average2(numbers):\n",
    "  sum = 0\n",
    "  count = 0\n",
    "  for num in numbers:\n",
    "    sum += num\n",
    "    count += 1\n",
    "  print(sum/count)\n",
    "```"
   ]
  },
  {
   "cell_type": "markdown",
   "metadata": {},
   "source": [
    "#### Errors and exceptions"
   ]
  },
  {
   "cell_type": "code",
   "execution_count": null,
   "metadata": {},
   "outputs": [],
   "source": [
    "def func1():\n",
    "    print(i_dont_exist) # this should produce an error, do you see why?"
   ]
  },
  {
   "cell_type": "code",
   "execution_count": null,
   "metadata": {},
   "outputs": [],
   "source": [
    "func1()"
   ]
  },
  {
   "cell_type": "markdown",
   "metadata": {},
   "source": [
    "It is often best to read python errors from the bottom and work your way up. In the example above, you can see the type of error and a description. In this case, it is correctly telling you that the variable `i_dont_exist` ... doesn't exist!\n",
    "\n",
    "Above the last line, it points out the line at which the error occured.\n",
    "\n",
    "In the block above that, it tells you that the error occured in function `func1()`"
   ]
  },
  {
   "cell_type": "code",
   "execution_count": null,
   "metadata": {},
   "outputs": [],
   "source": [
    "def func2():\n",
    "    func1() # Calling func1 from inside func2, what will the error look like?"
   ]
  },
  {
   "cell_type": "code",
   "execution_count": null,
   "metadata": {},
   "outputs": [],
   "source": [
    "func2()"
   ]
  },
  {
   "cell_type": "markdown",
   "metadata": {},
   "source": [
    "Notice how helpful _Python_ is being.\n",
    "This time, attempt to read from the top and work your way down. Python tells you that the error occured in `func2`, which calls `func1`, which then calls `print`, which is where the error occurs.\n",
    "\n",
    "Thank you Python!"
   ]
  },
  {
   "cell_type": "markdown",
   "metadata": {},
   "source": [
    "##### How to google for errors\n",
    "Since looking up errors is a natural part of programming, you should only need to search using the last line, which contains the type of error and a description. In this case: `NameError: name 'i_dont_exist' is not defined`. \n",
    "\n",
    "Let's do one more example. In this code, we will open a file which doesn't exist and try to process it."
   ]
  },
  {
   "cell_type": "code",
   "execution_count": null,
   "metadata": {},
   "outputs": [],
   "source": [
    "def error_func(filename):\n",
    "    for line in open(filename, 'r').readlines():\n",
    "        wont_even_get_here = line.split(\",\")\n",
    "\n",
    "def error_func2(filename):\n",
    "    error_func(filename)\n",
    "\n",
    "def error_func3(filename):\n",
    "    error_func2(filename)\n",
    "\n",
    "def error_func4(filename):\n",
    "    error_func3(filename)\n"
   ]
  },
  {
   "cell_type": "code",
   "execution_count": null,
   "metadata": {},
   "outputs": [],
   "source": [
    "error_func4(\"this_file_doesnt_exist.csv\")"
   ]
  },
  {
   "cell_type": "markdown",
   "metadata": {},
   "source": [
    "**Using assert to test functions (and unit tests)**\n",
    "\n",
    "Assert it use to confirm that certain conditions hold. I will often use it to test your functions. For example, if your function is supposed to add two numbers, I will check the output of your program against what I expect:"
   ]
  },
  {
   "cell_type": "code",
   "execution_count": null,
   "metadata": {},
   "outputs": [],
   "source": [
    "def addnums(num1, num2): return num1 + num1 # <= Notice the mistake, we are not using num2!"
   ]
  },
  {
   "cell_type": "code",
   "execution_count": null,
   "metadata": {},
   "outputs": [],
   "source": [
    "assert False"
   ]
  },
  {
   "cell_type": "code",
   "execution_count": null,
   "metadata": {},
   "outputs": [],
   "source": [
    "assert addnums(1, 1) == 2\n",
    "assert addnums(2, 2) == 4\n",
    "assert addnums(0, 1) == 1"
   ]
  },
  {
   "cell_type": "markdown",
   "metadata": {},
   "source": [
    "If any of the assert statements are wrong, we get an error. If they are correct, the program proceeds normally.\n",
    "\n",
    "Software engineers often write their code backwards. Write a range of tests and expect them all to fail. Then write your function, making sure the tests pass. Once all the tests pass, your function is done."
   ]
  },
  {
   "cell_type": "markdown",
   "metadata": {},
   "source": [
    "**Example**\n",
    "\n",
    "Find the largest value in a list of numbers\n",
    "\n",
    "Technical translation: Write a function `maximum` which accepts a list as an input and returns a single number, representing the maximum value\n",
    "\n",
    "Notice: \n",
    "1. There is already such a function in Python, called `max`. \n",
    "2. What happens if the list is empty? Ignore this (how does `max` handle this?)\n",
    "3. What if a list of numbers and strings is passed to the function? Ignore this (how does `max` handle this?)\n",
    "4. What if a single number is passed in, instead of a list? Ignore this (how does `max` handle this?)"
   ]
  },
  {
   "cell_type": "code",
   "execution_count": null,
   "metadata": {},
   "outputs": [],
   "source": [
    "def maximum(numbers):\n",
    "    pass # pass means \"do nothing\", add your code here\n",
    "    "
   ]
  },
  {
   "cell_type": "markdown",
   "metadata": {},
   "source": [
    "First think in terms of inputs and outputs, not how the function will be written\n",
    "As you start to think of the implementation, add corner cases here\n",
    "\n"
   ]
  },
  {
   "cell_type": "code",
   "execution_count": null,
   "metadata": {},
   "outputs": [],
   "source": [
    "assert maximum([1,2,3]) == 3 # is the max value being returned?\n",
    "\n",
    "assert maximum([3,2,1]) == 3 # make sure the order doesn't matter (so can't pick the last number)\n",
    "assert maximum([-1,-2,-3]) == -1 # make sure negative values are handeled"
   ]
  },
  {
   "cell_type": "markdown",
   "metadata": {},
   "source": [
    "Let's try some of these implementations (paste the code below to the function above and see if unit tests pass):\n",
    "\n",
    "```python\n",
    "def maximum(numbers):\n",
    "    return numbers[-1]\n",
    "```\n",
    "\n",
    "```python\n",
    "def maximum(numbers):\n",
    "    max_value = 0\n",
    "    for num in numbers:\n",
    "        if num > max_value:\n",
    "            max_value = num\n",
    "    return max_value\n",
    "```\n",
    "\n",
    "```python\n",
    "def maximum(numbers):\n",
    "    max_value = numbers[0]\n",
    "    for num in numbers:\n",
    "        if num > max_value:\n",
    "            max_value = num\n",
    "    return max_value\n",
    "```\n"
   ]
  },
  {
   "cell_type": "markdown",
   "metadata": {},
   "source": [
    "**Using a debugger**\n",
    "\n",
    "Finding errors in the code above is not trivial for new programmers. Debugger provide a way to _step_ through the code, one line at a time. At each line, you can inspect the value in each variable.\n",
    "\n",
    "Use the VS Code editor, paste the code and run it in the debugger (we will do this in class). "
   ]
  },
  {
   "cell_type": "markdown",
   "metadata": {},
   "source": [
    "**Exercise**\n",
    "\n",
    "Write a function which finds the lowest value in a list of numbers. Test it with a few values.\n",
    "\n",
    "**Exercise**\n",
    "\n",
    "Write a function which counts numbers above zero in a list of numbers. Test it with a few values."
   ]
  },
  {
   "cell_type": "markdown",
   "metadata": {},
   "source": [
    "#### TODO: Accessing variables from global scope (accidentally or on purpose)"
   ]
  },
  {
   "cell_type": "code",
   "execution_count": null,
   "metadata": {},
   "outputs": [],
   "source": []
  }
 ],
 "metadata": {
  "kernelspec": {
   "display_name": "Python 3",
   "language": "python",
   "name": "python3"
  },
  "language_info": {
   "codemirror_mode": {
    "name": "ipython",
    "version": 3
   },
   "file_extension": ".py",
   "mimetype": "text/x-python",
   "name": "python",
   "nbconvert_exporter": "python",
   "pygments_lexer": "ipython3",
   "version": "3.8.5"
  }
 },
 "nbformat": 4,
 "nbformat_minor": 4
}
