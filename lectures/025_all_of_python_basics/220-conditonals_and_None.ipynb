{
 "cells": [
  {
   "cell_type": "code",
   "execution_count": null,
   "metadata": {},
   "outputs": [],
   "source": [
    "%reload_ext postcell\n",
    "%postcell register"
   ]
  },
  {
   "cell_type": "code",
   "execution_count": null,
   "metadata": {
    "tags": []
   },
   "outputs": [],
   "source": [
    "import pandas as pd"
   ]
  },
  {
   "cell_type": "markdown",
   "metadata": {},
   "source": [
    "# Conditonal statement: if/else/elif\n",
    "\n",
    "As we have seen many times, Python and almost all programming langauges provide `if` and `else` statements:"
   ]
  },
  {
   "cell_type": "code",
   "execution_count": null,
   "metadata": {
    "tags": []
   },
   "outputs": [],
   "source": [
    "x = -100 # <= could be a value coming from a database lookup or user input\n",
    "\n",
    "if x > 0:\n",
    "    print(\"You have some money in your account\")\n",
    "else:\n",
    "    print(\"You need overdraft protection!\")"
   ]
  },
  {
   "cell_type": "markdown",
   "metadata": {},
   "source": [
    "### `elif`\n",
    "There are times when you need more than just two conditions. For example:"
   ]
  },
  {
   "cell_type": "code",
   "execution_count": null,
   "metadata": {
    "tags": []
   },
   "outputs": [],
   "source": [
    "x = -100\n",
    "\n",
    "if x > 0:\n",
    "    print(\"You have some money in your account\")\n",
    "elif x == 0:\n",
    "    print(\"You don't owe us anything, and you don't have any money\")\n",
    "else:\n",
    "    print(\"You need overdraft protection!\")"
   ]
  },
  {
   "cell_type": "markdown",
   "metadata": {},
   "source": [
    "In many languages, `elfif` is not a separate statement. Porgrammers are expected to chain together `if` and `else` statements as such:\n",
    "\n",
    "```python\n",
    "#non-python languages\n",
    "if x > 0: print(\"you have cash\")\n",
    "else if: x == 0: print(\"you have no cash\") # notice the use of \"else if\" instead of \"elif\"\n",
    "else: print(\"You need overdraft protection!\")\n",
    "```"
   ]
  },
  {
   "cell_type": "markdown",
   "metadata": {},
   "source": [
    "**Exercise** Please re-arrange the code below so the `if` and `else` are swapped? Hint, perhaps _negation_ will help?"
   ]
  },
  {
   "cell_type": "code",
   "execution_count": null,
   "metadata": {},
   "outputs": [],
   "source": [
    "%%postcell exercise_025_220_a\n",
    "\n",
    "data_file_location = \"../../datasets/deaths-in-gameofthrones/game-of-thrones-deaths-data.csv\"\n",
    "\n",
    "with open(data_file_location, 'r', encoding='utf8') as file:\n",
    "    file_contents = file.readlines() # This returns a list of lines in this text file\n",
    "\n",
    "if len(file_contents) > 0: # <= Swap the two branches\n",
    "    print(\"You can proceed with further processing of this file\")\n",
    "else:\n",
    "    print(\"This file is empty, are you sure this is the right file?\")"
   ]
  },
  {
   "cell_type": "markdown",
   "metadata": {},
   "source": [
    "### Truthiness\n",
    "\n",
    "When using `if` conditions or loops, any of the following evaluate as `False`:\n",
    "1. `False`\n",
    "2. Any zero value: `0`, `0.0`, `Decimal(0)`, etc.\n",
    "3. Any empty container such as lists, dictionaries, sets\n",
    "4. Empty strings: `''`, `\"       \".strip()`\n",
    "5. `range(0)`\n",
    "6. `None`"
   ]
  },
  {
   "cell_type": "code",
   "execution_count": null,
   "metadata": {
    "tags": []
   },
   "outputs": [],
   "source": [
    "def evaluates_as(i):\n",
    "    if i: return True\n",
    "    else: return False\n",
    "\n",
    "for item in [False, 0, 0.0, list(), [], set(), dict(), \"\", \"   \\n   \".strip(), range(0), None, True, 1, [1,2]]:\n",
    "    print(item, f\" evaluates to {evaluates_as(item)}\")"
   ]
  },
  {
   "cell_type": "markdown",
   "metadata": {},
   "source": [
    "**Exercise** There is a \"cleaner\" way to write the if/else clause. A common error:"
   ]
  },
  {
   "cell_type": "code",
   "execution_count": null,
   "metadata": {
    "tags": []
   },
   "outputs": [],
   "source": [
    "%%postcell exercise_025_220_c\n",
    "\n",
    "# Re-write the following more cleanly\n",
    "count_header = True\n",
    "\n",
    "data_file_location = \"../../datasets/deaths-in-gameofthrones/game-of-thrones-deaths-data.csv\"\n",
    "counter = 0\n",
    "\n",
    "with open(data_file_location, 'r', encoding='utf8') as file:\n",
    "    for index, line in enumerate(file):\n",
    "        counter = counter + 1\n",
    "\n",
    "if count_header == True: # <= Make this \"cleaner\"\n",
    "    print(counter - 1)\n",
    "else:\n",
    "    print(counter)"
   ]
  },
  {
   "cell_type": "markdown",
   "metadata": {},
   "source": [
    "**Exercise** You have read in a file, you need to execute on set of lines if the file actually contains content and another if it doesn't. Python provides a \"cleaner\" way to write this:"
   ]
  },
  {
   "cell_type": "code",
   "execution_count": null,
   "metadata": {
    "tags": []
   },
   "outputs": [],
   "source": [
    "%%postcell exercise_025_220_c\n",
    "\n",
    "data_file_location = \"../../datasets/deaths-in-gameofthrones/game-of-thrones-deaths-data.csv\"\n",
    "\n",
    "with open(data_file_location, 'r', encoding='utf8') as file:\n",
    "    file_contents = file.readlines() # This returns a list of lines in this text file\n",
    "\n",
    "if len(file_contents) > 0: # <= Make this line \"cleaner\"\n",
    "    print(\"You can proceed with further processing of this file\")\n",
    "else:\n",
    "    print(\"This file is empty, are you sure this is the right file?\")"
   ]
  },
  {
   "cell_type": "markdown",
   "metadata": {},
   "source": [
    "### How to correctly break up a continuous range (common bug)"
   ]
  },
  {
   "cell_type": "markdown",
   "metadata": {},
   "source": [
    "Breaking up a continuous scale into discrete, yet fully covered sets has a subtelty that some students miss. The idea is similar to what the consulting world calls MECE: \"mutually exclusive, collectively exhaustive.\""
   ]
  },
  {
   "cell_type": "markdown",
   "metadata": {},
   "source": [
    "**Exercise** There is a bug (potentialy more than one) in the code below. Please fix the code.\n",
    "Hint: what if Lisa's GPA was 3.5?"
   ]
  },
  {
   "cell_type": "code",
   "execution_count": null,
   "metadata": {
    "tags": []
   },
   "outputs": [],
   "source": [
    "%%postcell exercise_025_220_d\n",
    "\n",
    "# Grade thresholds in a grading system\n",
    "grade_A = 3.5\n",
    "grade_B = 3.0\n",
    "grade_C = 2.5\n",
    "grade_D = 2.0\n",
    "\n",
    "# Input from grader for Lisa Simpson\n",
    "student_grade = 3.75\n",
    "\n",
    "if   student_grade < 4.0 and student_grade > 3.5: print(\"Student receives grade A\")\n",
    "elif student_grade < 3.5 and student_grade > 3.0: print(\"Student receives grade B\")\n",
    "elif student_grade < 3.0 and student_grade > 2.5: print(\"Student receives grade C\")\n",
    "else: print(\"Student fails\")"
   ]
  },
  {
   "cell_type": "markdown",
   "metadata": {},
   "source": [
    "The proper way to break up a continuous range of values requires careful (but not difficult) use of \"or equal to\" operators."
   ]
  },
  {
   "cell_type": "markdown",
   "metadata": {},
   "source": [
    "### Getting the parenthesis correct is extremely important in boolean expressions"
   ]
  },
  {
   "cell_type": "code",
   "execution_count": null,
   "metadata": {
    "tags": []
   },
   "outputs": [],
   "source": [
    "data_file_location = \"../../datasets/life-expectancy/life-expectancy-who.zip2\"\n",
    "\n",
    "who_df = pd.read_csv(data_file_location, compression='zip')\n",
    "who_df.columns"
   ]
  },
  {
   "cell_type": "code",
   "execution_count": null,
   "metadata": {
    "tags": []
   },
   "outputs": [],
   "source": [
    "who_df[who_df.Year == 2015].head()"
   ]
  },
  {
   "cell_type": "markdown",
   "metadata": {},
   "source": [
    "**Exercise** Let's take a look at data from the World Health Org, from the year 2015 (the most recent data we have available to us).\n",
    "I am interested in seeing all the countries which are \"Developing\" or have life expectancy of below 80 years.\n",
    "\n",
    "How come I'm seeing data from years other than 2015? Please fix it"
   ]
  },
  {
   "cell_type": "markdown",
   "metadata": {},
   "source": [
    "Recall that Pandas boolean expression don't use `and`, `or` keywords. They use set notation `&` and `|`. Also recall that multiple boolean expression have to be encased in parenthesis. See pandas notebooks for further details."
   ]
  },
  {
   "cell_type": "code",
   "execution_count": null,
   "metadata": {
    "tags": []
   },
   "outputs": [],
   "source": [
    "%%postcell exercise_025_220_e\n",
    "\n",
    "who_df[(who_df.Year == 2015) & (who_df.Status == 'Developing') | (who_df['Life expectancy '] < 80)]"
   ]
  },
  {
   "cell_type": "markdown",
   "metadata": {},
   "source": [
    "### Why use if/else, instead of just a series of if statements?"
   ]
  },
  {
   "cell_type": "markdown",
   "metadata": {},
   "source": [
    "Let's revisit an earlier example:"
   ]
  },
  {
   "cell_type": "code",
   "execution_count": null,
   "metadata": {
    "tags": []
   },
   "outputs": [],
   "source": [
    "student_grade = 3.3\n",
    "\n",
    "if   student_grade < 4.0 and student_grade >= 3.5: print(\"A\")\n",
    "elif student_grade < 3.5 and student_grade >= 3.0: print(\"B\")\n",
    "elif student_grade < 3.0 and student_grade >= 2.5: print(\"C\")\n",
    "else : print(\"Fail\")"
   ]
  },
  {
   "cell_type": "markdown",
   "metadata": {},
   "source": [
    "Notice that we can dramatically simplify our code by remembeing that _only_ one of the branches will be taken in the code above:"
   ]
  },
  {
   "cell_type": "code",
   "execution_count": null,
   "metadata": {
    "tags": []
   },
   "outputs": [],
   "source": [
    "student_grade = 3.3\n",
    "\n",
    "if   student_grade >= 3.5: print(\"A\")\n",
    "elif student_grade >= 3.0: print(\"B\") # <= This branch already exluedes anything above (or equal to) 3.5!\n",
    "elif student_grade >= 2.5: print(\"C\")\n",
    "else : print(\"Fail\")"
   ]
  },
  {
   "cell_type": "markdown",
   "metadata": {},
   "source": [
    "However, if we can't be sure that the branches are mutually exlusive, then this logic no longer works:"
   ]
  },
  {
   "cell_type": "code",
   "execution_count": null,
   "metadata": {
    "tags": []
   },
   "outputs": [],
   "source": [
    "student_grade = 3.3\n",
    "\n",
    "if   student_grade >= 3.5: print(\"A\")\n",
    "if student_grade >= 3.0: print(\"B\") # <= This branch already exluedes anything above (or equal to) 3.5!\n",
    "if student_grade >= 2.5: print(\"C\")\n",
    "if student_grade < 3.0 : print(\"Fail\")"
   ]
  },
  {
   "cell_type": "markdown",
   "metadata": {},
   "source": [
    "### Ternary if/else (single line if/else)\n",
    "\n",
    "There are times when you want a very compact version of an if/else statemnt. For example:"
   ]
  },
  {
   "cell_type": "code",
   "execution_count": null,
   "metadata": {
    "tags": []
   },
   "outputs": [],
   "source": [
    "x = -100\n",
    "\n",
    "owes_money =  True if x < 0 else False"
   ]
  },
  {
   "cell_type": "code",
   "execution_count": null,
   "metadata": {
    "tags": []
   },
   "outputs": [],
   "source": [
    "owes_money"
   ]
  },
  {
   "cell_type": "markdown",
   "metadata": {},
   "source": [
    "This syntax provides an additional benefit, the full logic of `if` and `else` can be written in a single line and assigned to a variable. In more technical terms, this syntax is an _expression_ rather than a _statement_."
   ]
  },
  {
   "cell_type": "markdown",
   "metadata": {},
   "source": [
    "Note that almost all languages provide similar ternary operators. In many languages, the code above will like like this: `owes_money = x < 0 ? True : False`"
   ]
  },
  {
   "cell_type": "markdown",
   "metadata": {},
   "source": [
    "### Short circuiting\n",
    "Novice programmers often miss a subtlety related to how boolean statements are evaluated.\n",
    "\n",
    "We will write custom functions which return True or False, but also print some debugging information"
   ]
  },
  {
   "cell_type": "code",
   "execution_count": null,
   "metadata": {},
   "outputs": [],
   "source": [
    "def MyTrue():\n",
    "    print(\"Executing MyTrue\")\n",
    "    return True\n",
    "\n",
    "def MyFalse():\n",
    "    print(\"Executing MyFalse\")\n",
    "    return False"
   ]
  },
  {
   "cell_type": "code",
   "execution_count": null,
   "metadata": {},
   "outputs": [],
   "source": [
    "MyTrue()"
   ]
  },
  {
   "cell_type": "code",
   "execution_count": null,
   "metadata": {},
   "outputs": [],
   "source": [
    "if MyFalse(): print(\"Should print True\")"
   ]
  },
  {
   "cell_type": "markdown",
   "metadata": {},
   "source": [
    "Notice that in order to evaluate the conditional statement, MyFalse() had to be executed (this should be obvious)"
   ]
  },
  {
   "cell_type": "code",
   "execution_count": null,
   "metadata": {},
   "outputs": [],
   "source": [
    "if MyTrue(): print(\"Should print True\")"
   ]
  },
  {
   "cell_type": "markdown",
   "metadata": {},
   "source": [
    "This is essentially the same statement as before, so no surprises."
   ]
  },
  {
   "cell_type": "code",
   "execution_count": null,
   "metadata": {},
   "outputs": [],
   "source": [
    "if MyTrue() and MyTrue() and MyTrue() : print(\"Should print True\")"
   ]
  },
  {
   "cell_type": "markdown",
   "metadata": {},
   "source": [
    "Recall that when a boolean expression is true, only if _all_ sub-expressions are true. In other words, all `MyTrue` functions have to be evaluated. Perhaps not very surprising."
   ]
  },
  {
   "cell_type": "code",
   "execution_count": null,
   "metadata": {},
   "outputs": [],
   "source": [
    "if MyTrue() or MyTrue() or MyTrue() : print(\"Should print True\")"
   ]
  },
  {
   "cell_type": "markdown",
   "metadata": {},
   "source": [
    "This _should_ be surprising! Recall that in an `or` expression, any one of the values has to be true, in order for the whole expression to be true. This is why, once the first `True` was found, the remaining expression was not even evaluated (it was _short-circuited_ )"
   ]
  },
  {
   "cell_type": "markdown",
   "metadata": {},
   "source": [
    "**Exercise** What will this expression print?\n",
    "```python\n",
    "if MyTrue() and MyTrue() or MyTrue() and MyTrue() or MyTrue() : print(\"Should print True\")\n",
    "```\n",
    "\n",
    "**Exercise** What will this expression print?\n",
    "```python\n",
    "if MyFalse() and MyTrue() : print(\"Should print True\")\n",
    "```"
   ]
  },
  {
   "cell_type": "markdown",
   "metadata": {},
   "source": [
    "# None\n",
    "Almost every programming language has a construct known as \"null\", which represents a lack of value. Not zero, but a missing value. Python chose to call its version of \"null\" `None`. When \"null\" is not available, it often has to be invented. \n",
    "\n",
    "#### Null in the real world\n",
    "\n",
    "Imagine you are in the field, collecting data on how many ounces of milk babies are drinking in each household. There will be times when a household won't have any babies. You will record `0` as the ounces of milk babies are drinking in this household. What about the times when you have information about a household, but they refuse to tell you anything about what the baby is consuming? In your notebook, you may write a `-1` or some other non-sensical value to represent a \"missing vaule.\" \n",
    "\n",
    "#### Null in computers\n",
    "\n",
    "Recall that so far, we have used the `return` statement in every function. What if a function didn't return anything?"
   ]
  },
  {
   "cell_type": "code",
   "execution_count": null,
   "metadata": {},
   "outputs": [],
   "source": [
    "def ok_function(): return 1+1\n",
    "def bad_function(): 1+1"
   ]
  },
  {
   "cell_type": "code",
   "execution_count": null,
   "metadata": {},
   "outputs": [],
   "source": [
    "print(ok_function())"
   ]
  },
  {
   "cell_type": "code",
   "execution_count": null,
   "metadata": {},
   "outputs": [],
   "source": [
    "print(bad_function())"
   ]
  },
  {
   "cell_type": "markdown",
   "metadata": {},
   "source": [
    "Not having a `return` statement is NOT an error, it just returns `None`!\n",
    "\n",
    "Just like 1, 2 and 3 belong to the `int` type and \"hello\" belongs to the `str` type, `None` belongs to the `NoneType` (in fact, `None` is the _only_ member of that type)"
   ]
  },
  {
   "cell_type": "code",
   "execution_count": null,
   "metadata": {},
   "outputs": [],
   "source": [
    "type(None)"
   ]
  },
  {
   "cell_type": "markdown",
   "metadata": {},
   "source": [
    "`None` can be passed around like any other value:"
   ]
  },
  {
   "cell_type": "code",
   "execution_count": null,
   "metadata": {},
   "outputs": [],
   "source": [
    "my_list = [1, 2, 3, \"hello\", 5, None, 6, True, 7, False, None, None, \"yo\"]\n",
    "my_list"
   ]
  },
  {
   "cell_type": "code",
   "execution_count": null,
   "metadata": {},
   "outputs": [],
   "source": [
    "print(my_list[5])"
   ]
  },
  {
   "cell_type": "code",
   "execution_count": null,
   "metadata": {},
   "outputs": [],
   "source": [
    "None == True"
   ]
  },
  {
   "cell_type": "code",
   "execution_count": null,
   "metadata": {},
   "outputs": [],
   "source": [
    "for e in [1, 2, 3, \"hello\", 5, None, 6, True, 7, False, None, None, \"yo\"]:\n",
    "    print(e == True)"
   ]
  },
  {
   "cell_type": "markdown",
   "metadata": {},
   "source": [
    "Notice that only `1` and `True` are true statements, all others, including `None` are evaluated as false.\n",
    "\n",
    "### `==` vs `is`\n",
    "Although the detail for ths distinction is out of scope for this lecture, when comparing values to `None`, you should use the `is` statement, rather than `==`"
   ]
  },
  {
   "cell_type": "code",
   "execution_count": null,
   "metadata": {},
   "outputs": [],
   "source": [
    "x = None"
   ]
  },
  {
   "cell_type": "code",
   "execution_count": null,
   "metadata": {},
   "outputs": [],
   "source": [
    "x == None"
   ]
  },
  {
   "cell_type": "code",
   "execution_count": null,
   "metadata": {},
   "outputs": [],
   "source": [
    "x is None"
   ]
  },
  {
   "cell_type": "code",
   "execution_count": null,
   "metadata": {},
   "outputs": [],
   "source": []
  }
 ],
 "metadata": {
  "kernelspec": {
   "display_name": "Python 3 (ipykernel)",
   "language": "python",
   "name": "python3"
  },
  "language_info": {
   "codemirror_mode": {
    "name": "ipython",
    "version": 3
   },
   "file_extension": ".py",
   "mimetype": "text/x-python",
   "name": "python",
   "nbconvert_exporter": "python",
   "pygments_lexer": "ipython3",
   "version": "3.11.5"
  }
 },
 "nbformat": 4,
 "nbformat_minor": 4
}
