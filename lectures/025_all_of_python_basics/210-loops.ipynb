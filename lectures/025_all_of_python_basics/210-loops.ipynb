{
 "cells": [
  {
   "cell_type": "code",
   "execution_count": null,
   "metadata": {},
   "outputs": [],
   "source": [
    "%reload_ext postcell\n",
    "%postcell register"
   ]
  },
  {
   "cell_type": "markdown",
   "metadata": {},
   "source": [
    "# Loops\n",
    "\n",
    "We have seen loops in almost every lecture. These notes will dig a bit deeper into `for` loops and introduce the `while` loop. We will also learn to appreciate the `range` and `enumerate` functions\n",
    "\n",
    "### `range`\n",
    "Let's start with a simple loop"
   ]
  },
  {
   "cell_type": "code",
   "execution_count": null,
   "metadata": {},
   "outputs": [],
   "source": [
    "#Loop over 10 values\n",
    "\n",
    "for val in range(10): print(val)"
   ]
  },
  {
   "cell_type": "code",
   "execution_count": null,
   "metadata": {},
   "outputs": [],
   "source": [
    "# loop over values between 4 and 14\n",
    "for val in range(4,14): print(val)"
   ]
  },
  {
   "cell_type": "code",
   "execution_count": null,
   "metadata": {},
   "outputs": [],
   "source": [
    "# loop over values between 4 and 14, but _stepping_ over every other value\n",
    "for val in range(4,14, 2): print(val)"
   ]
  },
  {
   "cell_type": "code",
   "execution_count": null,
   "metadata": {},
   "outputs": [],
   "source": [
    "# We don't really need the loop\n",
    "list(range(4,14,2))"
   ]
  },
  {
   "cell_type": "markdown",
   "metadata": {},
   "source": [
    "**Exercise** Loop over every 5th value between 5 and 100 (without using `range`'s step parameter"
   ]
  },
  {
   "cell_type": "code",
   "execution_count": null,
   "metadata": {},
   "outputs": [],
   "source": [
    "%%postcell exercise_025_210_a\n",
    "\n",
    "#type your answer here"
   ]
  },
  {
   "cell_type": "markdown",
   "metadata": {},
   "source": [
    "### `enumerate`\n",
    "\n",
    "Often you need to know the number of the iteration in a loop. For simplified example, print the item from the list below, along with its position in the list:"
   ]
  },
  {
   "cell_type": "code",
   "execution_count": null,
   "metadata": {},
   "outputs": [],
   "source": [
    "names = [\"Homer\", \"Marge\", \"Bart\", \"Lisa\", \"Maggie\", \"Mr. Burns\", \"Mr. Smithers\", \"Chief Wigums\", \"Barney\"]\n",
    "\n",
    "counter = -1\n",
    "for name in names:\n",
    "    counter += 1\n",
    "    print(counter, name)"
   ]
  },
  {
   "cell_type": "code",
   "execution_count": null,
   "metadata": {},
   "outputs": [],
   "source": [
    "# Here is a better way\n",
    "for counter, name in enumerate(names): print(counter, name)"
   ]
  },
  {
   "cell_type": "markdown",
   "metadata": {},
   "source": [
    "**Exercise** Use enumerate to skip the first name, but print the rest (for this exercise, don't use array slicing)"
   ]
  },
  {
   "cell_type": "code",
   "execution_count": null,
   "metadata": {},
   "outputs": [],
   "source": [
    "%%postcell exercise_025_210_b\n",
    "\n",
    "#type your answer here"
   ]
  },
  {
   "cell_type": "markdown",
   "metadata": {},
   "source": [
    "### Controlling loop iteration\n",
    "\n",
    "Python, and most other languages, provide special ways of breaking out of a loop early and skipping an iteration\n",
    "\n",
    "#### `break`\n",
    "While the loop is running, if you wish to stop any further iteration, use `break`"
   ]
  },
  {
   "cell_type": "code",
   "execution_count": null,
   "metadata": {},
   "outputs": [],
   "source": [
    "# Does \"Maggie\" exist in the list _names_?\n",
    "for name in names:\n",
    "    print(name)\n",
    "    if name == \"Maggie\": \n",
    "        print(\"    Found her!\")\n",
    "        break # no need to continue the loop any longer"
   ]
  },
  {
   "cell_type": "markdown",
   "metadata": {},
   "source": [
    "Assume you have forgotten high school algebra. When asked to find the solution to `250 = 5 * x`, you resort to searching for each value of `x`"
   ]
  },
  {
   "cell_type": "code",
   "execution_count": null,
   "metadata": {},
   "outputs": [],
   "source": [
    "for guess in range(250):\n",
    "    if 5 * guess == 250:\n",
    "        print(\"x = \", guess)\n",
    "        break"
   ]
  },
  {
   "cell_type": "markdown",
   "metadata": {},
   "source": [
    "**Exercise** Earlier today, you spent \\\\$20 on lunch. You bought a coke and a sandwich. Either of the item could have been between \\\\$1 and \\\\$19 dollars. Print all the ways your lunch could have added up to \\\\$20 (hint: use a nested loop to go through prices for each item, add up their values and print them when total equals \\\\$20)"
   ]
  },
  {
   "cell_type": "code",
   "execution_count": null,
   "metadata": {},
   "outputs": [],
   "source": [
    "%%postcell exercise_025_210_c\n",
    "\n",
    "#type your answer here"
   ]
  },
  {
   "cell_type": "markdown",
   "metadata": {},
   "source": [
    "**Exercise** Just show the first set of values which add up to 20 (using `break`)"
   ]
  },
  {
   "cell_type": "code",
   "execution_count": null,
   "metadata": {},
   "outputs": [],
   "source": [
    "%%postcell exercise_025_210_d\n",
    "\n",
    "#type your answer here"
   ]
  },
  {
   "cell_type": "markdown",
   "metadata": {},
   "source": [
    "### `continue`\n",
    "While break stops running the loop, `continue` skips remaining code in the loop and continues on to the next iteration.\n",
    "\n",
    "For example, find all Simpsons characters, in the list above, which contain more than a single name. Split the parts of the name and remove the title and print the name (so Mr. Smithers just becomes Smithers):"
   ]
  },
  {
   "cell_type": "code",
   "execution_count": null,
   "metadata": {},
   "outputs": [],
   "source": [
    "for name in names:\n",
    "    tokens = name.split(\" \")\n",
    "    if len(tokens) ==1:\n",
    "        continue # there is only one name, just continue to the next name\n",
    "    \n",
    "    # ... possibly much more complicated logic if this was a real-world problem ...\n",
    "    print(tokens[1]) # if you tried to get value at index 0, if there was only one token, this would have caused an error"
   ]
  },
  {
   "cell_type": "markdown",
   "metadata": {},
   "source": [
    "Notice that you could have just used an `else` clause to split the logic between the case when there is only one token and the case when there are multiple tokens. Often `continue` and `else` play similar roles in controlling loop execution. The `continue` keyword often makes sense when there is a large chunk of logic which needs to be executed after an initial check of some value. In this scenario, putting much of the logic of your loop inside an else statement is considered bad practice."
   ]
  },
  {
   "cell_type": "markdown",
   "metadata": {},
   "source": [
    "## `while` loop\n",
    "\n",
    "`for` loop iterates over values or runs a specific number of times (using the `range` function). The `while` loop runs all long as some value is `True`. "
   ]
  },
  {
   "cell_type": "code",
   "execution_count": null,
   "metadata": {},
   "outputs": [],
   "source": [
    "counter = 0\n",
    "while counter < 5:\n",
    "    counter += 1\n",
    "    print(counter)"
   ]
  },
  {
   "cell_type": "markdown",
   "metadata": {},
   "source": [
    "Loops which depend on a condition are used very often in software enginering. For example, a server (web server, chat server, etc.) needs to run until someone explicitely stops it (basically it needs to run forever). In code, this is what needs to happen\n",
    "\n",
    "\n",
    "```python\n",
    "while(True):\n",
    "    # answer requests for a web page from a user's web browser\n",
    "    # ...\n",
    "    # ...\n",
    "\n",
    "```\n",
    "\n",
    "The above code is not executable because that loop will never end, unless you kill the kernel (in the menu _Kernel_ -> _Interrupt_ )\n",
    "\n",
    "The `input` function will read _your_ input and pass it to a variable. We can use `input` to test a while loop:"
   ]
  },
  {
   "cell_type": "code",
   "execution_count": null,
   "metadata": {
    "tags": []
   },
   "outputs": [],
   "source": [
    "x = 0\n",
    "while x != 4:\n",
    "    print(\"Guess a number between 0 and 10\")\n",
    "    x = int(input()) # if you don't pick 4, this loop will execute forever!\n",
    "    "
   ]
  },
  {
   "cell_type": "code",
   "execution_count": null,
   "metadata": {
    "tags": []
   },
   "outputs": [],
   "source": [
    "1+1"
   ]
  },
  {
   "cell_type": "markdown",
   "metadata": {},
   "source": [
    "**Exercise** Modify the program in the previous cell to only allow 3 guesses, after which, the loop ends (hint `break`)"
   ]
  },
  {
   "cell_type": "code",
   "execution_count": null,
   "metadata": {},
   "outputs": [],
   "source": [
    "%%postcell exercise_025_210_e\n",
    "\n",
    "#type your answer here"
   ]
  },
  {
   "cell_type": "code",
   "execution_count": null,
   "metadata": {},
   "outputs": [],
   "source": []
  }
 ],
 "metadata": {
  "celltoolbar": "Visualize",
  "kernelspec": {
   "display_name": "Python 3 (ipykernel)",
   "language": "python",
   "name": "python3"
  },
  "language_info": {
   "codemirror_mode": {
    "name": "ipython",
    "version": 3
   },
   "file_extension": ".py",
   "mimetype": "text/x-python",
   "name": "python",
   "nbconvert_exporter": "python",
   "pygments_lexer": "ipython3",
   "version": "3.11.5"
  }
 },
 "nbformat": 4,
 "nbformat_minor": 4
}
