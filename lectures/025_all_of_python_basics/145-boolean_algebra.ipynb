{
 "cells": [
  {
   "cell_type": "markdown",
   "metadata": {},
   "source": [
    "# Boolean algebra"
   ]
  },
  {
   "cell_type": "code",
   "execution_count": null,
   "metadata": {},
   "outputs": [],
   "source": [
    "%reload_ext postcell\n",
    "%postcell register"
   ]
  },
  {
   "cell_type": "code",
   "execution_count": null,
   "metadata": {
    "tags": []
   },
   "outputs": [],
   "source": [
    "import pandas as pd\n",
    "from sklearn import datasets"
   ]
  },
  {
   "cell_type": "markdown",
   "metadata": {
    "tags": []
   },
   "source": [
    "Please also see notebook \"basic conditionals and None\""
   ]
  },
  {
   "cell_type": "markdown",
   "metadata": {},
   "source": [
    "### Booleans algebra"
   ]
  },
  {
   "cell_type": "markdown",
   "metadata": {},
   "source": [
    "Python provides a data type, called boolean or `bool` to represent `True` and `False` values. \n",
    "\n",
    "Data types such as `int`, `float` and `str` can represent an infinite set of values. However, `bool` and only take on two values: `True` and `False`.\n",
    "\n",
    "Just as numbers come with operations such as `+`, `-`, `*`, etc. and strings have built-in functions such as `startswith` and `capitalize`, booleans come with their won operations: `and`, `or` and `not`.\n",
    "\n",
    "Variables can be assigned booean values similar to any other data type:"
   ]
  },
  {
   "cell_type": "code",
   "execution_count": null,
   "metadata": {},
   "outputs": [],
   "source": [
    "homer_is_a_dad = True\n",
    "marge_is_a_mom = True\n",
    "\n",
    "marge_is_a_dad = False\n",
    "homer_is_a_mom = False"
   ]
  },
  {
   "cell_type": "markdown",
   "metadata": {},
   "source": [
    "More practically, booleans show up in comparisons and constraints. For example:"
   ]
  },
  {
   "cell_type": "code",
   "execution_count": null,
   "metadata": {
    "tags": []
   },
   "outputs": [],
   "source": [
    "# Grade thresholds in a grading system\n",
    "grade_A = 3.5\n",
    "grade_B = 3.0\n",
    "grade_C = 2.5\n",
    "grade_D = 2.0\n",
    "\n",
    "# Input from grader for Lisa Simpson\n",
    "student_grade = 3.75\n",
    "\n",
    "if student_grade >= 3.5: print(\"Student receives grade A\")\n",
    "elif student_grade >=3.0: print(\"Student receives grade B\")\n",
    "elif student_grade >=2.5: print(\"Student receives grade C\")\n",
    "else: print(\"Student fails\")"
   ]
  },
  {
   "cell_type": "markdown",
   "metadata": {},
   "source": [
    "For data scientists and analysts, an even more common reason to use booleans is in data queries (sql or Pandas based)."
   ]
  },
  {
   "cell_type": "code",
   "execution_count": null,
   "metadata": {
    "tags": []
   },
   "outputs": [],
   "source": [
    "data_file_location = \"../../datasets/life-expectancy/life-expectancy-who.zip2\"\n",
    "\n",
    "who_df = pd.read_csv(data_file_location, compression='zip')\n",
    "who_df.head()"
   ]
  },
  {
   "cell_type": "code",
   "execution_count": null,
   "metadata": {
    "tags": []
   },
   "outputs": [],
   "source": [
    "who_df[who_df.Year > 2014]"
   ]
  },
  {
   "cell_type": "markdown",
   "metadata": {},
   "source": [
    "Boolean _expressions_ can be combined using operators `and`, `or` and `not` (`&`, `|` and `!` in Pandas). "
   ]
  },
  {
   "cell_type": "markdown",
   "metadata": {},
   "source": [
    "### `and` / `&`\n",
    "Boolean expression can be combined usind the `and` operator. In technical terms, this is called a _conjunction_. In set theoretic or relational algebra terms, `and` is the same as an intersection."
   ]
  },
  {
   "cell_type": "code",
   "execution_count": null,
   "metadata": {},
   "outputs": [],
   "source": [
    "homer_is_a_dad and marge_is_a_mom"
   ]
  },
  {
   "cell_type": "code",
   "execution_count": null,
   "metadata": {},
   "outputs": [],
   "source": [
    "homer_is_a_dad and marge_is_a_dad"
   ]
  },
  {
   "cell_type": "markdown",
   "metadata": {},
   "source": [
    "While core Python uses `and` conjunction between individual variables, unfortunately, for Pandas queries, we have to use the `&` operator (also note that Pandas expressions need to be wrapped in parenthesis)"
   ]
  },
  {
   "cell_type": "code",
   "execution_count": null,
   "metadata": {
    "tags": []
   },
   "outputs": [],
   "source": [
    "who_df[(who_df.Year == 2015) & (who_df.Status != 'Developing') & (who_df['Life expectancy '] < 80)]"
   ]
  },
  {
   "cell_type": "markdown",
   "metadata": {},
   "source": [
    "**Remember** In order for a boolean expression to be true, **all 'and'** sub-expression must be true"
   ]
  },
  {
   "cell_type": "code",
   "execution_count": null,
   "metadata": {},
   "outputs": [],
   "source": [
    "True and True and True and True and True and False"
   ]
  },
  {
   "cell_type": "code",
   "execution_count": null,
   "metadata": {
    "tags": []
   },
   "outputs": [],
   "source": [
    "who_df[(who_df.Year == 2015) & (who_df.Status != 'Developing') & (who_df['Life expectancy '] < 80) & (who_df['infant deaths'] > 30)]"
   ]
  },
  {
   "cell_type": "markdown",
   "metadata": {},
   "source": [
    "### `or` / `|`\n",
    "Boolean expressions can be combined using the `or` operator. In technical terms, this is called a _disjunction_. In set theoretic or relational algebra terms, `or` is the same as a union."
   ]
  },
  {
   "cell_type": "code",
   "execution_count": null,
   "metadata": {},
   "outputs": [],
   "source": [
    "homer_is_a_dad or marge_is_a_dad"
   ]
  },
  {
   "cell_type": "markdown",
   "metadata": {},
   "source": [
    "The Pandas counterpart to `or` is `|`"
   ]
  },
  {
   "cell_type": "code",
   "execution_count": null,
   "metadata": {
    "tags": []
   },
   "outputs": [],
   "source": [
    "who_df[(who_df.Year == 2015) | (who_df.Year == 2014) ]"
   ]
  },
  {
   "cell_type": "markdown",
   "metadata": {},
   "source": [
    "**Remember** In order for a boolean expression to be true, **any 'or'** sub-expression must be true"
   ]
  },
  {
   "cell_type": "code",
   "execution_count": null,
   "metadata": {},
   "outputs": [],
   "source": [
    "True or False or False or False"
   ]
  },
  {
   "cell_type": "code",
   "execution_count": null,
   "metadata": {
    "tags": []
   },
   "outputs": [],
   "source": [
    "who_df[(who_df.Year == 2015) | (who_df.Year == 2014)  | (who_df.Year == 1776) ]"
   ]
  },
  {
   "cell_type": "markdown",
   "metadata": {},
   "source": [
    "**What is the deal with `|` and `&`?**"
   ]
  },
  {
   "cell_type": "markdown",
   "metadata": {},
   "source": [
    "Having to switch to these single characters instead of the elegant `and`/`or` is indeed annoying. Unlike `and`/`or`, third party libraries, like Pandas, take assign their own logic to `|`/`&`. Also recall that you actually have used these operators before. Remember `sets`?"
   ]
  },
  {
   "cell_type": "code",
   "execution_count": null,
   "metadata": {
    "tags": []
   },
   "outputs": [],
   "source": [
    "simpsons   = set(['homer', 'marge', 'bart', 'lisa', 'maggie', 'barney', 'mr. burns'])\n",
    "flinstones = set(['fred', 'wilma', 'pebbles', 'barney', 'betty'])"
   ]
  },
  {
   "cell_type": "code",
   "execution_count": null,
   "metadata": {
    "tags": []
   },
   "outputs": [],
   "source": [
    "simpsons & flinstones # <== Intersection! (aka simpsons.intersection(flinstones)"
   ]
  },
  {
   "cell_type": "code",
   "execution_count": null,
   "metadata": {
    "tags": []
   },
   "outputs": [],
   "source": [
    "simpsons | flinstones # <= Union (aka simpsons.union(flinstones)"
   ]
  },
  {
   "cell_type": "code",
   "execution_count": null,
   "metadata": {
    "tags": []
   },
   "outputs": [],
   "source": []
  },
  {
   "cell_type": "markdown",
   "metadata": {},
   "source": [
    "### `not` / `!` (and even `~`)"
   ]
  },
  {
   "cell_type": "markdown",
   "metadata": {},
   "source": [
    "Any boolean expression can be negated (converted to the opposite), by adding a `not`"
   ]
  },
  {
   "cell_type": "code",
   "execution_count": null,
   "metadata": {},
   "outputs": [],
   "source": [
    "not True"
   ]
  },
  {
   "cell_type": "code",
   "execution_count": null,
   "metadata": {},
   "outputs": [],
   "source": [
    "not False"
   ]
  },
  {
   "cell_type": "code",
   "execution_count": null,
   "metadata": {},
   "outputs": [],
   "source": [
    "True and True and True and True and True and False"
   ]
  },
  {
   "cell_type": "code",
   "execution_count": null,
   "metadata": {},
   "outputs": [],
   "source": [
    "not (True and True and True and True and True and False)"
   ]
  },
  {
   "cell_type": "code",
   "execution_count": null,
   "metadata": {
    "tags": []
   },
   "outputs": [],
   "source": [
    "who_df[who_df.Year == 2015].head()"
   ]
  },
  {
   "cell_type": "code",
   "execution_count": null,
   "metadata": {
    "tags": []
   },
   "outputs": [],
   "source": [
    "who_df[who_df.Year != 2015].head()"
   ]
  },
  {
   "cell_type": "markdown",
   "metadata": {},
   "source": [
    "You can negate the whole expression ... we will see more about this later"
   ]
  },
  {
   "cell_type": "code",
   "execution_count": null,
   "metadata": {
    "tags": []
   },
   "outputs": [],
   "source": [
    "who_df[~(who_df.Year == 2015)].head()"
   ]
  },
  {
   "cell_type": "markdown",
   "metadata": {
    "tags": []
   },
   "source": [
    "**Exercise** Show me all countries which are neither developing nor have infant deaths below 60"
   ]
  },
  {
   "cell_type": "code",
   "execution_count": null,
   "metadata": {
    "tags": []
   },
   "outputs": [],
   "source": [
    "%%postcell exercise_025_145_a\n",
    "\n",
    "#Type code here"
   ]
  },
  {
   "cell_type": "code",
   "execution_count": null,
   "metadata": {
    "tags": []
   },
   "outputs": [],
   "source": [
    "who_df[~((who_df.Status == 'Developing') | (who_df['infant deaths'] < 60))]"
   ]
  },
  {
   "cell_type": "markdown",
   "metadata": {},
   "source": [
    "**Be careful when combining ands/ors**"
   ]
  },
  {
   "cell_type": "markdown",
   "metadata": {},
   "source": [
    "**Example**\n",
    "Say you are a teacher and you need to give grades to students. A student can only pass if they have:\n",
    "**exam grade of above 85% and either assignment grade of above 75% or have missed fewer than 3 classes**"
   ]
  },
  {
   "cell_type": "code",
   "execution_count": null,
   "metadata": {
    "tags": []
   },
   "outputs": [],
   "source": [
    "students_df = pd.DataFrame({'name':['skipper', 'bobby', 'tommy', 'sally', 'jacky', 'jenny', 'flunky'],  'exam':[83, 79, 68, 60, 54, 92, 0], 'assignments':[67, 89, 93, 74, 23, 76, 0],  'absences':[9, 6, 0, 2, 1, 5, 0], })\n",
    "students_df"
   ]
  },
  {
   "cell_type": "markdown",
   "metadata": {},
   "source": [
    "**exam grade of above 85% and either assignment grade of above 75% or have missed fewer than 3 classes**"
   ]
  },
  {
   "cell_type": "code",
   "execution_count": null,
   "metadata": {
    "tags": []
   },
   "outputs": [],
   "source": [
    "students_df[(students_df.assignments > 75) | (students_df.absences < 3) & (students_df.exam > 85)]"
   ]
  },
  {
   "cell_type": "code",
   "execution_count": null,
   "metadata": {
    "tags": []
   },
   "outputs": [],
   "source": [
    "# Incorrectly parenthesized\n",
    "#students_df[(students_df.assignments > 75) |  ( (students_df.absences < 3) & (students_df.exam > 85) ) ] <= And clauses have higher priority than or clauses"
   ]
  },
  {
   "cell_type": "code",
   "execution_count": null,
   "metadata": {},
   "outputs": [],
   "source": []
  },
  {
   "cell_type": "markdown",
   "metadata": {},
   "source": [
    "**exam grade of above 85% &nbsp; &nbsp; &nbsp; &nbsp; and &nbsp; &nbsp; &nbsp; &nbsp; &nbsp; &nbsp; either assignment grade of above 75% or have missed fewer than 3 classes**"
   ]
  },
  {
   "cell_type": "markdown",
   "metadata": {},
   "source": [
    "            \\/                                                       \\/ Notice the parenthesis"
   ]
  },
  {
   "cell_type": "code",
   "execution_count": null,
   "metadata": {
    "tags": []
   },
   "outputs": [],
   "source": [
    "students_df[ ( (students_df.assignments > 75) | (students_df.absences < 3) ) & (students_df.exam > 85)]"
   ]
  },
  {
   "cell_type": "code",
   "execution_count": null,
   "metadata": {
    "tags": []
   },
   "outputs": [],
   "source": [
    "True or False and False, (True or False) and False"
   ]
  },
  {
   "cell_type": "markdown",
   "metadata": {},
   "source": [
    "**important**: `and` clauses have higher priority than `or` clauses, `x or y and z` is the same as `x or (y and z)`"
   ]
  },
  {
   "cell_type": "markdown",
   "metadata": {},
   "source": [
    "**Exercise** Show all data points from 2015 where either the country was developing or had infant deaths below 60"
   ]
  },
  {
   "cell_type": "code",
   "execution_count": null,
   "metadata": {},
   "outputs": [],
   "source": [
    "%%postcell exercise_025_145_b\n",
    "\n",
    "#Type code here"
   ]
  },
  {
   "cell_type": "markdown",
   "metadata": {},
   "source": [
    "### Truth tables\n",
    "Boolean algebra is often described in terms of a \"truth table,\" as listed below:\n",
    "\n",
    "Here is the full **truth table**:\n",
    "\n",
    "|Statement A | Statement B| A and B | A or B|\n",
    "| ---        | ---        | ---     | ---   |\n",
    "| True       | True       | True    | True  |\n",
    "| True       | False      | False   | True  |\n",
    "| False      | True       | False   | True  |\n",
    "| False      | False      | False   | False |"
   ]
  },
  {
   "cell_type": "markdown",
   "metadata": {},
   "source": [
    "### Negating comparison operators"
   ]
  },
  {
   "cell_type": "code",
   "execution_count": null,
   "metadata": {
    "tags": []
   },
   "outputs": [],
   "source": [
    "who_df[who_df.Year > 2013].head()"
   ]
  },
  {
   "cell_type": "code",
   "execution_count": null,
   "metadata": {
    "tags": []
   },
   "outputs": [],
   "source": [
    "who_df[ ~ (who_df.Year <= 2013) ].head()"
   ]
  },
  {
   "cell_type": "markdown",
   "metadata": {
    "tags": []
   },
   "source": [
    "**Negating a comparison operator does NOT simply change to opposite sign, you have to account for the 'equal to' part**"
   ]
  },
  {
   "cell_type": "markdown",
   "metadata": {},
   "source": [
    "Notice, in boolean algebra notation, this is: \n",
    "```\n",
    "ORIGINAL:     (Year  GREATER THAN 2013) \n",
    "NEGATED : NOT (Year  LESS THAN OR EQUAL TO 2013)\n",
    "```"
   ]
  },
  {
   "cell_type": "markdown",
   "metadata": {},
   "source": [
    "            <-------------------------------------------------------------->\n",
    "            <------------------------------------[*************************>\n",
    "            <*************************************]------------------------>\n",
    "                                                 ^--- This is where most people make mistakes"
   ]
  },
  {
   "cell_type": "markdown",
   "metadata": {},
   "source": [
    "**Consequence** Breaking up continuous values requires care!"
   ]
  },
  {
   "cell_type": "markdown",
   "metadata": {
    "tags": []
   },
   "source": [
    "**Exercise** Fix the bug in the following program:"
   ]
  },
  {
   "cell_type": "code",
   "execution_count": null,
   "metadata": {
    "tags": []
   },
   "outputs": [],
   "source": [
    "def get_letter_grade(gpa):\n",
    "    if gpa > 3.5: return 'A'\n",
    "    elif gpa < 3.5 and gpa > 3.0: return 'B'\n",
    "    elif gpa <3.0 and gpa > 2.5: return 'C'\n",
    "    else: return 'D'\n",
    "\n",
    "get_letter_grade(3.5)"
   ]
  },
  {
   "cell_type": "code",
   "execution_count": null,
   "metadata": {},
   "outputs": [],
   "source": [
    "%%postcell exercise_025_145_c\n",
    "\n",
    "#Retype code here and fix the bug"
   ]
  },
  {
   "cell_type": "markdown",
   "metadata": {},
   "source": [
    "### Demorgan's laws\n",
    "\n",
    "Deomrgan's laws are often used to simplify a complex set of boolean expressions. Here is wikipedia's definition:\n",
    "\n",
    "The negation of a disjunction is the conjunction of the negations; and\n",
    "The negation of a conjunction is the disjunction of the negations;\n",
    "or\n",
    "\n",
    "the complement of the union of two sets is the same as the intersection of their complements; and\n",
    "the complement of the intersection of two sets is the same as the union of their complements.\n",
    "or\n",
    "\n",
    "not (A or B) = not A and not B; and\n",
    "\n",
    "not (A and B) = not A or not B\n",
    "\n",
    "In set theory and Boolean algebra, these are written formally as\n",
    "\n",
    "\\begin{aligned}{\\overline {A\\cup B}}&={\\overline {A}}\\cap {\\overline {B}},\\\\{\\overline {A\\cap B}}&={\\overline {A}}\\cup {\\overline {B}},\\end{aligned}\n",
    "\n",
    "\\begin{aligned}{\\overline {A\\cup B}}&={\\overline {A}}\\cap {\\overline {B}},\\\\{\\overline {A\\cap B}}&={\\overline {A}}\\cup {\\overline {B}},\\end{aligned}\n",
    "where\n",
    "\n",
    "A and B are sets,\n",
    "A is the complement of A,\n",
    "∩ is the intersection, and\n",
    "∪ is the union."
   ]
  },
  {
   "cell_type": "markdown",
   "metadata": {},
   "source": [
    "Earlier we saw these two examples:"
   ]
  },
  {
   "cell_type": "code",
   "execution_count": null,
   "metadata": {},
   "outputs": [],
   "source": [
    "who_df[who_df.Year != 2015].head()"
   ]
  },
  {
   "cell_type": "code",
   "execution_count": null,
   "metadata": {
    "tags": []
   },
   "outputs": [],
   "source": [
    "who_df[~(who_df.Year == 2015)].head()"
   ]
  },
  {
   "cell_type": "markdown",
   "metadata": {
    "tags": []
   },
   "source": [
    "Notice, in boolean algebra notation, this is: \n",
    "```\n",
    "ORIGINAL:     (Year IS NOT 2015) \n",
    "NEGATED : NOT (Year IS 2015)\n",
    "```"
   ]
  },
  {
   "cell_type": "markdown",
   "metadata": {},
   "source": [
    "Sometimes the results of Demorgan's laws are not inutitive"
   ]
  },
  {
   "cell_type": "code",
   "execution_count": null,
   "metadata": {
    "tags": []
   },
   "outputs": [],
   "source": [
    "tmp_df = who_df[(who_df.Year != 2015) & (who_df.Status != 'Developing')]\n",
    "tmp_df.head()"
   ]
  },
  {
   "cell_type": "code",
   "execution_count": null,
   "metadata": {
    "tags": []
   },
   "outputs": [],
   "source": [
    "tmp_df.GDP.sum()"
   ]
  },
  {
   "cell_type": "code",
   "execution_count": null,
   "metadata": {
    "tags": []
   },
   "outputs": [],
   "source": [
    "tmp_df = who_df[ ~ ( (who_df.Year == 2015) | (who_df.Status == 'Developing') ) ]\n",
    "tmp_df.head()"
   ]
  },
  {
   "cell_type": "code",
   "execution_count": null,
   "metadata": {
    "tags": []
   },
   "outputs": [],
   "source": [
    "tmp_df.GDP.sum()"
   ]
  },
  {
   "cell_type": "markdown",
   "metadata": {},
   "source": [
    "Notice, in boolean algebra notation, this is: \n",
    "```\n",
    "ORIGINAL:     (Year IS NOT 2015) AND (Status IS NOT Developing)\n",
    "NEGATED : NOT (Year IS 2015) OR (Status IS  Developing)\n",
    "```"
   ]
  },
  {
   "cell_type": "markdown",
   "metadata": {},
   "source": [
    "**How to think of it:** ORIGINAL corresponds to \"include these results\" and NEGATED corresponds to \"filter these results\""
   ]
  },
  {
   "cell_type": "markdown",
   "metadata": {},
   "source": [
    "Combine negation of comparson operators and demorgan's laws"
   ]
  },
  {
   "cell_type": "code",
   "execution_count": null,
   "metadata": {
    "tags": []
   },
   "outputs": [],
   "source": [
    "tmp_df = who_df[(who_df.Year > 2013) & (who_df.Status != 'Developing')]\n",
    "tmp_df.head()"
   ]
  },
  {
   "cell_type": "code",
   "execution_count": null,
   "metadata": {
    "tags": []
   },
   "outputs": [],
   "source": [
    "tmp_df.GDP.sum()"
   ]
  },
  {
   "cell_type": "code",
   "execution_count": null,
   "metadata": {
    "tags": []
   },
   "outputs": [],
   "source": [
    "tmp_df = who_df[ ~ ( (who_df.Year <= 2013) | (who_df.Status == 'Developing') ) ]\n",
    "tmp_df.head()"
   ]
  },
  {
   "cell_type": "code",
   "execution_count": null,
   "metadata": {
    "tags": []
   },
   "outputs": [],
   "source": [
    "tmp_df.GDP.sum()"
   ]
  },
  {
   "cell_type": "markdown",
   "metadata": {},
   "source": [
    "**Exercise** Use De Morgan's law the simplify this"
   ]
  },
  {
   "cell_type": "code",
   "execution_count": null,
   "metadata": {
    "tags": []
   },
   "outputs": [],
   "source": [
    "# Include countries which are not developing and which do not have infant deaths of zero\n",
    "tmp_df = who_df[(who_df.Status != \"Developing\") & (who_df['infant deaths'] != 0)]\n",
    "tmp_df"
   ]
  },
  {
   "cell_type": "code",
   "execution_count": null,
   "metadata": {
    "tags": []
   },
   "outputs": [],
   "source": [
    "tmp_df.Polio.sum()"
   ]
  },
  {
   "cell_type": "code",
   "execution_count": null,
   "metadata": {
    "tags": []
   },
   "outputs": [],
   "source": [
    "%%postcell exercise_025_145_d\n",
    "\n",
    "#Retype code here and fix the bug\n",
    "\n",
    "# FILTER countries which are ???\n",
    "who_df[???].Polio.sum()"
   ]
  },
  {
   "cell_type": "code",
   "execution_count": null,
   "metadata": {},
   "outputs": [],
   "source": []
  },
  {
   "cell_type": "markdown",
   "metadata": {},
   "source": [
    "### Boolean algebra and probability <= We are data scientists, not computer scientists, right?"
   ]
  },
  {
   "cell_type": "markdown",
   "metadata": {},
   "source": [
    "See Jayne's \"Probability Theory: The Logic of Science\" for details: https://www.amazon.com/Probability-Theory-Science-T-Jaynes/dp/0521592712"
   ]
  },
  {
   "cell_type": "markdown",
   "metadata": {},
   "source": [
    "This topic is well outside the scope of this class, but may be of interest to some students. Boolean values of `True` and `False` are often represented as `1` and `0` is many programming languages, including Python. This also works from a probability perspective, since `True` can be thought of as the probability of absolute certainty that something will happen and `False` as the probability that an event will (almost certainly) not happen. This is where boolean algebra stops. Hoever, proability can handle statements of varying degrees of certinity. \n",
    "\n",
    "Probability has its own version of negation and Demogran's laws."
   ]
  },
  {
   "cell_type": "code",
   "execution_count": null,
   "metadata": {},
   "outputs": [],
   "source": []
  }
 ],
 "metadata": {
  "kernelspec": {
   "display_name": "Python 3 (ipykernel)",
   "language": "python",
   "name": "python3"
  },
  "language_info": {
   "codemirror_mode": {
    "name": "ipython",
    "version": 3
   },
   "file_extension": ".py",
   "mimetype": "text/x-python",
   "name": "python",
   "nbconvert_exporter": "python",
   "pygments_lexer": "ipython3",
   "version": "3.11.5"
  }
 },
 "nbformat": 4,
 "nbformat_minor": 4
}
