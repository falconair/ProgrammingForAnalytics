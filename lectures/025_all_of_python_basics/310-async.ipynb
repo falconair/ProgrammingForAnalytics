{
 "cells": [
  {
   "cell_type": "code",
   "execution_count": 15,
   "id": "4a3fcffc-7fb0-484c-aed2-c6d5f071680d",
   "metadata": {
    "tags": []
   },
   "outputs": [],
   "source": [
    "import asyncio\n",
    "\n",
    "import requests"
   ]
  },
  {
   "cell_type": "markdown",
   "id": "205fc8ae-d721-4961-9cb2-b47ac645651f",
   "metadata": {},
   "source": [
    "# Async Python"
   ]
  },
  {
   "cell_type": "markdown",
   "id": "3be8f6a3-e72d-4f44-bfc8-bb7128293d59",
   "metadata": {},
   "source": [
    "PSA: Text messages are supposed to be _asynchronous_!"
   ]
  },
  {
   "attachments": {
    "02fb3a09-0f71-410e-a665-50d021f046a0.png": {
     "image/png": "[encoded data removed]"
    }
   },
   "cell_type": "markdown",
   "id": "708b18cb-4b68-4f83-839a-69f799d5f3b1",
   "metadata": {},
   "source": [
    "![image.png](attachment:02fb3a09-0f71-410e-a665-50d021f046a0.png)"
   ]
  },
  {
   "cell_type": "markdown",
   "id": "bf8ae575-16ef-4c78-acc4-61a29ed7ae8a",
   "metadata": {},
   "source": [
    "### Let's read some urls from a  file retrieve those pages"
   ]
  },
  {
   "cell_type": "code",
   "execution_count": 16,
   "id": "9ae34dc0-7df1-4c19-9639-5984c8d219a7",
   "metadata": {
    "tags": []
   },
   "outputs": [],
   "source": [
    "urls = [\n",
    "    'https://en.wikipedia.org/wiki/Python_(programming_language)'\n",
    "    , 'https://en.wikipedia.org/wiki/Node.js'\n",
    "    , 'https://en.wikipedia.org/wiki/Java_(programming_language)'\n",
    "]"
   ]
  },
  {
   "cell_type": "code",
   "execution_count": 22,
   "id": "a2403d94-b0a9-49cb-b4d2-38c83197c4d1",
   "metadata": {
    "tags": []
   },
   "outputs": [
    {
     "name": "stdout",
     "output_type": "stream",
     "text": [
      "CPU times: total: 1.61 s\n",
      "Wall time: 2.53 s\n"
     ]
    },
    {
     "data": {
      "text/plain": [
       "1185763"
      ]
     },
     "execution_count": 22,
     "metadata": {},
     "output_type": "execute_result"
    }
   ],
   "source": [
    "%%time\n",
    "\n",
    "total = 0\n",
    "for url in urls:\n",
    "    # If there were more pages in this URL, accessing them without waiting would be UNETHICAL! You are using Wikipedia's resources here!\n",
    "    page = requests.get(url)\n",
    "    characters_in_page = len(page.content)\n",
    "    total += characters_in_page\n",
    "    \n",
    "total"
   ]
  },
  {
   "cell_type": "code",
   "execution_count": 23,
   "id": "d011b2f8-34d4-4ffb-8cc6-6504188977c5",
   "metadata": {
    "tags": []
   },
   "outputs": [
    {
     "ename": "SyntaxError",
     "evalue": "'await' outside function (<timed exec>, line 4)",
     "output_type": "error",
     "traceback": [
      "Traceback \u001b[1;36m(most recent call last)\u001b[0m:\n",
      "\u001b[0m  File \u001b[0;32m~\\anaconda3\\Lib\\site-packages\\IPython\\core\\interactiveshell.py:3526\u001b[0m in \u001b[0;35mrun_code\u001b[0m\n    exec(code_obj, self.user_global_ns, self.user_ns)\u001b[0m\n",
      "\u001b[0m  Cell \u001b[0;32mIn[23], line 1\u001b[0m\n    get_ipython().run_cell_magic('time', '', \"\\ntotal = 0\\nfor url in urls:\\n    # If there were more pages in this URL, accessing them without waiting would be UNETHICAL! You are using Wikipedia's resources here!\\n    page = await asyncio.to_thread(requests.get, url)\\n    characters_in_page = len(page.content)\\n    total += characters_in_page\\n    \\ntotal\\n\")\u001b[0m\n",
      "\u001b[0m  File \u001b[0;32m~\\anaconda3\\Lib\\site-packages\\IPython\\core\\interactiveshell.py:2493\u001b[0m in \u001b[0;35mrun_cell_magic\u001b[0m\n    result = fn(*args, **kwargs)\u001b[0m\n",
      "\u001b[0m  File \u001b[0;32m~\\anaconda3\\Lib\\site-packages\\IPython\\core\\magics\\execution.py:1321\u001b[0m in \u001b[0;35mtime\u001b[0m\n    code = self.shell.compile(expr_ast, source, mode)\u001b[0m\n",
      "\u001b[1;36m  File \u001b[1;32m~\\anaconda3\\Lib\\codeop.py:118\u001b[1;36m in \u001b[1;35m__call__\u001b[1;36m\n\u001b[1;33m    codeob = compile(source, filename, symbol, self.flags, True)\u001b[1;36m\n",
      "\u001b[1;36m  File \u001b[1;32m<timed exec>:4\u001b[1;36m\u001b[0m\n\u001b[1;31mSyntaxError\u001b[0m\u001b[1;31m:\u001b[0m 'await' outside function\n"
     ]
    }
   ],
   "source": [
    "%%time\n",
    "\n",
    "total = 0\n",
    "for url in urls:\n",
    "    # If there were more pages in this URL, accessing them without waiting would be UNETHICAL! You are using Wikipedia's resources here!\n",
    "    page = await asyncio.to_thread(requests.get, url)\n",
    "    characters_in_page = len(page.content)\n",
    "    total += characters_in_page\n",
    "    \n",
    "total"
   ]
  },
  {
   "cell_type": "code",
   "execution_count": null,
   "id": "67a74eb4-284b-408d-bca8-470af9ffd25a",
   "metadata": {},
   "outputs": [],
   "source": []
  },
  {
   "cell_type": "code",
   "execution_count": 9,
   "id": "3874cc82-5d9e-43b2-b035-14be58356ae0",
   "metadata": {
    "tags": []
   },
   "outputs": [],
   "source": [
    "def syncf(): return \"async\""
   ]
  },
  {
   "cell_type": "code",
   "execution_count": 10,
   "id": "6efd9b02-8cf7-418f-9985-55a1656b162c",
   "metadata": {
    "tags": []
   },
   "outputs": [],
   "source": [
    "async def asyncf(): return \"asyncf\""
   ]
  },
  {
   "cell_type": "code",
   "execution_count": 13,
   "id": "1d7e1e6d-cd87-4106-b730-4b940600df8e",
   "metadata": {
    "tags": []
   },
   "outputs": [
    {
     "data": {
      "text/plain": [
       "'async'"
      ]
     },
     "execution_count": 13,
     "metadata": {},
     "output_type": "execute_result"
    }
   ],
   "source": [
    "await asyncio.to_thread(syncf)"
   ]
  },
  {
   "cell_type": "code",
   "execution_count": 14,
   "id": "6a662d15-f0b7-45da-9f77-ab534250e1d6",
   "metadata": {
    "tags": []
   },
   "outputs": [
    {
     "ename": "TypeError",
     "evalue": "object str can't be used in 'await' expression",
     "output_type": "error",
     "traceback": [
      "\u001b[1;31m---------------------------------------------------------------------------\u001b[0m",
      "\u001b[1;31mTypeError\u001b[0m                                 Traceback (most recent call last)",
      "Cell \u001b[1;32mIn[14], line 1\u001b[0m\n\u001b[1;32m----> 1\u001b[0m \u001b[38;5;28;01mawait\u001b[39;00m syncf()\n",
      "\u001b[1;31mTypeError\u001b[0m: object str can't be used in 'await' expression"
     ]
    }
   ],
   "source": [
    "await syncf()"
   ]
  },
  {
   "cell_type": "code",
   "execution_count": null,
   "id": "1f9e5aff-2284-4ab2-abad-af14638867cf",
   "metadata": {},
   "outputs": [],
   "source": []
  }
 ],
 "metadata": {
  "kernelspec": {
   "display_name": "Python 3 (ipykernel)",
   "language": "python",
   "name": "python3"
  },
  "language_info": {
   "codemirror_mode": {
    "name": "ipython",
    "version": 3
   },
   "file_extension": ".py",
   "mimetype": "text/x-python",
   "name": "python",
   "nbconvert_exporter": "python",
   "pygments_lexer": "ipython3",
   "version": "3.11.5"
  }
 },
 "nbformat": 4,
 "nbformat_minor": 5
}
