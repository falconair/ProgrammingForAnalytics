{
 "cells": [
  {
   "cell_type": "markdown",
   "metadata": {},
   "source": [
    "# Plotting (with matplotlib.pyplot)\n",
    "\n",
    "As a data scientist, plotting is extremely import and part of your daily workflow. However, Python doesn't come with a built-in plotting library. We will be using `matplotlib`. Like many data science packages, it is maintained by a community of programmers who (mostly) work on it for free in their spare time.\n",
    "\n",
    "On the first day of class, we downloaded this package and installed it in our Python envrionment. If you need to do this again, here are two method:\n",
    "\n",
    "1. Open your computer's terminal window (_terminal_ in mac and _anaconda prompt_ in windows). Run this line `conda install matplotlib`\n",
    "2. Right here, in your jupyter notebook, create a new cell and run this command `!conda install --yes matplotlib`. Once this command runs successfully, you may have to restart the kernel.\n",
    "\n",
    "In order to use the plotting library, you need to import it (like we do with many other packages). However, you need to execute an additional line of code: `%matplotlib inline`, which tells matplotlib that it needs to render its visual charts in the present notebook. \n",
    "\n",
    "Note that `inline` is not the only optional available. While `inline` causes matplotlib to create a static image, there are other options, such as `notebook` which can provide a richer experience. To experiment with other renderers, get a full list via `%matplotlib --list`"
   ]
  },
  {
   "cell_type": "code",
   "execution_count": null,
   "metadata": {},
   "outputs": [],
   "source": [
    "import matplotlib.pyplot as plt"
   ]
  },
  {
   "cell_type": "code",
   "execution_count": null,
   "metadata": {},
   "outputs": [],
   "source": [
    "%matplotlib inline"
   ]
  },
  {
   "cell_type": "markdown",
   "metadata": {},
   "source": [
    "### Simple plot types"
   ]
  },
  {
   "cell_type": "code",
   "execution_count": null,
   "metadata": {},
   "outputs": [],
   "source": [
    "plt.plot([1, 2, 3, 4, 3, 2, 1, 4, 7, 10])"
   ]
  },
  {
   "cell_type": "markdown",
   "metadata": {},
   "source": [
    "You can remove the text `[<matplotlib.lines.Line2D at 0x1f320349550>]` by adding a semicolon at the end of the plot function (this is a bit of a hack, you don't need to do this elsewhere)"
   ]
  },
  {
   "cell_type": "code",
   "execution_count": null,
   "metadata": {},
   "outputs": [],
   "source": [
    "plt.plot([1, 2, 3, 4, 3, 2, 1, 4, 7, 10]);"
   ]
  },
  {
   "cell_type": "markdown",
   "metadata": {},
   "source": [
    "Any chart you create for others must be labeled corectly. Here is how you can add labels:"
   ]
  },
  {
   "cell_type": "code",
   "execution_count": null,
   "metadata": {},
   "outputs": [],
   "source": [
    "plt.plot([1, 2, 3, 4, 3, 2, 1, 4, 7, 10])\n",
    "plt.title(\"Test chart\")\n",
    "plt.xlabel('Value index')\n",
    "plt.ylabel('Value'); # notice only the last line has a semi-colon"
   ]
  },
  {
   "cell_type": "markdown",
   "metadata": {},
   "source": [
    "Matplotlib generally draws figures which are too small. You can change their size using figsize:"
   ]
  },
  {
   "cell_type": "code",
   "execution_count": null,
   "metadata": {},
   "outputs": [],
   "source": [
    "plt.figure(figsize=(10,5)) # This only needs to be execute once, and can be done at the top of the notebook\n",
    "\n",
    "plt.plot([1, 2, 3, 4, 3, 2, 1, 4, 7, 10])\n",
    "plt.title(\"Test chart\")\n",
    "plt.xlabel('Value index')\n",
    "plt.ylabel('Value'); "
   ]
  },
  {
   "cell_type": "markdown",
   "metadata": {},
   "source": [
    "The above charts visualize a single dimension of numbers. What if you had two dimensions, such as house prices and number of rooms"
   ]
  },
  {
   "cell_type": "code",
   "execution_count": null,
   "metadata": {},
   "outputs": [],
   "source": [
    "prices = [95, 150, 200, 200, 400]\n",
    "rooms  = [1, 2, 2, 1.5, 3]\n",
    "\n",
    "plt.plot(prices, rooms)\n",
    "plt.title(\"Test chart\")\n",
    "plt.xlabel('Hosue price')\n",
    "plt.ylabel('Num of rooms'); "
   ]
  },
  {
   "cell_type": "markdown",
   "metadata": {},
   "source": [
    "Such two dimensional data is better represented as a scatter chart:"
   ]
  },
  {
   "cell_type": "code",
   "execution_count": null,
   "metadata": {},
   "outputs": [],
   "source": [
    "prices = [95, 150, 200, 200, 400]\n",
    "rooms  = [1, 2, 2, 1.5, 3]\n",
    "\n",
    "plt.scatter(prices, rooms)\n",
    "plt.title(\"Test chart\")\n",
    "plt.xlabel('Hosue price')\n",
    "plt.ylabel('Num of rooms'); "
   ]
  },
  {
   "cell_type": "markdown",
   "metadata": {},
   "source": [
    "Same data with bar plot"
   ]
  },
  {
   "cell_type": "code",
   "execution_count": null,
   "metadata": {},
   "outputs": [],
   "source": [
    "prices = [95, 150, 200, 200, 400]\n",
    "rooms  = [1, 2, 2, 1.5, 3]\n",
    "\n",
    "plt.bar(prices, rooms, width=10)\n",
    "plt.title(\"Test chart\")\n",
    "plt.xlabel('Hosue price')\n",
    "plt.ylabel('Num of rooms'); "
   ]
  },
  {
   "cell_type": "code",
   "execution_count": null,
   "metadata": {},
   "outputs": [],
   "source": []
  },
  {
   "cell_type": "code",
   "execution_count": null,
   "metadata": {},
   "outputs": [],
   "source": [
    "prices = [95, 150, 200, 200, 400]\n",
    "rooms  = [1, 2, 2, 1.5, 3]\n",
    "\n",
    "plt.hist(prices)\n",
    "plt.title(\"Histogram of prices\")"
   ]
  },
  {
   "cell_type": "markdown",
   "metadata": {},
   "source": [
    "Reference:\n",
    "Some examples taken from the official tutorial at https://matplotlib.org/tutorials/introductory/pyplot.html"
   ]
  },
  {
   "cell_type": "markdown",
   "metadata": {},
   "source": [
    "**Exercise**\n",
    "Explain Python's built-in random library. Use charts such as these. "
   ]
  },
  {
   "cell_type": "code",
   "execution_count": null,
   "metadata": {},
   "outputs": [],
   "source": []
  }
 ],
 "metadata": {
  "kernelspec": {
   "display_name": "Python 3",
   "language": "python",
   "name": "python3"
  },
  "language_info": {
   "codemirror_mode": {
    "name": "ipython",
    "version": 3
   },
   "file_extension": ".py",
   "mimetype": "text/x-python",
   "name": "python",
   "nbconvert_exporter": "python",
   "pygments_lexer": "ipython3",
   "version": "3.8.5"
  }
 },
 "nbformat": 4,
 "nbformat_minor": 4
}
