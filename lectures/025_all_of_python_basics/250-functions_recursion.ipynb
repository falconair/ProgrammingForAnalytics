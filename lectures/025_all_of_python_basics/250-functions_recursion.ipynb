{
 "cells": [
  {
   "cell_type": "code",
   "execution_count": null,
   "metadata": {},
   "outputs": [],
   "source": [
    "%reload_ext postcell\n",
    "%postcell register"
   ]
  },
  {
   "cell_type": "markdown",
   "metadata": {},
   "source": [
    "# Recursion\n",
    "\n",
    "Recursion is a mind-bending but fun a powerful concept. What happens if a function calls...itself?"
   ]
  },
  {
   "cell_type": "code",
   "execution_count": null,
   "metadata": {},
   "outputs": [],
   "source": [
    "my_list = [1,2,3,4,5,6,7,8,9,10]"
   ]
  },
  {
   "cell_type": "code",
   "execution_count": null,
   "metadata": {},
   "outputs": [],
   "source": [
    "def add_list_normally(lst):\n",
    "    return sum(lst)"
   ]
  },
  {
   "cell_type": "code",
   "execution_count": null,
   "metadata": {},
   "outputs": [],
   "source": [
    "add_list_normally(my_list)"
   ]
  },
  {
   "cell_type": "code",
   "execution_count": null,
   "metadata": {},
   "outputs": [],
   "source": [
    "def add_list_loop(lst):\n",
    "    sum_ = 0\n",
    "    for e in lst:\n",
    "        sum_ += e\n",
    "    return sum_"
   ]
  },
  {
   "cell_type": "code",
   "execution_count": null,
   "metadata": {},
   "outputs": [],
   "source": [
    "add_list_loop(my_list)"
   ]
  },
  {
   "cell_type": "code",
   "execution_count": null,
   "metadata": {},
   "outputs": [],
   "source": [
    "def add_list_recursively(lst):\n",
    "    if len(lst) == 0: return 0\n",
    "    return lst[0] + add_list_recursively(lst[1:])"
   ]
  },
  {
   "cell_type": "code",
   "execution_count": null,
   "metadata": {},
   "outputs": [],
   "source": [
    "add_list_recursively(my_list)"
   ]
  },
  {
   "cell_type": "markdown",
   "metadata": {},
   "source": [
    "#### ... WHAT??\n",
    "\n",
    "### Real-world recursion\n",
    "\n",
    "#### Opposing mirrors\n",
    "![](images/infinitemirror.jpg)\n",
    "\n",
    "#### Feedback loops\n",
    "![](images/how-to-control-feedback-in-a-sound-system_header.jpg)\n",
    "\n",
    "#### Movies\n",
    "![](images/inception.jpg)\n",
    "\n",
    "#### Nerd joke: Google \"recursion\"\n",
    "\n",
    "#### Not a nerd joke:"
   ]
  },
  {
   "cell_type": "code",
   "execution_count": null,
   "metadata": {},
   "outputs": [],
   "source": [
    "def blowup(): \n",
    "    blowup()"
   ]
  },
  {
   "cell_type": "code",
   "execution_count": null,
   "metadata": {},
   "outputs": [],
   "source": [
    "blowup()"
   ]
  },
  {
   "cell_type": "markdown",
   "metadata": {},
   "source": [
    "#### Why did this function blow up?\n",
    "\n",
    "Recall the following example from an earlier lecture:"
   ]
  },
  {
   "cell_type": "code",
   "execution_count": null,
   "metadata": {},
   "outputs": [],
   "source": [
    "def error_func(filename):\n",
    "    for line in open(filename, 'r').readlines():\n",
    "        wont_even_get_here = line.split(\",\")\n",
    "\n",
    "def error_func2(filename):\n",
    "    error_func(filename)\n",
    "\n",
    "def error_func3(filename):\n",
    "    error_func2(filename)\n",
    "\n",
    "def error_func4(filename):\n",
    "    error_func3(filename)\n"
   ]
  },
  {
   "cell_type": "code",
   "execution_count": null,
   "metadata": {},
   "outputs": [],
   "source": [
    "error_func4(\"this_file_doesnt_exist.csv\")"
   ]
  },
  {
   "cell_type": "markdown",
   "metadata": {},
   "source": [
    "Python not only told us that the file wasn't found, but it remembered the full history of how we arrived at the line which caused the error. This _history_ is called the _call stack_. Most languages have similar call stacks and they serve serveral purposes, one of them being to keep track of which function calls led us to our current location in the executing program.\n",
    "\n",
    "In the exaple above, we are four functions deep when the error occurs. What if we were 100 or 10k or a million functions deep? The call stack would have to remember all of thos functions.\n",
    "\n",
    "What happens when the function `blowup` keeps calling itself? The stack keeps growing, until it runs out of space!\n",
    "\n",
    "As you saw, Python terminates the function after a number of recursions, some languages keep going until they _blow their stack_."
   ]
  },
  {
   "cell_type": "markdown",
   "metadata": {},
   "source": [
    "**Ask** What is this error called in Java?"
   ]
  },
  {
   "cell_type": "code",
   "execution_count": null,
   "metadata": {},
   "outputs": [],
   "source": []
  },
  {
   "cell_type": "code",
   "execution_count": null,
   "metadata": {},
   "outputs": [],
   "source": []
  },
  {
   "cell_type": "code",
   "execution_count": null,
   "metadata": {},
   "outputs": [],
   "source": []
  },
  {
   "cell_type": "markdown",
   "metadata": {},
   "source": [
    "### Rules of recursion\n",
    "\n",
    "There are two rules of safe recursion:\n",
    "1. Always handle the base case\n",
    "2. Each recursion must move computation towards the base case\n",
    "\n",
    "Notice in the example above:\n",
    "\n",
    "```python\n",
    "def add_list_recursively(lst):\n",
    "    if len(lst) == 0: return 0\n",
    "    return lst[0] + add_list_recursively(lst[1:])\n",
    "```\n",
    "\n",
    "When the function is called recursively, it isn't called on the whole list, it is called on _the whole list, minus one item_: `add_list_recursively(lst[1:])`. This means that each recursion call reduces the size of the list it is processing. Logically, the first line in the funciton handle the case when there are no more items to process."
   ]
  },
  {
   "cell_type": "markdown",
   "metadata": {},
   "source": [
    "Let's break down the execution of the function `add_list_recursively([1,2,3,4,5])`\n",
    "\n",
    "``` python\n",
    "add_list_recursively([1,2,3,4,5]):\n",
    "    return 1 + add_list_recursively([2,3,4,5]):         # = 1   + 2 + 3 + 4 + 5 + 0\n",
    "        return 2 + add_list_recursively([3,4,5])        # = 2   + 3 + 4 + 5 + 0\n",
    "            return 3 + add_list_recursively([4,5])      # = 3   + 4 + 5 + 0\n",
    "                return 4 + add_list_recursively([5])    # = 4   + 5 + 0\n",
    "                    return 5 + add_list_recursively([]) # = 5   + 0\n",
    "                        return 0\n",
    "```"
   ]
  },
  {
   "cell_type": "markdown",
   "metadata": {},
   "source": [
    "**Exercise** Reverse the following string (using recursion).\n",
    "Some things you will almost always have to do:\n",
    "1. Split the input and handle the split parts recursively\n",
    "2. Jump to the end, when the input is either empty or just one element, how woud you handle that?\n",
    "3. Put the split parts back together again"
   ]
  },
  {
   "cell_type": "code",
   "execution_count": null,
   "metadata": {},
   "outputs": [],
   "source": [
    "%%postcell exercise_025_250_a\n",
    "\n",
    "s = \"HELLO\"\n",
    "\n",
    "def reverse_recursive(input):\n",
    "    pass #Type code here\n",
    "\n",
    "reverse_recursive(s)\n",
    "\n",
    "\n",
    "\"\"\"\n",
    "If you can't figure out the algorithm, type out your algorithm in English in these quotes\n",
    "\"\"\""
   ]
  },
  {
   "cell_type": "markdown",
   "metadata": {},
   "source": [
    "### Processing recursive data structures\n",
    "\n",
    "Since this is an intro class, we haven't covered many advanced data structures. However, lets take a brief look at a binary tree:\n",
    "![](images/binary_tree.svg)\n",
    "\n",
    "Such trees are extremely popular and useful in Computer Science and AI. Many games use similar trees to find best paths for their agents, optimization algorithms use similar trees to reduce the amount of computation which needs to be done, programmers use such trees to build data structures such as dictionaries!\n",
    "\n",
    "Here is an example of how such a tree might be represented in Python (we will see a better example in a later lecture):"
   ]
  },
  {
   "cell_type": "code",
   "execution_count": null,
   "metadata": {},
   "outputs": [],
   "source": [
    "# Format:     left child          right child\n",
    "# [root_node, []                  , []]\n",
    "tree = [2,\n",
    "        [7,\n",
    "             [2, [], []],\n",
    "             [6,\n",
    "                  [5, [], []],\n",
    "                  [11, [], []]\n",
    "             ]\n",
    "        ],\n",
    "        [5,\n",
    "             [],\n",
    "             [9,\n",
    "                  [4, [], []],\n",
    "                  []\n",
    "             ]\n",
    "        ]\n",
    "]"
   ]
  },
  {
   "cell_type": "code",
   "execution_count": null,
   "metadata": {},
   "outputs": [],
   "source": [
    "tree"
   ]
  },
  {
   "cell_type": "code",
   "execution_count": null,
   "metadata": {},
   "outputs": [],
   "source": [
    "sum([2, 7, 2, 6, 5, 11, 5, 9, 4])"
   ]
  },
  {
   "cell_type": "code",
   "execution_count": null,
   "metadata": {},
   "outputs": [],
   "source": [
    "sum(tree)"
   ]
  },
  {
   "cell_type": "markdown",
   "metadata": {},
   "source": [
    "#### Some algorithms are _much_ easier to implement via recursion"
   ]
  },
  {
   "cell_type": "code",
   "execution_count": null,
   "metadata": {},
   "outputs": [],
   "source": [
    "def tree_sum(t):\n",
    "    # add the root, left tree and right tree\n",
    "    if len(t) == 0: return 0\n",
    "    return t[0] + tree_sum(t[1]) + tree_sum(t[2])"
   ]
  },
  {
   "cell_type": "code",
   "execution_count": null,
   "metadata": {},
   "outputs": [],
   "source": [
    "tree_sum(tree)"
   ]
  },
  {
   "cell_type": "markdown",
   "metadata": {},
   "source": [
    "#### Count children"
   ]
  },
  {
   "cell_type": "code",
   "execution_count": null,
   "metadata": {},
   "outputs": [],
   "source": [
    "def count_children(t):\n",
    "    if len(t) == 0: \n",
    "        return ([], 0)\n",
    "    else:\n",
    "        left_val, left_children = count_children(t[1])\n",
    "        right_val, right_children = count_children(t[2])\n",
    "        children = 1 + left_children + right_children # <= error?\n",
    "        print(t[0], children-1)\n",
    "        return (t[0], children)"
   ]
  },
  {
   "cell_type": "code",
   "execution_count": null,
   "metadata": {},
   "outputs": [],
   "source": [
    "count_children(tree); # <= The ';' is just to ignore printing the last 'return 'value to screen"
   ]
  },
  {
   "cell_type": "markdown",
   "metadata": {},
   "source": [
    "This makes more sense if we test it slowly:"
   ]
  },
  {
   "cell_type": "code",
   "execution_count": null,
   "metadata": {
    "tags": []
   },
   "outputs": [],
   "source": [
    "count_children([1, [], []]);"
   ]
  },
  {
   "cell_type": "code",
   "execution_count": null,
   "metadata": {
    "tags": []
   },
   "outputs": [],
   "source": [
    "count_children([1, \n",
    "                [2, [], []], \n",
    "                [3, [], []]]);"
   ]
  },
  {
   "cell_type": "code",
   "execution_count": null,
   "metadata": {
    "tags": []
   },
   "outputs": [],
   "source": [
    "count_children([1, \n",
    "                [2, \n",
    "                 [4, [], []], \n",
    "                 []], \n",
    "                [3, [], []]]);"
   ]
  },
  {
   "cell_type": "markdown",
   "metadata": {},
   "source": [
    "#### Print a tree, recursively"
   ]
  },
  {
   "cell_type": "code",
   "execution_count": null,
   "metadata": {},
   "outputs": [],
   "source": [
    "def print_tree(t, indent=0):\n",
    "    if len(t) > 0:\n",
    "        print(\"-\" * indent, t[0])\n",
    "        print_tree(t[1], indent+1)\n",
    "        print_tree(t[2], indent+1)"
   ]
  },
  {
   "cell_type": "code",
   "execution_count": null,
   "metadata": {},
   "outputs": [],
   "source": [
    "print_tree(tree)"
   ]
  },
  {
   "cell_type": "markdown",
   "metadata": {},
   "source": [
    "### More on recursion\n",
    "\n",
    "![](images/david_chang.jpg)\n",
    "\n",
    "> And recently I started seeing patterns in our most successful dishes that suggested our hits weren’t entirely random; there’s a set of underlying laws that links them together. I’ve struggled to put this into words, and I haven’t talked to my fellow chefs about it, because I worry they’ll think I’m crazy. But I think there’s something to it, and so I’m sharing it now for the first time. I call it the Unified Theory of Deliciousness.\n",
    "\n",
    "> This probably sounds absolutely ridiculous, but the theory is rooted in a class I took in college called Advanced Logic. A philosopher named Howard DeLong taught it; he wrote one of the books that directly inspired Douglas Hofstadter to write [Gödel, Escher, Bach](https://www.amazon.com/G%C3%B6del-Escher-Bach-Eternal-Golden/dp/0465026567). The first day, he said, “This class will change your life,” and I was like, “What kind of asshole is this?” But he was right. I would never pretend to be an expert in logic, and I never made it all the way through Gödel, Escher, Bach. But the ideas and concepts I took away from that class have haunted me ever since.\n",
    "\n",
    "Gödel, Escher, Bach\n",
    "\n",
    "Wikipedia article: https://en.wikipedia.org/wiki/G%C3%B6del,_Escher,_Bach\n",
    "\n",
    "Book: https://www.amazon.com/G%C3%B6del-Escher-Bach-Eternal-Golden/dp/0465026567\n",
    "\n",
    "MIT lectures: https://ocw.mit.edu/high-school/humanities-and-social-sciences/godel-escher-bach/video-lectures/\n"
   ]
  },
  {
   "cell_type": "markdown",
   "metadata": {},
   "source": [
    "**Exercise** Write a recursive function which multiplies numbers in a list (similar to the summing function above)"
   ]
  },
  {
   "cell_type": "markdown",
   "metadata": {},
   "source": [
    "**Exercise** Write a recursive function which multplies all values in a tree by 2, then print those values (just print them as a list of numbers)"
   ]
  },
  {
   "cell_type": "code",
   "execution_count": null,
   "metadata": {},
   "outputs": [],
   "source": []
  },
  {
   "cell_type": "markdown",
   "metadata": {},
   "source": [
    "#### Reference\n",
    "\n",
    "Elevator picture: http://steve-patterson.com/logic-and-infinity/\n",
    "\n",
    "Feedback Loop: https://www.shure.com/en-US/performance-production/louder/how-to-control-feedback-in-a-sound-system\n",
    "\n",
    "Inception poster: https://www.amazon.com/Posters-USA-Inception-Poster-GLOSSY/dp/B01MRP0KEW/\n",
    "\n",
    "Binary tree: https://en.wikipedia.org/wiki/File:Binary_tree.svg"
   ]
  },
  {
   "cell_type": "code",
   "execution_count": null,
   "metadata": {},
   "outputs": [],
   "source": [
    "def reverse_recursive(input):\n",
    "    if len(input) == 0: return input\n",
    "    else:\n",
    "        return reverse_recursive(input[1:]) + input[0]\n",
    "    \n",
    "reverse_recursive('HELLO')"
   ]
  },
  {
   "cell_type": "code",
   "execution_count": null,
   "metadata": {},
   "outputs": [],
   "source": []
  }
 ],
 "metadata": {
  "kernelspec": {
   "display_name": "mleng",
   "language": "python",
   "name": "mleng"
  },
  "language_info": {
   "codemirror_mode": {
    "name": "ipython",
    "version": 3
   },
   "file_extension": ".py",
   "mimetype": "text/x-python",
   "name": "python",
   "nbconvert_exporter": "python",
   "pygments_lexer": "ipython3",
   "version": "3.11.11"
  }
 },
 "nbformat": 4,
 "nbformat_minor": 4
}
