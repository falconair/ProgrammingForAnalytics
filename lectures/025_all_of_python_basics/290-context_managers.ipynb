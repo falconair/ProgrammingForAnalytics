{
 "cells": [
  {
   "cell_type": "markdown",
   "id": "c9a8c1dd-09cc-48df-acf4-f3a5599918c7",
   "metadata": {},
   "source": [
    "# Context managers"
   ]
  },
  {
   "cell_type": "markdown",
   "id": "aaf9bfc7-b6fc-49fe-945f-0c7e41c837e1",
   "metadata": {},
   "source": [
    "Python provides a convenient (and safer) way to clean up resources. \n",
    "\n",
    "* If you open a file, you should close it when you are done, if even there was an error while working with the file. \n",
    "* If you acquire a lock, you should release it appropriately (otherwise you may have deadlock issues).\n",
    "* If you open a database connection, or tcp/ip connection or any other connection or session, you should close it properly to releave the server of unnecessary load.\n",
    "\n",
    "\n",
    "The most popular use of context managers is for working with files:"
   ]
  },
  {
   "cell_type": "code",
   "execution_count": null,
   "id": "7d43e3c2-7e72-4723-b4d1-34de53fd5646",
   "metadata": {
    "tags": []
   },
   "outputs": [],
   "source": [
    "with open('../../postcell.conf') as file:\n",
    "    print(file.read(500))"
   ]
  },
  {
   "cell_type": "markdown",
   "id": "97a2d515-3c82-480d-ad49-3678c0603018",
   "metadata": {},
   "source": [
    "A naive translation of the above code to more common Python would be the following:"
   ]
  },
  {
   "cell_type": "code",
   "execution_count": null,
   "id": "63940c5f-519b-401e-b024-4d237f325d11",
   "metadata": {
    "tags": []
   },
   "outputs": [],
   "source": [
    "file = open('../../postcell.conf')\n",
    "print(file.read(500))\n",
    "file.close()"
   ]
  },
  {
   "cell_type": "markdown",
   "id": "ab25110d-d2ee-4f7c-99ee-2c3775aac1be",
   "metadata": {},
   "source": [
    "However, this doesn't quite capture the benefit the `with` clause is providing. A more accurate translation is this:"
   ]
  },
  {
   "cell_type": "code",
   "execution_count": null,
   "id": "46010b03-00ca-4feb-aa32-4723e28301c2",
   "metadata": {
    "tags": []
   },
   "outputs": [],
   "source": [
    "try:\n",
    "    file = open('../../postcell.conf')\n",
    "    print(file.read(500))\n",
    "finally:\n",
    "    file.close()"
   ]
  },
  {
   "cell_type": "markdown",
   "id": "00f0084c-7643-40df-a8f9-cda1f5f7a324",
   "metadata": {},
   "source": [
    "The first example doesn't handle the scenario where the `file.read` command causes an exception. Noice that an error with `read` will cause the `.close()` method to be skipped.\n",
    "\n",
    "However, the second example handles such errors correctly. The file will be closed, even if `read` causes an error. (technically `open` can also cause an exception, which requires a bit more care to handle)"
   ]
  },
  {
   "cell_type": "markdown",
   "id": "22d595ed-cfa2-44ba-955f-4b0ad5b02a05",
   "metadata": {},
   "source": [
    "### Custom context managers\n",
    "The implementation of context managers can be surprisingly smiple. A class just needs to implement the `__enter__` and `__exit__` functions. Here is a context manager so simple that it is silly:"
   ]
  },
  {
   "cell_type": "code",
   "execution_count": null,
   "id": "7897b163-cbbd-48cc-8e8d-74078bf090a5",
   "metadata": {
    "tags": []
   },
   "outputs": [],
   "source": [
    "class ExampleCtxMgr():\n",
    "    \n",
    "    def __enter__(self):\n",
    "        print(\"Entering context manager\")\n",
    "        return \"This is the return value\"\n",
    "    \n",
    "    def __exit__(self, exc_type, exc_value, exc_traceback):\n",
    "        print(\"Exiting context manager\")\n",
    "        print(f\"exc_type:{exc_type}, exc_value:{exc_value}, exc_traceback:{exc_traceback}\")"
   ]
  },
  {
   "cell_type": "code",
   "execution_count": null,
   "id": "3dae179e-815b-49f9-acbc-50719eb41158",
   "metadata": {
    "tags": []
   },
   "outputs": [],
   "source": [
    "with ExampleCtxMgr():\n",
    "    print(\"yo\")"
   ]
  },
  {
   "cell_type": "code",
   "execution_count": null,
   "id": "95659b25-bbb5-4724-ac88-803f18851e51",
   "metadata": {
    "tags": []
   },
   "outputs": [],
   "source": [
    "with ExampleCtxMgr() as msg:\n",
    "    print(msg)\n",
    "    print(\"yo\")"
   ]
  },
  {
   "cell_type": "markdown",
   "id": "260914a7-85b8-45e5-8648-c50b83853632",
   "metadata": {},
   "source": [
    "#### Exception handling in `with` clauses"
   ]
  },
  {
   "cell_type": "markdown",
   "id": "ed9bc9dd-44c4-4ab5-9d4d-0df97d0b4903",
   "metadata": {},
   "source": [
    "Notice the values of `exc_type`, `exc_value` and `exc_traceback` in this example"
   ]
  },
  {
   "cell_type": "code",
   "execution_count": null,
   "id": "e3f41f70-9e0c-4f99-ba6a-4c1c6a2169ce",
   "metadata": {
    "tags": []
   },
   "outputs": [],
   "source": [
    "class ExampleCtxMgrExc():\n",
    "    \n",
    "    def __enter__(self):\n",
    "        print(\"Entering context manager\")\n",
    "        return \"This is the return value\"\n",
    "    \n",
    "    def __exit__(self, exc_type, exc_value, exc_traceback):\n",
    "        print(\"Exiting context manager\")\n",
    "        print(f\"exc_type:{exc_type}, exc_value:{exc_value}, exc_traceback:{exc_traceback}\")"
   ]
  },
  {
   "cell_type": "code",
   "execution_count": null,
   "id": "6ea1fde7-3871-4e52-bb13-e7261a02f04e",
   "metadata": {
    "tags": []
   },
   "outputs": [],
   "source": [
    "with ExampleCtxMgrExc() as msg:\n",
    "    print(msg)\n",
    "    print(\"yo\")\n",
    "    raise Exception(\"Oops\") # Something terrible happened\n",
    "    print(\"won't get this far\")"
   ]
  },
  {
   "cell_type": "markdown",
   "id": "fc618115-26ea-4e4b-b7db-02c507ad2461",
   "metadata": {},
   "source": [
    "### Function based context managers\n",
    "Function based context managers provide the same functionality, but a bit easier to understand by using _decorators_ and _generators_"
   ]
  },
  {
   "cell_type": "code",
   "execution_count": null,
   "id": "c0309214-1cb0-432b-9e66-820b9a46ffc7",
   "metadata": {
    "tags": []
   },
   "outputs": [],
   "source": [
    "from contextlib import contextmanager"
   ]
  },
  {
   "cell_type": "code",
   "execution_count": null,
   "id": "6fc78e2c-1d90-483e-9ac2-3679ec346eec",
   "metadata": {
    "tags": []
   },
   "outputs": [],
   "source": [
    "@contextmanager\n",
    "def ExampleCtxMgrFunction():\n",
    "    print(\"Entering context manager\")\n",
    "    yield \"This is the return value\"\n",
    "    print(\"Exiting context manager\")"
   ]
  },
  {
   "cell_type": "code",
   "execution_count": null,
   "id": "8609b7b0-98f7-4321-84b2-7af8978ec0e9",
   "metadata": {
    "tags": []
   },
   "outputs": [],
   "source": [
    "with ExampleCtxMgrFunction() as ctx_mgr:\n",
    "    print(ctx_mgr)"
   ]
  },
  {
   "cell_type": "markdown",
   "id": "25e399b1-72f2-4fcc-a926-594571e3dd6e",
   "metadata": {},
   "source": [
    "### Other uses of context managers"
   ]
  },
  {
   "cell_type": "markdown",
   "id": "d7d2cb46-6d30-4d7f-94d0-bdb53b48ec99",
   "metadata": {},
   "source": [
    "Popular library for Bayesian models uses the context manager in a unique way:\n",
    "\n",
    "```python\n",
    "from pymc import HalfCauchy, Model, Normal, sample\n",
    "\n",
    "with Model() as model:  # model specifications in PyMC are wrapped in a with-statement\n",
    "    # Define priors\n",
    "    sigma = HalfCauchy(\"sigma\", beta=10)\n",
    "    intercept = Normal(\"Intercept\", 0, sigma=20)\n",
    "    slope = Normal(\"slope\", 0, sigma=20)\n",
    "\n",
    "    # Define likelihood\n",
    "    likelihood = Normal(\"y\", mu=intercept + slope * x, sigma=sigma, observed=y)\n",
    "\n",
    "    # Inference!\n",
    "    # draw 3000 posterior samples using NUTS sampling\n",
    "    idata = sample(3000)\n",
    "\n",
    "```\n",
    "\n",
    "Here, `Model` is not a typical resource, rather a true \"context\" where various distributions know that they are being defined as part of a specific model definition. See https://www.pymc.io/projects/docs/en/stable/learn/core_notebooks/GLM_linear.html#glm-linear for details."
   ]
  },
  {
   "cell_type": "markdown",
   "id": "072e0454-6bf4-4178-acec-548d33ba680e",
   "metadata": {},
   "source": [
    "See https://realpython.com/python-with-statement/#creating-custom-context-managers for more details. Some examples in this lecture adapted from that page."
   ]
  },
  {
   "cell_type": "code",
   "execution_count": null,
   "id": "2c1949f3-bdba-4f0c-8347-07c1a930e8e9",
   "metadata": {},
   "outputs": [],
   "source": []
  }
 ],
 "metadata": {
  "kernelspec": {
   "display_name": "Python 3 (ipykernel)",
   "language": "python",
   "name": "python3"
  },
  "language_info": {
   "codemirror_mode": {
    "name": "ipython",
    "version": 3
   },
   "file_extension": ".py",
   "mimetype": "text/x-python",
   "name": "python",
   "nbconvert_exporter": "python",
   "pygments_lexer": "ipython3",
   "version": "3.11.5"
  }
 },
 "nbformat": 4,
 "nbformat_minor": 5
}
