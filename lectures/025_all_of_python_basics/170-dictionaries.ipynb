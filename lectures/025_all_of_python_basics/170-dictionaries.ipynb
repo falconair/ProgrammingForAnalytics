{
 "cells": [
  {
   "cell_type": "code",
   "execution_count": null,
   "metadata": {},
   "outputs": [],
   "source": [
    "%reload_ext postcell\n",
    "%postcell register"
   ]
  },
  {
   "cell_type": "markdown",
   "metadata": {},
   "source": [
    "# Dictionaries"
   ]
  },
  {
   "cell_type": "markdown",
   "metadata": {},
   "source": [
    "Dictionaries are one of the three built-in containers or data structures in Python. \n",
    "\n",
    "### Creating dictionaries\n",
    "\n",
    "If you already know the contents of a dictionary, such as a mapping between state abbreviation and state name, you can create a populated dictionary using the dictionary literal syntax:"
   ]
  },
  {
   "cell_type": "code",
   "execution_count": null,
   "metadata": {
    "tags": []
   },
   "outputs": [],
   "source": [
    "states_lookup = {\"IL\": \"Illinois\", \"MI\": \"Michigan\", \"NJ\":\"New Jersey\"} # pre-populated dict\n",
    "states_lookup[\"NY\"] = \"New York\" # add entry\n",
    "\n",
    "states_lookup"
   ]
  },
  {
   "cell_type": "markdown",
   "metadata": {},
   "source": [
    "If your dictionary needs to be created empty, and you will add values while the program is being executed, you can create dictionaries these common ways:"
   ]
  },
  {
   "cell_type": "code",
   "execution_count": null,
   "metadata": {},
   "outputs": [],
   "source": [
    "states_lookup = {} # empty dict\n",
    "states_lookup[\"NY\"] = \"New York\" # add entry\n",
    "\n",
    "states_lookup"
   ]
  },
  {
   "cell_type": "code",
   "execution_count": null,
   "metadata": {
    "tags": []
   },
   "outputs": [],
   "source": [
    "states_lookup = dict() # empty dict\n",
    "states_lookup[\"NY\"] = \"New York\" # add entry\n",
    "\n",
    "states_lookup"
   ]
  },
  {
   "cell_type": "markdown",
   "metadata": {},
   "source": [
    "**Exercise**\n",
    "Creating an empty dictionary using `{}` or `dict()` produces the same result. Which do you prefer and why?"
   ]
  },
  {
   "cell_type": "markdown",
   "metadata": {},
   "source": [
    "### Using dictionaries to remember values, which are updated in loops\n",
    "\n",
    "A very common pattern of dictionary usage is to iterate through a file, a list or a stream and increment a counter for the variable being processed. Think of the Game of Thrones file, where we looped through all the records. Each time we found a character, we either added them to the dictionary or incremented their counter."
   ]
  },
  {
   "cell_type": "code",
   "execution_count": null,
   "metadata": {
    "tags": []
   },
   "outputs": [],
   "source": [
    "data_file_location = \"../../datasets/deaths-in-gameofthrones/game-of-thrones-deaths-data.csv\"\n",
    "killers = dict() # dictionary data type\n",
    "\n",
    "file = open(data_file_location, \"r\", encoding='utf8')\n",
    "\n",
    "for line in file:\n",
    "  tokens = line.split(',')\n",
    "  if tokens[4] in killers: kill_count = killers[tokens[4]]\n",
    "  else: kill_count = 0\n",
    "  kill_count = kill_count + 1\n",
    "  killers[tokens[4]] = kill_count\n",
    "\n",
    "file.close()\n",
    "killers"
   ]
  },
  {
   "cell_type": "markdown",
   "metadata": {},
   "source": [
    "Notice, in line 8, we are checking to see if a name already exists in the dictionary using the `in` keyword. Python provides a couple of ways we can avoid this.\n",
    "\n",
    "1. Initiate dictionary using defaultdict(int)\n",
    "2. In line 8, instead of calling `killers[tokens[4]]`, which will throw an exception if item doesn't exist, call `killers.get(tokens[4], 0)`\n",
    "\n",
    "Recall that a normal dictionary will throw an error if you ask it for a key which doesn't exist:"
   ]
  },
  {
   "cell_type": "code",
   "execution_count": null,
   "metadata": {
    "tags": []
   },
   "outputs": [],
   "source": [
    "test_dict = dict()\n",
    "test_dict[\"i_dont_exist\"]"
   ]
  },
  {
   "cell_type": "markdown",
   "metadata": {},
   "source": [
    "### dict.get(key, defaultvalue)\n",
    "\n",
    "You normally access items in a dictionary using the syntax `dict[key]`. However, you can also use the syntax `dict.get(key, defaultvalue)`. If a key doesn't exist, this syntax will return a default value. This way, you don't have to check if a key exists, insert it first, etc. Here is how the above code will change with this method:"
   ]
  },
  {
   "cell_type": "code",
   "execution_count": null,
   "metadata": {},
   "outputs": [],
   "source": [
    "data_file_location = \"../../datasets/deaths-in-gameofthrones/game-of-thrones-deaths-data.csv\"\n",
    "killers = dict() # dictionary data type\n",
    "\n",
    "file = open(data_file_location, \"r\", encoding='utf8')\n",
    "\n",
    "for line in file:\n",
    "  tokens = line.split(',')\n",
    "  kill_count = killers.get(tokens[4], 0)\n",
    "  kill_count = kill_count + 1\n",
    "  killers[tokens[4]] = kill_count\n",
    "\n",
    "file.close()\n",
    "killers"
   ]
  },
  {
   "cell_type": "markdown",
   "metadata": {},
   "source": [
    "### defaultdict\n",
    "\n",
    "A dictionary created with `defaultdict(int)` will return a zero if a a key doesn't exist. Similarly, if you create a dictionary using `defaultdict(list)`, the dictionary will return an empty list if a key doesn't exist. Here is how our code will change to take advantage of this feature:"
   ]
  },
  {
   "cell_type": "code",
   "execution_count": null,
   "metadata": {},
   "outputs": [],
   "source": [
    "from collections import defaultdict\n",
    "data_file_location = \"../../datasets/deaths-in-gameofthrones/game-of-thrones-deaths-data.csv\"\n",
    "killers = defaultdict(int)\n",
    "\n",
    "file = open(data_file_location, \"r\", encoding='utf8')\n",
    "\n",
    "for line in file:\n",
    "  tokens = line.split(',')\n",
    "  killers[tokens[4]] += 1\n",
    "\n",
    "file.close()\n",
    "killers"
   ]
  },
  {
   "cell_type": "markdown",
   "metadata": {},
   "source": [
    "**Exercise** Paste the code above, and earlier version of the code (further above) at https://www.diffchecker.com/ to see exactly which lines changed. (be very careful when posting professional code on such websites, you might get in trouble for posting company code on random websites)"
   ]
  },
  {
   "cell_type": "code",
   "execution_count": null,
   "metadata": {},
   "outputs": [],
   "source": [
    "test_dict2 = defaultdict(int)\n",
    "test_dict2[\"i_dont_existXXXXXXXXXXXXXXXXXXXXXX\"]"
   ]
  },
  {
   "cell_type": "markdown",
   "metadata": {},
   "source": [
    "### Checking to see if a value exists using `in`\n",
    "\n",
    "Dictionaries work with the `in` operator to check for membership. "
   ]
  },
  {
   "cell_type": "code",
   "execution_count": null,
   "metadata": {},
   "outputs": [],
   "source": [
    "states_lookup = {\"IL\": \"Illinois\", \"MI\": \"Michigan\", \"NJ\":\"New Jersey\", \"NY\":\"New York\"}"
   ]
  },
  {
   "cell_type": "code",
   "execution_count": null,
   "metadata": {},
   "outputs": [],
   "source": [
    "\"IL\" in states_lookup"
   ]
  },
  {
   "cell_type": "code",
   "execution_count": null,
   "metadata": {},
   "outputs": [],
   "source": [
    "\"WI\" in states_lookup"
   ]
  },
  {
   "cell_type": "markdown",
   "metadata": {},
   "source": [
    "**Exercise** Does \"HI\" exist _as a key_ in `states_lookup`?"
   ]
  },
  {
   "cell_type": "code",
   "execution_count": null,
   "metadata": {},
   "outputs": [],
   "source": [
    "%%postcell exercise_025_170_a\n",
    "\n",
    "#type your answer here"
   ]
  },
  {
   "cell_type": "markdown",
   "metadata": {},
   "source": [
    "### Iterating through a dictionary\n",
    "\n",
    "Given a list, you have learned how to pick out specific values, corresponding to specific keys. There are times when you need to iterate (loop) through every entry. Python 3.6 makes this very easy:"
   ]
  },
  {
   "cell_type": "code",
   "execution_count": null,
   "metadata": {},
   "outputs": [],
   "source": [
    "states_lookup = {\"IL\": \"Illinois\", \"MI\": \"Michigan\", \"NJ\":\"New Jersey\", \"NY\":\"New York\"}"
   ]
  },
  {
   "cell_type": "markdown",
   "metadata": {},
   "source": [
    "Get a `list` of all keys:"
   ]
  },
  {
   "cell_type": "code",
   "execution_count": null,
   "metadata": {},
   "outputs": [],
   "source": [
    "states_lookup.keys()"
   ]
  },
  {
   "cell_type": "markdown",
   "metadata": {},
   "source": [
    "Get a `list` of all values:"
   ]
  },
  {
   "cell_type": "code",
   "execution_count": null,
   "metadata": {},
   "outputs": [],
   "source": [
    "states_lookup.values()"
   ]
  },
  {
   "cell_type": "markdown",
   "metadata": {},
   "source": [
    "Get a `list` of both keys and values (list of tuples):"
   ]
  },
  {
   "cell_type": "code",
   "execution_count": null,
   "metadata": {},
   "outputs": [],
   "source": [
    "states_lookup.items()"
   ]
  },
  {
   "cell_type": "code",
   "execution_count": null,
   "metadata": {},
   "outputs": [],
   "source": [
    "for state_code, state_name in states_lookup.items():\n",
    "    print(state_code, state_name)"
   ]
  },
  {
   "cell_type": "markdown",
   "metadata": {},
   "source": [
    "Alternative (most languages do this)"
   ]
  },
  {
   "cell_type": "code",
   "execution_count": null,
   "metadata": {},
   "outputs": [],
   "source": [
    "for state_code in states_lookup.keys():\n",
    "    print(state_code, states_lookup[state_code])"
   ]
  },
  {
   "cell_type": "markdown",
   "metadata": {},
   "source": [
    "#### List of tuples are a common pattern\n",
    "List of tuples, like you see above, show up quite often. We will see them in the next lecture, when we combine two lists using the `zip` function. Pandas dataframes understand them natively and we can even create dictionaries out of such lists:"
   ]
  },
  {
   "cell_type": "code",
   "execution_count": null,
   "metadata": {},
   "outputs": [],
   "source": [
    "dict([('IL', 'Illinois'), ('MI', 'Michigan'), ('NJ', 'New Jersey'), ('NY', 'New York')])"
   ]
  },
  {
   "cell_type": "markdown",
   "metadata": {},
   "source": [
    "### Datatypes which work with dictionaries\n",
    "\n",
    "So far, we have only used strings and numbers as keys and values in a dictionary. Dictionaries can be used with most datatypes, including dictionaries themselves (nested dictionaries)\n",
    "\n",
    "#### Nested dictionaries"
   ]
  },
  {
   "cell_type": "code",
   "execution_count": null,
   "metadata": {},
   "outputs": [],
   "source": [
    "demographics_lookup = {\n",
    "    \"homer\": {\"age\":38, \"lastname\":\"simpson\"},\n",
    "    \"marge\": {\"age\":36, \"lastname\":\"simpson\"},\n",
    "    \"bart\": {\"age\":10, \"lastname\":\"simpson\"},\n",
    "    \"lisa\": {\"age\":8, \"lastname\":\"simpson\"},\n",
    "}"
   ]
  },
  {
   "cell_type": "code",
   "execution_count": null,
   "metadata": {},
   "outputs": [],
   "source": [
    "demographics_lookup['homer']"
   ]
  },
  {
   "cell_type": "markdown",
   "metadata": {},
   "source": [
    "Notice how you can access nested dictionaries using a simple syntax:"
   ]
  },
  {
   "cell_type": "code",
   "execution_count": null,
   "metadata": {},
   "outputs": [],
   "source": [
    "demographics_lookup['homer']['age']"
   ]
  },
  {
   "cell_type": "markdown",
   "metadata": {},
   "source": [
    "**Exercise** If we can access an existing value using `demographics_lookup['homer']['age']`, can we create a new entry using `demographics_lookup['barney']['gumble'] = 32`? Why not? (hint, same reason we had to use defaultdict)"
   ]
  },
  {
   "cell_type": "markdown",
   "metadata": {},
   "source": [
    "#### Tuples in dictionaries\n",
    "Tuples can be used as keys or values."
   ]
  },
  {
   "cell_type": "code",
   "execution_count": null,
   "metadata": {},
   "outputs": [],
   "source": [
    "tuple_dict = dict()\n",
    "\n",
    "tuple_dict[(1,2)] = (3,4)\n",
    "tuple_dict[(5,6)] = (7,8)\n",
    "tuple_dict[(9,10)] = (11,12)\n",
    "\n",
    "tuple_dict"
   ]
  },
  {
   "cell_type": "markdown",
   "metadata": {},
   "source": [
    "#### Lists are not allowed to be keys in a dictionary\n",
    "Since keys can be changed after they have been created (aka _mutable_), and only immutable objects can be keys for a dictionary, lists can not be keys (but can be values)"
   ]
  },
  {
   "cell_type": "code",
   "execution_count": null,
   "metadata": {},
   "outputs": [],
   "source": [
    "list_dict = dict()\n",
    "\n",
    "list_dict[[1,2,3]] = 4"
   ]
  },
  {
   "cell_type": "code",
   "execution_count": null,
   "metadata": {},
   "outputs": [],
   "source": [
    "kids_lookup = dict()\n",
    "\n",
    "kids_lookup['homer'] = ['bart', 'lisa', 'maggie']\n",
    "kids_lookup['ned'] = ['rod', 'todd']\n",
    "\n",
    "kids_lookup"
   ]
  },
  {
   "cell_type": "markdown",
   "metadata": {},
   "source": [
    "**Exercise** Can dictionaries be used as keys to a dictionary?"
   ]
  },
  {
   "cell_type": "code",
   "execution_count": null,
   "metadata": {},
   "outputs": [],
   "source": [
    "d1 = {'name':'homer', 'weight':260}\n",
    "\n",
    "d2 = dict()\n",
    "d2[d1] = 45"
   ]
  },
  {
   "cell_type": "code",
   "execution_count": null,
   "metadata": {},
   "outputs": [],
   "source": []
  }
 ],
 "metadata": {
  "kernelspec": {
   "display_name": "Python 3 (ipykernel)",
   "language": "python",
   "name": "python3"
  },
  "language_info": {
   "codemirror_mode": {
    "name": "ipython",
    "version": 3
   },
   "file_extension": ".py",
   "mimetype": "text/x-python",
   "name": "python",
   "nbconvert_exporter": "python",
   "pygments_lexer": "ipython3",
   "version": "3.11.5"
  }
 },
 "nbformat": 4,
 "nbformat_minor": 4
}
