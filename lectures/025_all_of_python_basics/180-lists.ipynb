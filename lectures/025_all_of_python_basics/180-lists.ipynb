{
 "cells": [
  {
   "cell_type": "code",
   "execution_count": null,
   "metadata": {},
   "outputs": [],
   "source": [
    "%reload_ext postcell\n",
    "%postcell register"
   ]
  },
  {
   "cell_type": "markdown",
   "metadata": {},
   "source": [
    "# Lists\n",
    "\n",
    "Lists are one of the most important data structures in Python - in fact, all of computer science.\n",
    "\n",
    "### Creating lists\n",
    "\n",
    "Like dictionaries, lists can be created fully formed, or empty, to be populated during the execution of the program."
   ]
  },
  {
   "cell_type": "code",
   "execution_count": null,
   "metadata": {},
   "outputs": [],
   "source": [
    "us_states = [\"Michigan\", \"New York\", \"New Jersey\"]\n",
    "us_states"
   ]
  },
  {
   "cell_type": "code",
   "execution_count": null,
   "metadata": {},
   "outputs": [],
   "source": [
    "us_states = []\n",
    "\n",
    "us_states.append(\"Michigan\")\n",
    "us_states.append(\"New York\")\n",
    "us_states.append(\"New Jersey\")\n",
    "us_states.append(\"Utah\")\n",
    "us_states.append(\"California\")\n",
    "us_states.append(\"Texas\")\n",
    "\n",
    "us_states"
   ]
  },
  {
   "cell_type": "code",
   "execution_count": null,
   "metadata": {},
   "outputs": [],
   "source": [
    "us_states = list()\n",
    "\n",
    "us_states.append(\"Michigan\")\n",
    "us_states.append(\"New York\")\n",
    "us_states.append(\"New Jersey\")\n",
    "us_states.append(\"Utah\")\n",
    "us_states.append(\"California\")\n",
    "us_states.append(\"Texas\")\n",
    "\n",
    "us_states"
   ]
  },
  {
   "cell_type": "markdown",
   "metadata": {},
   "source": [
    "**Exercise** If you need to create an emptpy list, which method do you prefer: `list` or `[]`?\n",
    "\n",
    "### Accessing items in a list\n",
    "The most common method of accessing items in a list is via the index syntax:"
   ]
  },
  {
   "cell_type": "code",
   "execution_count": null,
   "metadata": {},
   "outputs": [],
   "source": [
    "us_states[0]"
   ]
  },
  {
   "cell_type": "code",
   "execution_count": null,
   "metadata": {},
   "outputs": [],
   "source": [
    "us_states[-1]"
   ]
  },
  {
   "cell_type": "code",
   "execution_count": null,
   "metadata": {},
   "outputs": [],
   "source": [
    "us_states[-2]"
   ]
  },
  {
   "cell_type": "markdown",
   "metadata": {},
   "source": [
    "### Checking for membership using the `in` operator\n",
    "\n",
    "Much like dictionaries, lists work with the `in` operator to check for membership:"
   ]
  },
  {
   "cell_type": "code",
   "execution_count": null,
   "metadata": {},
   "outputs": [],
   "source": [
    "\"IL\" in [\"IL\", \"MI\", \"WI\", \"NY\", \"NJ\"]"
   ]
  },
  {
   "cell_type": "code",
   "execution_count": null,
   "metadata": {},
   "outputs": [],
   "source": [
    "\"UT\" in [\"IL\", \"MI\", \"WI\", \"NY\", \"NJ\"]"
   ]
  },
  {
   "cell_type": "markdown",
   "metadata": {},
   "source": [
    "**Exercise** Does \"HI\" exist in the list `[\"IL\", \"MI\", \"WI\", \"NY\", \"NJ\"]`?"
   ]
  },
  {
   "cell_type": "code",
   "execution_count": null,
   "metadata": {},
   "outputs": [],
   "source": [
    "%%postcell exercise_025_180_a\n",
    "\n",
    "#type your answer here"
   ]
  },
  {
   "cell_type": "markdown",
   "metadata": {},
   "source": [
    "### Removing items from a list\n",
    "\n",
    "Many programmers can go quite far in their programming career, without having to _remove_ an item from a list. Python does provide three methods of removing items:\n",
    "* del array[index]\n",
    "* list.remove(element)\n",
    "* list.pop() \n",
    "\n",
    "Example of _.remove(element_value_to_remove)_"
   ]
  },
  {
   "cell_type": "code",
   "execution_count": null,
   "metadata": {},
   "outputs": [],
   "source": [
    "%%timeit\n",
    "names = ['homer', 'marge', 'bart', 'lisa']\n",
    "names.remove('bart')\n",
    "names"
   ]
  },
  {
   "cell_type": "markdown",
   "metadata": {},
   "source": [
    "Removing item at a specific location (remember that python lists are zero based):"
   ]
  },
  {
   "cell_type": "code",
   "execution_count": null,
   "metadata": {},
   "outputs": [],
   "source": [
    "%%timeit\n",
    "names = ['homer', 'marge', 'bart', 'lisa']\n",
    "del names[2]\n",
    "names"
   ]
  },
  {
   "cell_type": "markdown",
   "metadata": {},
   "source": [
    "Pop the last item from the list:"
   ]
  },
  {
   "cell_type": "code",
   "execution_count": null,
   "metadata": {},
   "outputs": [],
   "source": [
    "%%timeit\n",
    "names = ['homer', 'marge', 'bart', 'lisa']\n",
    "names.pop()\n",
    "names"
   ]
  },
  {
   "cell_type": "markdown",
   "metadata": {},
   "source": [
    "**WARNING** Be very careful about removing items _during_ an interation. Seriously "
   ]
  },
  {
   "cell_type": "markdown",
   "metadata": {},
   "source": [
    "#### Common methods used on lists"
   ]
  },
  {
   "cell_type": "code",
   "execution_count": null,
   "metadata": {},
   "outputs": [],
   "source": [
    "list_of_nums = [1,2,3,4,5,6,7,8,9]"
   ]
  },
  {
   "cell_type": "code",
   "execution_count": null,
   "metadata": {},
   "outputs": [],
   "source": [
    "max(list_of_nums) # maximum item in the list"
   ]
  },
  {
   "cell_type": "code",
   "execution_count": null,
   "metadata": {},
   "outputs": [],
   "source": [
    "min(list_of_nums) # minimum item in the list"
   ]
  },
  {
   "cell_type": "code",
   "execution_count": null,
   "metadata": {},
   "outputs": [],
   "source": [
    "len(list_of_nums) # length of the list"
   ]
  },
  {
   "cell_type": "markdown",
   "metadata": {},
   "source": [
    "You will often enoucnter lists of boolean values, very common in numpy and pandas code (to be seen in later lectures)"
   ]
  },
  {
   "cell_type": "markdown",
   "metadata": {},
   "source": [
    "**Exercise** Normalize the following list by finding the average, then subtracting the average from every element: `[23,54,10,56,43]`"
   ]
  },
  {
   "cell_type": "code",
   "execution_count": null,
   "metadata": {},
   "outputs": [],
   "source": [
    "%%postcell exercise_025_180_b\n",
    "\n",
    "#type your answer here"
   ]
  },
  {
   "cell_type": "markdown",
   "metadata": {},
   "source": [
    "How many true values in a list?"
   ]
  },
  {
   "cell_type": "code",
   "execution_count": null,
   "metadata": {},
   "outputs": [],
   "source": [
    "one_true = [False, False, True, False]\n",
    "zero_true = [False, False, False, False]\n",
    "one_false = [True, False, True, True]\n",
    "zero_false = [True, True, True, True]"
   ]
  },
  {
   "cell_type": "code",
   "execution_count": null,
   "metadata": {},
   "outputs": [],
   "source": [
    "print(any(one_true)) #are any of the elements true?\n",
    "print(any(zero_true)) #are any of the elements true?\n",
    "print(any(one_false)) #are any of the elements true?\n",
    "print(any(zero_false)) #are any of the elements true?"
   ]
  },
  {
   "cell_type": "code",
   "execution_count": null,
   "metadata": {},
   "outputs": [],
   "source": [
    "print(all(one_true)) #are all of the elements true?\n",
    "print(all(zero_true)) #are all of the elements true?\n",
    "print(all(one_false)) #are all of the elements true?\n",
    "print(all(zero_false)) #are all of the elements true?"
   ]
  },
  {
   "cell_type": "markdown",
   "metadata": {},
   "source": [
    "Reverse a list"
   ]
  },
  {
   "cell_type": "code",
   "execution_count": null,
   "metadata": {},
   "outputs": [],
   "source": [
    "reversed([1,2,3,4,5,6,7,8,9])"
   ]
  },
  {
   "cell_type": "code",
   "execution_count": null,
   "metadata": {},
   "outputs": [],
   "source": [
    "list(reversed([1,2,3,4,5,6,7,8,9]))"
   ]
  },
  {
   "cell_type": "code",
   "execution_count": null,
   "metadata": {},
   "outputs": [],
   "source": [
    "list()"
   ]
  },
  {
   "cell_type": "markdown",
   "metadata": {},
   "source": [
    "Sort a list"
   ]
  },
  {
   "cell_type": "code",
   "execution_count": null,
   "metadata": {},
   "outputs": [],
   "source": [
    "sorted([3,6,2,4,7,2,5,34,7,4])"
   ]
  },
  {
   "cell_type": "markdown",
   "metadata": {},
   "source": [
    "Combine two lists"
   ]
  },
  {
   "cell_type": "code",
   "execution_count": null,
   "metadata": {},
   "outputs": [],
   "source": [
    "first_names = [\"marge\", \"ned\", \"barney\"]\n",
    "last_names = [\"simpson\", \"flanders\", \"gumble\"]\n",
    "\n",
    "list(zip(first_names, last_names))"
   ]
  },
  {
   "cell_type": "markdown",
   "metadata": {},
   "source": [
    "**Exercise** Write a function which accepts two lists and returns a dictionary. \n",
    "\n",
    "Recall that a list of tuples can be passed to a `dict` function to convert it to a dictionary\n",
    "\n",
    "Recall that `assert` statements below will test the quality of your function and also tells you how the function will be called. "
   ]
  },
  {
   "cell_type": "code",
   "execution_count": null,
   "metadata": {},
   "outputs": [],
   "source": [
    "%%postcell exercise_025_180_c\n",
    "\n",
    "tmp_names = [\"homer\", \"marge\", \"bart\", \"lisa\"]\n",
    "tmp_ages  = [38, 36, 10, 8]\n",
    "\n",
    "def ... #type your answer here"
   ]
  },
  {
   "cell_type": "code",
   "execution_count": null,
   "metadata": {},
   "outputs": [],
   "source": [
    "tmp_names = [\"homer\", \"marge\", \"bart\", \"lisa\"]\n",
    "tmp_ages  = [38, 36, 10, 8]\n",
    "\n",
    "dict(zip(tmp_names, tmp_ages))"
   ]
  },
  {
   "cell_type": "code",
   "execution_count": null,
   "metadata": {},
   "outputs": [],
   "source": []
  },
  {
   "cell_type": "code",
   "execution_count": null,
   "metadata": {},
   "outputs": [],
   "source": [
    "assert list2dict(tmp_names, tmp_ages)['homer'] == 38\n",
    "assert list2dict(tmp_names, tmp_ages)['marge'] == 36\n",
    "assert list2dict(tmp_names, tmp_ages)['bart'] == 10"
   ]
  },
  {
   "cell_type": "code",
   "execution_count": null,
   "metadata": {},
   "outputs": [],
   "source": []
  },
  {
   "cell_type": "markdown",
   "metadata": {},
   "source": [
    "### Interesting slicing tricks"
   ]
  },
  {
   "cell_type": "markdown",
   "metadata": {},
   "source": [
    "You have already simple slice usage:"
   ]
  },
  {
   "cell_type": "code",
   "execution_count": null,
   "metadata": {},
   "outputs": [],
   "source": [
    "us_states = ['Michigan', 'New York', 'New Jersey', 'Utah', 'California', 'Texas']"
   ]
  },
  {
   "cell_type": "code",
   "execution_count": null,
   "metadata": {},
   "outputs": [],
   "source": [
    "us_states[0:2] # Get first two items"
   ]
  },
  {
   "cell_type": "code",
   "execution_count": null,
   "metadata": {},
   "outputs": [],
   "source": [
    "us_states[1:] # skip the first value, return all others"
   ]
  },
  {
   "cell_type": "markdown",
   "metadata": {},
   "source": [
    "**Exercise** Get the last two values in array `us_states`"
   ]
  },
  {
   "cell_type": "code",
   "execution_count": null,
   "metadata": {},
   "outputs": [],
   "source": [
    "%%postcell exercise_025_180_d\n",
    "\n",
    "#type your answer here"
   ]
  },
  {
   "cell_type": "markdown",
   "metadata": {},
   "source": [
    "Pair off values in a list"
   ]
  },
  {
   "cell_type": "code",
   "execution_count": null,
   "metadata": {},
   "outputs": [],
   "source": [
    "list(zip(us_states, us_states[1:]))"
   ]
  },
  {
   "cell_type": "markdown",
   "metadata": {},
   "source": [
    "**Exercise** How does the code above work?"
   ]
  },
  {
   "cell_type": "markdown",
   "metadata": {},
   "source": [
    "### For loops"
   ]
  },
  {
   "cell_type": "code",
   "execution_count": null,
   "metadata": {},
   "outputs": [],
   "source": [
    "us_states_small = [\"michigan\", \"new york\", \"new jersey\", \"utah\", \"california\", \"texas\"]\n",
    "for state in us_states_small:\n",
    "    print(state)"
   ]
  },
  {
   "cell_type": "code",
   "execution_count": null,
   "metadata": {},
   "outputs": [],
   "source": [
    "for state in us_states_small:\n",
    "    print(state.capitalize(), \"is a beautiful state\")"
   ]
  },
  {
   "cell_type": "code",
   "execution_count": null,
   "metadata": {},
   "outputs": [],
   "source": [
    "for state in us_states_small:\n",
    "    if(state != \"texas\"):\n",
    "      print(state.capitalize(), \"is in the north\")"
   ]
  },
  {
   "cell_type": "markdown",
   "metadata": {},
   "source": [
    "**Exercise** Show all states which begin with the letter \"n\" or \"N\""
   ]
  },
  {
   "cell_type": "code",
   "execution_count": null,
   "metadata": {},
   "outputs": [],
   "source": [
    "%%postcell exercise_025_180_e\n",
    "\n",
    "#type your answer here"
   ]
  },
  {
   "cell_type": "markdown",
   "metadata": {},
   "source": [
    "#### Using enumerate to access the index of an element\n",
    "\n",
    "There are times when you need to know the index of an element in a list. If asked to iterate over only the first three states, by now, you should know that you can do this:"
   ]
  },
  {
   "cell_type": "code",
   "execution_count": null,
   "metadata": {},
   "outputs": [],
   "source": [
    "for state in us_states_small[:3]: print(state)"
   ]
  },
  {
   "cell_type": "markdown",
   "metadata": {},
   "source": [
    "Python provides another way, to surround the list with `enumerate` (note that enumerate returns a `tuple` of an index value and an item from the list being iterated):"
   ]
  },
  {
   "cell_type": "code",
   "execution_count": null,
   "metadata": {},
   "outputs": [],
   "source": [
    "for index, state in enumerate(us_states_small): \n",
    "    if index < 3:\n",
    "        print(index, state)"
   ]
  },
  {
   "cell_type": "markdown",
   "metadata": {},
   "source": [
    "### Nested for loops\n",
    "For loops can be nested. Keep in mind that the inner loop will run fully, for each item in the out loop:"
   ]
  },
  {
   "cell_type": "code",
   "execution_count": null,
   "metadata": {},
   "outputs": [],
   "source": [
    "for color in ['red', 'black', 'white', 'blue']:\n",
    "    for car_type in ['sedan', 'suv', 'van']:\n",
    "        print(color, car_type)"
   ]
  },
  {
   "cell_type": "code",
   "execution_count": null,
   "metadata": {},
   "outputs": [],
   "source": []
  }
 ],
 "metadata": {
  "kernelspec": {
   "display_name": "Python 3",
   "language": "python",
   "name": "python3"
  },
  "language_info": {
   "codemirror_mode": {
    "name": "ipython",
    "version": 3
   },
   "file_extension": ".py",
   "mimetype": "text/x-python",
   "name": "python",
   "nbconvert_exporter": "python",
   "pygments_lexer": "ipython3",
   "version": "3.8.5"
  }
 },
 "nbformat": 4,
 "nbformat_minor": 4
}
