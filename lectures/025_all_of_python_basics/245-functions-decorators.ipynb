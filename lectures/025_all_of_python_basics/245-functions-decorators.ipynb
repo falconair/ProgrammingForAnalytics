{
 "cells": [
  {
   "cell_type": "code",
   "execution_count": null,
   "id": "7c2575e6-1273-42e9-ad29-947d417bc738",
   "metadata": {},
   "outputs": [],
   "source": [
    "%reload_ext postcell\n",
    "%postcell register"
   ]
  },
  {
   "cell_type": "markdown",
   "id": "18ed7da1-21a8-44af-8361-63aa35dacfd0",
   "metadata": {},
   "source": [
    "# Decorators"
   ]
  },
  {
   "cell_type": "markdown",
   "id": "1ae82874-a2d8-4fa2-841c-0b3776294f1d",
   "metadata": {},
   "source": [
    "Python is among several languages which provides a way to _annotate_ or _decorate_ functions. This is an extremely powerful feature, although not always without caveats. Before we get into decorators, we need to review some concepts from the 'higher order functions' lecture.\n",
    "\n",
    "Recall that functions are normal objects"
   ]
  },
  {
   "cell_type": "code",
   "execution_count": null,
   "id": "88f6801c-afa5-4619-8833-2e4b30ed6fd7",
   "metadata": {
    "tags": []
   },
   "outputs": [],
   "source": [
    "def myfunc(): return 10"
   ]
  },
  {
   "cell_type": "code",
   "execution_count": null,
   "id": "5f195e99-c1b0-427f-9e93-d198e2c46d8b",
   "metadata": {
    "tags": []
   },
   "outputs": [],
   "source": [
    "myfunc.__name__"
   ]
  },
  {
   "cell_type": "code",
   "execution_count": null,
   "id": "0cf634f6-5d97-4ba2-ab23-32ec0eb37283",
   "metadata": {
    "tags": []
   },
   "outputs": [],
   "source": [
    "x = myfunc\n",
    "x()"
   ]
  },
  {
   "cell_type": "markdown",
   "id": "07212bc0-671d-4415-aa2f-892bdcdf9c15",
   "metadata": {},
   "source": [
    "They can be passed into function"
   ]
  },
  {
   "cell_type": "code",
   "execution_count": null,
   "id": "4f86baf0-60b4-4a90-84c6-aaa649fb79ca",
   "metadata": {
    "tags": []
   },
   "outputs": [],
   "source": [
    "def double_me(n): return n * 2\n",
    "\n",
    "double_me(10)"
   ]
  },
  {
   "cell_type": "code",
   "execution_count": null,
   "id": "52a4b496-5175-4b2f-8238-12d3931639f6",
   "metadata": {
    "tags": []
   },
   "outputs": [],
   "source": [
    "list(map(double_me, [1,2,3,4,5,6,7,8,9]))"
   ]
  },
  {
   "cell_type": "markdown",
   "id": "ca1f132c-e0bb-414e-971d-78b24d122b07",
   "metadata": {},
   "source": [
    "Functions can even be returned from functions"
   ]
  },
  {
   "cell_type": "code",
   "execution_count": null,
   "id": "b59ed460-0d64-48df-9819-a475eb369155",
   "metadata": {
    "tags": []
   },
   "outputs": [],
   "source": [
    "def n_adder(n):\n",
    "    def adder(value):\n",
    "        return n + value\n",
    "    \n",
    "    return adder"
   ]
  },
  {
   "cell_type": "code",
   "execution_count": null,
   "id": "88bd6968-aacd-4e45-9a62-bbaaabb47043",
   "metadata": {
    "tags": []
   },
   "outputs": [],
   "source": [
    "five_adder = n_adder(5)"
   ]
  },
  {
   "cell_type": "code",
   "execution_count": null,
   "id": "f9b19d15-6f96-4f8f-a94c-9144a5005961",
   "metadata": {
    "tags": []
   },
   "outputs": [],
   "source": [
    "five_adder(1)"
   ]
  },
  {
   "cell_type": "code",
   "execution_count": null,
   "id": "c25b8f40-3464-4b92-b53f-a3cc40900c0b",
   "metadata": {
    "tags": []
   },
   "outputs": [],
   "source": [
    "five_adder(2)"
   ]
  },
  {
   "cell_type": "markdown",
   "id": "4bf37c28-e32e-41c8-af68-a32aee5164c8",
   "metadata": {},
   "source": [
    "`five_adder` isn't the most useful function however. Soon we will see some useful examples, but let's also review `*args` and `*kwargs`"
   ]
  },
  {
   "cell_type": "markdown",
   "id": "ca34b6e5-0c44-4414-bfee-9f3abb28d22d",
   "metadata": {},
   "source": [
    "#### `*args` and `*kwargs` review"
   ]
  },
  {
   "cell_type": "markdown",
   "id": "92a3567a-fefe-49a4-b081-627a96b79f01",
   "metadata": {},
   "source": [
    "We saw examples of functions which either take no arguments or a single argument. We _know_ how many arguments it takes. What if we didn't know how many arguments a function takes? We can use the `*args` to pass in arguments as a list and have Python convert them to proper function parameters"
   ]
  },
  {
   "cell_type": "markdown",
   "id": "86c38e1d-7eb2-41a0-9635-2c8d0b7e5618",
   "metadata": {
    "tags": []
   },
   "source": [
    "`pow` takes two arguments"
   ]
  },
  {
   "cell_type": "code",
   "execution_count": null,
   "id": "4c43dab7-8f20-4ae8-80cc-74475bd13676",
   "metadata": {
    "tags": []
   },
   "outputs": [],
   "source": [
    "pow(10,2)"
   ]
  },
  {
   "cell_type": "markdown",
   "id": "26b47969-766a-4f6d-a095-0cd50fc602ca",
   "metadata": {},
   "source": [
    "Obviously, it does NOT take a list with two arguments"
   ]
  },
  {
   "cell_type": "code",
   "execution_count": null,
   "id": "fe204d24-7dd0-4abd-8d91-1b529efc304c",
   "metadata": {
    "tags": []
   },
   "outputs": [],
   "source": [
    "pow([10, 2]) "
   ]
  },
  {
   "cell_type": "markdown",
   "id": "bdd53066-4ef5-4ee2-b0ff-28e747f33cc5",
   "metadata": {},
   "source": [
    "However, by using the `*` before a list, we can tell Python to conver the elements in the list to function parameters"
   ]
  },
  {
   "cell_type": "code",
   "execution_count": null,
   "id": "bf93309b-ede2-4792-98fe-d34f184e01e4",
   "metadata": {
    "tags": []
   },
   "outputs": [],
   "source": [
    "pow(*[10,2]) "
   ]
  },
  {
   "cell_type": "markdown",
   "id": "932832fa-a6da-486a-bf18-87fbb7ff996b",
   "metadata": {},
   "source": [
    "Similarly, we can pass named parameters to the `open` function"
   ]
  },
  {
   "cell_type": "code",
   "execution_count": null,
   "id": "3cc42099-8de8-4e9e-afa9-337154e00adb",
   "metadata": {
    "tags": []
   },
   "outputs": [],
   "source": [
    "open(file='../../postcell.conf', mode='r').readlines()"
   ]
  },
  {
   "cell_type": "markdown",
   "id": "56ca6bce-032b-402d-9536-cb993011032a",
   "metadata": {},
   "source": [
    "Obviously we can't pass in a dictionary of named parameters"
   ]
  },
  {
   "cell_type": "code",
   "execution_count": null,
   "id": "0bb7353f-1588-4d80-9dfb-b96c38c5ed45",
   "metadata": {
    "tags": []
   },
   "outputs": [],
   "source": [
    "open({'file':'../../postcell.conf', 'mode':'r'}).readlines()"
   ]
  },
  {
   "cell_type": "markdown",
   "id": "e4422ecc-9c01-4a65-83cd-d323143cc1ac",
   "metadata": {},
   "source": [
    "But, we can tell Python to convert this dictionary to named parameters by prefixing the dictionary with `**`"
   ]
  },
  {
   "cell_type": "code",
   "execution_count": null,
   "id": "9b826b1e-a2c3-45d2-90dd-b12364f49cbd",
   "metadata": {
    "tags": []
   },
   "outputs": [],
   "source": [
    "open(**{'file':'../../postcell.conf', 'mode':'r'}).readlines()"
   ]
  },
  {
   "cell_type": "markdown",
   "id": "7e67119d-1dfe-4d19-a17d-0a0282db0d57",
   "metadata": {},
   "source": [
    "Given what we have reviewd, we can now write a couple of very useful function wrappers"
   ]
  },
  {
   "cell_type": "markdown",
   "id": "c0b81c6f-a68e-41f4-8b56-b872b313ac66",
   "metadata": {},
   "source": [
    "#### timer wrapper"
   ]
  },
  {
   "cell_type": "code",
   "execution_count": null,
   "id": "2688b5bb-8251-47a7-bf9f-62d7f3158ed0",
   "metadata": {
    "tags": []
   },
   "outputs": [],
   "source": [
    "import time\n",
    "\n",
    "def timer(f, *args, **kwargs):\n",
    "    start = time.time()\n",
    "    rslt = f(*args, **kwargs)\n",
    "    end = time.time()\n",
    "    print(f\"Function {f.__name__} took {end-start} seconds to execute\")\n",
    "    return rslt"
   ]
  },
  {
   "cell_type": "code",
   "execution_count": null,
   "id": "d716f556-cf65-425e-86c8-e1c8843f54af",
   "metadata": {
    "tags": []
   },
   "outputs": [],
   "source": [
    "timer(open, **{'file':'../../postcell.conf', 'mode':'r'})"
   ]
  },
  {
   "cell_type": "code",
   "execution_count": null,
   "id": "a52360f8-ff01-41b1-996b-9bf0e33f8f63",
   "metadata": {
    "tags": []
   },
   "outputs": [],
   "source": [
    "timer(lambda x: sum(range(x)), 10_000_000)"
   ]
  },
  {
   "cell_type": "markdown",
   "id": "a3799b50-1d36-430b-8e5f-2ef486fea9ca",
   "metadata": {},
   "source": [
    "#### logger wrapper"
   ]
  },
  {
   "cell_type": "code",
   "execution_count": null,
   "id": "ab8ce2ac-0cde-4c41-8ee4-1f762607d9ce",
   "metadata": {
    "tags": []
   },
   "outputs": [],
   "source": [
    "def logger(f, *args, **kwargs):\n",
    "    print(f\"Starting execution of function {f.__name__}\")\n",
    "    rslt = f(*args, **kwargs)\n",
    "    print(f\"Finished execution of function {f.__name__}\")\n",
    "    return rslt"
   ]
  },
  {
   "cell_type": "code",
   "execution_count": null,
   "id": "273966f9-605a-4cc0-a883-4ceba593bbcd",
   "metadata": {
    "tags": []
   },
   "outputs": [],
   "source": [
    "logger(open, **{'file':'../../postcell.conf', 'mode':'r'})"
   ]
  },
  {
   "cell_type": "markdown",
   "id": "4dd62e39-f765-4598-ab93-285e45418ea5",
   "metadata": {},
   "source": [
    "#### A better integrated logger\n",
    "The logger above is very useful, but it changes the syntax of Python. Every function needs to be wrapped in the `logger` function. What if we could continue to call functions as before, but also get the benefits of wrapper functions?"
   ]
  },
  {
   "cell_type": "code",
   "execution_count": null,
   "id": "79d0cbfa-aeef-43e1-a7eb-3d121ab9220b",
   "metadata": {
    "tags": []
   },
   "outputs": [],
   "source": [
    "def logger2(f):\n",
    "    def inner_func(*args, **kwargs):\n",
    "        print(f\"Starting execution of function {f.__name__}\")\n",
    "        rslt = f(*args, **kwargs)\n",
    "        print(f\"Finished execution of function {f.__name__}\")\n",
    "        return rslt\n",
    "    return inner_func"
   ]
  },
  {
   "cell_type": "code",
   "execution_count": null,
   "id": "e0421d6d-83ba-4f8b-be3d-951be65bb02b",
   "metadata": {
    "tags": []
   },
   "outputs": [],
   "source": [
    "def say_hello(name): return f\"Hello {name}\""
   ]
  },
  {
   "cell_type": "code",
   "execution_count": null,
   "id": "d25bb6b0-eeae-4783-b6a9-8ef04d78a6ea",
   "metadata": {
    "tags": []
   },
   "outputs": [],
   "source": [
    "say_hello(\"Shahbaz\")"
   ]
  },
  {
   "cell_type": "code",
   "execution_count": null,
   "id": "8f63bb28-ad62-4bae-bcf0-18eb103c450e",
   "metadata": {
    "tags": []
   },
   "outputs": [],
   "source": [
    "logger(say_hello, \"Shahbaz\")"
   ]
  },
  {
   "cell_type": "code",
   "execution_count": null,
   "id": "fd7ef2b2-aa36-44fc-8728-fe36323e74cf",
   "metadata": {
    "tags": []
   },
   "outputs": [],
   "source": [
    "say_hello2 = logger2(say_hello)"
   ]
  },
  {
   "cell_type": "code",
   "execution_count": null,
   "id": "c3ed8746-3af1-40da-bdc5-182fcb8f153f",
   "metadata": {
    "tags": []
   },
   "outputs": [],
   "source": [
    "say_hello2(\"Shahbaz\")"
   ]
  },
  {
   "cell_type": "markdown",
   "id": "c1456f9b-e7a2-49e3-a33f-c716c36252fa",
   "metadata": {},
   "source": [
    "### Decorators\n",
    "Decorators are a way in which certain annotated function are wrapped in other functions, before being called."
   ]
  },
  {
   "cell_type": "code",
   "execution_count": null,
   "id": "638cf2e3-0f23-4b2f-994a-a40c64f2a92e",
   "metadata": {
    "tags": []
   },
   "outputs": [],
   "source": [
    "@logger2\n",
    "def say_bye(name):\n",
    "    return f\"Good bye {name}\""
   ]
  },
  {
   "cell_type": "code",
   "execution_count": null,
   "id": "fcd27953-5ace-4d9a-a10b-c4cc4a732324",
   "metadata": {
    "tags": []
   },
   "outputs": [],
   "source": [
    "say_bye(\"Shahbaz\")"
   ]
  },
  {
   "cell_type": "markdown",
   "id": "f46367cb-2577-411d-ae3b-e5f6a98ba144",
   "metadata": {},
   "source": [
    "Wrappers are called, even if the wrapped function is not"
   ]
  },
  {
   "cell_type": "code",
   "execution_count": null,
   "id": "54010e04-cb3a-4c1d-b978-7baa7d8953db",
   "metadata": {
    "tags": []
   },
   "outputs": [],
   "source": [
    "def wrapper(f):\n",
    "    print(f\"Just executed 'wrapper' for function {f.__name__}\")\n",
    "\n",
    "\n",
    "@wrapper\n",
    "def hello():\n",
    "    print(\"Just executed 'wrapper'\")\n",
    "    return \"Hello\"\n",
    "\n",
    "#hello() #<= Notice that we have not run this yet!"
   ]
  },
  {
   "cell_type": "markdown",
   "id": "b7e904b8-12cb-4a8f-be6e-9b0c1510db3d",
   "metadata": {},
   "source": [
    "Decorators with arguments behave unexpectedly"
   ]
  },
  {
   "cell_type": "code",
   "execution_count": null,
   "id": "3f769016-f08a-4490-81ad-5abf58314a2c",
   "metadata": {
    "tags": []
   },
   "outputs": [],
   "source": [
    "def wrapper(p1, p2):\n",
    "    print(f\"Just executed 'wrapper' for arguments {p1} and {p2}\")\n",
    "    def inner_wrapper(f):\n",
    "        print(f\"Just executed 'inner_wrapper' for function {f.__name__}\")\n",
    "    return inner_wrapper\n",
    "    \n",
    "\n",
    "@wrapper(\"Homer\", \"Marge\")\n",
    "def hello():\n",
    "    print(\"Just executed 'wrapper'\")\n",
    "    return \"Hello\"\n",
    "\n",
    "#hello() #<= Notice that we have not run this yet!"
   ]
  },
  {
   "cell_type": "markdown",
   "id": "3c5c9c8f-d30d-45f2-88a5-1b84210783e3",
   "metadata": {},
   "source": [
    "You can wrap a function in multiple decorators"
   ]
  },
  {
   "cell_type": "code",
   "execution_count": null,
   "id": "ff847cea-4faa-4be6-8338-b4a9c7ac5e84",
   "metadata": {
    "tags": []
   },
   "outputs": [],
   "source": [
    "def wrapper1(f):\n",
    "    print(f\"Just executed 'wrapper1' for function {f.__name__}\")\n",
    "\n",
    "def wrapper2(f):\n",
    "    print(f\"Just executed 'wrapper2' for function {f.__name__}\")\n",
    "    return f # <= Why do I have to return this function??\n",
    "\n",
    "\n",
    "@wrapper1\n",
    "@wrapper2 #<= This executes first and the output of this is passed to wrapper 2\n",
    "def hello():\n",
    "    print(\"Just executed 'wrapper'\")\n",
    "    return \"Hello\"\n",
    "\n",
    "#hello() #<= Notice that we have not run this yet!"
   ]
  },
  {
   "cell_type": "markdown",
   "id": "5c307548-1cc9-4c1c-906f-df6680755455",
   "metadata": {},
   "source": [
    "#### Decorator examples"
   ]
  },
  {
   "cell_type": "markdown",
   "id": "a2197db2-71e0-46d3-93d0-304abf40e70c",
   "metadata": {
    "tags": []
   },
   "source": [
    "##### Logger"
   ]
  },
  {
   "cell_type": "code",
   "execution_count": null,
   "id": "31dc5c50-4558-4c1a-8aab-50aa74687bce",
   "metadata": {
    "tags": []
   },
   "outputs": [],
   "source": [
    "def log(f):\n",
    "    def decorate(*args, **kwargs):\n",
    "        print(f\"Starting execution of function {f.__name__}\")\n",
    "        rslt = f(*args, **kwargs)\n",
    "        print(f\"Finished execution of function {f.__name__}\")\n",
    "        return rslt\n",
    "    \n",
    "    return decorate"
   ]
  },
  {
   "cell_type": "code",
   "execution_count": null,
   "id": "9650b5f3-bda3-403b-aaed-0a791e29c531",
   "metadata": {
    "tags": []
   },
   "outputs": [],
   "source": [
    "@log\n",
    "def say_hello(name):\n",
    "    return f\"Hello {name}\""
   ]
  },
  {
   "cell_type": "code",
   "execution_count": null,
   "id": "b64d3b88-be6e-449e-b6c6-a475d43a45f9",
   "metadata": {
    "tags": []
   },
   "outputs": [],
   "source": [
    "say_hello(\"Shahbaz\")"
   ]
  },
  {
   "cell_type": "markdown",
   "id": "2c34389b-7ea5-4b20-959e-6dc2366f0121",
   "metadata": {},
   "source": [
    "##### Timer"
   ]
  },
  {
   "cell_type": "code",
   "execution_count": null,
   "id": "41c07aae-c9b3-4df7-8f94-294a5a96cb1f",
   "metadata": {
    "tags": []
   },
   "outputs": [],
   "source": [
    "import time\n",
    "\n",
    "def timeit(f):\n",
    "    def decorate(*args, **kwargs):\n",
    "        start = time.time()\n",
    "        rslt = f(*args, **kwargs)\n",
    "        end = time.time()\n",
    "        print(f\"Function {f.__name__} took {end-start} seconds to execute\")\n",
    "        return rslt\n",
    "\n",
    "    return decorate"
   ]
  },
  {
   "cell_type": "code",
   "execution_count": null,
   "id": "48b96024-c9ea-4a58-a198-db309566d357",
   "metadata": {
    "tags": []
   },
   "outputs": [],
   "source": [
    "@timeit\n",
    "def say_bye(name):\n",
    "    return f\"Bye {name}\""
   ]
  },
  {
   "cell_type": "code",
   "execution_count": null,
   "id": "79104c2d-3d8a-4e40-aec3-b1e21e42555b",
   "metadata": {
    "tags": []
   },
   "outputs": [],
   "source": [
    "say_bye(\"Shahbaz\")"
   ]
  },
  {
   "cell_type": "markdown",
   "id": "5e8d666c-5546-4c8c-9f5a-15ac83daa6b6",
   "metadata": {},
   "source": [
    "#### Cacher"
   ]
  },
  {
   "cell_type": "code",
   "execution_count": null,
   "id": "7b961996-acff-499e-a352-a1937fa7de44",
   "metadata": {
    "tags": []
   },
   "outputs": [],
   "source": [
    "def cache(f):\n",
    "    c = dict()\n",
    "    def decorate(*args):\n",
    "        # Warning: this will not work for functions which have keyword arguments\n",
    "        v = c.get(args, None)\n",
    "        \n",
    "        if v:\n",
    "            print(\"Cached value found, no need to call the function\")\n",
    "            return v\n",
    "        else:\n",
    "            rslt = f(*args)\n",
    "            c[args] = rslt\n",
    "        return rslt\n",
    "    \n",
    "    return decorate"
   ]
  },
  {
   "cell_type": "code",
   "execution_count": null,
   "id": "71a9fbce-a650-492f-9d09-41312d6d8b7e",
   "metadata": {
    "tags": []
   },
   "outputs": [],
   "source": [
    "@cache\n",
    "def say_howdy(name):\n",
    "    print(\"Running howdy\")\n",
    "    return f\"Howdy {name}\""
   ]
  },
  {
   "cell_type": "code",
   "execution_count": null,
   "id": "d5cbeb6d-60b3-4852-91c1-898757e15c98",
   "metadata": {
    "tags": []
   },
   "outputs": [],
   "source": [
    "say_howdy(\"Shahbaz\")"
   ]
  },
  {
   "cell_type": "code",
   "execution_count": null,
   "id": "d808d2c0-38a4-470a-b9ca-f47953d6b28d",
   "metadata": {
    "tags": []
   },
   "outputs": [],
   "source": [
    "say_howdy(\"Shahbaz\")"
   ]
  },
  {
   "cell_type": "code",
   "execution_count": null,
   "id": "76def476-1143-4648-932a-460795135ab5",
   "metadata": {
    "tags": []
   },
   "outputs": [],
   "source": [
    "say_howdy(\"Shahbaz\")"
   ]
  },
  {
   "cell_type": "code",
   "execution_count": null,
   "id": "d8fca112-0eff-4ad9-913a-6f3fbf059d99",
   "metadata": {
    "tags": []
   },
   "outputs": [],
   "source": [
    "say_howdy(\"Homer\")"
   ]
  },
  {
   "cell_type": "code",
   "execution_count": null,
   "id": "f20504da-7f73-43cc-9cb4-5c1b8b1c780c",
   "metadata": {
    "tags": []
   },
   "outputs": [],
   "source": [
    "say_howdy(\"Homer\")"
   ]
  },
  {
   "cell_type": "code",
   "execution_count": null,
   "id": "d726690a-08ed-494d-aa69-d4b0f103e2f6",
   "metadata": {
    "tags": []
   },
   "outputs": [],
   "source": [
    "say_howdy(\"Shahbaz\")"
   ]
  },
  {
   "cell_type": "markdown",
   "id": "e8c5baaf-e38f-4610-ac43-c16de3e8343c",
   "metadata": {},
   "source": [
    "**Exercise**  Write a decorator which executes functions twice. You should be able to call it as such:]\n",
    "\n",
    "```python\n",
    "@double\n",
    "say_howdy('Marge')\n",
    "```"
   ]
  },
  {
   "cell_type": "code",
   "execution_count": null,
   "id": "b1104deb-3106-4b8c-88ba-27dec8907c21",
   "metadata": {},
   "outputs": [],
   "source": [
    "%%postcell exercise_025_245_a\n",
    "\n",
    "#type your answer here"
   ]
  },
  {
   "cell_type": "markdown",
   "id": "181d531a-4914-4163-a2e3-282d00c0de64",
   "metadata": {},
   "source": [
    "**Decorators are not always great**\n",
    "The author of these notes is not always a fan of decorators. They can intorduce too much \"magic.\" They break the normal flow of the way programs are read by programmers. Given a function, the developer can see the class it belongs to, follow the line by line logic and confirm the inputs and the outputs. A wrapper function can remove the ability to read code in a linear fashion. Developers should be careful when using decorators."
   ]
  },
  {
   "cell_type": "markdown",
   "id": "7092b592-82ba-4ef9-bc1b-b386f69db9d5",
   "metadata": {},
   "source": [
    "p.s."
   ]
  },
  {
   "cell_type": "markdown",
   "id": "0f6d4ef0-a3a3-4692-aef8-762856e281b9",
   "metadata": {},
   "source": [
    "Weirdly, some examples in this lecture are very similar to the examples in https://realpython.com/primer-on-python-decorators, although the author of these notes didn't reference that web page until after the initial draft."
   ]
  },
  {
   "cell_type": "code",
   "execution_count": null,
   "id": "97651fc8-8a75-4f71-8ad3-2c12679661b0",
   "metadata": {},
   "outputs": [],
   "source": []
  }
 ],
 "metadata": {
  "kernelspec": {
   "display_name": "adv_python",
   "language": "python",
   "name": "adv_python"
  },
  "language_info": {
   "codemirror_mode": {
    "name": "ipython",
    "version": 3
   },
   "file_extension": ".py",
   "mimetype": "text/x-python",
   "name": "python",
   "nbconvert_exporter": "python",
   "pygments_lexer": "ipython3",
   "version": "3.11.5"
  }
 },
 "nbformat": 4,
 "nbformat_minor": 5
}
