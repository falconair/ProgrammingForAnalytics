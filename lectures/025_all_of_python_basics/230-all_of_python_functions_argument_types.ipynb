{
 "cells": [
  {
   "cell_type": "code",
   "execution_count": null,
   "metadata": {},
   "outputs": [],
   "source": [
    "%reload_ext postcell\n",
    "%postcell register"
   ]
  },
  {
   "cell_type": "markdown",
   "metadata": {},
   "source": [
    "# Function argument types and more on scopes\n",
    "\n",
    "This lecture introduces optional arguments, keyword arguments and accessing variables from the global scope.\n",
    "\n",
    "Let's take a look at our old friend `range`"
   ]
  },
  {
   "cell_type": "code",
   "execution_count": null,
   "metadata": {
    "tags": []
   },
   "outputs": [],
   "source": [
    "range?"
   ]
  },
  {
   "cell_type": "markdown",
   "metadata": {},
   "source": [
    "Notice that the documentation shows a few ways this function can be used:\n",
    "\n",
    "```doc\n",
    "range(stop) -> range object\n",
    "range(start, stop[, step]) -> range object\n",
    "...\n",
    "```\n",
    "\n",
    "The first line tells us that `range` takes a single argument, the stopping point:"
   ]
  },
  {
   "cell_type": "code",
   "execution_count": null,
   "metadata": {
    "tags": []
   },
   "outputs": [],
   "source": [
    "range(10)"
   ]
  },
  {
   "cell_type": "code",
   "execution_count": null,
   "metadata": {
    "tags": []
   },
   "outputs": [],
   "source": [
    "list(range(10))"
   ]
  },
  {
   "cell_type": "markdown",
   "metadata": {},
   "source": [
    "The second line is a bit more confusing, it says we can have start and stop values...and something weird about step:"
   ]
  },
  {
   "cell_type": "code",
   "execution_count": null,
   "metadata": {
    "tags": []
   },
   "outputs": [],
   "source": [
    "list(range(10,20))"
   ]
  },
  {
   "cell_type": "code",
   "execution_count": null,
   "metadata": {
    "tags": []
   },
   "outputs": [],
   "source": [
    "list(range(10,20,2))"
   ]
  },
  {
   "cell_type": "markdown",
   "metadata": {},
   "source": [
    "So the _step_ argument seems to be _optional_. If we don't provide it, _step_ can be thought of as 1.\n",
    "\n",
    "How is this done?"
   ]
  },
  {
   "cell_type": "markdown",
   "metadata": {},
   "source": [
    "### Optional arguments\n",
    "\n",
    "Python functions can have default values:"
   ]
  },
  {
   "cell_type": "code",
   "execution_count": null,
   "metadata": {
    "tags": []
   },
   "outputs": [],
   "source": [
    "def greeting(name, greet=\"Hello\"):\n",
    "    print(greet, name)"
   ]
  },
  {
   "cell_type": "code",
   "execution_count": null,
   "metadata": {
    "tags": []
   },
   "outputs": [],
   "source": [
    "greeting(\"Shahbaz\")"
   ]
  },
  {
   "cell_type": "code",
   "execution_count": null,
   "metadata": {
    "tags": []
   },
   "outputs": [],
   "source": [
    "greeting(\"Shahbaz\", greet=\"Yo\")"
   ]
  },
  {
   "cell_type": "code",
   "execution_count": null,
   "metadata": {
    "tags": []
   },
   "outputs": [],
   "source": [
    "greeting(\"Shahbaz\", \"Yo\")"
   ]
  },
  {
   "cell_type": "markdown",
   "metadata": {},
   "source": [
    "**Exercise** Write a function which prints a person's name 5 times. However, the caller of the function can override that number with a value of their own."
   ]
  },
  {
   "cell_type": "markdown",
   "metadata": {},
   "source": [
    "### Keyword arguments\n",
    "\n",
    "In python, arguments can be referenced by position, as we have been doing all along, or by keywords:"
   ]
  },
  {
   "cell_type": "code",
   "execution_count": null,
   "metadata": {},
   "outputs": [],
   "source": [
    "greeting(greet=\"What's up\", name=\"Shahbaz\")"
   ]
  },
  {
   "cell_type": "markdown",
   "metadata": {},
   "source": [
    "Many existing functions can be used with explicit keyword arguments:"
   ]
  },
  {
   "cell_type": "code",
   "execution_count": null,
   "metadata": {},
   "outputs": [],
   "source": [
    "open?"
   ]
  },
  {
   "cell_type": "markdown",
   "metadata": {},
   "source": [
    "```\n",
    "...\n",
    "open(\n",
    "    file,\n",
    "    mode='r',\n",
    "    buffering=-1,\n",
    "    encoding=None,\n",
    "    errors=None,\n",
    "    newline=None,\n",
    "    closefd=True,\n",
    "    opener=None,\n",
    ")\n",
    "...\n",
    "```"
   ]
  },
  {
   "cell_type": "code",
   "execution_count": null,
   "metadata": {},
   "outputs": [],
   "source": [
    "#Normal usage\n",
    "open(\"all_of_python_functions_argument_types.ipynb\", \"r\").readlines()[:10]"
   ]
  },
  {
   "cell_type": "code",
   "execution_count": null,
   "metadata": {},
   "outputs": [],
   "source": [
    "#Arguments can be used positionally or in terms of keyword\n",
    "open(file=\"all_of_python_functions_argument_types.ipynb\", mode=\"r\").readlines()[:10]"
   ]
  },
  {
   "cell_type": "code",
   "execution_count": null,
   "metadata": {},
   "outputs": [],
   "source": [
    "#Keywords don't have to be called in the correct order\n",
    "open(mode=\"r\", file=\"all_of_python_functions_argument_types.ipynb\").readlines()[:10]"
   ]
  },
  {
   "cell_type": "markdown",
   "metadata": {},
   "source": [
    "### Variable number of arguments\n",
    "\n",
    "#### Variable number of postional arguments\n",
    "Notice something interesting about the max function:"
   ]
  },
  {
   "cell_type": "code",
   "execution_count": null,
   "metadata": {
    "tags": []
   },
   "outputs": [],
   "source": [
    "max(1,2)"
   ]
  },
  {
   "cell_type": "code",
   "execution_count": null,
   "metadata": {
    "tags": []
   },
   "outputs": [],
   "source": [
    "max(1,2,3)"
   ]
  },
  {
   "cell_type": "code",
   "execution_count": null,
   "metadata": {
    "tags": []
   },
   "outputs": [],
   "source": [
    "max(1,2,3,4,5,6,7,8,9,10,11,12,13,15,16)"
   ]
  },
  {
   "cell_type": "markdown",
   "metadata": {},
   "source": [
    "How are we able to pass in an arbitrary list of arguments to this function?\n",
    "\n",
    "The answer is `*args`:"
   ]
  },
  {
   "cell_type": "code",
   "execution_count": null,
   "metadata": {
    "tags": []
   },
   "outputs": [],
   "source": [
    "def add_many(*nums):\n",
    "    total = 0\n",
    "    for i in nums: total += i\n",
    "    return total"
   ]
  },
  {
   "cell_type": "code",
   "execution_count": null,
   "metadata": {
    "tags": []
   },
   "outputs": [],
   "source": [
    "add_many(1,2,3,4,5,6,7,8,9,10)"
   ]
  },
  {
   "cell_type": "markdown",
   "metadata": {},
   "source": [
    "If an argument is preceeded with a `*` (star or asterisk), Python takes that to mean a list. In the `add_many` function, the `nums` argument looks like a normal list _inside_ the function. From outside the function, `add_many` seems to take on an arbitrary number of arguments.\n",
    "\n",
    "Notice that this will NOT work:"
   ]
  },
  {
   "cell_type": "code",
   "execution_count": null,
   "metadata": {
    "tags": []
   },
   "outputs": [],
   "source": [
    "# This should produce an error\n",
    "add_many([1,2,3,4,5]) # Notice that you are passing in a single argument: a list of numbers, not multiple arguments"
   ]
  },
  {
   "cell_type": "markdown",
   "metadata": {},
   "source": [
    "What if you have a list of numbers and you need `add_many` to process it? Tell Python to convert the list to arguments as such:"
   ]
  },
  {
   "cell_type": "code",
   "execution_count": null,
   "metadata": {
    "tags": []
   },
   "outputs": [],
   "source": [
    "add_many(*[1,2,3,4,5]) # ==same as==> add_many(1,2,3,4,5)"
   ]
  },
  {
   "cell_type": "markdown",
   "metadata": {},
   "source": [
    "**Exercise** Write a function `say_hello` which takes an arbitrary number of names and prints \"Hello thatname\". Here is an example function which accepts a list of names, your function should accept multiple arguments:"
   ]
  },
  {
   "cell_type": "code",
   "execution_count": null,
   "metadata": {
    "tags": []
   },
   "outputs": [],
   "source": [
    "def say_hello_lst(names):\n",
    "    for name in names:\n",
    "        print(f\"Hello {name}\")\n",
    "\n",
    "say_hello_lst([\"Homer\", \"Marge\", \"Lisa\"])"
   ]
  },
  {
   "cell_type": "code",
   "execution_count": null,
   "metadata": {},
   "outputs": [],
   "source": [
    "%%postcell exercise_025_230_a\n",
    "\n",
    "#Type code here\n",
    "\n",
    "say_hello(\"Homer\", \"Marge\", \"Lisa\")"
   ]
  },
  {
   "cell_type": "markdown",
   "metadata": {},
   "source": [
    "**Exercise** Say you have the following function, which accepts a specific number of arguments. You have the arguments in a list. Call the following function in a way that you can just pass in the list to the function"
   ]
  },
  {
   "cell_type": "code",
   "execution_count": null,
   "metadata": {
    "tags": []
   },
   "outputs": [],
   "source": [
    "def say_bye(name1, name2):\n",
    "    print(f\"Goodbye {name1}\")\n",
    "    print(f\"Goodbye {name2}\")\n",
    "\n",
    "say_bye(\"Homer\", \"Marge\")"
   ]
  },
  {
   "cell_type": "code",
   "execution_count": null,
   "metadata": {},
   "outputs": [],
   "source": [
    "%%postcell exercise_025_230_b\n",
    "\n",
    "names = [\"Bart\", \"Lisa\"]\n",
    "\n",
    "#Type code here\n",
    "say_bye(???)"
   ]
  },
  {
   "cell_type": "markdown",
   "metadata": {},
   "source": [
    "#### Variable number of keyword arguments\n",
    "\n",
    "Similar to `*list_of_args`, you can also write a function which accepts arbitrary functions:"
   ]
  },
  {
   "cell_type": "code",
   "execution_count": null,
   "metadata": {
    "tags": []
   },
   "outputs": [],
   "source": [
    "def print_many(**kwargs):\n",
    "    for key, value in kwargs.items(): print(key, value)"
   ]
  },
  {
   "cell_type": "code",
   "execution_count": null,
   "metadata": {
    "tags": []
   },
   "outputs": [],
   "source": [
    "print_many(marge=\"simpson\", monty=\"burns\", arya=\"stark\")"
   ]
  },
  {
   "cell_type": "markdown",
   "metadata": {},
   "source": [
    "The argument `kwargs` looks like a normal dictionary _inside_ the `print_many` function and normal keyword arguments outside it. The specific name `kwargs`, wich stands for \"key word arguments\" is very commonly used.\n",
    "\n",
    "Functions normally take such arguments when a set of values need to be passed to another function.\n",
    "\n",
    "**Why is this needed?**\n",
    "Recall that _matplotlib_ is an extremely popular charting package for Python. _Seaborn_ is another popular library which sits on top of _matplotlib_ and provides higher level constructs. However, even if you are drawing a seaborn chart, you can pass in values, which are handed over to the matplotlib library beneath seaborn:\n",
    "\n",
    "```doc\n",
    "Parameters:\t\n",
    "x, y : names of variables in data or vector data, optional\n",
    "\n",
    "Input data variables; must be numeric. Can pass data directly or reference columns in data.\n",
    "\n",
    "...\n",
    "\n",
    "ax : matplotlib Axes, optional\n",
    "\n",
    "Axes object to draw the plot onto, otherwise uses the current Axes.\n",
    "\n",
    "kwargs : key, value mappings\n",
    "\n",
    "Other keyword arguments are passed down to plt.plot at draw time.\n",
    "\n",
    "Returns:\t\n",
    "ax : matplotlib Axes\n",
    "\n",
    "Returns the Axes object with the plot drawn onto it.\n",
    "\n",
    "```\n",
    "\n",
    "Notice that the documetation for Seaborn above lets you pass in `kwargs`, which are passed on to the underlying matplotlib library. \n",
    "\n",
    "The docs above were coppied from: https://seaborn.pydata.org/generated/seaborn.lineplot.html"
   ]
  },
  {
   "cell_type": "markdown",
   "metadata": {},
   "source": [
    "## Accessing global variables from inside functions\n",
    "\n",
    "Global environment means all the variables which are not contained inside functions, loops, if/else statements, etc. Recall that if you define a variable inside a function, it is no longer visible after the function ends:"
   ]
  },
  {
   "cell_type": "code",
   "execution_count": null,
   "metadata": {
    "tags": []
   },
   "outputs": [],
   "source": [
    "def test_func():\n",
    "    myvar = 100\n",
    "\n",
    "print(myvar) # <= this should result in an error"
   ]
  },
  {
   "cell_type": "markdown",
   "metadata": {},
   "source": [
    "So far we have made sure that every variable we have used inside function has been passed in as an argument"
   ]
  },
  {
   "cell_type": "code",
   "execution_count": null,
   "metadata": {
    "tags": []
   },
   "outputs": [],
   "source": [
    "def test_args(arg1, arg2):\n",
    "    print(arg1, arg2, arg3) # <= this should result in an error since arg3 doesn't exist\n",
    "\n",
    "test_args(\"hello\", \"world\")"
   ]
  },
  {
   "cell_type": "markdown",
   "metadata": {},
   "source": [
    "However, functions _can_ access variables which are in the global scope:"
   ]
  },
  {
   "cell_type": "code",
   "execution_count": null,
   "metadata": {
    "tags": []
   },
   "outputs": [],
   "source": [
    "this_is_a_global_variable = 10\n",
    "\n",
    "def test_global_args(arg1, arg2):\n",
    "    print(arg1, arg2, this_is_a_global_variable)\n",
    "\n",
    "test_global_args(\"hello\", \"world\")"
   ]
  },
  {
   "cell_type": "markdown",
   "metadata": {},
   "source": [
    "Be very careful about avoiding the use of such global variables in your functions. There can be good reasons for using such variables. However, generally, this is considered bad practice. "
   ]
  },
  {
   "cell_type": "markdown",
   "metadata": {},
   "source": [
    "**Exercise** Why is this code producing the wrong answer? Please fix it."
   ]
  },
  {
   "cell_type": "code",
   "execution_count": null,
   "metadata": {
    "tags": []
   },
   "outputs": [],
   "source": [
    "test_variable_1 = 23\n",
    "test_variable_2 = 23\n",
    "test_variable_3 = 23\n",
    "\n",
    "def add_variables(test_variable_a, test_variable_b):\n",
    "    return test_variable_a + test_variable_2\n",
    "\n",
    "add_variables(10, 10) # should produce 20!"
   ]
  },
  {
   "cell_type": "markdown",
   "metadata": {},
   "source": [
    "#### Modifying a global variable is not straight forward"
   ]
  },
  {
   "cell_type": "code",
   "execution_count": null,
   "metadata": {
    "tags": []
   },
   "outputs": [],
   "source": [
    "test_var = 10\n",
    "\n",
    "def modify_test_var():\n",
    "    test_var = 20\n",
    "    return test_var\n",
    "\n",
    "print(1, test_var)\n",
    "\n",
    "rslt = modify_test_var()\n",
    "\n",
    "print(2, test_var) # <= Should this variable be the same as before?\n",
    "\n",
    "print(3, rslt)"
   ]
  },
  {
   "cell_type": "markdown",
   "metadata": {},
   "source": [
    "Notice that even after we modified `test_var` inside the function, the global variable has not changed. This is because when the `test_var` variable is assigned, a new variable, _local_ to the function is created! They have the same name, but are actually completely different.\n",
    "\n",
    "You can force the function to refer to the global variable by explicitely declaring the variable as such:"
   ]
  },
  {
   "cell_type": "code",
   "execution_count": null,
   "metadata": {
    "tags": []
   },
   "outputs": [],
   "source": [
    "test_var = 10\n",
    "\n",
    "def modify_test_var2():\n",
    "    global test_var\n",
    "    test_var = 20\n",
    "    return test_var\n",
    "\n",
    "print(1, test_var)\n",
    "\n",
    "rslt = modify_test_var2()\n",
    "\n",
    "print(2, test_var) # <= Should this variable be the same as before?\n",
    "\n",
    "print(3, rslt)"
   ]
  },
  {
   "cell_type": "code",
   "execution_count": null,
   "metadata": {},
   "outputs": [],
   "source": []
  }
 ],
 "metadata": {
  "kernelspec": {
   "display_name": "Python 3 (ipykernel)",
   "language": "python",
   "name": "python3"
  },
  "language_info": {
   "codemirror_mode": {
    "name": "ipython",
    "version": 3
   },
   "file_extension": ".py",
   "mimetype": "text/x-python",
   "name": "python",
   "nbconvert_exporter": "python",
   "pygments_lexer": "ipython3",
   "version": "3.11.5"
  }
 },
 "nbformat": 4,
 "nbformat_minor": 4
}
