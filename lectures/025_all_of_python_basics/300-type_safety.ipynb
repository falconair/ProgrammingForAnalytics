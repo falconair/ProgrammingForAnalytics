{
 "cells": [
  {
   "cell_type": "code",
   "execution_count": null,
   "id": "4a8a2696-2c2b-466b-aa81-35cf841c66cc",
   "metadata": {},
   "outputs": [],
   "source": [
    "%reload_ext postcell\n",
    "%postcell register"
   ]
  },
  {
   "cell_type": "markdown",
   "id": "06f62583-3215-4b60-8f16-ec1eba1477df",
   "metadata": {},
   "source": [
    "# Adding type safety to Python"
   ]
  },
  {
   "cell_type": "markdown",
   "id": "203ef25d-46c4-4140-8610-659a3d72e050",
   "metadata": {
    "tags": []
   },
   "source": [
    "Python is often called a _dynamic_ language. In the 90s it was in a category called _scripting_ languages. Most production systems, until recently, were written in _static_, as opposed to _dynamic_ langauges.\n",
    "\n",
    "Here is a simple line of code in Python:\n",
    "\n",
    "```python\n",
    "age = 34\n",
    "```\n",
    "\n",
    "Here is a line a static language (Java/C/C++/C#/etc.):\n",
    "\n",
    "```python\n",
    "int age = 34;\n",
    "```\n",
    "\n",
    "Notice that the static langauge forces a progarmmer to declare the _type_ of the variable. In this case, we must tell the langauge compiler that the `age` variable is of type int. \n",
    "\n",
    "The `age` variable in Python can later be assigned a decimal value, without error. However, the static line will not allow the `age` variable to be reassigned to a non-integer value.\n",
    "\n",
    "Further, the static language can not be simply executed. It must first be _compiled_, where all types are checked. Once the type check passes, only then is the language allowed to execute. One again, if there is a single type error in the whole file, the file will refuse to run!\n",
    "\n",
    "Hence, languages such as Java and C# do a _static_ check of the whole file for incorrect types, and are called _static_ langauges.\n",
    "\n",
    "Python also does check types, but only when they are required:"
   ]
  },
  {
   "cell_type": "code",
   "execution_count": null,
   "id": "38fc8653-cc0e-4ff7-85ad-a9011caefa88",
   "metadata": {
    "tags": []
   },
   "outputs": [],
   "source": [
    "age = 34 # <= This will not result in a type error\n",
    "# age = 73\n",
    "\n",
    "name = \"Homer\"\n",
    "is_elderly = age >= 70\n",
    "\n",
    "if is_elderly:\n",
    "    print(\"Good afternoon \" + age) # <= In static languages, this would cause an error, since it should be str(age)\n",
    "else:\n",
    "    print(\"Hiya \" + name)\n",
    "    "
   ]
  },
  {
   "cell_type": "markdown",
   "id": "c3807b17-8797-4f64-bba3-e62205a5d9bb",
   "metadata": {},
   "source": [
    "Notice that the above code does actually check types (when `age = 73`); however, the type is checked only when required, not up-front. In other words, types are checked _dynamically_, hence Python is a dynamic language.\n",
    "\n",
    "Other examples of popular dynamic languages include Ruby, Javascript, R and others."
   ]
  },
  {
   "cell_type": "markdown",
   "id": "fcd4be5c-b8b7-491c-bcc8-8446d8db920e",
   "metadata": {},
   "source": [
    "#### Historical aside\n",
    "As with my common programming concetps, what seems mechanical and utilitarian often has roots in logic and philosophy. An earlier incranation of _types_ can be found in famous mathematician, philosopher and author's work with set theory.\n",
    "\n",
    "Naive _sets_, being one of the foundations of mathematics contain a paradox. \n",
    "\n",
    "```\n",
    "Let R be the set of all sets that are not members of themselves\n",
    "```\n",
    "Is R a member of this set?\n",
    "\n",
    "This caused the logician Frege to have a breakdown and end up in the hospital!\n",
    "\n",
    "An easier to digest example might be \n",
    "```\n",
    "In a small town with one barber\n",
    "1. All men must be clean shaven\n",
    "2. A barber shaves all men who do not shave themselves (and only men who do not shave themselves)\n",
    "```\n",
    "Does this barber shave himself?\n",
    "\n",
    "If no, then the barber is not clean shaven and rule #1 is broken. If yes, then rule #2 is broken.\n",
    "\n",
    "sources: \n",
    "- https://en.wikipedia.org/wiki/Russell%27s_paradox\n",
    "- https://www.youtube.com/watch?v=xauCQpnbNAM"
   ]
  },
  {
   "cell_type": "markdown",
   "id": "744b312e-111f-487e-af2c-d81b587c75c3",
   "metadata": {},
   "source": [
    "Russell proposed a heirarchy of types where an expression can refer to basic objects (like numbers), sets of those basic objects or sets containing sets of basic objects, etc. This disallowed a set which can contain itself. The author of these lecture notes is not a logician and will stop any further attempts to explain something he, himself, doesn't understand."
   ]
  },
  {
   "cell_type": "markdown",
   "id": "fc50ee34-df25-4ffc-abd5-0187ae709bbe",
   "metadata": {},
   "source": [
    "### Back to Python\n",
    "Recent version of Python have added syntax to allow type checking to Python code. The version we are using in this lecture assumes Python version 3.9 or higher.\n",
    "\n",
    "Python now allows optional type annotation:\n",
    "\n",
    "```python\n",
    "variable: type = value\n",
    "```\n"
   ]
  },
  {
   "cell_type": "code",
   "execution_count": null,
   "id": "611ef425-d8b3-4b24-a196-bda5461a3a38",
   "metadata": {
    "tags": []
   },
   "outputs": [],
   "source": [
    "age: int = 34"
   ]
  },
  {
   "cell_type": "markdown",
   "id": "f55e5dbf-e19b-4452-8a84-e7de4cd0d9dc",
   "metadata": {},
   "source": [
    "Notice the addition of `int` to the definition of the variable `age`. \n",
    "\n",
    "**important** Python does not actually check the types. The interpreter simply ignores them. Types exist only for human readers and third-party type checkers"
   ]
  },
  {
   "cell_type": "code",
   "execution_count": null,
   "id": "6e249625-ad1b-4562-b898-9df041cb35dd",
   "metadata": {
    "tags": []
   },
   "outputs": [],
   "source": [
    "age"
   ]
  },
  {
   "cell_type": "code",
   "execution_count": null,
   "id": "6265ccbd-f959-480a-9ed4-686b7eb8b986",
   "metadata": {
    "tags": []
   },
   "outputs": [],
   "source": [
    "age = \"this is now a string\""
   ]
  },
  {
   "cell_type": "code",
   "execution_count": null,
   "id": "e24a712e-a209-48fb-81f3-4ad1b0b2529d",
   "metadata": {},
   "outputs": [],
   "source": [
    "age"
   ]
  },
  {
   "cell_type": "markdown",
   "id": "6d462385-f12e-46f9-b88b-82163474909f",
   "metadata": {},
   "source": [
    "Notice Python didn't complain that we assigned a string to an integer. What's more, we can violate type annotations more directly:"
   ]
  },
  {
   "cell_type": "code",
   "execution_count": null,
   "id": "a7616974-def7-49e1-a8e5-32a87b20a444",
   "metadata": {
    "tags": []
   },
   "outputs": [],
   "source": [
    "age:int = \"this can't be right\""
   ]
  },
  {
   "cell_type": "code",
   "execution_count": null,
   "id": "45af6045-b4d2-4518-b1b2-e0c70e40dab6",
   "metadata": {},
   "outputs": [],
   "source": [
    "age"
   ]
  },
  {
   "cell_type": "markdown",
   "id": "14053c88-49d1-450e-b5d8-11a03a496f8b",
   "metadata": {},
   "source": [
    "Again, notice no error."
   ]
  },
  {
   "cell_type": "markdown",
   "id": "29751c29-6825-40b3-82bd-852196afe935",
   "metadata": {
    "tags": []
   },
   "source": [
    "We can have a utility carry out type checks for us. Let's install _nb_mypy_, load it into the notebook and turn on automatic type checking."
   ]
  },
  {
   "cell_type": "code",
   "execution_count": null,
   "id": "6fe07ce9-6bf8-4768-82da-e0acb4c935ce",
   "metadata": {
    "tags": []
   },
   "outputs": [],
   "source": [
    "# !pip install nb_mypy"
   ]
  },
  {
   "cell_type": "code",
   "execution_count": null,
   "id": "f76b3450-021a-4621-8671-4fbf61be5632",
   "metadata": {
    "tags": []
   },
   "outputs": [],
   "source": [
    "%load_ext nb_mypy"
   ]
  },
  {
   "cell_type": "code",
   "execution_count": null,
   "id": "3e61a3c1-7500-4a08-b876-d8fba2e0e129",
   "metadata": {
    "tags": []
   },
   "outputs": [],
   "source": [
    "%nb_mypy On\n",
    "#%nb_mypy Off"
   ]
  },
  {
   "cell_type": "markdown",
   "id": "7e08adc3-5de9-46f9-a54d-45fba88858f1",
   "metadata": {},
   "source": [
    "### All subsequent cells will have type checking turned on!"
   ]
  },
  {
   "cell_type": "markdown",
   "id": "32c8a0bc-840b-4a83-99c7-de07c869257b",
   "metadata": {},
   "source": [
    "This should now show an error:"
   ]
  },
  {
   "cell_type": "code",
   "execution_count": null,
   "id": "70c14b94-f4c4-4453-851b-65a30a1173c2",
   "metadata": {
    "tags": []
   },
   "outputs": [],
   "source": [
    "age:int = \"this can't be right\""
   ]
  },
  {
   "cell_type": "markdown",
   "id": "c7aecef0-45f8-4114-baab-dc937d0537b1",
   "metadata": {},
   "source": [
    "This should be ok (but notice execution takes slightly longer)"
   ]
  },
  {
   "cell_type": "code",
   "execution_count": null,
   "id": "f44646b2-8d12-4b38-bdf1-e2571577d5e9",
   "metadata": {
    "tags": []
   },
   "outputs": [],
   "source": [
    "age:int = 34"
   ]
  },
  {
   "cell_type": "markdown",
   "id": "731a745e-dc98-4661-bb85-6ab1602551d3",
   "metadata": {},
   "source": [
    "### Basic types\n",
    "You can annotate variables with any basic type"
   ]
  },
  {
   "cell_type": "code",
   "execution_count": null,
   "id": "6c5e8275-70c3-4cde-88c7-b60364bd7716",
   "metadata": {
    "tags": []
   },
   "outputs": [],
   "source": [
    "name: str        = \"Homer\"\n",
    "age: int         = 34\n",
    "is_elderly: bool = False\n",
    "gpa: float       = 1.7"
   ]
  },
  {
   "cell_type": "markdown",
   "id": "0c3e6149-a805-45e0-bf97-2659e0329f0b",
   "metadata": {},
   "source": [
    "Variables can be annotated with collection types"
   ]
  },
  {
   "cell_type": "code",
   "execution_count": null,
   "id": "f10595a8-aae8-4216-b325-78f3075658c2",
   "metadata": {
    "tags": []
   },
   "outputs": [],
   "source": [
    "names: list = ['Homer', 'Marge', 'Skinner', 'Bart']"
   ]
  },
  {
   "cell_type": "code",
   "execution_count": null,
   "id": "2e6bb75f-a4ad-46bf-a0ec-923aff10c040",
   "metadata": {
    "tags": []
   },
   "outputs": [],
   "source": [
    "names_and_ages: dict = {'Homer':36, 'Marge':34, 'Skinner':42, 'Bart':12}"
   ]
  },
  {
   "cell_type": "markdown",
   "id": "92c2cf0f-966a-4be0-ba24-704c91b33f26",
   "metadata": {},
   "source": [
    "Let's make sure the type system is working:"
   ]
  },
  {
   "cell_type": "code",
   "execution_count": null,
   "id": "f64bdc76-bda1-4a89-ac38-54b3e6c0eff8",
   "metadata": {
    "tags": []
   },
   "outputs": [],
   "source": [
    "names: dict = ['Homer', 'Marge', 'Skinner', 'Bart']"
   ]
  },
  {
   "cell_type": "markdown",
   "id": "e05ebfba-66ae-4f84-a5a0-29a6cdb90ed9",
   "metadata": {},
   "source": [
    "**Exercise** Please add types to the following code:"
   ]
  },
  {
   "cell_type": "code",
   "execution_count": null,
   "id": "4a15212a-90b3-4f77-a462-a04cbd8dcb1a",
   "metadata": {
    "tags": []
   },
   "outputs": [],
   "source": [
    "%%postcell exercise_025_300_a\n",
    "\n",
    "student_name = \"Jim\"\n",
    "student_age  = 24\n",
    "student_fee  = 34.45\n",
    "student_is_passing = True\n",
    "student_current_enrollment = ['Adv Python', 'Linear Alg', 'Machine Learning']\n",
    "student_grades = {'Basic Python': 3.4, 'Basic Stats': 3.1, 'Team org': 3.8}"
   ]
  },
  {
   "cell_type": "markdown",
   "id": "1a3357b7-7bed-483e-95ae-46831a3db770",
   "metadata": {},
   "source": [
    "### Types for functions"
   ]
  },
  {
   "cell_type": "markdown",
   "id": "e8e1b043-3b88-441c-8bb2-0724a96f82fe",
   "metadata": {},
   "source": [
    "Function types are defined by types of input arguments _and_ types of output value"
   ]
  },
  {
   "cell_type": "code",
   "execution_count": null,
   "id": "55eca8f9-bfa6-46da-afd3-00357e67e53c",
   "metadata": {
    "tags": []
   },
   "outputs": [],
   "source": [
    "def calc_grade(grade):\n",
    "    \n",
    "    print(grade.capitalize())\n",
    "    \n",
    "    if grade > 3.5: return 'A'\n",
    "    else: return grade"
   ]
  },
  {
   "cell_type": "code",
   "execution_count": null,
   "id": "d883b047-0ae3-426d-9d62-0072ed00d72a",
   "metadata": {
    "tags": []
   },
   "outputs": [],
   "source": [
    "calc_grade(3.4) # <= Wrong!"
   ]
  },
  {
   "cell_type": "markdown",
   "id": "474dec7c-6d9c-49ed-bd86-5e00981b464e",
   "metadata": {},
   "source": [
    "Types would have helped us catch some errors earlier!"
   ]
  },
  {
   "cell_type": "markdown",
   "id": "18defd2b-a94e-4cd9-9b69-23838b91da98",
   "metadata": {},
   "source": [
    "_mypy_ would have caught the error at the time we defined the function (instead of waiting until we called it), if it had enough information. Here is an example:"
   ]
  },
  {
   "cell_type": "code",
   "execution_count": null,
   "id": "fce473ad-0d15-4805-8b28-06c9fe361773",
   "metadata": {
    "tags": []
   },
   "outputs": [],
   "source": [
    "def calc_grade(grade: str) -> float:\n",
    "    \n",
    "    print(grade.capitalize())\n",
    "    \n",
    "    if grade > 3.5: return 'A'\n",
    "    else: return grade"
   ]
  },
  {
   "cell_type": "markdown",
   "id": "e897b5db-1365-4e52-b3b9-9ec693222097",
   "metadata": {},
   "source": [
    "_Before_ running this function, we found errors! Imagine if you were creating a large library of function, this would be abosoutely invaluable!"
   ]
  },
  {
   "cell_type": "markdown",
   "id": "de2c2cd2-32e5-4a4e-85b4-0f6159fb05fc",
   "metadata": {},
   "source": [
    "**Exercise** Write a Python function to convert Celcius to Fahrenheit: ` F = (9/5)C + 32`. Assume the intputs and outputs are decimals and please use appropriate types."
   ]
  },
  {
   "cell_type": "code",
   "execution_count": null,
   "id": "58fac7d4-d48a-4793-9cce-7e2f6743b356",
   "metadata": {},
   "outputs": [],
   "source": [
    "%%postcell exercise_025_300_b\n",
    "#you code here"
   ]
  },
  {
   "cell_type": "markdown",
   "id": "4860cdc7-d022-467a-b28e-1f92080918bf",
   "metadata": {},
   "source": [
    "### Union types\n",
    "Sometimes functions should be able to accept more than one argument type. For example, an ill-advised function could return the numeric grade if a string grade is passed in or vice versa:"
   ]
  },
  {
   "cell_type": "code",
   "execution_count": null,
   "id": "ff2c6e0a-c76d-4d88-9ee0-4a532ebc9c09",
   "metadata": {
    "tags": []
   },
   "outputs": [],
   "source": [
    "def calc_grade(grade: str|float) -> str|float:\n",
    "    if isinstance(grade, str):\n",
    "        if grade.upper() == 'A': return 4.0\n",
    "        else: return 3.0\n",
    "    else: # if it is not a string, then it must be float, type checker forbids everything else\n",
    "        if grade > 3.5: return 'A'\n",
    "        else: return 'B'"
   ]
  },
  {
   "cell_type": "code",
   "execution_count": null,
   "id": "d0b8692b-98cc-4051-9cca-ecffd59b523b",
   "metadata": {
    "tags": []
   },
   "outputs": [],
   "source": [
    "calc_grade('A')"
   ]
  },
  {
   "cell_type": "code",
   "execution_count": null,
   "id": "83344f2a-d8ef-426c-b0e4-884eacb917e0",
   "metadata": {
    "tags": []
   },
   "outputs": [],
   "source": [
    "calc_grade(3.4)"
   ]
  },
  {
   "cell_type": "markdown",
   "id": "fd66944a-6042-4ae1-abe3-7a5c2d50b034",
   "metadata": {},
   "source": [
    "Note: an argument type of `float` can be used when a function can accept either `float` or `int`. There is no need to use the union operator `float|int`"
   ]
  },
  {
   "cell_type": "code",
   "execution_count": null,
   "id": "c23ec078-2a78-4e1b-9df0-369ef3e823fe",
   "metadata": {},
   "outputs": [],
   "source": [
    "calc_grade([2.3, 3.1])"
   ]
  },
  {
   "cell_type": "markdown",
   "id": "02abef43-5952-4868-8fc1-5b352b89d7c6",
   "metadata": {},
   "source": [
    "### `Any` type\n",
    "Python provides the ability to annotate a variable with the `Any` type. This is used when we wish to simply ignore any type constraints. "
   ]
  },
  {
   "cell_type": "code",
   "execution_count": null,
   "id": "724e635f-5df9-4888-89b3-b2712a514170",
   "metadata": {
    "tags": []
   },
   "outputs": [],
   "source": [
    "from typing import Any"
   ]
  },
  {
   "cell_type": "code",
   "execution_count": null,
   "id": "18a4beba-56be-4238-9f1b-5aee69de591f",
   "metadata": {
    "tags": []
   },
   "outputs": [],
   "source": [
    "name: Any = \"Homer\"\n",
    "age : Any = \"Age of darkness\""
   ]
  },
  {
   "cell_type": "markdown",
   "id": "56945165-9f20-4b1b-9d17-7b28bbae9e06",
   "metadata": {},
   "source": [
    "Why do we need `Any`, what if we simply not add any type annotation?\n",
    "\n",
    "Some projects may force developers to type annotate every variable and function. This sometimes happens when a dev manager has background in static languages, such as Java. Python is a dynamic langauge and forcing the use of type annotations, even if that type is `Any`, is silly. "
   ]
  },
  {
   "cell_type": "markdown",
   "id": "c25a085e-5991-4eb8-ad32-1e692ef961fe",
   "metadata": {},
   "source": [
    "### `None` type\n",
    "Sometimes function don't return any value. In those instances, the function should be typed as returning `None`"
   ]
  },
  {
   "cell_type": "code",
   "execution_count": null,
   "id": "2fbb187c-8585-48cf-b55e-fd871e0fa71b",
   "metadata": {
    "tags": []
   },
   "outputs": [],
   "source": [
    "def say_hello(name: str) -> None:\n",
    "    print(f\"Hello {name}\")"
   ]
  },
  {
   "cell_type": "code",
   "execution_count": null,
   "id": "e3c7e50c-ce51-4dcb-98c6-6dc0141ebd58",
   "metadata": {
    "tags": []
   },
   "outputs": [],
   "source": [
    "say_hello(\"Shahbaz\")"
   ]
  },
  {
   "cell_type": "markdown",
   "id": "db7e8fc9-c8cc-424c-b759-6e140cd9ce7a",
   "metadata": {},
   "source": [
    "### Generic types\n",
    "Python has some advanced types. \n",
    "We saw earlier that we can limit variables to a collection type, for example a list:"
   ]
  },
  {
   "cell_type": "code",
   "execution_count": null,
   "id": "debbaf50-034c-418a-9778-c07f86043f14",
   "metadata": {
    "tags": []
   },
   "outputs": [],
   "source": [
    "def say_hellos(names: list) -> None:\n",
    "    for n in names:\n",
    "        print(f\"Hello {n}\")"
   ]
  },
  {
   "cell_type": "code",
   "execution_count": null,
   "id": "a5d68e92-11fe-425e-b1e3-a9afd5679183",
   "metadata": {
    "tags": []
   },
   "outputs": [],
   "source": [
    "say_hellos([1,2,3,4])"
   ]
  },
  {
   "cell_type": "markdown",
   "id": "6765adad-1100-4083-9090-d84fc80b3ac0",
   "metadata": {},
   "source": [
    "Let's be more specific with our types!"
   ]
  },
  {
   "cell_type": "code",
   "execution_count": null,
   "id": "2ac9b202-8cfa-41e2-8d29-10ee1e256582",
   "metadata": {
    "tags": []
   },
   "outputs": [],
   "source": [
    "def say_hellos2(names: list[str]) -> None:\n",
    "    for n in names:\n",
    "        print(f\"Hello {n}\")\n",
    "        #print(n ** 2)"
   ]
  },
  {
   "cell_type": "code",
   "execution_count": null,
   "id": "983c7c58-9789-46c7-981a-935ed6e155a1",
   "metadata": {
    "tags": []
   },
   "outputs": [],
   "source": [
    "say_hellos2([1,2,3,4])"
   ]
  },
  {
   "cell_type": "markdown",
   "id": "f3d535b3-044e-4249-90f7-3d2312b0c5bf",
   "metadata": {},
   "source": [
    "Notice that you don't even have to call the function!"
   ]
  },
  {
   "cell_type": "code",
   "execution_count": null,
   "id": "c318bdc9-a222-4d7e-82f4-ce2c46628a9c",
   "metadata": {
    "tags": []
   },
   "outputs": [],
   "source": [
    "def greet_clients(cust_ids: list[int]) -> None:\n",
    "    print(\"You are now entering an advanced Python library\")\n",
    "    say_hellos2(cust_ids)"
   ]
  },
  {
   "cell_type": "markdown",
   "id": "1e168b93-3e31-4789-80b5-b9c5de8531de",
   "metadata": {
    "tags": []
   },
   "source": [
    "You can futher refine types!\n",
    "\n",
    "```python\n",
    "variable: collection_type[element_type] = [...]\n",
    "```"
   ]
  },
  {
   "cell_type": "markdown",
   "id": "d73d0b4b-cef4-4382-957c-57de6c4ce8ed",
   "metadata": {},
   "source": [
    "Do the same thing with dictionaries"
   ]
  },
  {
   "cell_type": "code",
   "execution_count": null,
   "id": "25d6b1fc-6497-4531-98b4-14ffe6cb9a14",
   "metadata": {
    "tags": []
   },
   "outputs": [],
   "source": [
    "def say_hellos3(names_ages: dict[str, float]) -> None:\n",
    "    for name, age in names_ages.items():\n",
    "        print(f\"Hello {name}\" if age < 75 else f\"Good afternoon {name}\")"
   ]
  },
  {
   "cell_type": "code",
   "execution_count": null,
   "id": "19aa3109-9cbd-4b32-86cc-d4146f69ada9",
   "metadata": {
    "tags": []
   },
   "outputs": [],
   "source": [
    "say_hellos3({'Homer':36, 'Marge':34, 'Mr. Burns':78})"
   ]
  },
  {
   "cell_type": "code",
   "execution_count": null,
   "id": "b58f8e4f-1bb7-475a-b24b-3d1e1e75558a",
   "metadata": {},
   "outputs": [],
   "source": [
    "say_hellos3({'Homer':36, 'Marge':34, 78:78})"
   ]
  },
  {
   "cell_type": "markdown",
   "id": "fc385c2c-1f71-4afa-97aa-0d09ddbaa224",
   "metadata": {},
   "source": [
    "**Exercise** Fix the type error in this code"
   ]
  },
  {
   "cell_type": "code",
   "execution_count": null,
   "id": "9565a7c4-a474-4fda-997d-c54a3c28f71b",
   "metadata": {},
   "outputs": [],
   "source": [
    "def calc_post_tax_price(price: float, tax_rate: int):\n",
    "    post_tax_px =  price * (1 + tax_rate)\n",
    "    return post_tax_px"
   ]
  },
  {
   "cell_type": "markdown",
   "id": "8d69f385-02ce-4aff-a4f3-0d732cd0a38e",
   "metadata": {},
   "source": [
    "The function above will calculate tax. Given a price and a tax rate, it will multiply them together.\n",
    "\n",
    "The function below will accept a list of transactions and the state in which those transactions took place, calculate the tax for each item and return the sum.\n",
    "\n",
    "**You job is the find the type error.**"
   ]
  },
  {
   "cell_type": "code",
   "execution_count": null,
   "id": "602de324-3194-43d3-ac61-712d28d95799",
   "metadata": {},
   "outputs": [],
   "source": [
    "def calc_total_price(prices: list[float], state_of_sale: str, tax_rates: dict[str, float]):\n",
    "    total = 0\n",
    "    for price in prices:\n",
    "        tax_rate = tax_rates[state_of_sale]\n",
    "        post_tax_total = calc_post_tax_price(price, tax_rate)\n",
    "        total += post_tax_total\n",
    "    return total\n",
    "\n",
    "tax_rates: dict[str, float]   = {'IL': 0.0625, 'IN': 0.07, 'KS': 0.065}\n",
    "sale_prices: list[float] = [43.44, 78.65, 20.11, 29.3, 2.54, 7.34]\n",
    "\n",
    "calc_total_price(sale_prices, 'IL', tax_rates)"
   ]
  },
  {
   "cell_type": "code",
   "execution_count": null,
   "id": "3f727afa-c45f-4c37-95f0-12eb3e50b8b3",
   "metadata": {},
   "outputs": [],
   "source": [
    "%%postcell exercise_025_300_c\n",
    "\n",
    "# paste both functions here (after correcting the error)"
   ]
  },
  {
   "cell_type": "markdown",
   "id": "407ce8d7-180f-4177-ab79-7c904aa89ea5",
   "metadata": {},
   "source": [
    "### Make type checking part of continuous integration"
   ]
  },
  {
   "cell_type": "markdown",
   "id": "880f11af-bda3-41b7-a8fa-f75503e0a855",
   "metadata": {},
   "source": [
    "It should be obvious how checking types should be part of any CI/CD pipeline. Indeed, these types can be checked at the command line using the `mypy` tool, then this tool can be called from Github Actions or even pre-commit git hooks.\n",
    "\n",
    "You may need to install `mypy` first:"
   ]
  },
  {
   "cell_type": "code",
   "execution_count": null,
   "id": "829ac5b7-2708-4934-b87d-a41c9ef0b642",
   "metadata": {},
   "outputs": [],
   "source": [
    "# !pip install mypy"
   ]
  },
  {
   "cell_type": "code",
   "execution_count": null,
   "id": "36c8e120-76a4-4ece-b08d-fb98c81be0a7",
   "metadata": {},
   "outputs": [],
   "source": [
    "%%writefile badly_typed_code.py\n",
    "\n",
    "def calc_grade(grade:str) -> str:\n",
    "    \n",
    "    print(grade.capitalize())\n",
    "    \n",
    "    if grade > 3.5: return 'Pass'\n",
    "    else: return \"Fail\""
   ]
  },
  {
   "cell_type": "code",
   "execution_count": null,
   "id": "bf428586-7a0f-420e-9e57-5c0d4c1aa1e2",
   "metadata": {},
   "outputs": [],
   "source": [
    "!python badly_typed_code.py"
   ]
  },
  {
   "cell_type": "code",
   "execution_count": null,
   "id": "cad1a106-3d53-4d5a-bd1d-c1326c4cdc43",
   "metadata": {},
   "outputs": [],
   "source": [
    "!mypy badly_typed_code.py"
   ]
  },
  {
   "cell_type": "code",
   "execution_count": null,
   "id": "15a25cdb-c50b-4811-81f3-a9ec855d28d3",
   "metadata": {},
   "outputs": [],
   "source": [
    "!mypy ."
   ]
  },
  {
   "cell_type": "code",
   "execution_count": null,
   "id": "6182f25f-5fe8-4a36-908c-c4fa60160b8c",
   "metadata": {},
   "outputs": [],
   "source": []
  },
  {
   "cell_type": "code",
   "execution_count": null,
   "id": "20a69ff4-1513-4ed0-8cc2-e7981296a859",
   "metadata": {},
   "outputs": [],
   "source": []
  }
 ],
 "metadata": {
  "kernelspec": {
   "display_name": "mleng",
   "language": "python",
   "name": "mleng"
  },
  "language_info": {
   "codemirror_mode": {
    "name": "ipython",
    "version": 3
   },
   "file_extension": ".py",
   "mimetype": "text/x-python",
   "name": "python",
   "nbconvert_exporter": "python",
   "pygments_lexer": "ipython3",
   "version": "3.11.11"
  }
 },
 "nbformat": 4,
 "nbformat_minor": 5
}
