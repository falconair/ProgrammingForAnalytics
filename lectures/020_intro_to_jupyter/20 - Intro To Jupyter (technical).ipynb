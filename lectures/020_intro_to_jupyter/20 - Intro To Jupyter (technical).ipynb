{
 "cells": [
  {
   "cell_type": "code",
   "execution_count": null,
   "metadata": {
    "tags": []
   },
   "outputs": [],
   "source": [
    "%reload_ext postcell\n",
    "%postcell register"
   ]
  },
  {
   "cell_type": "markdown",
   "metadata": {},
   "source": [
    "## Jupyter Notebooks can execute code"
   ]
  },
  {
   "cell_type": "code",
   "execution_count": null,
   "metadata": {
    "tags": []
   },
   "outputs": [],
   "source": [
    "2+2"
   ]
  },
  {
   "cell_type": "markdown",
   "metadata": {},
   "source": [
    "Execute the code above by selecting the cell and either pressing the \"Run\" button from the tool bar or pressing [shift] + [enter] keys\n",
    "![](images/jupyter_run.png)"
   ]
  },
  {
   "cell_type": "markdown",
   "metadata": {},
   "source": [
    "### Watch out for execution order"
   ]
  },
  {
   "cell_type": "code",
   "execution_count": null,
   "metadata": {
    "tags": []
   },
   "outputs": [],
   "source": [
    "x"
   ]
  },
  {
   "cell_type": "markdown",
   "metadata": {},
   "source": [
    "**WARNING** If cells are executed out of order, earlier cells can access variables which aren't defined until later. Make sure you don't have such dependency issues"
   ]
  },
  {
   "cell_type": "code",
   "execution_count": null,
   "metadata": {
    "tags": []
   },
   "outputs": [],
   "source": [
    "x = \"oops\""
   ]
  },
  {
   "cell_type": "markdown",
   "metadata": {},
   "source": [
    "### Show output"
   ]
  },
  {
   "cell_type": "code",
   "execution_count": null,
   "metadata": {},
   "outputs": [],
   "source": [
    "2+2\n",
    "3+3"
   ]
  },
  {
   "cell_type": "markdown",
   "metadata": {},
   "source": [
    "Notice that result of only the last line is printed. In order to print multiple outputs, use the print() function (although using this too often is bad practice)"
   ]
  },
  {
   "cell_type": "code",
   "execution_count": null,
   "metadata": {},
   "outputs": [],
   "source": [
    "print(2+2)\n",
    "print(3+3)"
   ]
  },
  {
   "cell_type": "markdown",
   "metadata": {},
   "source": [
    "### Exercises"
   ]
  },
  {
   "cell_type": "code",
   "execution_count": null,
   "metadata": {},
   "outputs": [],
   "source": [
    "1 + 1 # How come this is not showing the result of 1+1 (hint: it should be 2)"
   ]
  },
  {
   "cell_type": "markdown",
   "metadata": {},
   "source": [
    "---"
   ]
  },
  {
   "cell_type": "markdown",
   "metadata": {},
   "source": [
    "Swap the cells below to correct the dependency (hint, use the up/down arrows in the tool bar)"
   ]
  },
  {
   "cell_type": "code",
   "execution_count": null,
   "metadata": {},
   "outputs": [],
   "source": [
    "y"
   ]
  },
  {
   "cell_type": "code",
   "execution_count": null,
   "metadata": {},
   "outputs": [],
   "source": [
    "y = 24"
   ]
  },
  {
   "cell_type": "markdown",
   "metadata": {},
   "source": [
    "---"
   ]
  },
  {
   "cell_type": "markdown",
   "metadata": {},
   "source": [
    "## Get help\n",
    "\n",
    "One of the best features of Jupyter is how easy it is to get help. If you have been asked to use a function, but don't how to use it, just add a '?' at the end to get documentation"
   ]
  },
  {
   "cell_type": "code",
   "execution_count": null,
   "metadata": {},
   "outputs": [],
   "source": [
    "open?"
   ]
  },
  {
   "cell_type": "markdown",
   "metadata": {},
   "source": [
    "You can also hit 'tab' to have Jupyter tell you what options are available to you:"
   ]
  },
  {
   "cell_type": "code",
   "execution_count": null,
   "metadata": {},
   "outputs": [],
   "source": [
    "\"hello world\"."
   ]
  },
  {
   "cell_type": "code",
   "execution_count": null,
   "metadata": {},
   "outputs": [],
   "source": [
    "help(\"hello world\".split) #put your cursor to the right of the period and hit tab"
   ]
  },
  {
   "cell_type": "markdown",
   "metadata": {},
   "source": [
    "## Run command line tools from notebooks"
   ]
  },
  {
   "cell_type": "code",
   "execution_count": null,
   "metadata": {},
   "outputs": [],
   "source": [
    "#Windows users, uncomment the line below (remove '#')\n",
    "#!dir\n",
    "\n",
    "#Apple users, uncomment the line below (remove '#')\n",
    "#!ls"
   ]
  },
  {
   "cell_type": "markdown",
   "metadata": {},
   "source": [
    "You can use the ability to run command line tools from notebook to install packages:"
   ]
  },
  {
   "cell_type": "code",
   "execution_count": null,
   "metadata": {},
   "outputs": [],
   "source": [
    "#!conda install tqdm --yes"
   ]
  },
  {
   "cell_type": "markdown",
   "metadata": {},
   "source": [
    "This works fine in Apple and Linux, but Windows sometimes has trouble with this. If your notebook is stuck, you may have to restart the kernel (see sub-heading \"Restart kernel\" below)"
   ]
  },
  {
   "cell_type": "markdown",
   "metadata": {},
   "source": [
    "## Magic commands\n",
    "\n",
    "Magic commands are special keywords which extend notebook functionality. The ones we are interested in:\n",
    "\n",
    "`%time` Add this before a command and the cell will print how long it took to execute that line. If you want to record the run time of all lines in the cell, add `%%time` as the first line in the cell.\n",
    "\n",
    "`%timeit` Add this before a command to run that command multiple times and print the average run time and standard deviation of those runs. This is used to check the performance of one way of doing something vs another. If you want to time measure the performance of all lines in a cell, add `%%timeit` as the first keyword in the cell.\n",
    "\n",
    "`%run` will run a python file inside a cell.\n",
    "\n",
    "`%whos` will print all interactive variables in the notebook\n",
    "\n",
    "`%%bash` will run bash commands (a future lecture will explain bash)"
   ]
  },
  {
   "cell_type": "code",
   "execution_count": null,
   "metadata": {},
   "outputs": [],
   "source": [
    "sum(range(1_000_000))"
   ]
  },
  {
   "cell_type": "code",
   "execution_count": null,
   "metadata": {},
   "outputs": [],
   "source": [
    "%time sum(range(1_000_000))"
   ]
  },
  {
   "cell_type": "code",
   "execution_count": null,
   "metadata": {},
   "outputs": [],
   "source": [
    "sum(range(1_000_000))\n",
    "%time sum(range(1_000_000))\n",
    "sum(range(1_000_000))\n",
    "sum(range(1_000_000))\n",
    "sum(range(1_000_000))"
   ]
  },
  {
   "cell_type": "code",
   "execution_count": null,
   "metadata": {},
   "outputs": [],
   "source": [
    "%%time \n",
    "sum(range(1_000_000))\n",
    "sum(range(1_000_000))\n",
    "sum(range(1_000_000))\n",
    "sum(range(1_000_000))\n",
    "sum(range(1_000_000))"
   ]
  },
  {
   "cell_type": "code",
   "execution_count": null,
   "metadata": {},
   "outputs": [],
   "source": [
    "%timeit sum(range(1_000_000))"
   ]
  },
  {
   "cell_type": "code",
   "execution_count": null,
   "metadata": {},
   "outputs": [],
   "source": [
    "%pwd"
   ]
  },
  {
   "cell_type": "code",
   "execution_count": null,
   "metadata": {},
   "outputs": [],
   "source": [
    "a = \"hello world\""
   ]
  },
  {
   "cell_type": "code",
   "execution_count": null,
   "metadata": {},
   "outputs": [],
   "source": [
    "b = 23423421"
   ]
  },
  {
   "cell_type": "code",
   "execution_count": null,
   "metadata": {},
   "outputs": [],
   "source": [
    "%whos"
   ]
  },
  {
   "cell_type": "code",
   "execution_count": null,
   "metadata": {},
   "outputs": [],
   "source": [
    "%run ../../programs/calc-sum.py ../../datasets/deaths-in-gameofthrones/game-of-thrones-deaths-data.csv"
   ]
  },
  {
   "cell_type": "code",
   "execution_count": null,
   "metadata": {},
   "outputs": [],
   "source": [
    "#python ../../programs/calc-sum.py ../../datasets/deaths-in-gameofthrones/game-of-thrones-deaths-data.csv"
   ]
  },
  {
   "cell_type": "markdown",
   "metadata": {
    "tags": []
   },
   "source": [
    "### Exercises"
   ]
  },
  {
   "cell_type": "markdown",
   "metadata": {},
   "source": [
    "Mathematically, a multiplication is the same as adding a number to itself some number of times. `10 * 5` is the same as `10 + 10 + 10 + 10 + 10`. Check to see if these two methods differ in performance"
   ]
  },
  {
   "cell_type": "code",
   "execution_count": null,
   "metadata": {},
   "outputs": [],
   "source": [
    "%%postcell exercise_020_20_a\n",
    "\n",
    "%timeit #method 1\n",
    "%timeit #method 2"
   ]
  },
  {
   "cell_type": "markdown",
   "metadata": {
    "tags": []
   },
   "source": [
    "## Modes\n",
    "\n",
    "#### Edit mode\n",
    "Notice that, by default, selected cells are blue. You can't edit content in a cell until you press `Enter`, which turns the cell green.\n",
    "\n",
    "![](images/edit_mode.png)\n",
    "\n",
    "#### Command mode\n",
    "If you are in 'edit' mode, press `Escape` to get back into 'Command' mode.\n",
    "![](images/command_mode.png)\n"
   ]
  },
  {
   "cell_type": "markdown",
   "metadata": {},
   "source": [
    "## Shortcuts\n",
    "\n",
    "Knowing a few basic shortcuts will make your programming life _much_ easier. In command mode, try these shortcuts:\n",
    "\n",
    "```\n",
    "p - command lookup panel (ctrl+shift+c in jupyterlab)\n",
    "shift + enter - execute cell\n",
    "b - insert new cell below your current location\n",
    "m - change cell type to 'markdown'\n",
    "y - change cell type to 'code'\n",
    "```"
   ]
  },
  {
   "cell_type": "markdown",
   "metadata": {},
   "source": [
    "## Jupyter Kernel\n",
    "Jupyter notebook is a web application which connects to a _kernel_ to execute code. When you execute a cell, the text of that cell is sent to the kernel, which parses the code, executes it and sends back the results to the web interface (should remind you of REPLs).\n",
    "\n",
    "Python is the most popular kernel, although Jupyter works with over 100 languages (including R). You can see the current kernel in the upper right hand corner of you notebook\n",
    "![](images/jupyter_kernel.png)\n",
    "\n",
    "You can change kernels from the Kernel menu."
   ]
  },
  {
   "cell_type": "markdown",
   "metadata": {},
   "source": [
    "#### Restart kernel\n",
    "There will be times when your notebook will be stuck. When you want the equivalent of \"turn everything off and on again,\" you need to restart the kernel:\n",
    "![](images/jupyter_restart.png)"
   ]
  },
  {
   "cell_type": "markdown",
   "metadata": {},
   "source": [
    "## Jupyter Notebook Files\n",
    "\n",
    "Each jupyter notebook is contained in a single file. These files end in .ipynb (the name is a historical artifact, Jupyter used to be called IPython).\n",
    "\n",
    "\n",
    "These files are in json format. You can view this content by opening a notebook (.ipynb file) n a text editor, such as VS Code). Here is a snippet of this notebook:\n",
    "```json\n",
    "{\n",
    " \"cells\": [\n",
    "  {\n",
    "   \"cell_type\": \"markdown\",\n",
    "   \"metadata\": {},\n",
    "   \"source\": [\n",
    "    \"## Jupyter Notebooks can display formatted text using *markdown*\\n\",\n",
    "    \"Make sure you pick the correct cell type from the tool bar menu above: change 'code' to 'Markdown'\\n\",\n",
    "    \"![](images/jupyter_celltype.png)\"\n",
    "   ]\n",
    "  },\n",
    "  {\n",
    "   \"cell_type\": \"markdown\",\n",
    "   \"metadata\": {},\n",
    "   \"source\": [\n",
    "    \"### Headings\\n\",\n",
    "    \"```markdown\\n\",\n",
    "    \"# Title\\n\",\n",
    "    \"## Headings\\n\",\n",
    "    \"### Sub-headings\\n\",\n",
    "    \"#### Smaller headings\\n\",\n",
    "    \"```\\n\",\n",
    "    \"\\n\",\n",
    "    \"\\n\",\n",
    "    \"\\n\",\n",
    "    \"### Character formatting\\n\",\n",
    "    \"```markdown\\n\",\n",
    "    \"**bold** (or __bold__)\\n\",\n",
    "    \"*italic* (or _italic)\\n\",\n",
    "    \"```\\n\",\n",
    "    \"\\n\",\n",
    "    \"\\n\",\n",
    "    \"\\n\",\n",
    "    \"### Lists\\n\",\n",
    "    \"```markdown\\n\",\n",
    "```"
   ]
  },
  {
   "cell_type": "markdown",
   "metadata": {},
   "source": [
    "### Exercise\n",
    "\n",
    "Copy the json contents of this notebook and paste them in to this url: https://jsonformatter.curiousconcept.com/\n",
    "This will display the text in an easier to understand format.\n",
    "\n",
    "**WARNING** Never do this with data from your work.\n",
    "\n",
    "---\n",
    "\n",
    "Find the cell which contains this line `%time sum(range(1_000_000))` in this notebook. Find the corresponding line in json contents."
   ]
  },
  {
   "cell_type": "markdown",
   "metadata": {
    "tags": []
   },
   "source": []
  },
  {
   "cell_type": "markdown",
   "metadata": {},
   "source": [
    "## Jupyter Notebooks can display formatted text using *markdown*\n",
    "Make sure you pick the correct cell type from the tool bar menu above: change 'code' to 'Markdown'\n",
    "![](images/jupyter_celltype.png)"
   ]
  },
  {
   "cell_type": "markdown",
   "metadata": {
    "tags": []
   },
   "source": []
  },
  {
   "cell_type": "markdown",
   "metadata": {},
   "source": [
    "### Headings\n",
    "```markdown\n",
    "# Title\n",
    "## Headings\n",
    "### Sub-headings\n",
    "#### Smaller headings\n",
    "```\n",
    "\n",
    "# Title\n",
    "## Headings\n",
    "### Sub-headings\n",
    "#### Smaller headings\n",
    "\n",
    "\n",
    "### Character formatting\n",
    "```markdown\n",
    "**bold** (or __bold__)\n",
    "*italic* (or _italic)\n",
    "```\n",
    "\n",
    "\n",
    "\n",
    "### Lists\n",
    "```markdown\n",
    "Our favorite things:\n",
    "* Python\n",
    "* R\n",
    "* Jupyter notebooks\n",
    "```\n",
    "\n",
    "Our favorite things:\n",
    "* Python\n",
    "* R\n",
    "* Jupyter notebooks\n",
    "\n",
    "\n",
    "\n",
    "### Numbered lists\n",
    "```markdown\n",
    "Our favorite things:\n",
    "1. Python\n",
    "    1. Python 2.7\n",
    "    2. Python 3.6\n",
    "2. R\n",
    "3. Jupyter notebooks\n",
    "```\n",
    "\n",
    "Numbered lists\n",
    "\n",
    "Our favorite things:\n",
    "1. Python\n",
    "    1. Python 2.7\n",
    "    2. Python 3.6\n",
    "2. R\n",
    "3. Jupyter notebooks\n",
    "\n",
    "\n",
    "### Create a table\n",
    "```markdown\n",
    "| This | is   |\n",
    "|------|------|\n",
    "|   a  | table|\n",
    "|with 2| rows|\n",
    "```\n",
    "\n",
    "| This | is   |\n",
    "|------|------|\n",
    "|   a  | table|\n",
    "|with 2| rows|\n",
    "\n",
    "### Showing computer code\n",
    "```markdown\n",
    "```python\n",
    "x = 1 + 1\n",
    "print(\"hello world\")\n",
    "``````\n",
    "```\n",
    "\n",
    "\n",
    "See this link for more options:\n",
    "https://jupyter-notebook.readthedocs.io/en/stable/examples/Notebook/Working%20With%20Markdown%20Cells.html\n"
   ]
  },
  {
   "cell_type": "markdown",
   "metadata": {},
   "source": [
    "### Exercises"
   ]
  },
  {
   "cell_type": "code",
   "execution_count": null,
   "metadata": {},
   "outputs": [],
   "source": [
    "### Make this print as a heading (hint, change the type of this cell)"
   ]
  },
  {
   "cell_type": "markdown",
   "metadata": {},
   "source": [
    "---"
   ]
  },
  {
   "cell_type": "markdown",
   "metadata": {},
   "source": [
    "**Make me italic, not bold**"
   ]
  },
  {
   "cell_type": "markdown",
   "metadata": {},
   "source": [
    "---"
   ]
  },
  {
   "cell_type": "markdown",
   "metadata": {},
   "source": [
    "#### Convert this to a numbered list\n",
    "* Supervised\n",
    "    * Regression\n",
    "    * Classification\n",
    "* Un-supervised\n",
    "    * Clustering\n"
   ]
  },
  {
   "cell_type": "markdown",
   "metadata": {},
   "source": [
    " "
   ]
  },
  {
   "cell_type": "markdown",
   "metadata": {},
   "source": [
    "---"
   ]
  }
 ],
 "metadata": {
  "kernelspec": {
   "display_name": "Python 3 (ipykernel)",
   "language": "python",
   "name": "python3"
  },
  "language_info": {
   "codemirror_mode": {
    "name": "ipython",
    "version": 3
   },
   "file_extension": ".py",
   "mimetype": "text/x-python",
   "name": "python",
   "nbconvert_exporter": "python",
   "pygments_lexer": "ipython3",
   "version": "3.12.4"
  },
  "vscode": {
   "interpreter": {
    "hash": "108a1df64039728e69f178110a6e255a10aba8514903b770571642a02940d2ba"
   }
  }
 },
 "nbformat": 4,
 "nbformat_minor": 4
}
