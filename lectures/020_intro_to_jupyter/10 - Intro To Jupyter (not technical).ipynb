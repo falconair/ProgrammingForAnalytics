{
 "cells": [
  {
   "cell_type": "markdown",
   "metadata": {},
   "source": [
    "# This is Jupyter"
   ]
  },
  {
   "cell_type": "markdown",
   "metadata": {},
   "source": [
    "## Standard method of running programs: command line\n",
    "\n",
    "Normally you 'run' a program by double clicking on it. For our purpose, we will consider this to be the same as running it from the command line. In both cases, a fully written program is run.\n",
    "\n",
    "For example, you may run a python program in the following manner:\n",
    "\n",
    "`python myprogram.py`\n",
    "\n",
    "In this case, myprogram.py contains your code and you are telling python to execute the whole thing for you.\n",
    "\n",
    "This is in contrast to running a program small batches or one line at a time:\n",
    "![](images\\python_repl.png)\n",
    "\n",
    "## REPL\n",
    "This method of executing code is called a *REPL*, aka *R*ead, *E*val, *P*rint *L*oop. This of a REPL as a program:\n",
    "```python\n",
    "while True:\n",
    "    user_input = input() # Get input from user\n",
    "    result = parse_and_evaluate(use_input)\n",
    "    print(result)\n",
    "```\n",
    "\n",
    "A program which reads your programs and executes them, very *meta*!\n",
    "\n",
    "This method of executing code was the norm in the Lisp programming language - one of the oldest, continuously used programming languages, created for the purpose of Artificial Intelligence experimentation\n",
    "\n",
    "## Literate Programming: Comments in code vs code inside comments\n",
    "\n",
    "Don Knuth, a high priest of Computer Science, introduced and advocated for the idea of *literate programming.* Knuth wanted to move programs from technical code, written to satisfy compilers or interpreters to a living document, to be consumed by human readers. He wanted code, mixed with narrative explanations, describing what the code was doing.\n",
    "\n",
    "Take this example from an earlier lecture:"
   ]
  },
  {
   "cell_type": "code",
   "execution_count": null,
   "metadata": {},
   "outputs": [],
   "source": [
    "jon = 0 #variable containing Jon's score\n",
    "arya = 0 #variable containing Arya's score\n",
    "\n",
    "#Open file\n",
    "file = open(\"../../datasets/deaths-in-gameofthrones/game-of-thrones-deaths-data.csv\", encoding='utf8')\n",
    "\n",
    "#Go through each line in file\n",
    "for line in file:\n",
    "  tokens = line.split(',') #separate line into columns\n",
    "  if tokens[4]==\"Arya Stark\": arya = arya + 1\n",
    "  if tokens[4]==\"Jon Snow\": \n",
    "    jon = jon + 1\n",
    "\n",
    "file.close()\n",
    "print(\"Arya killed\", arya, \"people\")\n",
    "print(\"Jon killed\", jon, \"people\")\n"
   ]
  },
  {
   "cell_type": "markdown",
   "metadata": {},
   "source": [
    "You can see comments in the program.\n",
    "\n",
    "On the other hand, this notebook is a document, to be read by human students. Yet it contains code which can be executed. But the purpose of this document is not to have a CPU execute a set of instructions. It is to explain a process or a concept to students, where the code is executed in service of that purpose.\n",
    "\n",
    "## Notebooks\n",
    "One of the first, mainstream, uses of a notebook interface is from Mathematica\n",
    "![](images/mathematica.png)\n",
    "\n",
    "This interface combines **REPL** and **Literate Programming**. These notebooks display well formatted code, the results of executing that code, as well as formatted narrative text (English or technical math formulas) along with visual charts, etc. Jupyter notebooks are an recent, open source iteration of this concept."
   ]
  },
  {
   "cell_type": "markdown",
   "metadata": {},
   "source": [
    "## Jupyter Notebooks\n",
    "\n",
    "**Starting Jupyter**\n",
    "Jupyter can be started from Anaconda Navigator. If you are comfortable, you can start Jupyter from the command line:\n",
    "\n",
    "```bash\n",
    "jupyter notebook\n",
    "```\n",
    "\n",
    "When using the command line, if you are at `c:\\Users\\shahbaz\\proj\\stock_market_prediction` and execute the command `jupyter notebook`, the notebook will start and display files in that directory. \n",
    "\n",
    "Once Jupyter is running, you will see a set of files, like this:\n",
    "![](images/jupyter_files.png)\n",
    "\n",
    "Create a new notebook by selecting 'new' in the upper right hand corner:\n",
    "![](images/jupyter_create_notebook.png)"
   ]
  },
  {
   "cell_type": "code",
   "execution_count": null,
   "metadata": {},
   "outputs": [],
   "source": []
  },
  {
   "cell_type": "markdown",
   "metadata": {},
   "source": [
    "**References**\n",
    "\n",
    "Mathematica screenshot is from https://www.wolfram.com/language/fast-introduction-for-math-students/en/notebook-documents/"
   ]
  },
  {
   "cell_type": "code",
   "execution_count": null,
   "metadata": {},
   "outputs": [],
   "source": []
  }
 ],
 "metadata": {
  "kernelspec": {
   "display_name": "Python 3 (ipykernel)",
   "language": "python",
   "name": "python3"
  },
  "language_info": {
   "codemirror_mode": {
    "name": "ipython",
    "version": 3
   },
   "file_extension": ".py",
   "mimetype": "text/x-python",
   "name": "python",
   "nbconvert_exporter": "python",
   "pygments_lexer": "ipython3",
   "version": "3.12.4"
  },
  "vscode": {
   "interpreter": {
    "hash": "108a1df64039728e69f178110a6e255a10aba8514903b770571642a02940d2ba"
   }
  }
 },
 "nbformat": 4,
 "nbformat_minor": 4
}
